{
 "cells": [
  {
   "cell_type": "code",
   "execution_count": 1,
   "id": "5b603dee-b3b8-401d-987a-f62a6cb50d0f",
   "metadata": {},
   "outputs": [
    {
     "name": "stderr",
     "output_type": "stream",
     "text": [
      "C:\\Users\\kopo\\AppData\\Local\\Temp\\ipykernel_12664\\4080736814.py:1: DeprecationWarning: \n",
      "Pyarrow will become a required dependency of pandas in the next major release of pandas (pandas 3.0),\n",
      "(to allow more performant data types, such as the Arrow string type, and better interoperability with other libraries)\n",
      "but was not found to be installed on your system.\n",
      "If this would cause problems for you,\n",
      "please provide us feedback at https://github.com/pandas-dev/pandas/issues/54466\n",
      "        \n",
      "  import pandas as pd\n"
     ]
    }
   ],
   "source": [
    "import pandas as pd"
   ]
  },
  {
   "cell_type": "code",
   "execution_count": 4,
   "id": "b853214d-2bfd-4b79-8ba4-b0fe5af40413",
   "metadata": {},
   "outputs": [],
   "source": [
    "# pip install pandas papago\n",
    "\n",
    "import pandas as pd\n",
    "from papago import Translator\n",
    "\n",
    "# 번역 함수\n",
    "def translate_text(text, target_language):\n",
    "    translator = Translator()\n",
    "    translation = translator.translate(text, source='en', target=target_language)\n",
    "    return translation\n",
    "\n",
    "# 영어로 된 데이터프레임\n",
    "df = pd.read_csv(\"../dataset/indata_eng.csv\")"
   ]
  },
  {
   "cell_type": "code",
   "execution_count": 6,
   "id": "93cd3068-ba3c-446e-948f-5fcd6eb48e62",
   "metadata": {},
   "outputs": [],
   "source": [
    "# # 번역할 언어 선택 (한국어)\n",
    "# target_language = 'ko'\n",
    "\n",
    "# # 컬럼명 번역\n",
    "# translated_columns = [translate_text(column, target_language) for column in df.columns]\n",
    "\n",
    "# # 데이터프레임의 컬럼명 변경\n",
    "# df.columns = [translation.text for translation in translated_columns]\n",
    "\n",
    "# print(df)"
   ]
  }
 ],
 "metadata": {
  "kernelspec": {
   "display_name": "Python 3 (ipykernel)",
   "language": "python",
   "name": "python3"
  },
  "language_info": {
   "codemirror_mode": {
    "name": "ipython",
    "version": 3
   },
   "file_extension": ".py",
   "mimetype": "text/x-python",
   "name": "python",
   "nbconvert_exporter": "python",
   "pygments_lexer": "ipython3",
   "version": "3.10.11"
  }
 },
 "nbformat": 4,
 "nbformat_minor": 5
}
