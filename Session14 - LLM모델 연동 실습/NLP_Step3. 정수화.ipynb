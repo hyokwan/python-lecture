{
 "cells": [
  {
   "cell_type": "markdown",
   "id": "46068d58-60c8-47a5-9249-c76792665c4f",
   "metadata": {},
   "source": [
    "### 이산 분포"
   ]
  },
  {
   "cell_type": "markdown",
   "id": "bd187b17-9d4d-4d01-bd1e-f63059a3965f",
   "metadata": {},
   "source": [
    "### bow 예시"
   ]
  },
  {
   "cell_type": "code",
   "execution_count": 8,
   "id": "cb121c5f-182f-4ae4-ab6e-c1c2e61f0362",
   "metadata": {},
   "outputs": [
    {
     "name": "stdout",
     "output_type": "stream",
     "text": [
      "[[0 1 0 1 1 0 0 1 0 1]\n",
      " [0 2 0 0 1 0 1 1 0 1]\n",
      " [1 0 0 0 1 1 0 1 1 1]\n",
      " [0 0 1 1 1 0 0 1 0 1]]\n"
     ]
    }
   ],
   "source": [
    "from sklearn.feature_extraction.text import CountVectorizer\n",
    "\n",
    "documents = [\"This is the first document.\",\n",
    "                   \"This document is the second document\",\n",
    "                   \"And this is the third one\",\n",
    "                   \"Is this the first documents?\"]\n",
    "\n",
    "vetorizer = CountVectorizer()\n",
    "\n",
    "\n",
    "x = vetorizer.fit_transform(documents)\n",
    "\n",
    "# 고유 단어 이름만 추출\n",
    "feature_names = vetorizer.get_feature_names_out()\n",
    "\n",
    "count_array = x.toarray()\n",
    "# 표시\n",
    "print(count_array)"
   ]
  },
  {
   "cell_type": "markdown",
   "id": "e3db0370-063d-4a06-97e2-5e0e6e974b2c",
   "metadata": {},
   "source": [
    "### 3. TF-IDF"
   ]
  },
  {
   "cell_type": "code",
   "execution_count": 13,
   "id": "17a2a4b0-f2e8-4e20-bdc2-462d60c497c1",
   "metadata": {},
   "outputs": [
    {
     "name": "stdout",
     "output_type": "stream",
     "text": [
      "[[0.         0.54929352 0.         0.54929352 0.36357175 0.\n",
      "  0.         0.36357175 0.         0.36357175]\n",
      " [0.         0.76011762 0.         0.         0.25155703 0.\n",
      "  0.48205641 0.25155703 0.         0.25155703]\n",
      " [0.51184851 0.         0.         0.         0.26710379 0.51184851\n",
      "  0.         0.26710379 0.51184851 0.26710379]\n",
      " [0.         0.         0.64037493 0.50487895 0.3341742  0.\n",
      "  0.         0.3341742  0.         0.3341742 ]]\n"
     ]
    }
   ],
   "source": [
    "from sklearn.feature_extraction.text import TfidfVectorizer\n",
    "\n",
    "documents = [\"This is the first document.\",\n",
    "                   \"This document is the second document\",\n",
    "                   \"And this is the third one\",\n",
    "                   \"Is this the first documents?\"]\n",
    "\n",
    "vetorizer = TfidfVectorizer()\n",
    "\n",
    "tfidf_matrix = vetorizer.fit_transform(documents)\n",
    "\n",
    "# 고유 단어 이름만 추출\n",
    "feature_names = vetorizer.get_feature_names_out()\n",
    "\n",
    "tfidf_array = tfidf_matrix.toarray()\n",
    "# 표시\n",
    "print(tfidf_array)"
   ]
  },
  {
   "cell_type": "code",
   "execution_count": null,
   "id": "18cad539-4581-46c3-8fc7-4ca75e07f8d5",
   "metadata": {},
   "outputs": [],
   "source": []
  }
 ],
 "metadata": {
  "kernelspec": {
   "display_name": "Python 3 (ipykernel)",
   "language": "python",
   "name": "python3"
  },
  "language_info": {
   "codemirror_mode": {
    "name": "ipython",
    "version": 3
   },
   "file_extension": ".py",
   "mimetype": "text/x-python",
   "name": "python",
   "nbconvert_exporter": "python",
   "pygments_lexer": "ipython3",
   "version": "3.10.11"
  }
 },
 "nbformat": 4,
 "nbformat_minor": 5
}
