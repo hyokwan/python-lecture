{
 "cells": [
  {
   "cell_type": "markdown",
   "id": "46068d58-60c8-47a5-9249-c76792665c4f",
   "metadata": {},
   "source": [
    "### 이산 분포"
   ]
  },
  {
   "cell_type": "code",
   "execution_count": null,
   "id": "cb121c5f-182f-4ae4-ab6e-c1c2e61f0362",
   "metadata": {},
   "outputs": [],
   "source": []
  }
 ],
 "metadata": {
  "kernelspec": {
   "display_name": "Python 3 (ipykernel)",
   "language": "python",
   "name": "python3"
  },
  "language_info": {
   "codemirror_mode": {
    "name": "ipython",
    "version": 3
   },
   "file_extension": ".py",
   "mimetype": "text/x-python",
   "name": "python",
   "nbconvert_exporter": "python",
   "pygments_lexer": "ipython3",
   "version": "3.10.11"
  }
 },
 "nbformat": 4,
 "nbformat_minor": 5
}
