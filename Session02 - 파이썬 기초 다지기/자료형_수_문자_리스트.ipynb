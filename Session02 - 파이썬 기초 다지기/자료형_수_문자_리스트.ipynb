{
  "nbformat": 4,
  "nbformat_minor": 0,
  "metadata": {
    "colab": {
      "provenance": []
    },
    "kernelspec": {
      "name": "python3",
      "display_name": "Python 3"
    },
    "language_info": {
      "name": "python"
    }
  },
  "cells": [
    {
      "cell_type": "markdown",
      "source": [
        "# 1. 자료형"
      ],
      "metadata": {
        "id": "Ah3F4_bS_ml1"
      }
    },
    {
      "cell_type": "markdown",
      "source": [
        "### 1-1. 수"
      ],
      "metadata": {
        "id": "OJ0wqLEFBQk0"
      }
    },
    {
      "cell_type": "code",
      "source": [
        "a=10"
      ],
      "metadata": {
        "id": "Aku5jyBK_2O6"
      },
      "execution_count": null,
      "outputs": []
    },
    {
      "cell_type": "code",
      "source": [
        "b=10.2\n",
        "b"
      ],
      "metadata": {
        "colab": {
          "base_uri": "https://localhost:8080/"
        },
        "id": "I3oeLFtWABMH",
        "outputId": "0249af12-3e73-4938-aaf2-a41efcb656ca"
      },
      "execution_count": null,
      "outputs": [
        {
          "output_type": "execute_result",
          "data": {
            "text/plain": [
              "10.2"
            ]
          },
          "metadata": {},
          "execution_count": 5
        }
      ]
    },
    {
      "cell_type": "code",
      "source": [
        "### mod 나머지연산 (패턴을 찾기 위한 내용)"
      ],
      "metadata": {
        "id": "_O7ovEmhAB6y"
      },
      "execution_count": null,
      "outputs": []
    },
    {
      "cell_type": "code",
      "source": [
        "# 별찍기...\n",
        "# 고객이.... 자우리 사이트에 물건을 4주에 한번씩 입고 시켜주세요~!!"
      ],
      "metadata": {
        "id": "gc9aFig3AMy4"
      },
      "execution_count": null,
      "outputs": []
    },
    {
      "cell_type": "code",
      "source": [
        "# 현재 주차정보\n",
        "currentWeek = 17"
      ],
      "metadata": {
        "id": "GIx7gRlJAWBN"
      },
      "execution_count": null,
      "outputs": []
    },
    {
      "cell_type": "code",
      "source": [
        "weekPattern = 4\n",
        "currentWeek % weekPattern"
      ],
      "metadata": {
        "colab": {
          "base_uri": "https://localhost:8080/"
        },
        "id": "sRczhwT3AgG8",
        "outputId": "2d7b2d4f-dab0-4c9d-e11f-8f59212b76f7"
      },
      "execution_count": null,
      "outputs": [
        {
          "output_type": "execute_result",
          "data": {
            "text/plain": [
              "1"
            ]
          },
          "metadata": {},
          "execution_count": 18
        }
      ]
    },
    {
      "cell_type": "markdown",
      "source": [
        "### 1-2. 문자"
      ],
      "metadata": {
        "id": "V_fRezWeAtAG"
      }
    },
    {
      "cell_type": "code",
      "source": [
        "a = 10.2\n",
        "b = 5"
      ],
      "metadata": {
        "id": "s4bmzwYIBOvH"
      },
      "execution_count": null,
      "outputs": []
    },
    {
      "cell_type": "code",
      "source": [
        "yearInfo = \"2024\""
      ],
      "metadata": {
        "id": "HclNvKvPB8Es"
      },
      "execution_count": null,
      "outputs": []
    },
    {
      "cell_type": "code",
      "source": [
        "weekInfo = \"15\""
      ],
      "metadata": {
        "id": "xc4tGXziB9sP"
      },
      "execution_count": null,
      "outputs": []
    },
    {
      "cell_type": "code",
      "source": [
        "yearweekInfo = yearInfo + weekInfo\n",
        "yearweekInfo"
      ],
      "metadata": {
        "colab": {
          "base_uri": "https://localhost:8080/",
          "height": 35
        },
        "id": "_vjnjYSUB_Jq",
        "outputId": "01249f9a-b45a-4794-e1fb-300754f6f984"
      },
      "execution_count": null,
      "outputs": [
        {
          "output_type": "execute_result",
          "data": {
            "text/plain": [
              "'202415'"
            ],
            "application/vnd.google.colaboratory.intrinsic+json": {
              "type": "string"
            }
          },
          "metadata": {},
          "execution_count": 36
        }
      ]
    },
    {
      "cell_type": "code",
      "source": [
        "### 연주차 정보가 주어졌습니다: 202410\n",
        "### 연도와 주차정보를 분리 해보세요~!!"
      ],
      "metadata": {
        "id": "hnaOyiQFCJuh"
      },
      "execution_count": null,
      "outputs": []
    },
    {
      "cell_type": "code",
      "source": [
        "yearweekInfo = \"202410\""
      ],
      "metadata": {
        "id": "2ofBfI4TCiCl"
      },
      "execution_count": null,
      "outputs": []
    },
    {
      "cell_type": "code",
      "source": [
        "yearIndex = 4"
      ],
      "metadata": {
        "id": "xkm_8Y6CDAlr"
      },
      "execution_count": null,
      "outputs": []
    },
    {
      "cell_type": "code",
      "source": [
        "balance = 150000"
      ],
      "metadata": {
        "id": "fucEokaBECSA"
      },
      "execution_count": null,
      "outputs": []
    },
    {
      "cell_type": "code",
      "source": [
        "if ( balance < 100000):\n",
        "    print (\"국민상품\")\n",
        "else:\n",
        "    print(\"플래그쉽상품\")"
      ],
      "metadata": {
        "colab": {
          "base_uri": "https://localhost:8080/"
        },
        "id": "-B29Q5pBD3rZ",
        "outputId": "fb6f5d65-701e-4385-ca57-b499dff1e85e"
      },
      "execution_count": null,
      "outputs": [
        {
          "output_type": "stream",
          "name": "stdout",
          "text": [
            "플래그쉽상품\n"
          ]
        }
      ]
    },
    {
      "cell_type": "code",
      "source": [
        "yearInfo = yearweekInfo[  : yearIndex   ]\n",
        "weekInfo = yearweekInfo[  yearIndex :   ]\n",
        "weekInfo"
      ],
      "metadata": {
        "colab": {
          "base_uri": "https://localhost:8080/",
          "height": 35
        },
        "id": "7SkEZxRYCrNo",
        "outputId": "a4bcf8d4-7fc0-4604-e75a-71c2b9e01271"
      },
      "execution_count": null,
      "outputs": [
        {
          "output_type": "execute_result",
          "data": {
            "text/plain": [
              "'10'"
            ],
            "application/vnd.google.colaboratory.intrinsic+json": {
              "type": "string"
            }
          },
          "metadata": {},
          "execution_count": 52
        }
      ]
    },
    {
      "cell_type": "code",
      "source": [
        "yearweekInfo = \"202410\""
      ],
      "metadata": {
        "id": "4N2OQL_wCabF"
      },
      "execution_count": null,
      "outputs": []
    },
    {
      "cell_type": "code",
      "source": [
        "yearweekInfo[ yearIndex : ]"
      ],
      "metadata": {
        "colab": {
          "base_uri": "https://localhost:8080/",
          "height": 35
        },
        "id": "ExwBuPE8Il3x",
        "outputId": "350a7d41-4424-462b-e33f-a3abe9868371"
      },
      "execution_count": null,
      "outputs": [
        {
          "output_type": "execute_result",
          "data": {
            "text/plain": [
              "'10'"
            ],
            "application/vnd.google.colaboratory.intrinsic+json": {
              "type": "string"
            }
          },
          "metadata": {},
          "execution_count": 65
        }
      ]
    },
    {
      "cell_type": "code",
      "source": [
        "weekIndex = 2"
      ],
      "metadata": {
        "id": "ba1l-1-SInqk"
      },
      "execution_count": null,
      "outputs": []
    },
    {
      "cell_type": "code",
      "source": [
        "yearweekInfo[ -weekIndex :  ]"
      ],
      "metadata": {
        "colab": {
          "base_uri": "https://localhost:8080/",
          "height": 35
        },
        "id": "VsmgTv5aCYT4",
        "outputId": "ea0da270-e8c6-4851-ff39-1d3811720f29"
      },
      "execution_count": null,
      "outputs": [
        {
          "output_type": "execute_result",
          "data": {
            "text/plain": [
              "'10'"
            ],
            "application/vnd.google.colaboratory.intrinsic+json": {
              "type": "string"
            }
          },
          "metadata": {},
          "execution_count": 61
        }
      ]
    },
    {
      "cell_type": "code",
      "source": [
        "# 연도와 주차를 INDEX를 활용해서 추출\n",
        "yearweekInfo = \"2024W28\"\n",
        "specificChar = \"W\"\n",
        "specificCharIndex = yearweekInfo.index(specificChar)"
      ],
      "metadata": {
        "id": "2DA3yRsqJWF8"
      },
      "execution_count": null,
      "outputs": []
    },
    {
      "cell_type": "code",
      "source": [
        "yearweekinfo = \"20242222222222222w10\"\n",
        "weekstr = 'w'\n",
        "strindex = yearweekinfo.index(weekstr)\n",
        "year = yearweekinfo[:strindex]\n",
        "week = yearweekinfo[strindex+1:]\n",
        "print(year)\n",
        "print(week)"
      ],
      "metadata": {
        "colab": {
          "base_uri": "https://localhost:8080/"
        },
        "id": "E_e3CDCBKGcg",
        "outputId": "4580e5b5-7705-4aae-d77c-588b57b401e8"
      },
      "execution_count": null,
      "outputs": [
        {
          "output_type": "stream",
          "name": "stdout",
          "text": [
            "20242222222222222\n",
            "10\n"
          ]
        }
      ]
    },
    {
      "cell_type": "code",
      "source": [
        "### 실습링크에서"
      ],
      "metadata": {
        "id": "auMRuLGxJcaa"
      },
      "execution_count": null,
      "outputs": []
    },
    {
      "cell_type": "code",
      "source": [
        "### upper lower"
      ],
      "metadata": {
        "id": "ZRlTZsjlJcO_"
      },
      "execution_count": null,
      "outputs": []
    },
    {
      "cell_type": "code",
      "source": [
        "inputId = \"HAITEAM\"\n",
        "password = \"haiteam\""
      ],
      "metadata": {
        "id": "uDARgmXTJcBR"
      },
      "execution_count": null,
      "outputs": []
    },
    {
      "cell_type": "code",
      "source": [
        "if inputId.lower() == password.lower():\n",
        "    print(\"로그인 성공\")\n",
        "else:\n",
        "    print(\"로그인 실패\")"
      ],
      "metadata": {
        "colab": {
          "base_uri": "https://localhost:8080/"
        },
        "id": "yIUOtwBkOD9p",
        "outputId": "4f38ef69-7c50-40a2-ea51-bbe29e4eb0d9"
      },
      "execution_count": null,
      "outputs": [
        {
          "output_type": "stream",
          "name": "stdout",
          "text": [
            "로그인 성공\n"
          ]
        }
      ]
    },
    {
      "cell_type": "code",
      "source": [
        "inYearweek = \"2024_24\""
      ],
      "metadata": {
        "id": "J_iByDbHJW_6"
      },
      "execution_count": null,
      "outputs": []
    },
    {
      "cell_type": "code",
      "source": [
        "usaStd = \"_\"\n",
        "korStd = \"W\""
      ],
      "metadata": {
        "id": "YUnWnhA4PRvv"
      },
      "execution_count": null,
      "outputs": []
    },
    {
      "cell_type": "code",
      "source": [
        "inYearweek.replace(usaStd, korStd) <div> 제목: 웹페이지 메인 </div>"
      ],
      "metadata": {
        "colab": {
          "base_uri": "https://localhost:8080/",
          "height": 35
        },
        "id": "FO_1bi5vPMoK",
        "outputId": "125243da-72d8-4779-e902-33a1a9fecf17"
      },
      "execution_count": null,
      "outputs": [
        {
          "output_type": "execute_result",
          "data": {
            "text/plain": [
              "'2024W24'"
            ],
            "application/vnd.google.colaboratory.intrinsic+json": {
              "type": "string"
            }
          },
          "metadata": {},
          "execution_count": 106
        }
      ]
    },
    {
      "cell_type": "code",
      "source": [
        "### split 함수 : 데이터를 분리"
      ],
      "metadata": {
        "id": "rh4LFcosPwGB"
      },
      "execution_count": null,
      "outputs": []
    },
    {
      "cell_type": "code",
      "source": [
        "inYearweek = \"2024_24\"\n",
        "usaStd = \"_\""
      ],
      "metadata": {
        "id": "cdnKRH7YP24e"
      },
      "execution_count": null,
      "outputs": []
    },
    {
      "cell_type": "code",
      "source": [
        "answer = inYearweek.split( usaStd )"
      ],
      "metadata": {
        "id": "8FEbB2w4PyUF"
      },
      "execution_count": null,
      "outputs": []
    },
    {
      "cell_type": "code",
      "source": [
        "answer"
      ],
      "metadata": {
        "colab": {
          "base_uri": "https://localhost:8080/"
        },
        "id": "Vzud48p8Rqu7",
        "outputId": "0f5b8858-6a09-495e-dcdd-750a839af9ea"
      },
      "execution_count": null,
      "outputs": [
        {
          "output_type": "execute_result",
          "data": {
            "text/plain": [
              "['2024', '24']"
            ]
          },
          "metadata": {},
          "execution_count": 165
        }
      ]
    },
    {
      "cell_type": "code",
      "source": [
        "### 문자열 캐스팅 (자료형 변환)"
      ],
      "metadata": {
        "id": "zSDTz5oGQq6o"
      },
      "execution_count": null,
      "outputs": []
    },
    {
      "cell_type": "code",
      "source": [
        "### 연주차 정보가 주어졌습니다: 202410\n",
        "### 연도와 주차 정보를 분리 해보세요~!!"
      ],
      "metadata": {
        "id": "aXBZX6inR1wK"
      },
      "execution_count": null,
      "outputs": []
    },
    {
      "cell_type": "code",
      "source": [
        "inData = 202410\n",
        "strData = str(inData)\n",
        "print(  type(inData)        )\n",
        "print(  type(strData)       )"
      ],
      "metadata": {
        "colab": {
          "base_uri": "https://localhost:8080/"
        },
        "id": "OKyqhPDgS1dD",
        "outputId": "6bb369aa-8c97-4b43-c5f6-5f2d3c862f1b"
      },
      "execution_count": null,
      "outputs": [
        {
          "output_type": "stream",
          "name": "stdout",
          "text": [
            "<class 'int'>\n",
            "<class 'str'>\n"
          ]
        }
      ]
    },
    {
      "cell_type": "code",
      "source": [
        "from google.colab import drive\n",
        "drive.mount(\"/content/drive\")"
      ],
      "metadata": {
        "id": "NOt9gtIKX4cA"
      },
      "execution_count": null,
      "outputs": []
    },
    {
      "cell_type": "markdown",
      "source": [
        "### [참고]. 구글드라이브 연동"
      ],
      "metadata": {
        "id": "l2sRuMxdX9MM"
      }
    },
    {
      "cell_type": "code",
      "source": [
        "from google.colab import drive\n",
        "drive.mount(\"/content/drive\")"
      ],
      "metadata": {
        "colab": {
          "base_uri": "https://localhost:8080/"
        },
        "id": "AOFWBaVzT9Xh",
        "outputId": "a5a78a03-7c5e-4ec2-d976-26e7fb60166e"
      },
      "execution_count": null,
      "outputs": [
        {
          "output_type": "stream",
          "name": "stdout",
          "text": [
            "Drive already mounted at /content/drive; to attempt to forcibly remount, call drive.mount(\"/content/drive\", force_remount=True).\n"
          ]
        }
      ]
    },
    {
      "cell_type": "markdown",
      "source": [
        "### 1-3. 리스트"
      ],
      "metadata": {
        "id": "m7V93cdqZLNO"
      }
    },
    {
      "cell_type": "code",
      "source": [
        "scoreList = [80,70,50,20]"
      ],
      "metadata": {
        "id": "wVc7qJF-R9YX"
      },
      "execution_count": null,
      "outputs": []
    },
    {
      "cell_type": "code",
      "source": [
        "# 인덱스 리스트!\n",
        "type(scoreList)\n",
        "len(scoreList)"
      ],
      "metadata": {
        "colab": {
          "base_uri": "https://localhost:8080/"
        },
        "id": "DyFGdwkcR9OD",
        "outputId": "1318e5a2-c0bb-4ef4-d637-cdf19e7e8955"
      },
      "execution_count": null,
      "outputs": [
        {
          "output_type": "execute_result",
          "data": {
            "text/plain": [
              "4"
            ]
          },
          "metadata": {},
          "execution_count": 184
        }
      ]
    },
    {
      "cell_type": "code",
      "source": [
        "# UPDATE (INSERT , UPDATE), DELETE"
      ],
      "metadata": {
        "id": "Pzf6GcYtaVRk"
      },
      "execution_count": null,
      "outputs": []
    },
    {
      "cell_type": "code",
      "source": [
        "newScore = 30"
      ],
      "metadata": {
        "id": "LuQTOIBdaeMO"
      },
      "execution_count": null,
      "outputs": []
    },
    {
      "cell_type": "code",
      "source": [
        "scoreList.append(newScore)"
      ],
      "metadata": {
        "id": "BNQWWxq3Zz-S"
      },
      "execution_count": null,
      "outputs": []
    },
    {
      "cell_type": "code",
      "source": [
        "scoreList[0] = 9999\n"
      ],
      "metadata": {
        "id": "jh9DvDB-aNro"
      },
      "execution_count": null,
      "outputs": []
    },
    {
      "cell_type": "code",
      "source": [
        "maxValue = max(scoreList)\n",
        "maxValue"
      ],
      "metadata": {
        "colab": {
          "base_uri": "https://localhost:8080/"
        },
        "id": "LNO70QnrayBa",
        "outputId": "e69da644-5630-43e5-de12-aa4da9c85b38"
      },
      "execution_count": null,
      "outputs": [
        {
          "output_type": "execute_result",
          "data": {
            "text/plain": [
              "9999"
            ]
          },
          "metadata": {},
          "execution_count": 198
        }
      ]
    },
    {
      "cell_type": "code",
      "source": [
        "scoreList.remove(maxValue)"
      ],
      "metadata": {
        "id": "EfvRyNH3a35B"
      },
      "execution_count": null,
      "outputs": []
    },
    {
      "cell_type": "code",
      "source": [
        "# 집합 (가장 큰값, 가장 작은값, 합, 길이)"
      ],
      "metadata": {
        "id": "P8XmKrynaKC5"
      },
      "execution_count": null,
      "outputs": []
    },
    {
      "cell_type": "code",
      "source": [
        "# 리스트 길이\n",
        "scoreListLen = len( scoreList )\n",
        "scoreListLen\n",
        "# 리스트 합\n",
        "scoreListSum = sum( scoreList )\n",
        "scoreListSum\n",
        "# 리스트 최대값\n",
        "scoreListMax = max( scoreList )\n",
        "scoreListMax\n",
        "# 리스트 최소값\n",
        "scoreListMin = min( scoreList )\n",
        "scoreListMin"
      ],
      "metadata": {
        "colab": {
          "base_uri": "https://localhost:8080/"
        },
        "id": "8UGcWy07bUXs",
        "outputId": "b37e4ad2-ec33-4428-bc71-4478be3bcebb"
      },
      "execution_count": null,
      "outputs": [
        {
          "output_type": "execute_result",
          "data": {
            "text/plain": [
              "20"
            ]
          },
          "metadata": {},
          "execution_count": 205
        }
      ]
    },
    {
      "cell_type": "code",
      "source": [
        "\n",
        "### 최소값과 최대값을 제외한 평균을 계산하시오\n",
        "### 절사평균~!! 적용해서~!! 최소값/ 최대값을 제외한 평균!!"
      ],
      "metadata": {
        "id": "Jr3fPrxzbpJ3"
      },
      "execution_count": null,
      "outputs": []
    },
    {
      "cell_type": "code",
      "source": [],
      "metadata": {
        "id": "9msV8O3VgJAq"
      },
      "execution_count": null,
      "outputs": []
    },
    {
      "cell_type": "code",
      "source": [
        "scoreList = [50,60,70,80,90,100]\n",
        "### Step1: 전체 데이터의 최소/최대 값을 구한다\n",
        "minValue = min(scoreList)\n",
        "maxValue = max(scoreList)\n",
        "print( f\"최소값 {minValue} 최대값 {maxValue}\")\n",
        "### Step2: 최소 최대값을 삭제한다.\n",
        "scoreList.remove(minValue)\n",
        "scoreList.remove(maxValue)\n",
        "print(scoreList)\n",
        "### Step3: 남은 데이터의 평균을 구한다. 평균: 합(리스트) / 길이(리스트)\n",
        "scoreListSum = sum(scoreList)\n",
        "scoreListLen = len(scoreList)\n",
        "answer = scoreListSum / scoreListLen\n",
        "print(answer)"
      ],
      "metadata": {
        "colab": {
          "base_uri": "https://localhost:8080/"
        },
        "id": "w4tTfxsQbgAb",
        "outputId": "2403d81d-6439-46df-e9fd-d802190de386"
      },
      "execution_count": null,
      "outputs": [
        {
          "output_type": "stream",
          "name": "stdout",
          "text": [
            "최소값 50 최대값 100\n",
            "[60, 70, 80, 90]\n",
            "75.0\n"
          ]
        }
      ]
    },
    {
      "cell_type": "code",
      "source": [
        "scoreList = [60,50,70,80,90,100]\n",
        "# sort 주의할점이 cost가 비싸다!!!!\n",
        "scoreList.sort( reverse=True )"
      ],
      "metadata": {
        "id": "SJYLCGXEe2wD"
      },
      "execution_count": null,
      "outputs": []
    },
    {
      "cell_type": "code",
      "source": [
        "csData = pd.read_csv(\"/content/drive/MyDrive/Colab Notebooks/stdcode2024/dataset/kopo_customerdata.csv\")"
      ],
      "metadata": {
        "id": "UWqVpYA7gmma"
      },
      "execution_count": null,
      "outputs": []
    },
    {
      "cell_type": "code",
      "source": [
        "len( amountList )"
      ],
      "metadata": {
        "colab": {
          "base_uri": "https://localhost:8080/"
        },
        "id": "AgQazc3shR73",
        "outputId": "cc992471-8137-45fc-8661-ee37bf14f0a8"
      },
      "execution_count": null,
      "outputs": [
        {
          "output_type": "execute_result",
          "data": {
            "text/plain": [
              "300000"
            ]
          },
          "metadata": {},
          "execution_count": 232
        }
      ]
    },
    {
      "cell_type": "code",
      "source": [
        "amountList = csData.TOTAL_AMOUNT.tolist()"
      ],
      "metadata": {
        "id": "FNdbn8eHhJdS"
      },
      "execution_count": null,
      "outputs": []
    },
    {
      "cell_type": "code",
      "source": [
        "scoreData = \"7070\""
      ],
      "metadata": {
        "id": "cR4idE7MiP3Y"
      },
      "execution_count": null,
      "outputs": []
    },
    {
      "cell_type": "code",
      "source": [
        "scoreData.count(\"70\")"
      ],
      "metadata": {
        "colab": {
          "base_uri": "https://localhost:8080/"
        },
        "id": "f5SUJq_eiSh3",
        "outputId": "851bd63f-e5cb-4609-e696-a634bce36bc1"
      },
      "execution_count": null,
      "outputs": [
        {
          "output_type": "execute_result",
          "data": {
            "text/plain": [
              "2"
            ]
          },
          "metadata": {},
          "execution_count": 242
        }
      ]
    },
    {
      "cell_type": "code",
      "source": [
        "scoreList = [70,770, 7770]"
      ],
      "metadata": {
        "id": "L4MQyRhkiNqw"
      },
      "execution_count": null,
      "outputs": []
    },
    {
      "cell_type": "code",
      "source": [
        "scoreList.count(70)"
      ],
      "metadata": {
        "colab": {
          "base_uri": "https://localhost:8080/"
        },
        "id": "nw8secNWh7t7",
        "outputId": "2ad40ddf-926a-435f-cb9e-d4dffc767deb"
      },
      "execution_count": null,
      "outputs": [
        {
          "output_type": "execute_result",
          "data": {
            "text/plain": [
              "1"
            ]
          },
          "metadata": {},
          "execution_count": 245
        }
      ]
    },
    {
      "cell_type": "code",
      "source": [
        "myList = [\"apple\", \"banana\", \"orang\"]\n",
        "# 리스트 요소를 콤마로 구분된 문자열로 변환합니다.\n",
        "resultString = \"_\".join(myList)\n",
        "resultString"
      ],
      "metadata": {
        "colab": {
          "base_uri": "https://localhost:8080/",
          "height": 35
        },
        "id": "qmXBpq-OhF1c",
        "outputId": "e42e3aa9-f033-493a-f18b-02bdee73bb72"
      },
      "execution_count": null,
      "outputs": [
        {
          "output_type": "execute_result",
          "data": {
            "text/plain": [
              "'apple_banana_orang'"
            ],
            "application/vnd.google.colaboratory.intrinsic+json": {
              "type": "string"
            }
          },
          "metadata": {},
          "execution_count": 251
        }
      ]
    },
    {
      "cell_type": "code",
      "source": [],
      "metadata": {
        "id": "zfcVIrI5jIi1"
      },
      "execution_count": null,
      "outputs": []
    }
  ]
}