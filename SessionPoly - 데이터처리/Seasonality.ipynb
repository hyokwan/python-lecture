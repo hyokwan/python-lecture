{
 "cells": [
  {
   "cell_type": "markdown",
   "id": "321fe934-a8fa-4b5d-a20d-747df35d82f5",
   "metadata": {},
   "source": [
    "### 라이브러리 선언"
   ]
  },
  {
   "cell_type": "code",
   "execution_count": 35,
   "id": "e1a49648-3fed-4ffa-a77b-2e93f1ce04a5",
   "metadata": {
    "tags": []
   },
   "outputs": [],
   "source": [
    "import pandas as pd\n",
    "import numpy as np"
   ]
  },
  {
   "cell_type": "markdown",
   "id": "ab4c4741-23b6-41dc-bddf-8c4b61fc0c74",
   "metadata": {},
   "source": [
    "### 데이터 불러오기"
   ]
  },
  {
   "cell_type": "code",
   "execution_count": 36,
   "id": "12aa5e62-9cde-44cc-93dc-1e0fe8c81406",
   "metadata": {
    "tags": []
   },
   "outputs": [],
   "source": [
    "dataUrl = \"https://raw.githubusercontent.com/hyokwan/python-lecture/master/dataset/kopo_channel_seasonality_new.csv\""
   ]
  },
  {
   "cell_type": "code",
   "execution_count": 37,
   "id": "b37c17d6-350a-40f6-959b-01f91d5068c8",
   "metadata": {
    "tags": []
   },
   "outputs": [],
   "source": [
    "selloutData = pd.read_csv(dataUrl)"
   ]
  },
  {
   "cell_type": "markdown",
   "id": "2d5f89c2-f063-4abc-96ba-a7696d15b6cd",
   "metadata": {},
   "source": [
    "# A. 데이터 전처리"
   ]
  },
  {
   "cell_type": "markdown",
   "id": "f671c05f-f79f-4886-8018-0b40ed00b56d",
   "metadata": {},
   "source": [
    "### 1. 데이터 통합 및 불량데이터 처리"
   ]
  },
  {
   "cell_type": "code",
   "execution_count": 38,
   "id": "642efa84-1ca0-48d8-b164-c590da25423c",
   "metadata": {
    "tags": []
   },
   "outputs": [],
   "source": [
    "## regionid : str, product: str, yearweek: int \n",
    "## qty: float"
   ]
  },
  {
   "cell_type": "code",
   "execution_count": 39,
   "id": "63abf4e9-86cc-40d4-ab6b-7d5ea04aecbb",
   "metadata": {
    "tags": []
   },
   "outputs": [],
   "source": [
    "selloutData.REGIONID = selloutData.REGIONID.astype(str)\n",
    "selloutData.PRODUCT = selloutData.PRODUCT.astype(str)\n",
    "selloutData.YEARWEEK = selloutData.YEARWEEK.astype(int)\n",
    "selloutData.QTY = selloutData.QTY.astype(float)"
   ]
  },
  {
   "cell_type": "code",
   "execution_count": 40,
   "id": "988604a3-6fef-4d8f-9718-3704894f79c0",
   "metadata": {
    "tags": []
   },
   "outputs": [],
   "source": [
    "selloutData[\"YEAR\"] = selloutData.YEARWEEK.astype(str).str[:4]\n",
    "selloutData[\"WEEK\"] = selloutData.YEARWEEK.astype(str).str[4:]"
   ]
  },
  {
   "cell_type": "markdown",
   "id": "120063a3-689b-4933-9772-99b9832ffd66",
   "metadata": {},
   "source": [
    "[불량 데이터 처리]\n",
    "kopo_channel_seasonality_new.csv 자료를 담은 \n",
    "selloutData 변수에서\n",
    "QTY컬럼 음수(반품)인 경우 0, 양수인 경우 기존 QTY 값\u000b",
    "유지하는 로직을 적용하여 QTY_NEW 컬럼을 추가하세요"
   ]
  },
  {
   "cell_type": "code",
   "execution_count": 41,
   "id": "41a72381-279a-41bd-b0d2-c9f1cde1ecfa",
   "metadata": {
    "tags": []
   },
   "outputs": [],
   "source": [
    "selloutData[\"QTY_NEW\"] = np.where( selloutData.QTY < 0, 0, selloutData.QTY )"
   ]
  },
  {
   "cell_type": "markdown",
   "id": "d3ab3651-a90d-46a8-9b40-470704dd8d96",
   "metadata": {},
   "source": [
    "### 2. 데이터 통합"
   ]
  },
  {
   "cell_type": "markdown",
   "id": "da7cd974-2829-4808-a656-84d8ebe65071",
   "metadata": {},
   "source": [
    "[데이터 통합]\n",
    "selloutData 자료에서 \n",
    "YEAR, WEEK 컬럼을 생성하고 WEEK 가 52 이하인\n",
    "데이터만 조회한 후 refinedSelloutData 변수에 담으세요\n"
   ]
  },
  {
   "cell_type": "code",
   "execution_count": 42,
   "id": "f410fcb4-33e6-4b75-a4c8-ac0fdef95f14",
   "metadata": {
    "tags": []
   },
   "outputs": [],
   "source": [
    "exceptWeek = \"53\"\n",
    "refinedSelloutData = selloutData.loc[  selloutData.WEEK != exceptWeek    ]"
   ]
  },
  {
   "cell_type": "markdown",
   "id": "61823722-d348-4886-af23-4feefce39e40",
   "metadata": {},
   "source": [
    "refinedSelloutData 에서 →\n",
    "지역, 상품, 연주차 컬럼순으로 오름차순 정렬하여\n",
    "sortedData 변수에 담으세요\n"
   ]
  },
  {
   "cell_type": "markdown",
   "id": "e03999a5-91e5-4c6e-9a4f-2a63be52b8ce",
   "metadata": {},
   "source": [
    "# B. 추세선 도출"
   ]
  },
  {
   "cell_type": "code",
   "execution_count": 22,
   "id": "75cb6c7f-48f8-4cf6-beaa-f04c62a061b1",
   "metadata": {
    "tags": []
   },
   "outputs": [],
   "source": [
    "sortKey = [\"REGIONID\",\"PRODUCT\",\"YEARWEEK\"]\n",
    "\n",
    "sortedData = refinedSelloutData.sort_values(by=sortKey)"
   ]
  },
  {
   "cell_type": "markdown",
   "id": "0d98f50f-36ea-42b1-bafe-4395ed0817c5",
   "metadata": {},
   "source": [
    "[지역, 상품, 연도 별 집계]\n",
    "sortedData 에서 지역, 상품, 연도 단위\n",
    "판매량(QTY_NEW) 의 평균 연산 후\n",
    "groupData 변수에 담으세요\n",
    "\n",
    "이후 컬럼명을 QTY_MEAN로 변경하세요\n"
   ]
  },
  {
   "cell_type": "code",
   "execution_count": 99,
   "id": "f1d64b56-8b30-4f02-953e-03987f004169",
   "metadata": {
    "tags": []
   },
   "outputs": [],
   "source": [
    "groupKey = [\"REGIONID\",\"PRODUCT\",\"YEAR\"]\n",
    "groupData = sortedData.groupby(by=groupKey)[[\"QTY_NEW\"]].agg(\"mean\").reset_index()\n",
    "groupData = groupData.rename(columns={\"QTY_NEW\":\"QTY_MEAN\"})"
   ]
  },
  {
   "cell_type": "markdown",
   "id": "aab73de5-d4b8-4a9a-9c86-1a482c54244f",
   "metadata": {},
   "source": [
    "refinedSelloutData와 groupData를 \n",
    "[REGIONID, PRODUCT, YEAR] 키로 조인하여 \n",
    "mergedData 변수에 아래와 같이 담으세요"
   ]
  },
  {
   "cell_type": "code",
   "execution_count": 100,
   "id": "10fdf88f-a39b-41aa-8b77-22bb6958285d",
   "metadata": {
    "tags": []
   },
   "outputs": [],
   "source": [
    "joinKey = [\"REGIONID\",\"PRODUCT\"]"
   ]
  },
  {
   "cell_type": "code",
   "execution_count": 101,
   "id": "82468470-bbf4-452d-b497-a721ea7795da",
   "metadata": {
    "tags": []
   },
   "outputs": [],
   "source": [
    "mergedData = pd.merge(left=refinedSelloutData,\n",
    "         right=groupData,\n",
    "         on = joinKey,\n",
    "         how = \"left\")"
   ]
  },
  {
   "cell_type": "code",
   "execution_count": 102,
   "id": "cddc45be-cc06-4cbb-94cb-3eb6baacfa05",
   "metadata": {
    "tags": []
   },
   "outputs": [],
   "source": [
    "mergedData = mergedData.sort_values(by=sortKey)"
   ]
  },
  {
   "cell_type": "markdown",
   "id": "d1b40c1a-769c-4cae-a5e5-e44f44e975cd",
   "metadata": {},
   "source": [
    "# C. 계절성지수 산출"
   ]
  },
  {
   "cell_type": "markdown",
   "id": "dd437112-85fe-4013-b869-22f2ff320a0b",
   "metadata": {},
   "source": [
    "계절성 지수는\n",
    "QTY_NEW / QTY_MEAN\n",
    "으로 산출하여 SEASONALITY 컬럼을 생성한다.\n"
   ]
  },
  {
   "cell_type": "code",
   "execution_count": 103,
   "id": "56ad0e46-0d52-460b-aa69-2f4002004f9c",
   "metadata": {
    "tags": []
   },
   "outputs": [],
   "source": [
    "mergedData[\"SEASONALITY\"] = mergedData.QTY_NEW / mergedData.QTY_MEAN"
   ]
  },
  {
   "cell_type": "markdown",
   "id": "3e110c8a-aa2a-4742-b77d-081a3de570a7",
   "metadata": {},
   "source": [
    "마지막으로 [지역, 상품, 주차] 별 \n",
    "계절성 지수 평균 값을\n",
    "조별 산출하여 finalResult 변수에 담으세요\n"
   ]
  },
  {
   "cell_type": "code",
   "execution_count": 104,
   "id": "8fea2bce-2454-4b47-b36e-e781610eb046",
   "metadata": {
    "tags": []
   },
   "outputs": [],
   "source": [
    "groupKey = [\"REGIONID\",\"PRODUCT\",\"WEEK\"]"
   ]
  },
  {
   "cell_type": "code",
   "execution_count": 105,
   "id": "ca663b53-e106-4398-b651-92e7bfea8bc6",
   "metadata": {
    "tags": []
   },
   "outputs": [],
   "source": [
    "seasonData = mergedData.groupby(groupKey)[[\"SEASONALITY\"]].agg(\"mean\").reset_index()"
   ]
  },
  {
   "cell_type": "code",
   "execution_count": 107,
   "id": "a1c78d24-b257-45f1-8177-8360dd18f596",
   "metadata": {
    "tags": []
   },
   "outputs": [
    {
     "data": {
      "text/html": [
       "<div>\n",
       "<style scoped>\n",
       "    .dataframe tbody tr th:only-of-type {\n",
       "        vertical-align: middle;\n",
       "    }\n",
       "\n",
       "    .dataframe tbody tr th {\n",
       "        vertical-align: top;\n",
       "    }\n",
       "\n",
       "    .dataframe thead th {\n",
       "        text-align: right;\n",
       "    }\n",
       "</style>\n",
       "<table border=\"1\" class=\"dataframe\">\n",
       "  <thead>\n",
       "    <tr style=\"text-align: right;\">\n",
       "      <th></th>\n",
       "      <th>REGIONID</th>\n",
       "      <th>PRODUCT</th>\n",
       "      <th>WEEK</th>\n",
       "      <th>SEASONALITY</th>\n",
       "    </tr>\n",
       "  </thead>\n",
       "  <tbody>\n",
       "    <tr>\n",
       "      <th>0</th>\n",
       "      <td>A00</td>\n",
       "      <td>PRODUCT34</td>\n",
       "      <td>01</td>\n",
       "      <td>2.086814</td>\n",
       "    </tr>\n",
       "    <tr>\n",
       "      <th>1</th>\n",
       "      <td>A00</td>\n",
       "      <td>PRODUCT34</td>\n",
       "      <td>02</td>\n",
       "      <td>2.234620</td>\n",
       "    </tr>\n",
       "    <tr>\n",
       "      <th>2</th>\n",
       "      <td>A00</td>\n",
       "      <td>PRODUCT34</td>\n",
       "      <td>03</td>\n",
       "      <td>1.773667</td>\n",
       "    </tr>\n",
       "    <tr>\n",
       "      <th>3</th>\n",
       "      <td>A00</td>\n",
       "      <td>PRODUCT34</td>\n",
       "      <td>04</td>\n",
       "      <td>1.788698</td>\n",
       "    </tr>\n",
       "    <tr>\n",
       "      <th>4</th>\n",
       "      <td>A00</td>\n",
       "      <td>PRODUCT34</td>\n",
       "      <td>05</td>\n",
       "      <td>1.513128</td>\n",
       "    </tr>\n",
       "    <tr>\n",
       "      <th>...</th>\n",
       "      <td>...</td>\n",
       "      <td>...</td>\n",
       "      <td>...</td>\n",
       "      <td>...</td>\n",
       "    </tr>\n",
       "    <tr>\n",
       "      <th>41283</th>\n",
       "      <td>A77</td>\n",
       "      <td>PRODUCT12</td>\n",
       "      <td>48</td>\n",
       "      <td>1.208670</td>\n",
       "    </tr>\n",
       "    <tr>\n",
       "      <th>41284</th>\n",
       "      <td>A77</td>\n",
       "      <td>PRODUCT12</td>\n",
       "      <td>49</td>\n",
       "      <td>1.098241</td>\n",
       "    </tr>\n",
       "    <tr>\n",
       "      <th>41285</th>\n",
       "      <td>A77</td>\n",
       "      <td>PRODUCT12</td>\n",
       "      <td>50</td>\n",
       "      <td>1.313242</td>\n",
       "    </tr>\n",
       "    <tr>\n",
       "      <th>41286</th>\n",
       "      <td>A77</td>\n",
       "      <td>PRODUCT12</td>\n",
       "      <td>51</td>\n",
       "      <td>1.159889</td>\n",
       "    </tr>\n",
       "    <tr>\n",
       "      <th>41287</th>\n",
       "      <td>A77</td>\n",
       "      <td>PRODUCT12</td>\n",
       "      <td>52</td>\n",
       "      <td>1.462657</td>\n",
       "    </tr>\n",
       "  </tbody>\n",
       "</table>\n",
       "<p>41288 rows × 4 columns</p>\n",
       "</div>"
      ],
      "text/plain": [
       "      REGIONID    PRODUCT WEEK  SEASONALITY\n",
       "0          A00  PRODUCT34   01     2.086814\n",
       "1          A00  PRODUCT34   02     2.234620\n",
       "2          A00  PRODUCT34   03     1.773667\n",
       "3          A00  PRODUCT34   04     1.788698\n",
       "4          A00  PRODUCT34   05     1.513128\n",
       "...        ...        ...  ...          ...\n",
       "41283      A77  PRODUCT12   48     1.208670\n",
       "41284      A77  PRODUCT12   49     1.098241\n",
       "41285      A77  PRODUCT12   50     1.313242\n",
       "41286      A77  PRODUCT12   51     1.159889\n",
       "41287      A77  PRODUCT12   52     1.462657\n",
       "\n",
       "[41288 rows x 4 columns]"
      ]
     },
     "execution_count": 107,
     "metadata": {},
     "output_type": "execute_result"
    }
   ],
   "source": [
    "seasonData"
   ]
  },
  {
   "cell_type": "code",
   "execution_count": 97,
   "id": "6c3da367-b745-4554-810c-d641a54a7973",
   "metadata": {
    "tags": []
   },
   "outputs": [
    {
     "data": {
      "text/html": [
       "<div>\n",
       "<style scoped>\n",
       "    .dataframe tbody tr th:only-of-type {\n",
       "        vertical-align: middle;\n",
       "    }\n",
       "\n",
       "    .dataframe tbody tr th {\n",
       "        vertical-align: top;\n",
       "    }\n",
       "\n",
       "    .dataframe thead th {\n",
       "        text-align: right;\n",
       "    }\n",
       "</style>\n",
       "<table border=\"1\" class=\"dataframe\">\n",
       "  <thead>\n",
       "    <tr style=\"text-align: right;\">\n",
       "      <th></th>\n",
       "      <th>REGIONID</th>\n",
       "      <th>PRODUCT</th>\n",
       "      <th>WEEK</th>\n",
       "      <th>SEASONHK</th>\n",
       "    </tr>\n",
       "  </thead>\n",
       "  <tbody>\n",
       "    <tr>\n",
       "      <th>0</th>\n",
       "      <td>A00</td>\n",
       "      <td>PRODUCT34</td>\n",
       "      <td>202401</td>\n",
       "      <td>0</td>\n",
       "    </tr>\n",
       "  </tbody>\n",
       "</table>\n",
       "</div>"
      ],
      "text/plain": [
       "  REGIONID    PRODUCT    WEEK  SEASONHK\n",
       "0      A00  PRODUCT34  202401         0"
      ]
     },
     "execution_count": 97,
     "metadata": {},
     "output_type": "execute_result"
    }
   ],
   "source": [
    "pd.DataFrame( [[\"A00\",\"PRODUCT34\",\"202401\",0]],\n",
    "            columns = [\"REGIONID\",\"PRODUCT\",\"WEEK\",\"SEASONHK\"])"
   ]
  },
  {
   "cell_type": "code",
   "execution_count": null,
   "id": "f6b9eebd-02f5-43f0-8ecb-d81c28ea4f9e",
   "metadata": {},
   "outputs": [],
   "source": []
  }
 ],
 "metadata": {
  "kernelspec": {
   "display_name": "Python 3 (ipykernel)",
   "language": "python",
   "name": "python3"
  },
  "language_info": {
   "codemirror_mode": {
    "name": "ipython",
    "version": 3
   },
   "file_extension": ".py",
   "mimetype": "text/x-python",
   "name": "python",
   "nbconvert_exporter": "python",
   "pygments_lexer": "ipython3",
   "version": "3.11.4"
  }
 },
 "nbformat": 4,
 "nbformat_minor": 5
}
