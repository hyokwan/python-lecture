{
 "cells": [
  {
   "cell_type": "markdown",
   "id": "321fe934-a8fa-4b5d-a20d-747df35d82f5",
   "metadata": {},
   "source": [
    "### 라이브러리 선언"
   ]
  },
  {
   "cell_type": "code",
   "execution_count": 1,
   "id": "e1a49648-3fed-4ffa-a77b-2e93f1ce04a5",
   "metadata": {
    "tags": []
   },
   "outputs": [],
   "source": [
    "import pandas as pd"
   ]
  },
  {
   "cell_type": "markdown",
   "id": "ab4c4741-23b6-41dc-bddf-8c4b61fc0c74",
   "metadata": {},
   "source": [
    "### 데이터 불러오기"
   ]
  },
  {
   "cell_type": "code",
   "execution_count": 2,
   "id": "12aa5e62-9cde-44cc-93dc-1e0fe8c81406",
   "metadata": {
    "tags": []
   },
   "outputs": [],
   "source": [
    "dataUrl = \"https://raw.githubusercontent.com/hyokwan/python-lecture/master/dataset/kopo_channel_seasonality_new.csv\""
   ]
  },
  {
   "cell_type": "code",
   "execution_count": 6,
   "id": "b37c17d6-350a-40f6-959b-01f91d5068c8",
   "metadata": {
    "tags": []
   },
   "outputs": [],
   "source": [
    "selloutData = pd.read_csv(dataUrl)"
   ]
  },
  {
   "cell_type": "markdown",
   "id": "f671c05f-f79f-4886-8018-0b40ed00b56d",
   "metadata": {},
   "source": [
    "### 1. 데이터 타입 통합"
   ]
  },
  {
   "cell_type": "code",
   "execution_count": 9,
   "id": "642efa84-1ca0-48d8-b164-c590da25423c",
   "metadata": {
    "tags": []
   },
   "outputs": [],
   "source": [
    "## regionid : str, product: str, yearweek: int \n",
    "## qty: float"
   ]
  },
  {
   "cell_type": "code",
   "execution_count": 10,
   "id": "63abf4e9-86cc-40d4-ab6b-7d5ea04aecbb",
   "metadata": {
    "tags": []
   },
   "outputs": [],
   "source": [
    "selloutData.REGIONID = selloutData.REGIONID.astype(str)\n",
    "selloutData.PRODUCT = selloutData.PRODUCT.astype(str)\n",
    "selloutData.YEARWEEK = selloutData.YEARWEEK.astype(int)\n",
    "selloutData.QTY = selloutData.QTY.astype(float)"
   ]
  },
  {
   "cell_type": "markdown",
   "id": "df21661c-a0c8-4361-8108-b8bc6e59b0cd",
   "metadata": {},
   "source": [
    "### 2. 실적값 안에"
   ]
  }
 ],
 "metadata": {
  "kernelspec": {
   "display_name": "Python 3 (ipykernel)",
   "language": "python",
   "name": "python3"
  },
  "language_info": {
   "codemirror_mode": {
    "name": "ipython",
    "version": 3
   },
   "file_extension": ".py",
   "mimetype": "text/x-python",
   "name": "python",
   "nbconvert_exporter": "python",
   "pygments_lexer": "ipython3",
   "version": "3.11.4"
  }
 },
 "nbformat": 4,
 "nbformat_minor": 5
}
