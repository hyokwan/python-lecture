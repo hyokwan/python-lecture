{
 "cells": [
  {
   "cell_type": "markdown",
   "id": "321fe934-a8fa-4b5d-a20d-747df35d82f5",
   "metadata": {},
   "source": [
    "### 라이브러리 선언"
   ]
  },
  {
   "cell_type": "code",
   "execution_count": 1,
   "id": "e1a49648-3fed-4ffa-a77b-2e93f1ce04a5",
   "metadata": {
    "tags": []
   },
   "outputs": [],
   "source": [
    "import pandas as pd"
   ]
  },
  {
   "cell_type": "markdown",
   "id": "ab4c4741-23b6-41dc-bddf-8c4b61fc0c74",
   "metadata": {},
   "source": [
    "### 데이터 불러오기"
   ]
  },
  {
   "cell_type": "code",
   "execution_count": 2,
   "id": "12aa5e62-9cde-44cc-93dc-1e0fe8c81406",
   "metadata": {
    "tags": []
   },
   "outputs": [],
   "source": [
    "dataUrl = \"https://raw.githubusercontent.com/hyokwan/python-lecture/master/dataset/kopo_channel_seasonality_new.csv\""
   ]
  },
  {
   "cell_type": "code",
   "execution_count": 3,
   "id": "b37c17d6-350a-40f6-959b-01f91d5068c8",
   "metadata": {
    "tags": []
   },
   "outputs": [],
   "source": [
    "selloutData = pd.read_csv(dataUrl)"
   ]
  },
  {
   "cell_type": "code",
   "execution_count": 12,
   "id": "1340253a-b721-41fe-8063-1cea5f4ddea3",
   "metadata": {
    "tags": []
   },
   "outputs": [
    {
     "data": {
      "text/html": [
       "<div>\n",
       "<style scoped>\n",
       "    .dataframe tbody tr th:only-of-type {\n",
       "        vertical-align: middle;\n",
       "    }\n",
       "\n",
       "    .dataframe tbody tr th {\n",
       "        vertical-align: top;\n",
       "    }\n",
       "\n",
       "    .dataframe thead th {\n",
       "        text-align: right;\n",
       "    }\n",
       "</style>\n",
       "<table border=\"1\" class=\"dataframe\">\n",
       "  <thead>\n",
       "    <tr style=\"text-align: right;\">\n",
       "      <th></th>\n",
       "      <th></th>\n",
       "      <th>sum</th>\n",
       "    </tr>\n",
       "    <tr>\n",
       "      <th>REGIONID</th>\n",
       "      <th>YEARWEEK</th>\n",
       "      <th></th>\n",
       "    </tr>\n",
       "  </thead>\n",
       "  <tbody>\n",
       "    <tr>\n",
       "      <th rowspan=\"5\" valign=\"top\">A00</th>\n",
       "      <th>201401</th>\n",
       "      <td>10649.0</td>\n",
       "    </tr>\n",
       "    <tr>\n",
       "      <th>201402</th>\n",
       "      <td>9684.0</td>\n",
       "    </tr>\n",
       "    <tr>\n",
       "      <th>201403</th>\n",
       "      <td>8994.0</td>\n",
       "    </tr>\n",
       "    <tr>\n",
       "      <th>201404</th>\n",
       "      <td>9085.0</td>\n",
       "    </tr>\n",
       "    <tr>\n",
       "      <th>201405</th>\n",
       "      <td>10871.0</td>\n",
       "    </tr>\n",
       "    <tr>\n",
       "      <th>...</th>\n",
       "      <th>...</th>\n",
       "      <td>...</td>\n",
       "    </tr>\n",
       "    <tr>\n",
       "      <th rowspan=\"5\" valign=\"top\">A77</th>\n",
       "      <th>201648</th>\n",
       "      <td>7222.0</td>\n",
       "    </tr>\n",
       "    <tr>\n",
       "      <th>201649</th>\n",
       "      <td>9308.0</td>\n",
       "    </tr>\n",
       "    <tr>\n",
       "      <th>201650</th>\n",
       "      <td>10268.0</td>\n",
       "    </tr>\n",
       "    <tr>\n",
       "      <th>201651</th>\n",
       "      <td>8604.0</td>\n",
       "    </tr>\n",
       "    <tr>\n",
       "      <th>201652</th>\n",
       "      <td>10310.0</td>\n",
       "    </tr>\n",
       "  </tbody>\n",
       "</table>\n",
       "<p>10990 rows × 1 columns</p>\n",
       "</div>"
      ],
      "text/plain": [
       "                       sum\n",
       "REGIONID YEARWEEK         \n",
       "A00      201401    10649.0\n",
       "         201402     9684.0\n",
       "         201403     8994.0\n",
       "         201404     9085.0\n",
       "         201405    10871.0\n",
       "...                    ...\n",
       "A77      201648     7222.0\n",
       "         201649     9308.0\n",
       "         201650    10268.0\n",
       "         201651     8604.0\n",
       "         201652    10310.0\n",
       "\n",
       "[10990 rows x 1 columns]"
      ]
     },
     "execution_count": 12,
     "metadata": {},
     "output_type": "execute_result"
    }
   ],
   "source": [
    "selloutData.groupby(by=groupKey)[\"QTY\"].agg([\"sum\"])"
   ]
  },
  {
   "cell_type": "markdown",
   "id": "f671c05f-f79f-4886-8018-0b40ed00b56d",
   "metadata": {},
   "source": [
    "### 1. 데이터 타입 통합"
   ]
  },
  {
   "cell_type": "code",
   "execution_count": 4,
   "id": "642efa84-1ca0-48d8-b164-c590da25423c",
   "metadata": {
    "tags": []
   },
   "outputs": [],
   "source": [
    "## regionid : str, product: str, yearweek: int \n",
    "## qty: float"
   ]
  },
  {
   "cell_type": "code",
   "execution_count": 5,
   "id": "63abf4e9-86cc-40d4-ab6b-7d5ea04aecbb",
   "metadata": {
    "tags": []
   },
   "outputs": [],
   "source": [
    "selloutData.REGIONID = selloutData.REGIONID.astype(str)\n",
    "selloutData.PRODUCT = selloutData.PRODUCT.astype(str)\n",
    "selloutData.YEARWEEK = selloutData.YEARWEEK.astype(int)\n",
    "selloutData.QTY = selloutData.QTY.astype(float)"
   ]
  },
  {
   "cell_type": "code",
   "execution_count": 6,
   "id": "988604a3-6fef-4d8f-9718-3704894f79c0",
   "metadata": {
    "tags": []
   },
   "outputs": [],
   "source": [
    "selloutData[\"YEAR\"] = selloutData.YEARWEEK.astype(str).str[:4]\n",
    "selloutData[\"WEEK\"] = selloutData.YEARWEEK.astype(str).str[4:]"
   ]
  },
  {
   "cell_type": "markdown",
   "id": "120063a3-689b-4933-9772-99b9832ffd66",
   "metadata": {},
   "source": [
    "[불량 데이터 처리]\n",
    "kopo_channel_seasonality_new.csv 자료를 담은 \n",
    "selloutData 변수에서\n",
    "QTY컬럼 음수(반품)인 경우 0, 양수인 경우 기존 QTY 값\u000b",
    "유지하는 로직을 적용하여 QTY_NEW 컬럼을 추가하세요"
   ]
  },
  {
   "cell_type": "code",
   "execution_count": 17,
   "id": "41a72381-279a-41bd-b0d2-c9f1cde1ecfa",
   "metadata": {
    "tags": []
   },
   "outputs": [],
   "source": [
    "selloutData[\"QTY_NEW\"] = np.where( selloutData.QTY < 0, 0, selloutData.QTY )"
   ]
  },
  {
   "cell_type": "markdown",
   "id": "da7cd974-2829-4808-a656-84d8ebe65071",
   "metadata": {},
   "source": [
    "[데이터 통합]\n",
    "selloutData 자료에서 \n",
    "YEAR, WEEK 컬럼을 생성하고 WEEK 가 52 이하인\n",
    "데이터만 조회한 후 refinedSelloutData 변수에 담으세요\n"
   ]
  },
  {
   "cell_type": "code",
   "execution_count": 24,
   "id": "f410fcb4-33e6-4b75-a4c8-ac0fdef95f14",
   "metadata": {
    "tags": []
   },
   "outputs": [],
   "source": [
    "exceptWeek = \"53\"\n",
    "refinedSelloutData = selloutData.loc[  selloutData.WEEK != exceptWeek    ]"
   ]
  }
 ],
 "metadata": {
  "kernelspec": {
   "display_name": "Python 3 (ipykernel)",
   "language": "python",
   "name": "python3"
  },
  "language_info": {
   "codemirror_mode": {
    "name": "ipython",
    "version": 3
   },
   "file_extension": ".py",
   "mimetype": "text/x-python",
   "name": "python",
   "nbconvert_exporter": "python",
   "pygments_lexer": "ipython3",
   "version": "3.11.4"
  }
 },
 "nbformat": 4,
 "nbformat_minor": 5
}
