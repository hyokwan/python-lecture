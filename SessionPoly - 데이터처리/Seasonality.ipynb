{
 "cells": [
  {
   "cell_type": "markdown",
   "id": "321fe934-a8fa-4b5d-a20d-747df35d82f5",
   "metadata": {},
   "source": [
    "### 라이브러리 선언"
   ]
  },
  {
   "cell_type": "code",
   "execution_count": 35,
   "id": "e1a49648-3fed-4ffa-a77b-2e93f1ce04a5",
   "metadata": {
    "tags": []
   },
   "outputs": [],
   "source": [
    "import pandas as pd\n",
    "import numpy as np"
   ]
  },
  {
   "cell_type": "markdown",
   "id": "ab4c4741-23b6-41dc-bddf-8c4b61fc0c74",
   "metadata": {},
   "source": [
    "### 데이터 불러오기"
   ]
  },
  {
   "cell_type": "code",
   "execution_count": 36,
   "id": "12aa5e62-9cde-44cc-93dc-1e0fe8c81406",
   "metadata": {
    "tags": []
   },
   "outputs": [],
   "source": [
    "dataUrl = \"https://raw.githubusercontent.com/hyokwan/python-lecture/master/dataset/kopo_channel_seasonality_new.csv\""
   ]
  },
  {
   "cell_type": "code",
   "execution_count": 37,
   "id": "b37c17d6-350a-40f6-959b-01f91d5068c8",
   "metadata": {
    "tags": []
   },
   "outputs": [],
   "source": [
    "selloutData = pd.read_csv(dataUrl)"
   ]
  },
  {
   "cell_type": "markdown",
   "id": "f671c05f-f79f-4886-8018-0b40ed00b56d",
   "metadata": {},
   "source": [
    "### 1. 데이터 타입 통합"
   ]
  },
  {
   "cell_type": "code",
   "execution_count": 38,
   "id": "642efa84-1ca0-48d8-b164-c590da25423c",
   "metadata": {
    "tags": []
   },
   "outputs": [],
   "source": [
    "## regionid : str, product: str, yearweek: int \n",
    "## qty: float"
   ]
  },
  {
   "cell_type": "code",
   "execution_count": 39,
   "id": "63abf4e9-86cc-40d4-ab6b-7d5ea04aecbb",
   "metadata": {
    "tags": []
   },
   "outputs": [],
   "source": [
    "selloutData.REGIONID = selloutData.REGIONID.astype(str)\n",
    "selloutData.PRODUCT = selloutData.PRODUCT.astype(str)\n",
    "selloutData.YEARWEEK = selloutData.YEARWEEK.astype(int)\n",
    "selloutData.QTY = selloutData.QTY.astype(float)"
   ]
  },
  {
   "cell_type": "code",
   "execution_count": 40,
   "id": "988604a3-6fef-4d8f-9718-3704894f79c0",
   "metadata": {
    "tags": []
   },
   "outputs": [],
   "source": [
    "selloutData[\"YEAR\"] = selloutData.YEARWEEK.astype(str).str[:4]\n",
    "selloutData[\"WEEK\"] = selloutData.YEARWEEK.astype(str).str[4:]"
   ]
  },
  {
   "cell_type": "markdown",
   "id": "120063a3-689b-4933-9772-99b9832ffd66",
   "metadata": {},
   "source": [
    "[불량 데이터 처리]\n",
    "kopo_channel_seasonality_new.csv 자료를 담은 \n",
    "selloutData 변수에서\n",
    "QTY컬럼 음수(반품)인 경우 0, 양수인 경우 기존 QTY 값\u000b",
    "유지하는 로직을 적용하여 QTY_NEW 컬럼을 추가하세요"
   ]
  },
  {
   "cell_type": "code",
   "execution_count": 41,
   "id": "41a72381-279a-41bd-b0d2-c9f1cde1ecfa",
   "metadata": {
    "tags": []
   },
   "outputs": [],
   "source": [
    "selloutData[\"QTY_NEW\"] = np.where( selloutData.QTY < 0, 0, selloutData.QTY )"
   ]
  },
  {
   "cell_type": "markdown",
   "id": "da7cd974-2829-4808-a656-84d8ebe65071",
   "metadata": {},
   "source": [
    "[데이터 통합]\n",
    "selloutData 자료에서 \n",
    "YEAR, WEEK 컬럼을 생성하고 WEEK 가 52 이하인\n",
    "데이터만 조회한 후 refinedSelloutData 변수에 담으세요\n"
   ]
  },
  {
   "cell_type": "code",
   "execution_count": 42,
   "id": "f410fcb4-33e6-4b75-a4c8-ac0fdef95f14",
   "metadata": {
    "tags": []
   },
   "outputs": [],
   "source": [
    "exceptWeek = \"53\"\n",
    "refinedSelloutData = selloutData.loc[  selloutData.WEEK != exceptWeek    ]"
   ]
  },
  {
   "cell_type": "markdown",
   "id": "61823722-d348-4886-af23-4feefce39e40",
   "metadata": {},
   "source": [
    "refinedSelloutData 에서 →\n",
    "지역, 상품, 연주차 컬럼순으로 오름차순 정렬하여\n",
    "sortedData 변수에 담으세요\n"
   ]
  },
  {
   "cell_type": "code",
   "execution_count": 22,
   "id": "75cb6c7f-48f8-4cf6-beaa-f04c62a061b1",
   "metadata": {
    "tags": []
   },
   "outputs": [],
   "source": [
    "sortKey = [\"REGIONID\",\"PRODUCT\",\"YEARWEEK\"]\n",
    "\n",
    "sortedData = refinedSelloutData.sort_values(by=sortKey)"
   ]
  },
  {
   "cell_type": "markdown",
   "id": "0d98f50f-36ea-42b1-bafe-4395ed0817c5",
   "metadata": {},
   "source": [
    "[지역, 상품, 연도 별 집계]\n",
    "sortedData 에서 지역, 상품, 연도 단위\n",
    "판매량(QTY_NEW) 의 평균 연산 후\n",
    "groupData 변수에 담으세요\n",
    "\n",
    "이후 컬럼명을 QTY_MEAN로 변경하세요\n"
   ]
  },
  {
   "cell_type": "code",
   "execution_count": 62,
   "id": "f1d64b56-8b30-4f02-953e-03987f004169",
   "metadata": {
    "tags": []
   },
   "outputs": [
    {
     "data": {
      "text/html": [
       "<div>\n",
       "<style scoped>\n",
       "    .dataframe tbody tr th:only-of-type {\n",
       "        vertical-align: middle;\n",
       "    }\n",
       "\n",
       "    .dataframe tbody tr th {\n",
       "        vertical-align: top;\n",
       "    }\n",
       "\n",
       "    .dataframe thead th {\n",
       "        text-align: right;\n",
       "    }\n",
       "</style>\n",
       "<table border=\"1\" class=\"dataframe\">\n",
       "  <thead>\n",
       "    <tr style=\"text-align: right;\">\n",
       "      <th></th>\n",
       "      <th>REGIONID</th>\n",
       "      <th>PRODUCT</th>\n",
       "      <th>YEAR</th>\n",
       "      <th>QTY_MEAN</th>\n",
       "    </tr>\n",
       "  </thead>\n",
       "  <tbody>\n",
       "    <tr>\n",
       "      <th>0</th>\n",
       "      <td>A00</td>\n",
       "      <td>PRODUCT34</td>\n",
       "      <td>2014</td>\n",
       "      <td>275.961538</td>\n",
       "    </tr>\n",
       "    <tr>\n",
       "      <th>1</th>\n",
       "      <td>A00</td>\n",
       "      <td>PRODUCT34</td>\n",
       "      <td>2015</td>\n",
       "      <td>86.634615</td>\n",
       "    </tr>\n",
       "    <tr>\n",
       "      <th>2</th>\n",
       "      <td>A00</td>\n",
       "      <td>PRODUCT34</td>\n",
       "      <td>2016</td>\n",
       "      <td>36.576923</td>\n",
       "    </tr>\n",
       "    <tr>\n",
       "      <th>3</th>\n",
       "      <td>A00</td>\n",
       "      <td>PRODUCT58</td>\n",
       "      <td>2014</td>\n",
       "      <td>2.673077</td>\n",
       "    </tr>\n",
       "    <tr>\n",
       "      <th>4</th>\n",
       "      <td>A00</td>\n",
       "      <td>PRODUCT58</td>\n",
       "      <td>2015</td>\n",
       "      <td>5.711538</td>\n",
       "    </tr>\n",
       "    <tr>\n",
       "      <th>...</th>\n",
       "      <td>...</td>\n",
       "      <td>...</td>\n",
       "      <td>...</td>\n",
       "      <td>...</td>\n",
       "    </tr>\n",
       "    <tr>\n",
       "      <th>2377</th>\n",
       "      <td>A77</td>\n",
       "      <td>PRODUCT1</td>\n",
       "      <td>2015</td>\n",
       "      <td>3030.019231</td>\n",
       "    </tr>\n",
       "    <tr>\n",
       "      <th>2378</th>\n",
       "      <td>A77</td>\n",
       "      <td>PRODUCT1</td>\n",
       "      <td>2016</td>\n",
       "      <td>3375.326923</td>\n",
       "    </tr>\n",
       "    <tr>\n",
       "      <th>2379</th>\n",
       "      <td>A77</td>\n",
       "      <td>PRODUCT12</td>\n",
       "      <td>2014</td>\n",
       "      <td>2035.788462</td>\n",
       "    </tr>\n",
       "    <tr>\n",
       "      <th>2380</th>\n",
       "      <td>A77</td>\n",
       "      <td>PRODUCT12</td>\n",
       "      <td>2015</td>\n",
       "      <td>3540.980769</td>\n",
       "    </tr>\n",
       "    <tr>\n",
       "      <th>2381</th>\n",
       "      <td>A77</td>\n",
       "      <td>PRODUCT12</td>\n",
       "      <td>2016</td>\n",
       "      <td>4837.153846</td>\n",
       "    </tr>\n",
       "  </tbody>\n",
       "</table>\n",
       "<p>2382 rows × 4 columns</p>\n",
       "</div>"
      ],
      "text/plain": [
       "     REGIONID    PRODUCT  YEAR     QTY_MEAN\n",
       "0         A00  PRODUCT34  2014   275.961538\n",
       "1         A00  PRODUCT34  2015    86.634615\n",
       "2         A00  PRODUCT34  2016    36.576923\n",
       "3         A00  PRODUCT58  2014     2.673077\n",
       "4         A00  PRODUCT58  2015     5.711538\n",
       "...       ...        ...   ...          ...\n",
       "2377      A77   PRODUCT1  2015  3030.019231\n",
       "2378      A77   PRODUCT1  2016  3375.326923\n",
       "2379      A77  PRODUCT12  2014  2035.788462\n",
       "2380      A77  PRODUCT12  2015  3540.980769\n",
       "2381      A77  PRODUCT12  2016  4837.153846\n",
       "\n",
       "[2382 rows x 4 columns]"
      ]
     },
     "execution_count": 62,
     "metadata": {},
     "output_type": "execute_result"
    }
   ],
   "source": [
    "groupKey = [\"REGIONID\",\"PRODUCT\",\"YEAR\"]\n",
    "groupData = sortedData.groupby(by=groupKey)[[\"QTY_NEW\"]].agg(\"mean\").reset_index()\n",
    "groupData = groupData.rename(columns={\"QTY_NEW\":\"QTY_MEAN\"})\n",
    "groupData"
   ]
  },
  {
   "cell_type": "code",
   "execution_count": null,
   "id": "ae3e2ab2-cf11-45cc-995c-11dbd3b19252",
   "metadata": {},
   "outputs": [],
   "source": []
  }
 ],
 "metadata": {
  "kernelspec": {
   "display_name": "Python 3 (ipykernel)",
   "language": "python",
   "name": "python3"
  },
  "language_info": {
   "codemirror_mode": {
    "name": "ipython",
    "version": 3
   },
   "file_extension": ".py",
   "mimetype": "text/x-python",
   "name": "python",
   "nbconvert_exporter": "python",
   "pygments_lexer": "ipython3",
   "version": "3.11.4"
  }
 },
 "nbformat": 4,
 "nbformat_minor": 5
}
