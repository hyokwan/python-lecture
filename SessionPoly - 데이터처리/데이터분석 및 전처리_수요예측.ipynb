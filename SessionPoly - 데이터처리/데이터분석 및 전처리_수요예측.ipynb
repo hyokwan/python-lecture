{
 "cells": [
  {
   "cell_type": "markdown",
   "id": "2e0bdf44-b66c-46d4-87f0-98a3b84536a3",
   "metadata": {},
   "source": [
    "### 패키지 불러오기"
   ]
  },
  {
   "cell_type": "code",
   "execution_count": 2,
   "id": "f27c62bf-b35f-4b5e-ae30-b45ce854fbe0",
   "metadata": {
    "tags": []
   },
   "outputs": [],
   "source": [
    "import pandas as pd"
   ]
  },
  {
   "cell_type": "markdown",
   "id": "7f7aaac1-07d4-4818-a0aa-e1283c5cc5a4",
   "metadata": {},
   "source": [
    "### 1. 데이터 불러오기"
   ]
  },
  {
   "cell_type": "code",
   "execution_count": 51,
   "id": "72c64c76-65d6-4bdd-9690-983f03afc36c",
   "metadata": {
    "tags": []
   },
   "outputs": [
    {
     "data": {
      "text/html": [
       "<div>\n",
       "<style scoped>\n",
       "    .dataframe tbody tr th:only-of-type {\n",
       "        vertical-align: middle;\n",
       "    }\n",
       "\n",
       "    .dataframe tbody tr th {\n",
       "        vertical-align: top;\n",
       "    }\n",
       "\n",
       "    .dataframe thead th {\n",
       "        text-align: right;\n",
       "    }\n",
       "</style>\n",
       "<table border=\"1\" class=\"dataframe\">\n",
       "  <thead>\n",
       "    <tr style=\"text-align: right;\">\n",
       "      <th></th>\n",
       "      <th>CUSTID</th>\n",
       "      <th>AVGPRICE</th>\n",
       "      <th>EMI</th>\n",
       "      <th>DEVICECOUNT</th>\n",
       "      <th>PRODUCTAGE</th>\n",
       "      <th>CUSTTYPE</th>\n",
       "    </tr>\n",
       "  </thead>\n",
       "  <tbody>\n",
       "    <tr>\n",
       "      <th>0</th>\n",
       "      <td>A13566</td>\n",
       "      <td>4273.9</td>\n",
       "      <td>3</td>\n",
       "      <td>6</td>\n",
       "      <td>1.679181</td>\n",
       "      <td>Big-Screen-lover</td>\n",
       "    </tr>\n",
       "  </tbody>\n",
       "</table>\n",
       "</div>"
      ],
      "text/plain": [
       "   CUSTID  AVGPRICE  EMI  DEVICECOUNT  PRODUCTAGE          CUSTTYPE\n",
       "0  A13566    4273.9    3            6    1.679181  Big-Screen-lover"
      ]
     },
     "execution_count": 51,
     "metadata": {},
     "output_type": "execute_result"
    }
   ],
   "source": [
    "dataUrl =  \"https://raw.githubusercontent.com/hyokwan/python-lecture/master/dataset/customerdata.csv\" \n",
    "csData = pd.read_csv( dataUrl )\n",
    "\n",
    "# 주석\n",
    "csData.head(1)"
   ]
  },
  {
   "cell_type": "code",
   "execution_count": 52,
   "id": "a4be490a-29b6-4b58-822a-e88e5ee144e0",
   "metadata": {
    "tags": []
   },
   "outputs": [
    {
     "data": {
      "text/plain": [
       "pandas.core.frame.DataFrame"
      ]
     },
     "execution_count": 52,
     "metadata": {},
     "output_type": "execute_result"
    }
   ],
   "source": [
    "type( csData )"
   ]
  },
  {
   "cell_type": "markdown",
   "id": "97f97f39-688d-439c-a5d1-b56a96bc1e78",
   "metadata": {},
   "source": [
    "### 2. 데이터 행 조회하기"
   ]
  },
  {
   "cell_type": "code",
   "execution_count": 29,
   "id": "ff58c946-8224-48bd-830d-5399d39457b8",
   "metadata": {
    "tags": []
   },
   "outputs": [],
   "source": [
    "## 조회대상이 EMI 2 보다\n",
    "## \n",
    "targetEmi = \"2\"\n",
    "csDataEmi2 = csData.loc[   csData.EMI.astype(str) == targetEmi ]"
   ]
  },
  {
   "cell_type": "code",
   "execution_count": 18,
   "id": "c6ee218c-fe18-4475-9e86-9e274eb055d4",
   "metadata": {
    "tags": []
   },
   "outputs": [],
   "source": [
    "## 조회대상이 EMI 2보다크고 평균구매가격이 3200 이상\n",
    "## \n",
    "targetEmi = 2\n",
    "targetPrice = 3200\n",
    "csDataEmi3 = csData.loc[   (csData.EMI > targetEmi) &\n",
    "                           (csData.AVGPRICE >= targetPrice)    ]"
   ]
  },
  {
   "cell_type": "code",
   "execution_count": 20,
   "id": "ea1d069a-84f9-4311-b526-b995b250057d",
   "metadata": {
    "tags": []
   },
   "outputs": [],
   "source": [
    "## 조회대상이 EMI 2,3,4 조회하고 싶다\n",
    "## \n",
    "targetEmis = [2,3,4]\n",
    "csDataEmi234 = csData.loc[  csData.EMI.isin(targetEmis)  ]"
   ]
  },
  {
   "cell_type": "code",
   "execution_count": 23,
   "id": "c0737258-0072-48a1-a1b5-6a49b2542f05",
   "metadata": {
    "tags": []
   },
   "outputs": [
    {
     "data": {
      "text/plain": [
       "0    3\n",
       "1    2\n",
       "Name: EMI, dtype: int64"
      ]
     },
     "execution_count": 23,
     "metadata": {},
     "output_type": "execute_result"
    }
   ],
   "source": [
    "# EMI 컬럼 내 중복 제거\n",
    "csDataEmi234.EMI.drop_duplicates()"
   ]
  },
  {
   "cell_type": "markdown",
   "id": "eb4d30e9-b77a-44ad-adcf-b9deb0fbf21d",
   "metadata": {},
   "source": [
    "### 3. 데이터 컬럼 조회하기"
   ]
  },
  {
   "cell_type": "code",
   "execution_count": 34,
   "id": "cbae2fa0-c7ea-48db-b377-8d4311d3040c",
   "metadata": {
    "tags": []
   },
   "outputs": [],
   "source": [
    "csDataIdEmi = csData.loc[ : , [\"CUSTID\",\"EMI\" ]  ]"
   ]
  },
  {
   "cell_type": "markdown",
   "id": "740babab-db78-43b4-a54f-83a4ab9055ad",
   "metadata": {},
   "source": [
    "### 4. 데이터 조작하기"
   ]
  },
  {
   "cell_type": "code",
   "execution_count": 39,
   "id": "60097586-8f75-422f-b39e-1f267f2aaac1",
   "metadata": {
    "tags": []
   },
   "outputs": [],
   "source": [
    "import numpy as np\n",
    "\n",
    "csData[\"PRODUCTAGE_NEW\"] = np.where( csData.PRODUCTAGE < 1, 1, csData.PRODUCTAGE)"
   ]
  },
  {
   "cell_type": "code",
   "execution_count": 49,
   "id": "5cb89dd1-a68c-436d-a63a-3f6f8f251b20",
   "metadata": {
    "tags": []
   },
   "outputs": [],
   "source": [
    "### 1보다 작은애들은 1\n",
    "### 1보다 크거나같고 2보다 작은애들은 2\n",
    "### 이외에는 3"
   ]
  },
  {
   "cell_type": "code",
   "execution_count": 50,
   "id": "b2e4f08b-5a3b-4885-8ef4-efe26dfffad1",
   "metadata": {
    "tags": []
   },
   "outputs": [],
   "source": [
    "import numpy as np\n",
    "\n",
    "csData[\"PRODUCTAGE_NEW\"] = np.where( csData.PRODUCTAGE < 1, 1,\n",
    "                                   np.where( csData.PRODUCTAGE < 2, 2, 3 ) )"
   ]
  },
  {
   "cell_type": "markdown",
   "id": "e181c50d-17f5-44a0-9791-62b71be5690b",
   "metadata": {},
   "source": [
    "### 5. 컬럼간 데이터 연산하기"
   ]
  },
  {
   "cell_type": "code",
   "execution_count": 74,
   "id": "35d0534e-452f-425c-bf5d-55768bac2502",
   "metadata": {
    "tags": []
   },
   "outputs": [],
   "source": [
    "csData[\"NEW_COL1\"] = csData.EMI * csData.DEVICECOUNT"
   ]
  },
  {
   "cell_type": "code",
   "execution_count": 80,
   "id": "49511f8b-477e-4fc6-af18-45b6a731ad31",
   "metadata": {
    "tags": []
   },
   "outputs": [],
   "source": [
    "csData[\"NEW_COL2\"] = csData.CUSTID.str[1:]+\"_\"+csData.EMI.astype(str)"
   ]
  },
  {
   "cell_type": "code",
   "execution_count": null,
   "id": "09591d50-43c8-481b-abeb-1122250f7bf9",
   "metadata": {},
   "outputs": [],
   "source": []
  },
  {
   "cell_type": "code",
   "execution_count": null,
   "id": "45083e3e-a9cf-4d4e-9e5a-bb78849fc55f",
   "metadata": {},
   "outputs": [],
   "source": []
  },
  {
   "cell_type": "code",
   "execution_count": null,
   "id": "7bff62aa-fbe1-460e-827f-ebe6e78f7fc0",
   "metadata": {},
   "outputs": [],
   "source": []
  },
  {
   "cell_type": "code",
   "execution_count": null,
   "id": "dedb6bca-5f3b-49ef-abe6-f69085e258cb",
   "metadata": {},
   "outputs": [],
   "source": []
  },
  {
   "cell_type": "code",
   "execution_count": null,
   "id": "82388c3e-1f83-4edb-91c3-2bed094411c9",
   "metadata": {},
   "outputs": [],
   "source": []
  },
  {
   "cell_type": "code",
   "execution_count": null,
   "id": "defc8d61-eeec-418f-ab21-15e1fed8d4b0",
   "metadata": {},
   "outputs": [],
   "source": []
  },
  {
   "cell_type": "code",
   "execution_count": null,
   "id": "2c661dd7-59c0-4cef-933e-5e2620076dc8",
   "metadata": {},
   "outputs": [],
   "source": []
  },
  {
   "cell_type": "code",
   "execution_count": null,
   "id": "5831c334-faac-4459-8453-2227a66cf05f",
   "metadata": {},
   "outputs": [],
   "source": []
  },
  {
   "cell_type": "code",
   "execution_count": 66,
   "id": "ed5d68da-e1e4-485f-a9dc-17c9122440d1",
   "metadata": {
    "tags": []
   },
   "outputs": [],
   "source": [
    "preFix = \"LED\""
   ]
  },
  {
   "cell_type": "code",
   "execution_count": 67,
   "id": "34a8d3b1-634b-44cb-a558-1168a2f21f95",
   "metadata": {
    "tags": []
   },
   "outputs": [],
   "source": [
    "modelCode = \"_UN52001\""
   ]
  },
  {
   "cell_type": "code",
   "execution_count": 69,
   "id": "68cd9bd3-2eb8-4c34-bbb5-0d3275ef7f29",
   "metadata": {
    "tags": []
   },
   "outputs": [
    {
     "data": {
      "text/plain": [
       "'ED'"
      ]
     },
     "execution_count": 69,
     "metadata": {},
     "output_type": "execute_result"
    }
   ],
   "source": [
    "preFix[1:]"
   ]
  },
  {
   "cell_type": "code",
   "execution_count": 68,
   "id": "82c2695b-f613-49f9-b0cb-8e3dd11438f1",
   "metadata": {
    "tags": []
   },
   "outputs": [
    {
     "data": {
      "text/plain": [
       "'LED_UN52001'"
      ]
     },
     "execution_count": 68,
     "metadata": {},
     "output_type": "execute_result"
    }
   ],
   "source": [
    "preFix+modelCode"
   ]
  },
  {
   "cell_type": "code",
   "execution_count": 65,
   "id": "d14945cb-fe0c-4230-8695-e715eae632a9",
   "metadata": {
    "tags": []
   },
   "outputs": [],
   "source": [
    "# 함수: input Age값을 받아 age 조작...\n",
    "def myCsAgeFunc(inAge):\n",
    "    # inAge = 3\n",
    "    outAge = 0\n",
    "    if inAge < 1:\n",
    "        outAge = 1\n",
    "    elif inAge < 2:\n",
    "        outAge = 2\n",
    "    else:\n",
    "        outAge = 3\n",
    "    return outAge"
   ]
  },
  {
   "cell_type": "code",
   "execution_count": 62,
   "id": "cb4f5b12-506e-4017-a1a6-2bdb7b2e54fd",
   "metadata": {
    "tags": []
   },
   "outputs": [],
   "source": [
    "csData[\"PRODUCTAGE_NEW2\"] = csData.PRODUCTAGE.apply(myCsAgeFunc)"
   ]
  },
  {
   "cell_type": "code",
   "execution_count": null,
   "id": "68083f94-c201-4e18-99e6-ab1bcf94e1ae",
   "metadata": {},
   "outputs": [],
   "source": []
  }
 ],
 "metadata": {
  "kernelspec": {
   "display_name": "Python 3 (ipykernel)",
   "language": "python",
   "name": "python3"
  },
  "language_info": {
   "codemirror_mode": {
    "name": "ipython",
    "version": 3
   },
   "file_extension": ".py",
   "mimetype": "text/x-python",
   "name": "python",
   "nbconvert_exporter": "python",
   "pygments_lexer": "ipython3",
   "version": "3.11.4"
  }
 },
 "nbformat": 4,
 "nbformat_minor": 5
}
