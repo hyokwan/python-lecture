{
 "cells": [
  {
   "cell_type": "code",
   "execution_count": 1,
   "id": "b32687d8-69a3-4eb5-87d1-b7d982ff81e9",
   "metadata": {
    "tags": []
   },
   "outputs": [],
   "source": [
    "### 패키지 불러오기\n",
    "\n",
    "import pandas as pd"
   ]
  },
  {
   "cell_type": "markdown",
   "id": "84dd6f41-91b5-4a01-8116-dc6638c24075",
   "metadata": {
    "tags": []
   },
   "source": [
    "### 1. 데이터 불러오기"
   ]
  },
  {
   "cell_type": "code",
   "execution_count": 2,
   "id": "038f185f-08d8-45a3-b1b2-325718a20b88",
   "metadata": {
    "tags": []
   },
   "outputs": [],
   "source": [
    "dataUrl =  \"https://raw.githubusercontent.com/hyokwan/python-lecture/master/dataset/customerdata.csv\" \n",
    "csData = pd.read_csv( dataUrl )"
   ]
  },
  {
   "cell_type": "code",
   "execution_count": 3,
   "id": "311715e8-8afc-483f-8b10-0cf075a43c5d",
   "metadata": {
    "jp-MarkdownHeadingCollapsed": true,
    "tags": []
   },
   "outputs": [
    {
     "data": {
      "text/plain": [
       "pandas.core.frame.DataFrame"
      ]
     },
     "execution_count": 3,
     "metadata": {},
     "output_type": "execute_result"
    }
   ],
   "source": [
    "# 주석\n",
    "csData.head(1)\n",
    "\n",
    "type( csData )"
   ]
  },
  {
   "cell_type": "markdown",
   "id": "4e909bb1-a686-4b46-bd01-11ce7a8b76b8",
   "metadata": {
    "tags": []
   },
   "source": [
    "### 2. 데이터 행 조회하기"
   ]
  },
  {
   "cell_type": "code",
   "execution_count": 4,
   "id": "7e63900b-acac-4d16-9a64-31e073b2d3d2",
   "metadata": {
    "jp-MarkdownHeadingCollapsed": true,
    "tags": []
   },
   "outputs": [
    {
     "data": {
      "text/plain": [
       "0    3\n",
       "1    2\n",
       "Name: EMI, dtype: int64"
      ]
     },
     "execution_count": 4,
     "metadata": {},
     "output_type": "execute_result"
    }
   ],
   "source": [
    "## 조회대상이 EMI 2 보다\n",
    "## \n",
    "targetEmi = \"2\"\n",
    "csDataEmi2 = csData.loc[   csData.EMI.astype(str) == targetEmi ]\n",
    "\n",
    "## 조회대상이 EMI 2보다크고 평균구매가격이 3200 이상\n",
    "## \n",
    "targetEmi = 2\n",
    "targetPrice = 3200\n",
    "csDataEmi3 = csData.loc[   (csData.EMI > targetEmi) &\n",
    "                           (csData.AVGPRICE >= targetPrice)    ]\n",
    "\n",
    "## 조회대상이 EMI 2,3,4 조회하고 싶다\n",
    "## \n",
    "targetEmis = [2,3,4]\n",
    "csDataEmi234 = csData.loc[  csData.EMI.isin(targetEmis)  ]\n",
    "\n",
    "# EMI 컬럼 내 중복 제거\n",
    "csDataEmi234.EMI.drop_duplicates()"
   ]
  },
  {
   "cell_type": "markdown",
   "id": "b98cbec5-5d77-47e6-aa21-279308d4d6c1",
   "metadata": {
    "tags": []
   },
   "source": [
    "### 3. 데이터 컬럼 조회하기"
   ]
  },
  {
   "cell_type": "code",
   "execution_count": 5,
   "id": "10a3f911-66d4-47c0-93e1-13d5641c9765",
   "metadata": {
    "jp-MarkdownHeadingCollapsed": true,
    "tags": []
   },
   "outputs": [],
   "source": [
    "csDataIdEmi = csData.loc[ : , [\"CUSTID\",\"EMI\" ]  ]"
   ]
  },
  {
   "cell_type": "markdown",
   "id": "d28ae7a8-96df-4b8a-99ea-82336001a264",
   "metadata": {
    "tags": []
   },
   "source": [
    "### 4. 데이터 조작하기"
   ]
  },
  {
   "cell_type": "code",
   "execution_count": 6,
   "id": "942be31b-dce1-4d62-8192-7288a39370c9",
   "metadata": {
    "jp-MarkdownHeadingCollapsed": true,
    "tags": []
   },
   "outputs": [],
   "source": [
    "import numpy as np\n",
    "\n",
    "csData[\"PRODUCTAGE_NEW\"] = np.where( csData.PRODUCTAGE < 1, 1, csData.PRODUCTAGE)\n",
    "\n",
    "### 1보다 작은애들은 1\n",
    "### 1보다 크거나같고 2보다 작은애들은 2\n",
    "### 이외에는 3\n",
    "\n",
    "import numpy as np\n",
    "\n",
    "csData[\"PRODUCTAGE_NEW\"] = np.where( csData.PRODUCTAGE < 1, 1,\n",
    "                                   np.where( csData.PRODUCTAGE < 2, 2, 3 ) )"
   ]
  },
  {
   "cell_type": "markdown",
   "id": "c3f2b607-e1b9-48b7-9445-87ca43df74ad",
   "metadata": {},
   "source": [
    "### 5. 데이터 정렬하기"
   ]
  },
  {
   "cell_type": "code",
   "execution_count": 7,
   "id": "77230b3d-ad58-49f2-a1e7-95329617b265",
   "metadata": {
    "tags": []
   },
   "outputs": [],
   "source": [
    "sortKey = [\"EMI\",\"AVGPRICE\"]"
   ]
  },
  {
   "cell_type": "code",
   "execution_count": 8,
   "id": "ebb1de37-2295-406e-852a-050f3a183ed3",
   "metadata": {
    "tags": []
   },
   "outputs": [],
   "source": [
    "sortedValue = csData.sort_values(by = sortKey, ascending=[False, True])"
   ]
  },
  {
   "cell_type": "markdown",
   "id": "cdb92dae-2c13-436f-bf9c-94acbba42793",
   "metadata": {},
   "source": [
    "### 6. groupBy 집계함수"
   ]
  },
  {
   "cell_type": "code",
   "execution_count": 9,
   "id": "6dd424c0-3b04-4017-9f91-451e42fc74f3",
   "metadata": {
    "tags": []
   },
   "outputs": [
    {
     "data": {
      "text/html": [
       "<div>\n",
       "<style scoped>\n",
       "    .dataframe tbody tr th:only-of-type {\n",
       "        vertical-align: middle;\n",
       "    }\n",
       "\n",
       "    .dataframe tbody tr th {\n",
       "        vertical-align: top;\n",
       "    }\n",
       "\n",
       "    .dataframe thead th {\n",
       "        text-align: right;\n",
       "    }\n",
       "</style>\n",
       "<table border=\"1\" class=\"dataframe\">\n",
       "  <thead>\n",
       "    <tr style=\"text-align: right;\">\n",
       "      <th></th>\n",
       "      <th>EMI</th>\n",
       "      <th>AVGPRICE</th>\n",
       "    </tr>\n",
       "  </thead>\n",
       "  <tbody>\n",
       "    <tr>\n",
       "      <th>0</th>\n",
       "      <td>1</td>\n",
       "      <td>34309.349910</td>\n",
       "    </tr>\n",
       "    <tr>\n",
       "      <th>1</th>\n",
       "      <td>2</td>\n",
       "      <td>412971.559684</td>\n",
       "    </tr>\n",
       "    <tr>\n",
       "      <th>2</th>\n",
       "      <td>3</td>\n",
       "      <td>67630.256563</td>\n",
       "    </tr>\n",
       "  </tbody>\n",
       "</table>\n",
       "</div>"
      ],
      "text/plain": [
       "   EMI       AVGPRICE\n",
       "0    1   34309.349910\n",
       "1    2  412971.559684\n",
       "2    3   67630.256563"
      ]
     },
     "execution_count": 9,
     "metadata": {},
     "output_type": "execute_result"
    }
   ],
   "source": [
    "groupKey = [\"EMI\"]\n",
    "\n",
    "groupData = sortedValue.groupby(by=groupKey)[[\"AVGPRICE\"]].agg(\"sum\").reset_index()\n",
    "\n",
    "groupData"
   ]
  },
  {
   "cell_type": "markdown",
   "id": "0fbc5f7a-00ad-4c0d-83dc-754f4c4af2a2",
   "metadata": {},
   "source": [
    "### 5. 컬럼간 데이터 연산하기\n",
    "\n",
    "csData[\"NEW_COL1\"] = csData.EMI * csData.DEVICECOUNT\n",
    "\n",
    "csData[\"NEW_COL2\"] = csData.CUSTID.str[1:]+\"_\"+csData.EMI.astype(str)"
   ]
  },
  {
   "cell_type": "markdown",
   "id": "92895e70-a191-4831-919a-62fdf4ac6485",
   "metadata": {},
   "source": [
    "### 6. 데이터 정렬하기"
   ]
  },
  {
   "cell_type": "code",
   "execution_count": 10,
   "id": "09591d50-43c8-481b-abeb-1122250f7bf9",
   "metadata": {},
   "outputs": [
    {
     "ename": "SyntaxError",
     "evalue": "incomplete input (1943795267.py, line 1)",
     "output_type": "error",
     "traceback": [
      "\u001b[1;36m  Cell \u001b[1;32mIn[10], line 1\u001b[1;36m\u001b[0m\n\u001b[1;33m    csData.sort_values(\u001b[0m\n\u001b[1;37m                       ^\u001b[0m\n\u001b[1;31mSyntaxError\u001b[0m\u001b[1;31m:\u001b[0m incomplete input\n"
     ]
    }
   ],
   "source": [
    "csData.sort_values("
   ]
  },
  {
   "cell_type": "code",
   "execution_count": null,
   "id": "45083e3e-a9cf-4d4e-9e5a-bb78849fc55f",
   "metadata": {},
   "outputs": [],
   "source": []
  },
  {
   "cell_type": "code",
   "execution_count": null,
   "id": "7bff62aa-fbe1-460e-827f-ebe6e78f7fc0",
   "metadata": {},
   "outputs": [],
   "source": []
  },
  {
   "cell_type": "code",
   "execution_count": null,
   "id": "dedb6bca-5f3b-49ef-abe6-f69085e258cb",
   "metadata": {},
   "outputs": [],
   "source": []
  },
  {
   "cell_type": "code",
   "execution_count": null,
   "id": "82388c3e-1f83-4edb-91c3-2bed094411c9",
   "metadata": {},
   "outputs": [],
   "source": []
  },
  {
   "cell_type": "code",
   "execution_count": null,
   "id": "defc8d61-eeec-418f-ab21-15e1fed8d4b0",
   "metadata": {},
   "outputs": [],
   "source": []
  },
  {
   "cell_type": "code",
   "execution_count": null,
   "id": "2c661dd7-59c0-4cef-933e-5e2620076dc8",
   "metadata": {},
   "outputs": [],
   "source": []
  },
  {
   "cell_type": "code",
   "execution_count": null,
   "id": "5831c334-faac-4459-8453-2227a66cf05f",
   "metadata": {},
   "outputs": [],
   "source": []
  },
  {
   "cell_type": "code",
   "execution_count": null,
   "id": "ed5d68da-e1e4-485f-a9dc-17c9122440d1",
   "metadata": {
    "tags": []
   },
   "outputs": [],
   "source": [
    "preFix = \"LED\""
   ]
  },
  {
   "cell_type": "code",
   "execution_count": null,
   "id": "34a8d3b1-634b-44cb-a558-1168a2f21f95",
   "metadata": {
    "tags": []
   },
   "outputs": [],
   "source": [
    "modelCode = \"_UN52001\""
   ]
  },
  {
   "cell_type": "code",
   "execution_count": null,
   "id": "68cd9bd3-2eb8-4c34-bbb5-0d3275ef7f29",
   "metadata": {
    "tags": []
   },
   "outputs": [],
   "source": [
    "preFix[1:]"
   ]
  },
  {
   "cell_type": "code",
   "execution_count": null,
   "id": "82c2695b-f613-49f9-b0cb-8e3dd11438f1",
   "metadata": {
    "tags": []
   },
   "outputs": [],
   "source": [
    "preFix+modelCode"
   ]
  },
  {
   "cell_type": "code",
   "execution_count": null,
   "id": "d14945cb-fe0c-4230-8695-e715eae632a9",
   "metadata": {
    "tags": []
   },
   "outputs": [],
   "source": [
    "# 함수: input Age값을 받아 age 조작...\n",
    "def myCsAgeFunc(inAge):\n",
    "    # inAge = 3\n",
    "    outAge = 0\n",
    "    if inAge < 1:\n",
    "        outAge = 1\n",
    "    elif inAge < 2:\n",
    "        outAge = 2\n",
    "    else:\n",
    "        outAge = 3\n",
    "    return outAge"
   ]
  },
  {
   "cell_type": "code",
   "execution_count": null,
   "id": "cb4f5b12-506e-4017-a1a6-2bdb7b2e54fd",
   "metadata": {
    "tags": []
   },
   "outputs": [],
   "source": [
    "csData[\"PRODUCTAGE_NEW2\"] = csData.PRODUCTAGE.apply(myCsAgeFunc)"
   ]
  },
  {
   "cell_type": "code",
   "execution_count": null,
   "id": "68083f94-c201-4e18-99e6-ab1bcf94e1ae",
   "metadata": {},
   "outputs": [],
   "source": []
  }
 ],
 "metadata": {
  "kernelspec": {
   "display_name": "Python 3 (ipykernel)",
   "language": "python",
   "name": "python3"
  },
  "language_info": {
   "codemirror_mode": {
    "name": "ipython",
    "version": 3
   },
   "file_extension": ".py",
   "mimetype": "text/x-python",
   "name": "python",
   "nbconvert_exporter": "python",
   "pygments_lexer": "ipython3",
   "version": "3.11.4"
  }
 },
 "nbformat": 4,
 "nbformat_minor": 5
}
