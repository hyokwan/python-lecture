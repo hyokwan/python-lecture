{
 "cells": [
  {
   "cell_type": "code",
   "execution_count": 1,
   "id": "b32687d8-69a3-4eb5-87d1-b7d982ff81e9",
   "metadata": {
    "tags": []
   },
   "outputs": [],
   "source": [
    "### 패키지 불러오기\n",
    "\n",
    "import pandas as pd"
   ]
  },
  {
   "cell_type": "markdown",
   "id": "84dd6f41-91b5-4a01-8116-dc6638c24075",
   "metadata": {
    "tags": []
   },
   "source": [
    "### 1. 데이터 불러오기"
   ]
  },
  {
   "cell_type": "code",
   "execution_count": 2,
   "id": "038f185f-08d8-45a3-b1b2-325718a20b88",
   "metadata": {
    "tags": []
   },
   "outputs": [],
   "source": [
    "dataUrl =  \"https://raw.githubusercontent.com/hyokwan/python-lecture/master/dataset/customerdata.csv\" \n",
    "csData = pd.read_csv( dataUrl )"
   ]
  },
  {
   "cell_type": "code",
   "execution_count": 3,
   "id": "311715e8-8afc-483f-8b10-0cf075a43c5d",
   "metadata": {
    "jp-MarkdownHeadingCollapsed": true,
    "tags": []
   },
   "outputs": [
    {
     "data": {
      "text/plain": [
       "pandas.core.frame.DataFrame"
      ]
     },
     "execution_count": 3,
     "metadata": {},
     "output_type": "execute_result"
    }
   ],
   "source": [
    "# 주석\n",
    "csData.head(1)\n",
    "\n",
    "type( csData )"
   ]
  },
  {
   "cell_type": "markdown",
   "id": "4e909bb1-a686-4b46-bd01-11ce7a8b76b8",
   "metadata": {
    "tags": []
   },
   "source": [
    "### 2. 데이터 행 조회하기"
   ]
  },
  {
   "cell_type": "code",
   "execution_count": 4,
   "id": "7e63900b-acac-4d16-9a64-31e073b2d3d2",
   "metadata": {
    "jp-MarkdownHeadingCollapsed": true,
    "tags": []
   },
   "outputs": [
    {
     "data": {
      "text/plain": [
       "0    3\n",
       "1    2\n",
       "Name: EMI, dtype: int64"
      ]
     },
     "execution_count": 4,
     "metadata": {},
     "output_type": "execute_result"
    }
   ],
   "source": [
    "## 조회대상이 EMI 2 보다\n",
    "## \n",
    "targetEmi = \"2\"\n",
    "csDataEmi2 = csData.loc[   csData.EMI.astype(str) == targetEmi ]\n",
    "\n",
    "## 조회대상이 EMI 2보다크고 평균구매가격이 3200 이상\n",
    "## \n",
    "targetEmi = 2\n",
    "targetPrice = 3200\n",
    "csDataEmi3 = csData.loc[   (csData.EMI > targetEmi) &\n",
    "                           (csData.AVGPRICE >= targetPrice)    ]\n",
    "\n",
    "## 조회대상이 EMI 2,3,4 조회하고 싶다\n",
    "## \n",
    "targetEmis = [2,3,4]\n",
    "csDataEmi234 = csData.loc[  csData.EMI.isin(targetEmis)  ]\n",
    "\n",
    "# EMI 컬럼 내 중복 제거\n",
    "csDataEmi234.EMI.drop_duplicates()"
   ]
  },
  {
   "cell_type": "markdown",
   "id": "b98cbec5-5d77-47e6-aa21-279308d4d6c1",
   "metadata": {
    "tags": []
   },
   "source": [
    "### 3. 데이터 컬럼 조회하기"
   ]
  },
  {
   "cell_type": "code",
   "execution_count": 5,
   "id": "10a3f911-66d4-47c0-93e1-13d5641c9765",
   "metadata": {
    "jp-MarkdownHeadingCollapsed": true,
    "tags": []
   },
   "outputs": [],
   "source": [
    "csDataIdEmi = csData.loc[ : , [\"CUSTID\",\"EMI\" ]  ]"
   ]
  },
  {
   "cell_type": "markdown",
   "id": "d28ae7a8-96df-4b8a-99ea-82336001a264",
   "metadata": {
    "tags": []
   },
   "source": [
    "### 4. 데이터 조작하기"
   ]
  },
  {
   "cell_type": "code",
   "execution_count": 6,
   "id": "942be31b-dce1-4d62-8192-7288a39370c9",
   "metadata": {
    "jp-MarkdownHeadingCollapsed": true,
    "tags": []
   },
   "outputs": [],
   "source": [
    "import numpy as np\n",
    "\n",
    "csData[\"PRODUCTAGE_NEW\"] = np.where( csData.PRODUCTAGE < 1, 1, csData.PRODUCTAGE)\n",
    "\n",
    "### 1보다 작은애들은 1\n",
    "### 1보다 크거나같고 2보다 작은애들은 2\n",
    "### 이외에는 3\n",
    "\n",
    "import numpy as np\n",
    "\n",
    "csData[\"PRODUCTAGE_NEW\"] = np.where( csData.PRODUCTAGE < 1, 1,\n",
    "                                   np.where( csData.PRODUCTAGE < 2, 2, 3 ) )"
   ]
  },
  {
   "cell_type": "markdown",
   "id": "c3f2b607-e1b9-48b7-9445-87ca43df74ad",
   "metadata": {},
   "source": [
    "### 5. 데이터 정렬하기"
   ]
  },
  {
   "cell_type": "code",
   "execution_count": 7,
   "id": "77230b3d-ad58-49f2-a1e7-95329617b265",
   "metadata": {
    "tags": []
   },
   "outputs": [],
   "source": [
    "sortKey = [\"EMI\",\"AVGPRICE\"]"
   ]
  },
  {
   "cell_type": "code",
   "execution_count": 8,
   "id": "ebb1de37-2295-406e-852a-050f3a183ed3",
   "metadata": {
    "tags": []
   },
   "outputs": [],
   "source": [
    "sortedValue = csData.sort_values(by = sortKey, ascending=[False, True])"
   ]
  },
  {
   "cell_type": "markdown",
   "id": "cdb92dae-2c13-436f-bf9c-94acbba42793",
   "metadata": {},
   "source": [
    "### 6. groupBy 집계함수"
   ]
  },
  {
   "cell_type": "code",
   "execution_count": 9,
   "id": "6dd424c0-3b04-4017-9f91-451e42fc74f3",
   "metadata": {
    "tags": []
   },
   "outputs": [
    {
     "data": {
      "text/html": [
       "<div>\n",
       "<style scoped>\n",
       "    .dataframe tbody tr th:only-of-type {\n",
       "        vertical-align: middle;\n",
       "    }\n",
       "\n",
       "    .dataframe tbody tr th {\n",
       "        vertical-align: top;\n",
       "    }\n",
       "\n",
       "    .dataframe thead th {\n",
       "        text-align: right;\n",
       "    }\n",
       "</style>\n",
       "<table border=\"1\" class=\"dataframe\">\n",
       "  <thead>\n",
       "    <tr style=\"text-align: right;\">\n",
       "      <th></th>\n",
       "      <th>EMI</th>\n",
       "      <th>AVGPRICE</th>\n",
       "    </tr>\n",
       "  </thead>\n",
       "  <tbody>\n",
       "    <tr>\n",
       "      <th>0</th>\n",
       "      <td>1</td>\n",
       "      <td>34309.349910</td>\n",
       "    </tr>\n",
       "    <tr>\n",
       "      <th>1</th>\n",
       "      <td>2</td>\n",
       "      <td>412971.559684</td>\n",
       "    </tr>\n",
       "    <tr>\n",
       "      <th>2</th>\n",
       "      <td>3</td>\n",
       "      <td>67630.256563</td>\n",
       "    </tr>\n",
       "  </tbody>\n",
       "</table>\n",
       "</div>"
      ],
      "text/plain": [
       "   EMI       AVGPRICE\n",
       "0    1   34309.349910\n",
       "1    2  412971.559684\n",
       "2    3   67630.256563"
      ]
     },
     "execution_count": 9,
     "metadata": {},
     "output_type": "execute_result"
    }
   ],
   "source": [
    "groupKey = [\"EMI\"]\n",
    "\n",
    "groupData = sortedValue.groupby(by=groupKey)[[\"AVGPRICE\"]].agg(\"sum\").reset_index()\n",
    "\n",
    "groupData"
   ]
  },
  {
   "cell_type": "markdown",
   "id": "df042265-1e15-495f-bee2-1091858e4551",
   "metadata": {},
   "source": [
    "### 7. 이동집계함수 (Moving Average 포함)"
   ]
  },
  {
   "cell_type": "code",
   "execution_count": 10,
   "id": "c01967c8-a55a-4e91-ace3-065fe138cfc4",
   "metadata": {
    "tags": []
   },
   "outputs": [],
   "source": [
    "sortedValue[\"MA5\"] = sortedValue.AVGPRICE.rolling(window=5, center=True, min_periods=1).mean()"
   ]
  },
  {
   "cell_type": "code",
   "execution_count": 11,
   "id": "f1848d1d-6e1f-4a85-9a63-57c88df01056",
   "metadata": {
    "tags": []
   },
   "outputs": [
    {
     "data": {
      "text/html": [
       "<div>\n",
       "<style scoped>\n",
       "    .dataframe tbody tr th:only-of-type {\n",
       "        vertical-align: middle;\n",
       "    }\n",
       "\n",
       "    .dataframe tbody tr th {\n",
       "        vertical-align: top;\n",
       "    }\n",
       "\n",
       "    .dataframe thead tr th {\n",
       "        text-align: left;\n",
       "    }\n",
       "\n",
       "    .dataframe thead tr:last-of-type th {\n",
       "        text-align: right;\n",
       "    }\n",
       "</style>\n",
       "<table border=\"1\" class=\"dataframe\">\n",
       "  <thead>\n",
       "    <tr>\n",
       "      <th></th>\n",
       "      <th colspan=\"8\" halign=\"left\">AVGPRICE</th>\n",
       "    </tr>\n",
       "    <tr>\n",
       "      <th></th>\n",
       "      <th>count</th>\n",
       "      <th>mean</th>\n",
       "      <th>std</th>\n",
       "      <th>min</th>\n",
       "      <th>25%</th>\n",
       "      <th>50%</th>\n",
       "      <th>75%</th>\n",
       "      <th>max</th>\n",
       "    </tr>\n",
       "    <tr>\n",
       "      <th>EMI</th>\n",
       "      <th></th>\n",
       "      <th></th>\n",
       "      <th></th>\n",
       "      <th></th>\n",
       "      <th></th>\n",
       "      <th></th>\n",
       "      <th></th>\n",
       "      <th></th>\n",
       "    </tr>\n",
       "  </thead>\n",
       "  <tbody>\n",
       "    <tr>\n",
       "      <th>1</th>\n",
       "      <td>11.0</td>\n",
       "      <td>3119.031810</td>\n",
       "      <td>301.047916</td>\n",
       "      <td>2390.083736</td>\n",
       "      <td>2978.220215</td>\n",
       "      <td>3159.839204</td>\n",
       "      <td>3363.814315</td>\n",
       "      <td>3419.462596</td>\n",
       "    </tr>\n",
       "    <tr>\n",
       "      <th>2</th>\n",
       "      <td>120.0</td>\n",
       "      <td>3441.429664</td>\n",
       "      <td>349.691674</td>\n",
       "      <td>2411.008838</td>\n",
       "      <td>3231.429242</td>\n",
       "      <td>3418.480121</td>\n",
       "      <td>3656.799297</td>\n",
       "      <td>4166.533130</td>\n",
       "    </tr>\n",
       "    <tr>\n",
       "      <th>3</th>\n",
       "      <td>19.0</td>\n",
       "      <td>3559.487188</td>\n",
       "      <td>454.411870</td>\n",
       "      <td>2811.265932</td>\n",
       "      <td>3219.363531</td>\n",
       "      <td>3592.353540</td>\n",
       "      <td>3867.447366</td>\n",
       "      <td>4296.873743</td>\n",
       "    </tr>\n",
       "  </tbody>\n",
       "</table>\n",
       "</div>"
      ],
      "text/plain": [
       "    AVGPRICE                                                                  \\\n",
       "       count         mean         std          min          25%          50%   \n",
       "EMI                                                                            \n",
       "1       11.0  3119.031810  301.047916  2390.083736  2978.220215  3159.839204   \n",
       "2      120.0  3441.429664  349.691674  2411.008838  3231.429242  3418.480121   \n",
       "3       19.0  3559.487188  454.411870  2811.265932  3219.363531  3592.353540   \n",
       "\n",
       "                               \n",
       "             75%          max  \n",
       "EMI                            \n",
       "1    3363.814315  3419.462596  \n",
       "2    3656.799297  4166.533130  \n",
       "3    3867.447366  4296.873743  "
      ]
     },
     "execution_count": 11,
     "metadata": {},
     "output_type": "execute_result"
    }
   ],
   "source": [
    "sortedValue.groupby(by=groupKey)[[\"AVGPRICE\"]].describe()"
   ]
  },
  {
   "cell_type": "markdown",
   "id": "ce23c9e6-3d79-4afd-a5dc-0ed3d6d22308",
   "metadata": {},
   "source": [
    "### 8. 데이터 병합 (속성추가)"
   ]
  },
  {
   "cell_type": "code",
   "execution_count": 12,
   "id": "de36841a-f4b9-4a1f-ac29-01aa2c6c6600",
   "metadata": {
    "tags": []
   },
   "outputs": [],
   "source": [
    "selloutUrl = \"https://raw.githubusercontent.com/hyokwan/python-lecture/master/dataset/join_kopo_product_volume.csv\"\n",
    "\n",
    "masterUrl = \"https://raw.githubusercontent.com/hyokwan/python-lecture/master/dataset/join_region_master.csv\"\n",
    "\n",
    "joinSellout = pd.read_csv(selloutUrl)\n",
    "joinMaster = pd.read_csv(masterUrl, encoding=\"ms949\")\n",
    "\n",
    "joinMaster2 = joinMaster.loc[joinMaster.REGIONNAME==\"한국\"]\n",
    "\n",
    "mergedData = pd.merge(left=joinSellout, right=joinMaster2, on=[\"REGIONID\"], how=\"left\")"
   ]
  },
  {
   "cell_type": "markdown",
   "id": "0c809abc-82e4-4bd4-8598-b968dd548f4b",
   "metadata": {},
   "source": [
    "### 9. 데이터 병합 (위아래 병합)"
   ]
  },
  {
   "cell_type": "code",
   "execution_count": 13,
   "id": "bf138ff7-2167-4151-84fa-80a658011e55",
   "metadata": {
    "tags": []
   },
   "outputs": [],
   "source": [
    "joinMasterKorea = joinMaster.loc[joinMaster.REGIONNAME==\"한국\"]\n",
    "joinMasterAmerica = joinMaster.loc[joinMaster.REGIONNAME==\"미국\"]"
   ]
  },
  {
   "cell_type": "code",
   "execution_count": 14,
   "id": "386486dd-7378-4f39-8611-868def8daffc",
   "metadata": {
    "tags": []
   },
   "outputs": [],
   "source": [
    "mergedData = pd.concat( [joinMasterKorea, joinMasterAmerica], axis=0)"
   ]
  },
  {
   "cell_type": "code",
   "execution_count": 17,
   "id": "18232991-971c-4af0-bcee-17b69d3fcbc4",
   "metadata": {
    "tags": []
   },
   "outputs": [
    {
     "data": {
      "text/html": [
       "<div>\n",
       "<style scoped>\n",
       "    .dataframe tbody tr th:only-of-type {\n",
       "        vertical-align: middle;\n",
       "    }\n",
       "\n",
       "    .dataframe tbody tr th {\n",
       "        vertical-align: top;\n",
       "    }\n",
       "\n",
       "    .dataframe thead th {\n",
       "        text-align: right;\n",
       "    }\n",
       "</style>\n",
       "<table border=\"1\" class=\"dataframe\">\n",
       "  <thead>\n",
       "    <tr style=\"text-align: right;\">\n",
       "      <th></th>\n",
       "      <th>REGIONID</th>\n",
       "      <th>REGIONNAME</th>\n",
       "    </tr>\n",
       "  </thead>\n",
       "  <tbody>\n",
       "    <tr>\n",
       "      <th>0</th>\n",
       "      <td>A01</td>\n",
       "      <td>한국</td>\n",
       "    </tr>\n",
       "    <tr>\n",
       "      <th>1</th>\n",
       "      <td>A02</td>\n",
       "      <td>미국</td>\n",
       "    </tr>\n",
       "  </tbody>\n",
       "</table>\n",
       "</div>"
      ],
      "text/plain": [
       "  REGIONID REGIONNAME\n",
       "0      A01         한국\n",
       "1      A02         미국"
      ]
     },
     "execution_count": 17,
     "metadata": {},
     "output_type": "execute_result"
    }
   ],
   "source": [
    "mergedData"
   ]
  },
  {
   "cell_type": "markdown",
   "id": "0fbc5f7a-00ad-4c0d-83dc-754f4c4af2a2",
   "metadata": {},
   "source": [
    "### 5. 컬럼간 데이터 연산하기\n",
    "\n",
    "csData[\"NEW_COL1\"] = csData.EMI * csData.DEVICECOUNT\n",
    "\n",
    "csData[\"NEW_COL2\"] = csData.CUSTID.str[1:]+\"_\"+csData.EMI.astype(str)"
   ]
  },
  {
   "cell_type": "markdown",
   "id": "92895e70-a191-4831-919a-62fdf4ac6485",
   "metadata": {},
   "source": [
    "### 6. 데이터 정렬하기"
   ]
  },
  {
   "cell_type": "code",
   "execution_count": 16,
   "id": "09591d50-43c8-481b-abeb-1122250f7bf9",
   "metadata": {},
   "outputs": [
    {
     "ename": "SyntaxError",
     "evalue": "incomplete input (1943795267.py, line 1)",
     "output_type": "error",
     "traceback": [
      "\u001b[1;36m  Cell \u001b[1;32mIn[16], line 1\u001b[1;36m\u001b[0m\n\u001b[1;33m    csData.sort_values(\u001b[0m\n\u001b[1;37m                       ^\u001b[0m\n\u001b[1;31mSyntaxError\u001b[0m\u001b[1;31m:\u001b[0m incomplete input\n"
     ]
    }
   ],
   "source": [
    "csData.sort_values("
   ]
  },
  {
   "cell_type": "code",
   "execution_count": null,
   "id": "45083e3e-a9cf-4d4e-9e5a-bb78849fc55f",
   "metadata": {},
   "outputs": [],
   "source": []
  },
  {
   "cell_type": "code",
   "execution_count": null,
   "id": "7bff62aa-fbe1-460e-827f-ebe6e78f7fc0",
   "metadata": {},
   "outputs": [],
   "source": []
  },
  {
   "cell_type": "code",
   "execution_count": null,
   "id": "dedb6bca-5f3b-49ef-abe6-f69085e258cb",
   "metadata": {},
   "outputs": [],
   "source": []
  },
  {
   "cell_type": "code",
   "execution_count": null,
   "id": "82388c3e-1f83-4edb-91c3-2bed094411c9",
   "metadata": {},
   "outputs": [],
   "source": []
  },
  {
   "cell_type": "code",
   "execution_count": null,
   "id": "defc8d61-eeec-418f-ab21-15e1fed8d4b0",
   "metadata": {},
   "outputs": [],
   "source": []
  },
  {
   "cell_type": "code",
   "execution_count": null,
   "id": "2c661dd7-59c0-4cef-933e-5e2620076dc8",
   "metadata": {},
   "outputs": [],
   "source": []
  },
  {
   "cell_type": "code",
   "execution_count": null,
   "id": "5831c334-faac-4459-8453-2227a66cf05f",
   "metadata": {},
   "outputs": [],
   "source": []
  },
  {
   "cell_type": "code",
   "execution_count": null,
   "id": "ed5d68da-e1e4-485f-a9dc-17c9122440d1",
   "metadata": {
    "tags": []
   },
   "outputs": [],
   "source": [
    "preFix = \"LED\""
   ]
  },
  {
   "cell_type": "code",
   "execution_count": null,
   "id": "34a8d3b1-634b-44cb-a558-1168a2f21f95",
   "metadata": {
    "tags": []
   },
   "outputs": [],
   "source": [
    "modelCode = \"_UN52001\""
   ]
  },
  {
   "cell_type": "code",
   "execution_count": null,
   "id": "68cd9bd3-2eb8-4c34-bbb5-0d3275ef7f29",
   "metadata": {
    "tags": []
   },
   "outputs": [],
   "source": [
    "preFix[1:]"
   ]
  },
  {
   "cell_type": "code",
   "execution_count": null,
   "id": "82c2695b-f613-49f9-b0cb-8e3dd11438f1",
   "metadata": {
    "tags": []
   },
   "outputs": [],
   "source": [
    "preFix+modelCode"
   ]
  },
  {
   "cell_type": "code",
   "execution_count": null,
   "id": "d14945cb-fe0c-4230-8695-e715eae632a9",
   "metadata": {
    "tags": []
   },
   "outputs": [],
   "source": [
    "# 함수: input Age값을 받아 age 조작...\n",
    "def myCsAgeFunc(inAge):\n",
    "    # inAge = 3\n",
    "    outAge = 0\n",
    "    if inAge < 1:\n",
    "        outAge = 1\n",
    "    elif inAge < 2:\n",
    "        outAge = 2\n",
    "    else:\n",
    "        outAge = 3\n",
    "    return outAge"
   ]
  },
  {
   "cell_type": "code",
   "execution_count": null,
   "id": "cb4f5b12-506e-4017-a1a6-2bdb7b2e54fd",
   "metadata": {
    "tags": []
   },
   "outputs": [],
   "source": [
    "csData[\"PRODUCTAGE_NEW2\"] = csData.PRODUCTAGE.apply(myCsAgeFunc)"
   ]
  },
  {
   "cell_type": "code",
   "execution_count": null,
   "id": "68083f94-c201-4e18-99e6-ab1bcf94e1ae",
   "metadata": {},
   "outputs": [],
   "source": []
  }
 ],
 "metadata": {
  "kernelspec": {
   "display_name": "Python 3 (ipykernel)",
   "language": "python",
   "name": "python3"
  },
  "language_info": {
   "codemirror_mode": {
    "name": "ipython",
    "version": 3
   },
   "file_extension": ".py",
   "mimetype": "text/x-python",
   "name": "python",
   "nbconvert_exporter": "python",
   "pygments_lexer": "ipython3",
   "version": "3.11.4"
  }
 },
 "nbformat": 4,
 "nbformat_minor": 5
}
