{
 "cells": [
  {
   "cell_type": "markdown",
   "id": "adf9b4f9-f89e-41fa-951a-f13e6c87d100",
   "metadata": {},
   "source": [
    "### API 테스트 for 다중 requests"
   ]
  },
  {
   "cell_type": "code",
   "execution_count": 13,
   "id": "aee95ec3-5770-43b0-8c47-074af1953d2b",
   "metadata": {},
   "outputs": [],
   "source": [
    "import requests\n",
    "import json\n",
    "from concurrent.futures import ThreadPoolExecutor"
   ]
  },
  {
   "cell_type": "code",
   "execution_count": 14,
   "id": "d08fcdd2-f580-4635-beb6-9d1491c5b790",
   "metadata": {},
   "outputs": [],
   "source": [
    "def apiRequest(inUrl, inTestCnt, inData):\n",
    "    # headers\n",
    "    headers = {\n",
    "        \"Content-Type\": \"application/json\"\n",
    "    }\n",
    "    \n",
    "    reqData = json.dumps(inData)\n",
    "    \n",
    "    def postUrl(args):\n",
    "        return requests.post(args[0] , headers=headers, data=args[1])\n",
    "\n",
    "    listOfUrls = [ (inUrl, reqData)]* inTestCnt\n",
    "\n",
    "    with ThreadPoolExecutor(max_workers=10) as pool:\n",
    "        responseList = list( pool.map( postUrl, listOfUrls) )\n",
    "\n",
    "    for response in responseList:\n",
    "        predictedValue = eval(response.text)[\"result\"]\n",
    "        print(\"response: \", response)\n",
    "        print(\"입력값: {} \".format(testData))\n",
    "        print(\"예측값: {}\".format(predictedValue))"
   ]
  },
  {
   "cell_type": "code",
   "execution_count": 15,
   "id": "5f7c2e1a-d95d-4731-9b46-f8b20fe6fbde",
   "metadata": {},
   "outputs": [],
   "source": [
    "testUrl = \"http://127.0.0.1:2000/predictSlaveGAll\"\n",
    "testCnt = 20"
   ]
  },
  {
   "cell_type": "code",
   "execution_count": 16,
   "id": "8e830792-691c-4aba-bd17-0ffda99595b0",
   "metadata": {},
   "outputs": [],
   "source": [
    "testData = {\n",
    "    \"g_cnt\":\"8\",\n",
    "    \"g_gap\": \"2750\"\n",
    "}"
   ]
  },
  {
   "cell_type": "markdown",
   "id": "9b05c25d-d463-4973-817b-4016e6d66335",
   "metadata": {},
   "source": [
    "### 프로그램 실행"
   ]
  },
  {
   "cell_type": "code",
   "execution_count": 17,
   "id": "bac3d6f5-9509-4220-ac75-ced1a4e096c8",
   "metadata": {},
   "outputs": [
    {
     "name": "stdout",
     "output_type": "stream",
     "text": [
      "response:  <Response [200]>\n",
      "입력값: {'g_cnt': '8', 'g_gap': '2750'} \n",
      "예측값: 242\n",
      "response:  <Response [200]>\n",
      "입력값: {'g_cnt': '8', 'g_gap': '2750'} \n",
      "예측값: 242\n",
      "response:  <Response [200]>\n",
      "입력값: {'g_cnt': '8', 'g_gap': '2750'} \n",
      "예측값: 242\n",
      "response:  <Response [200]>\n",
      "입력값: {'g_cnt': '8', 'g_gap': '2750'} \n",
      "예측값: 242\n",
      "response:  <Response [200]>\n",
      "입력값: {'g_cnt': '8', 'g_gap': '2750'} \n",
      "예측값: 242\n",
      "response:  <Response [200]>\n",
      "입력값: {'g_cnt': '8', 'g_gap': '2750'} \n",
      "예측값: 242\n",
      "response:  <Response [200]>\n",
      "입력값: {'g_cnt': '8', 'g_gap': '2750'} \n",
      "예측값: 242\n",
      "response:  <Response [200]>\n",
      "입력값: {'g_cnt': '8', 'g_gap': '2750'} \n",
      "예측값: 242\n",
      "response:  <Response [200]>\n",
      "입력값: {'g_cnt': '8', 'g_gap': '2750'} \n",
      "예측값: 242\n",
      "response:  <Response [200]>\n",
      "입력값: {'g_cnt': '8', 'g_gap': '2750'} \n",
      "예측값: 242\n",
      "response:  <Response [200]>\n",
      "입력값: {'g_cnt': '8', 'g_gap': '2750'} \n",
      "예측값: 242\n",
      "response:  <Response [200]>\n",
      "입력값: {'g_cnt': '8', 'g_gap': '2750'} \n",
      "예측값: 242\n",
      "response:  <Response [200]>\n",
      "입력값: {'g_cnt': '8', 'g_gap': '2750'} \n",
      "예측값: 242\n",
      "response:  <Response [200]>\n",
      "입력값: {'g_cnt': '8', 'g_gap': '2750'} \n",
      "예측값: 242\n",
      "response:  <Response [200]>\n",
      "입력값: {'g_cnt': '8', 'g_gap': '2750'} \n",
      "예측값: 242\n",
      "response:  <Response [200]>\n",
      "입력값: {'g_cnt': '8', 'g_gap': '2750'} \n",
      "예측값: 242\n",
      "response:  <Response [200]>\n",
      "입력값: {'g_cnt': '8', 'g_gap': '2750'} \n",
      "예측값: 242\n",
      "response:  <Response [200]>\n",
      "입력값: {'g_cnt': '8', 'g_gap': '2750'} \n",
      "예측값: 242\n",
      "response:  <Response [200]>\n",
      "입력값: {'g_cnt': '8', 'g_gap': '2750'} \n",
      "예측값: 242\n",
      "response:  <Response [200]>\n",
      "입력값: {'g_cnt': '8', 'g_gap': '2750'} \n",
      "예측값: 242\n"
     ]
    }
   ],
   "source": [
    "# testUrl : api 서비스 정보\n",
    "# testCnt : 호출 개수\n",
    "# testData: 예측을 위한 데이터\n",
    "apiRequest(testUrl,testCnt,testData)"
   ]
  }
 ],
 "metadata": {
  "kernelspec": {
   "display_name": "Python 3 (ipykernel)",
   "language": "python",
   "name": "python3"
  },
  "language_info": {
   "codemirror_mode": {
    "name": "ipython",
    "version": 3
   },
   "file_extension": ".py",
   "mimetype": "text/x-python",
   "name": "python",
   "nbconvert_exporter": "python",
   "pygments_lexer": "ipython3",
   "version": "3.10.9"
  }
 },
 "nbformat": 4,
 "nbformat_minor": 5
}
