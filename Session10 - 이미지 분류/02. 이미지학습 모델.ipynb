{
 "cells": [
  {
   "cell_type": "markdown",
   "metadata": {},
   "source": [
    "### 1. 라이브러리 불러오기"
   ]
  },
  {
   "cell_type": "markdown",
   "metadata": {},
   "source": [
    "일반 CPU 활용 시"
   ]
  },
  {
   "cell_type": "code",
   "execution_count": 1,
   "metadata": {
    "scrolled": true
   },
   "outputs": [],
   "source": [
    "# # 라이브러리 정의 \n",
    "# from tensorflow import keras\n",
    "# from tensorflow.keras import layers\n",
    "# import numpy as np\n",
    "# import pandas as pd"
   ]
  },
  {
   "cell_type": "markdown",
   "metadata": {},
   "source": [
    "cuda nvidia gpu 활용 시"
   ]
  },
  {
   "cell_type": "code",
   "execution_count": 2,
   "metadata": {
    "scrolled": true
   },
   "outputs": [
    {
     "name": "stdout",
     "output_type": "stream",
     "text": [
      "[name: \"/device:CPU:0\"\n",
      "device_type: \"CPU\"\n",
      "memory_limit: 268435456\n",
      "locality {\n",
      "}\n",
      "incarnation: 17356062869723367827\n",
      ", name: \"/device:GPU:0\"\n",
      "device_type: \"GPU\"\n",
      "memory_limit: 1417992603\n",
      "locality {\n",
      "  bus_id: 1\n",
      "  links {\n",
      "  }\n",
      "}\n",
      "incarnation: 1617145002200713322\n",
      "physical_device_desc: \"device: 0, name: NVIDIA GeForce GTX 950M, pci bus id: 0000:01:00.0, compute capability: 5.0\"\n",
      "]\n"
     ]
    }
   ],
   "source": [
    "# How to check if the code is running on GPU or CPU?\n",
    "\n",
    "from tensorflow.python.client import device_lib\n",
    "\n",
    "print(device_lib.list_local_devices())\n",
    "\n",
    "import os\n",
    "os.environ[\"CUDA_VISIBLE_DEVICES\"]=\"1\""
   ]
  },
  {
   "cell_type": "markdown",
   "metadata": {},
   "source": [
    "intel gpu 활용 시"
   ]
  },
  {
   "cell_type": "code",
   "execution_count": 3,
   "metadata": {
    "scrolled": true
   },
   "outputs": [],
   "source": [
    "# import numpy as np\n",
    "# import os\n",
    "\n",
    "# # intel gpu 적용\n",
    "# os.environ[\"KERAS_BACKEND\"] = \"plaidml.keras.backend\"\n",
    "# import keras\n",
    "# # mnist 데이터셋 \n",
    "# from keras.datasets import mnist\n"
   ]
  },
  {
   "cell_type": "code",
   "execution_count": 4,
   "metadata": {},
   "outputs": [],
   "source": [
    "import warnings\n",
    "warnings.filterwarnings(action=\"ignore\")"
   ]
  },
  {
   "cell_type": "code",
   "execution_count": 5,
   "metadata": {},
   "outputs": [],
   "source": [
    "import pandas as pd\n",
    "import numpy as np\n",
    "import cv2\n",
    "import os\n",
    "from datetime import datetime\n",
    "\n",
    "# from tensorflow import keras\n",
    "from tensorflow import keras\n",
    "# One-Hot Encoding, Model Plot\n",
    "from tensorflow.keras.utils import to_categorical, plot_model\n",
    "# Add Model\n",
    "from tensorflow.keras import Sequential\n",
    "# Add Model Layers\n",
    "from tensorflow.keras.layers import Dense, Flatten, Conv2D, MaxPool2D, Dropout\n",
    "# Model Callback\n",
    "from tensorflow.keras.callbacks import EarlyStopping, ModelCheckpoint, TensorBoard\n",
    "\n",
    "# Split Data to Train-Test\n",
    "from sklearn.model_selection import train_test_split\n",
    "\n",
    "import matplotlib.pyplot as plt\n",
    "%matplotlib inline"
   ]
  },
  {
   "cell_type": "markdown",
   "metadata": {},
   "source": [
    "### 2. 데이터 불러오기 및 분리"
   ]
  },
  {
   "cell_type": "code",
   "execution_count": 6,
   "metadata": {},
   "outputs": [
    {
     "data": {
      "text/plain": [
       "'C:\\\\Users\\\\kopo\\\\seccode_교수용\\\\Session08 - 이미지분류'"
      ]
     },
     "execution_count": 6,
     "metadata": {},
     "output_type": "execute_result"
    }
   ],
   "source": [
    "pwd"
   ]
  },
  {
   "cell_type": "code",
   "execution_count": 7,
   "metadata": {},
   "outputs": [],
   "source": [
    "basedir = \"../images/classImages/\"\n",
    "\n",
    "imageList = []\n",
    "labelList = []\n",
    "\n",
    "IMG_SIZE = 48"
   ]
  },
  {
   "cell_type": "code",
   "execution_count": 8,
   "metadata": {},
   "outputs": [
    {
     "name": "stdout",
     "output_type": "stream",
     "text": [
      "['sm5', '그랜저']\n"
     ]
    }
   ],
   "source": [
    "categories = os.listdir(basedir)\n",
    "print(categories)"
   ]
  },
  {
   "cell_type": "code",
   "execution_count": 9,
   "metadata": {},
   "outputs": [],
   "source": [
    "# i=0\n",
    "\n",
    "# labelPath = os.path.join(basedir, categories[i])\n",
    "# labelPath\n",
    "\n",
    "# imagePath = os.listdir(labelPath)\n",
    "\n",
    "# j=0\n",
    "\n",
    "# imageFullPath = os.path.join(labelPath, imagePath[j])\n",
    "\n",
    "# imageFullPath\n",
    "\n",
    "# imgArray = np.fromfile(imageFullPath, np.uint8)\n",
    "# img=cv2.imdecode(imgArray, cv2.IMREAD_COLOR)\n",
    "\n",
    "# import matplotlib.pyplot as plt\n",
    "\n",
    "# plt.imshow(img)"
   ]
  },
  {
   "cell_type": "code",
   "execution_count": 10,
   "metadata": {},
   "outputs": [],
   "source": [
    "# 분류 폴더 순환\n",
    "for i in range(len(categories)):\n",
    "    labelPath = os.path.join(basedir, categories[i])\n",
    "    labelPath\n",
    "\n",
    "    imagePath = os.listdir(labelPath)\n",
    "    # 폴더별 이미지 순환\n",
    "    for j in range(len(imagePath)):\n",
    "        imageFullPath = os.path.join(labelPath, imagePath[j])\n",
    "        try:\n",
    "            imgArray = np.fromfile(imageFullPath, np.uint8)\n",
    "            _img=cv2.imdecode(imgArray, cv2.IMREAD_GRAYSCALE)\n",
    "            # _img = cv2.imread(imageFullPath, cv2.IMREAD_GRAYSCALE)\n",
    "\n",
    "            #### 2-1. 이미지 사이즈 변경\n",
    "            resizedImg = cv2.resize(_img, (IMG_SIZE, IMG_SIZE))\n",
    "            \n",
    "            imageList.append(resizedImg)\n",
    "            labelList.append(i)\n",
    "        except Exception as e:\n",
    "            print(e, imageFullPath)\n",
    "            pass"
   ]
  },
  {
   "cell_type": "code",
   "execution_count": 11,
   "metadata": {},
   "outputs": [
    {
     "data": {
      "text/plain": [
       "0"
      ]
     },
     "execution_count": 11,
     "metadata": {},
     "output_type": "execute_result"
    }
   ],
   "source": [
    "labelList[1]"
   ]
  },
  {
   "cell_type": "code",
   "execution_count": 12,
   "metadata": {},
   "outputs": [
    {
     "data": {
      "text/plain": [
       "<matplotlib.image.AxesImage at 0x174bcc333d0>"
      ]
     },
     "execution_count": 12,
     "metadata": {},
     "output_type": "execute_result"
    },
    {
     "data": {
      "image/png": "[encoded data removed]",
      "text/plain": [
       "<Figure size 432x288 with 1 Axes>"
      ]
     },
     "metadata": {
      "needs_background": "light"
     },
     "output_type": "display_data"
    }
   ],
   "source": [
    "plt.imshow(imageList[2])"
   ]
  },
  {
   "cell_type": "code",
   "execution_count": 13,
   "metadata": {},
   "outputs": [],
   "source": [
    "# # 분류 폴더 순환\n",
    "# for i in range(len(categories)):\n",
    "#     labelPath = os.path.join(basedir, categories[i])\n",
    "#     labelPath\n",
    "\n",
    "#     imagePath = os.listdir(labelPath)\n",
    "#     # 폴더별 이미지 순환\n",
    "#     for j in range(len(imagePath)):\n",
    "#         imageFullPath = os.path.join(labelPath, imagePath[j])\n",
    "#         try:\n",
    "#             _img = cv2.imread(imageFullPath, cv2.IMREAD_GRAYSCALE)\n",
    "\n",
    "#             #### 2-1. 이미지 사이즈 변경\n",
    "#             resizedImg = cv2.resize(_img, (IMG_SIZE, IMG_SIZE))\n",
    "            \n",
    "#             imageList.append(resizedImg)\n",
    "#             labelList.append(i)\n",
    "#         except Exception as e:\n",
    "#             print(e, imageFullPath)\n",
    "#             pass"
   ]
  },
  {
   "cell_type": "code",
   "execution_count": 14,
   "metadata": {},
   "outputs": [
    {
     "name": "stdout",
     "output_type": "stream",
     "text": [
      "(1169, 48, 48) (1169,)\n"
     ]
    }
   ],
   "source": [
    "# 데이터 전치리를 편리하게 하기 위해 형변환 List > Array\n",
    "imageArray = np.array(imageList)\n",
    "labelArray = np.array(labelList)\n",
    "\n",
    "print (imageArray.shape, labelArray.shape)"
   ]
  },
  {
   "cell_type": "code",
   "execution_count": 15,
   "metadata": {},
   "outputs": [
    {
     "name": "stdout",
     "output_type": "stream",
     "text": [
      "(935, 48, 48) (234, 48, 48)\n",
      "(935,) (234,)\n"
     ]
    }
   ],
   "source": [
    "# trainData와 testData로 분리\n",
    "trainData_features,\\\n",
    "testData_features,\\\n",
    "trainData_labels,\\\n",
    "testData_labels = \\\n",
    "    train_test_split(imageArray, labelArray, test_size=0.2, random_state=2)\n",
    "\n",
    "print(trainData_features.shape, testData_features.shape)\n",
    "print(trainData_labels.shape, testData_labels.shape)"
   ]
  },
  {
   "cell_type": "code",
   "execution_count": 16,
   "metadata": {},
   "outputs": [
    {
     "name": "stdout",
     "output_type": "stream",
     "text": [
      "(935, 48, 48, 1) (234, 48, 48, 1)\n"
     ]
    }
   ],
   "source": [
    "# CNN 사용을 위해 features 구조 변경\n",
    "trainData_features = \\\n",
    "    trainData_features.reshape(len(trainData_features), IMG_SIZE, IMG_SIZE, 1)\n",
    "testData_features = \\\n",
    "    testData_features.reshape(len(testData_features), IMG_SIZE, IMG_SIZE, 1)\n",
    "\n",
    "print(trainData_features.shape, testData_features.shape)"
   ]
  },
  {
   "cell_type": "code",
   "execution_count": 17,
   "metadata": {},
   "outputs": [
    {
     "name": "stdout",
     "output_type": "stream",
     "text": [
      "(935, 48, 48, 1) (234, 48, 48, 1)\n"
     ]
    }
   ],
   "source": [
    "# feature 정규화\n",
    "trainData_features_norm = trainData_features/255.0\n",
    "testData_features_norm = testData_features/255.0\n",
    "\n",
    "print(trainData_features_norm.shape, testData_features_norm.shape)"
   ]
  },
  {
   "cell_type": "code",
   "execution_count": 18,
   "metadata": {},
   "outputs": [
    {
     "name": "stdout",
     "output_type": "stream",
     "text": [
      "(935, 2) (234, 2)\n"
     ]
    }
   ],
   "source": [
    "# softmax와 결합을 위한 label one-hot encoding\n",
    "trainData_labels_one = to_categorical(trainData_labels)\n",
    "testData_labels_one = to_categorical(testData_labels)\n",
    "\n",
    "print(trainData_labels_one.shape, testData_labels_one.shape)"
   ]
  },
  {
   "cell_type": "markdown",
   "metadata": {},
   "source": [
    "### 3. 모델 생성"
   ]
  },
  {
   "cell_type": "code",
   "execution_count": 19,
   "metadata": {},
   "outputs": [
    {
     "data": {
      "text/plain": [
       "(48, 48, 1)"
      ]
     },
     "execution_count": 19,
     "metadata": {},
     "output_type": "execute_result"
    }
   ],
   "source": [
    "inputShape = trainData_features[0].shape\n",
    "inputShape"
   ]
  },
  {
   "cell_type": "code",
   "execution_count": 20,
   "metadata": {},
   "outputs": [
    {
     "data": {
      "text/plain": [
       "2"
      ]
     },
     "execution_count": 20,
     "metadata": {},
     "output_type": "execute_result"
    }
   ],
   "source": [
    "outputShape = len(categories)\n",
    "outputShape"
   ]
  },
  {
   "cell_type": "code",
   "execution_count": 21,
   "metadata": {},
   "outputs": [],
   "source": [
    "# 모델 초기화\n",
    "model = Sequential()"
   ]
  },
  {
   "cell_type": "code",
   "execution_count": 22,
   "metadata": {},
   "outputs": [],
   "source": [
    "# 모델 정의\n",
    "model.add(Conv2D(filters=64,\n",
    "                 kernel_size=3,\n",
    "                 padding=\"same\",\n",
    "                 activation=\"relu\",\n",
    "                 input_shape=inputShape)) # 초기 레이어 선언\n",
    "\n",
    "model.add(MaxPool2D(pool_size=2))\n",
    "\n",
    "model.add(Dropout(0.4)) # 사용할 비율 명시\n",
    "\n",
    "model.add(Conv2D(filters=64,\n",
    "                 kernel_size=3,\n",
    "                 padding=\"same\",\n",
    "                 activation=\"relu\"))\n",
    "\n",
    "model.add(MaxPool2D(pool_size=2))\n",
    "\n",
    "model.add(Flatten())\n",
    "\n",
    "model.add(Dense(units=outputShape,\n",
    "                activation=\"softmax\"))"
   ]
  },
  {
   "cell_type": "code",
   "execution_count": 23,
   "metadata": {},
   "outputs": [
    {
     "name": "stdout",
     "output_type": "stream",
     "text": [
      "Model: \"sequential\"\n",
      "_________________________________________________________________\n",
      "Layer (type)                 Output Shape              Param #   \n",
      "=================================================================\n",
      "conv2d (Conv2D)              (None, 48, 48, 64)        640       \n",
      "_________________________________________________________________\n",
      "max_pooling2d (MaxPooling2D) (None, 24, 24, 64)        0         \n",
      "_________________________________________________________________\n",
      "dropout (Dropout)            (None, 24, 24, 64)        0         \n",
      "_________________________________________________________________\n",
      "conv2d_1 (Conv2D)            (None, 24, 24, 64)        36928     \n",
      "_________________________________________________________________\n",
      "max_pooling2d_1 (MaxPooling2 (None, 12, 12, 64)        0         \n",
      "_________________________________________________________________\n",
      "flatten (Flatten)            (None, 9216)              0         \n",
      "_________________________________________________________________\n",
      "dense (Dense)                (None, 2)                 18434     \n",
      "=================================================================\n",
      "Total params: 56,002\n",
      "Trainable params: 56,002\n",
      "Non-trainable params: 0\n",
      "_________________________________________________________________\n"
     ]
    }
   ],
   "source": [
    "# 모델 Summary\n",
    "model.summary()"
   ]
  },
  {
   "cell_type": "code",
   "execution_count": 24,
   "metadata": {},
   "outputs": [
    {
     "data": {
      "image/png": "[encoded data removed]",
      "text/plain": [
       "<IPython.core.display.Image object>"
      ]
     },
     "execution_count": 24,
     "metadata": {},
     "output_type": "execute_result"
    }
   ],
   "source": [
    "plot_model(model, show_shapes=True)"
   ]
  },
  {
   "cell_type": "markdown",
   "metadata": {},
   "source": [
    "### 4. 모델 컴파일"
   ]
  },
  {
   "cell_type": "code",
   "execution_count": 25,
   "metadata": {},
   "outputs": [],
   "source": [
    "model.compile(loss=\"categorical_crossentropy\",\n",
    "              optimizer=\"adam\",\n",
    "              metrics=[\"accuracy\"])"
   ]
  },
  {
   "cell_type": "markdown",
   "metadata": {},
   "source": [
    "### 5. 모델 학습(훈련) "
   ]
  },
  {
   "cell_type": "code",
   "execution_count": 26,
   "metadata": {},
   "outputs": [],
   "source": [
    "epochNo = 10"
   ]
  },
  {
   "cell_type": "code",
   "execution_count": 27,
   "metadata": {},
   "outputs": [],
   "source": [
    "now = datetime.now()\n",
    "logdt = now.strftime(\"%Y%m%d_%H%M%S\")\n",
    "logdate = os.path.join(\"log_star\",logdt)"
   ]
  },
  {
   "cell_type": "code",
   "execution_count": 28,
   "metadata": {},
   "outputs": [],
   "source": [
    "callback_list = [\n",
    "    EarlyStopping(monitor=\"val_loss\",patience=10),\n",
    "    ModelCheckpoint(filepath=\"./star_weight.h5\",monitor=\"val_loss\",save_best_only=True, verbose=1),\n",
    "    TensorBoard(log_dir=logdate, write_graph=True, write_images=True)\n",
    "]"
   ]
  },
  {
   "cell_type": "code",
   "execution_count": 29,
   "metadata": {},
   "outputs": [
    {
     "name": "stdout",
     "output_type": "stream",
     "text": [
      "Epoch 1/10\n",
      "30/30 [==============================] - 9s 40ms/step - loss: 0.6861 - accuracy: 0.5465 - val_loss: 0.6865 - val_accuracy: 0.5855\n",
      "Epoch 2/10\n",
      "30/30 [==============================] - 1s 20ms/step - loss: 0.6716 - accuracy: 0.5968 - val_loss: 0.6680 - val_accuracy: 0.6368\n",
      "Epoch 3/10\n",
      "30/30 [==============================] - 1s 20ms/step - loss: 0.6608 - accuracy: 0.6107 - val_loss: 0.6500 - val_accuracy: 0.6197\n",
      "Epoch 4/10\n",
      "30/30 [==============================] - 1s 22ms/step - loss: 0.6617 - accuracy: 0.6118 - val_loss: 0.6632 - val_accuracy: 0.6026\n",
      "Epoch 5/10\n",
      "30/30 [==============================] - 1s 20ms/step - loss: 0.6422 - accuracy: 0.6439 - val_loss: 0.6664 - val_accuracy: 0.6068\n",
      "Epoch 6/10\n",
      "30/30 [==============================] - 1s 20ms/step - loss: 0.6317 - accuracy: 0.6578 - val_loss: 0.6546 - val_accuracy: 0.6154\n",
      "Epoch 7/10\n",
      "30/30 [==============================] - 1s 20ms/step - loss: 0.6145 - accuracy: 0.6652 - val_loss: 0.6707 - val_accuracy: 0.5812\n",
      "Epoch 8/10\n",
      "30/30 [==============================] - 1s 20ms/step - loss: 0.5915 - accuracy: 0.6952 - val_loss: 0.6696 - val_accuracy: 0.6197\n",
      "Epoch 9/10\n",
      "30/30 [==============================] - 1s 20ms/step - loss: 0.5720 - accuracy: 0.7144 - val_loss: 0.7121 - val_accuracy: 0.5598\n",
      "Epoch 10/10\n",
      "30/30 [==============================] - 1s 20ms/step - loss: 0.5574 - accuracy: 0.7176 - val_loss: 0.6735 - val_accuracy: 0.6239\n"
     ]
    },
    {
     "data": {
      "text/plain": [
       "<tensorflow.python.keras.callbacks.History at 0x174e51ea940>"
      ]
     },
     "execution_count": 29,
     "metadata": {},
     "output_type": "execute_result"
    }
   ],
   "source": [
    "model.fit(x=trainData_features_norm,\n",
    "          y=trainData_labels_one,\n",
    "          epochs=epochNo,\n",
    "          batch_size=32,\n",
    "          validation_data=(testData_features_norm, testData_labels_one))"
   ]
  },
  {
   "cell_type": "markdown",
   "metadata": {},
   "source": [
    "### 6. 모델 추론"
   ]
  },
  {
   "cell_type": "code",
   "execution_count": 30,
   "metadata": {
    "scrolled": true
   },
   "outputs": [
    {
     "name": "stdout",
     "output_type": "stream",
     "text": [
      "8/8 [==============================] - 0s 22ms/step - loss: 0.6735 - accuracy: 0.6239\n"
     ]
    },
    {
     "data": {
      "text/plain": [
       "[0.673531174659729, 0.6239316463470459]"
      ]
     },
     "execution_count": 30,
     "metadata": {},
     "output_type": "execute_result"
    }
   ],
   "source": [
    "model.evaluate(x=testData_features_norm,\n",
    "               y=testData_labels_one)"
   ]
  },
  {
   "cell_type": "markdown",
   "metadata": {},
   "source": [
    "### 7. 모델 예측"
   ]
  },
  {
   "cell_type": "code",
   "execution_count": 31,
   "metadata": {},
   "outputs": [],
   "source": [
    "def refineImage(testImg):\n",
    "    # Color to Gray\n",
    "    greyImg = cv2.cvtColor(testImg, cv2.COLOR_RGB2GRAY)\n",
    "    # greyImg.shape\n",
    "\n",
    "    # Image Resize\n",
    "    resizeImg = cv2.resize(greyImg, (IMG_SIZE, IMG_SIZE))\n",
    "    # resizeImg.shape\n",
    "\n",
    "    # Image Reshape\n",
    "    predictImg = resizeImg.reshape(1, IMG_SIZE, IMG_SIZE, 1)\n",
    "    # predictImg.shape\n",
    "\n",
    "    ## Image Normalization\n",
    "    predictImg_norm = predictImg/255.0\n",
    "    \n",
    "    return predictImg_norm"
   ]
  },
  {
   "cell_type": "code",
   "execution_count": 32,
   "metadata": {},
   "outputs": [
    {
     "data": {
      "text/plain": [
       "(1, 48, 48, 1)"
      ]
     },
     "execution_count": 32,
     "metadata": {},
     "output_type": "execute_result"
    }
   ],
   "source": [
    "_img = cv2.imread(\"./sm5image.png\", cv2.IMREAD_COLOR)\n",
    "testImg = refineImage(_img)\n",
    "testImg.shape"
   ]
  },
  {
   "cell_type": "code",
   "execution_count": 33,
   "metadata": {},
   "outputs": [
    {
     "data": {
      "text/plain": [
       "'sm5'"
      ]
     },
     "execution_count": 33,
     "metadata": {},
     "output_type": "execute_result"
    }
   ],
   "source": [
    "categories[np.argmax(model.predict(testImg))]"
   ]
  },
  {
   "cell_type": "markdown",
   "metadata": {},
   "source": [
    "### 8. 모델 저장"
   ]
  },
  {
   "cell_type": "code",
   "execution_count": 34,
   "metadata": {},
   "outputs": [],
   "source": [
    "# 모델의 구조 저장\n",
    "model_json = model.to_json()\n",
    "with open(\"./model_emotion.json\", \"w\") as json_file:\n",
    "    json_file.write(model_json)"
   ]
  },
  {
   "cell_type": "code",
   "execution_count": 35,
   "metadata": {},
   "outputs": [],
   "source": [
    "# 모델 학습내용 저장\n",
    "model.save_weights(\"./model_emotion_weight.h5\")"
   ]
  },
  {
   "cell_type": "markdown",
   "metadata": {},
   "source": [
    "# GPU 메모리 릴리즈"
   ]
  },
  {
   "cell_type": "code",
   "execution_count": 36,
   "metadata": {},
   "outputs": [],
   "source": [
    "from tensorflow.keras import backend as K\n",
    "\n",
    "K.clear_session()\n",
    "\n",
    "from numba import cuda\n",
    "cuda.select_device(0)\n",
    "cuda.close()"
   ]
  }
 ],
 "metadata": {
  "kernelspec": {
   "display_name": "Python 3 (ipykernel)",
   "language": "python",
   "name": "python3"
  },
  "language_info": {
   "codemirror_mode": {
    "name": "ipython",
    "version": 3
   },
   "file_extension": ".py",
   "mimetype": "text/x-python",
   "name": "python",
   "nbconvert_exporter": "python",
   "pygments_lexer": "ipython3",
   "version": "3.9.7"
  }
 },
 "nbformat": 4,
 "nbformat_minor": 4
}
