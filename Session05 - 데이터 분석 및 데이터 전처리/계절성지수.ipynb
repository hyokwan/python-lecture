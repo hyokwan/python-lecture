{
 "cells": [
  {
   "cell_type": "markdown",
   "id": "b53fd344-5d0f-4b6b-bc86-e254890fa11a",
   "metadata": {},
   "source": [
    "# 계절성 지수 산출 프로그램"
   ]
  },
  {
   "cell_type": "raw",
   "id": "6f17391d-441f-448e-a131-8de574e03c44",
   "metadata": {},
   "source": [
    "[데이터타입 통합]\n",
    "kopo_channel_seasonality_new.csv 파일을 불러온 후\n",
    "selloutData 변수에 담으세요 이후 \n",
    "QTY컬럼→실수(float), 이외컬럼→문자(str)로 변경하세요"
   ]
  },
  {
   "cell_type": "code",
   "execution_count": 85,
   "id": "16714fcc-ab18-4f27-8e49-3597a33a83de",
   "metadata": {},
   "outputs": [],
   "source": [
    "import pandas as pd"
   ]
  },
  {
   "cell_type": "code",
   "execution_count": 86,
   "id": "5073b0ec-e3a9-4866-aeb2-f134d9d1a4ce",
   "metadata": {},
   "outputs": [],
   "source": [
    "# 설정을 기본값으로 되돌리기\n",
    "pd.reset_option('display.max_rows')\n",
    "pd.reset_option('display.max_columns')\n",
    "\n",
    "# 모든 행과 열을 값으로 표시하기 위해 display.max_rows 및 display.max_columns 설정\n",
    "# pd.set_option('display.max_rows', None)\n",
    "# pd.set_option('display.max_columns', None)"
   ]
  },
  {
   "cell_type": "code",
   "execution_count": 87,
   "id": "dbe1bb43-ebb4-4a86-9f1b-70e3ec094ef8",
   "metadata": {},
   "outputs": [],
   "source": [
    "# pd.set_option('display.float_format', lambda x: '%.3f' % x)\n",
    "# 1.23456789e-10 -> 0.000000000123456789\n",
    "pd.reset_option('display.float_format')"
   ]
  },
  {
   "cell_type": "code",
   "execution_count": 88,
   "id": "2cf66c97-e2ab-4229-beba-dbc60698ca85",
   "metadata": {},
   "outputs": [],
   "source": [
    "pd.set_option('display.float_format', lambda x: '%.2f' % x)"
   ]
  },
  {
   "cell_type": "code",
   "execution_count": 89,
   "id": "f710bd6d-3ab6-414e-8761-83ff8272aad1",
   "metadata": {},
   "outputs": [],
   "source": [
    "selloutData = pd.read_csv(\"../dataset/kopo_channel_seasonality_new.csv\")"
   ]
  },
  {
   "cell_type": "code",
   "execution_count": 90,
   "id": "c7c07676-23f2-4aa7-8ae2-bf48c4c8f56a",
   "metadata": {},
   "outputs": [],
   "source": [
    "selloutData[\"REGIONID\"] = selloutData[\"REGIONID\"].astype(str)\n",
    "selloutData[\"PRODUCT\"] = selloutData[\"PRODUCT\"].astype(str)\n",
    "selloutData[\"YEARWEEK\"] = selloutData[\"YEARWEEK\"].astype(str)\n",
    "selloutData[\"QTY\"] = selloutData[\"QTY\"].astype(float)"
   ]
  },
  {
   "cell_type": "raw",
   "id": "832b0f39-9f7e-45f2-adbd-3d3b55d33bee",
   "metadata": {},
   "source": [
    "[불량 데이터 처리]\n",
    "kopo_channel_seasonality_new.csv 자료를 담은 \n",
    "selloutData 변수에서\n",
    "QTY컬럼 음수(반품)인 경우 0, 양수인 경우 기존 QTY 값\u000b",
    "유지하는 로직을 적용하여 QTY_NEW 컬럼을 추가하세요"
   ]
  },
  {
   "cell_type": "code",
   "execution_count": 91,
   "id": "b31af372-f648-4e76-a5e3-0d5fe9e7de6a",
   "metadata": {},
   "outputs": [],
   "source": [
    "def qtyRefine(inValue):\n",
    "    # inValue=-5\n",
    "    \n",
    "    outValue = 0\n",
    "    if inValue < 0:\n",
    "       outValue = 0\n",
    "    else:\n",
    "        outValue = inValue\n",
    "    return outValue"
   ]
  },
  {
   "cell_type": "code",
   "execution_count": 92,
   "id": "e8ff959b-0389-4ac5-96da-1b6350390a52",
   "metadata": {},
   "outputs": [],
   "source": [
    "selloutData[\"QTY_NEW\"] = selloutData.QTY.apply(qtyRefine)"
   ]
  },
  {
   "cell_type": "raw",
   "id": "967cd9a3-6a51-4a4b-b2e7-ce37d407136b",
   "metadata": {},
   "source": [
    "[불량 데이터 처리]\n",
    "kopo_channel_seasonality_new.csv 자료를 담은 \n",
    "selloutData 변수에서\n",
    "QTY컬럼 음수(반품)인 경우 0, 양수인 경우 기존 QTY 값\u000b",
    "유지하는 로직을 적용하여 QTY_NEW 컬럼을 추가하세요"
   ]
  },
  {
   "cell_type": "code",
   "execution_count": 94,
   "id": "80a9b54b-f1ef-4a61-8fb4-c90067a91b98",
   "metadata": {},
   "outputs": [],
   "source": [
    "selloutData[\"YEAR\"] = selloutData.YEARWEEK.str[:4]\n",
    "selloutData[\"WEEK\"] = selloutData.YEARWEEK.str[4:]"
   ]
  },
  {
   "cell_type": "raw",
   "id": "0b0b7874-8418-4cd3-b87d-3bc02122f60f",
   "metadata": {},
   "source": [
    "[데이터 통합]\n",
    "selloutData 자료에서 \n",
    "YEAR, WEEK 컬럼을 생성하고 WEEK 컬럼 값이 52 이하인\n",
    "데이터만 refinedSelloutData 변수에 저장하세요"
   ]
  },
  {
   "cell_type": "code",
   "execution_count": 116,
   "id": "fec3c382-a79b-4aba-a7c0-71313d761edd",
   "metadata": {},
   "outputs": [],
   "source": [
    "refinedSelloutData = selloutData.loc[selloutData.WEEK != \"53\"]"
   ]
  },
  {
   "cell_type": "raw",
   "id": "384ec4a6-9cf3-4b40-8ed2-3e1f96e6760e",
   "metadata": {},
   "source": [
    "refinedSelloutData 에서 →\n",
    "지역, 상품, 연주차 컬럼순으로 오름차순 정렬하여\n",
    "sortedData 변수에 담으세요"
   ]
  },
  {
   "cell_type": "code",
   "execution_count": 118,
   "id": "7a5ccfea-eb7c-45f3-99fc-012b457b9ca9",
   "metadata": {},
   "outputs": [],
   "source": [
    "sortKey = [\"REGIONID\",\"PRODUCT\",\"YEARWEEK\"]"
   ]
  },
  {
   "cell_type": "code",
   "execution_count": 119,
   "id": "7bece0f5-c91b-4892-b970-65f065383798",
   "metadata": {},
   "outputs": [],
   "source": [
    "sortedData = refinedSelloutData.sort_values(sortKey)"
   ]
  },
  {
   "cell_type": "raw",
   "id": "340cda06-d44b-43f2-bf5b-4ef754816cc7",
   "metadata": {},
   "source": [
    "[지역, 상품, 연도 별 집계]\n",
    "sortedData 에서 지역, 상품, 연도 단위\n",
    "판매량(QTY_NEW) 의 평균 연산 후\n",
    "groupData 변수에 담으세요\n",
    "\n",
    "이후 컬럼명을 QTY_MEAN로 변경하세요"
   ]
  },
  {
   "cell_type": "code",
   "execution_count": 121,
   "id": "4e9e4862-8d31-4ad3-a4d2-2d812904163f",
   "metadata": {},
   "outputs": [],
   "source": [
    "groupKey = [\"REGIONID\",\"PRODUCT\",\"YEAR\"]"
   ]
  },
  {
   "cell_type": "code",
   "execution_count": 126,
   "id": "95b16753-67f9-4577-bd24-0d45980b5f9e",
   "metadata": {},
   "outputs": [],
   "source": [
    "groupData = sortedData.groupby(groupKey)[[\"QTY_NEW\"]].agg(\"mean\").reset_index()"
   ]
  },
  {
   "cell_type": "code",
   "execution_count": 128,
   "id": "05837047-a9cd-4100-ade0-4580bf1f3872",
   "metadata": {},
   "outputs": [],
   "source": [
    "groupData.rename(columns={\"QTY_NEW\":\"QTY_MEAN\"}, inplace=True)"
   ]
  },
  {
   "cell_type": "raw",
   "id": "b6724225-d521-4b0f-b3e5-a40507e9a304",
   "metadata": {},
   "source": [
    "refinedSelloutData와 groupData를 \n",
    "[REGIONID, PRODUCT, YEAR] 키로 조인하여 \n",
    "mergedData 변수에 아래와 같이 담으세요"
   ]
  },
  {
   "cell_type": "code",
   "execution_count": 130,
   "id": "0459443f-4e7d-4010-9b5d-aaad6cb1c5aa",
   "metadata": {},
   "outputs": [],
   "source": [
    "groupKey = [\"REGIONID\",\"PRODUCT\",\"YEAR\"]"
   ]
  },
  {
   "cell_type": "code",
   "execution_count": 132,
   "id": "4f7cc2f6-0539-4aa5-b4e2-02ca665d1579",
   "metadata": {},
   "outputs": [],
   "source": [
    "mergedData = pd.merge(left=refinedSelloutData,\n",
    "         right=groupData,\n",
    "         on=groupKey)"
   ]
  },
  {
   "cell_type": "raw",
   "id": "3ea21489-e4d6-4de8-8dfa-ddba703f3ef7",
   "metadata": {},
   "source": [
    "mergedData를 활용하여 \n",
    "SEASONALITY = QTY_NEW / QTY_MEAN\n",
    "SEASONALITY 컬럼을 생성한다."
   ]
  },
  {
   "cell_type": "code",
   "execution_count": 135,
   "id": "614ea298-2b0a-4f0f-8ec6-db05042d8220",
   "metadata": {},
   "outputs": [],
   "source": [
    "mergedData[\"SEASONALITY\"] = mergedData.QTY_NEW / mergedData.QTY_MEAN"
   ]
  },
  {
   "cell_type": "raw",
   "id": "bc065bda-dd33-4c38-aeb7-6fc5be7e0aba",
   "metadata": {},
   "source": [
    "마지막으로 [지역, 상품, 주차] 별 \n",
    "SEASONALITY 평균 값을\n",
    "산출하여 finalResult 변수에 담으세요"
   ]
  },
  {
   "cell_type": "code",
   "execution_count": 136,
   "id": "e3f35665-b3ca-4ae9-b1e2-e246df5d1f87",
   "metadata": {},
   "outputs": [],
   "source": [
    "groupKey = [\"REGIONID\",\"PRODUCT\",\"WEEK\"]"
   ]
  },
  {
   "cell_type": "code",
   "execution_count": 140,
   "id": "dd1d044c-3683-4e27-b7bd-ff15ba23deae",
   "metadata": {},
   "outputs": [],
   "source": [
    "finalResult = mergedData.groupby(by=groupKey)[[\"SEASONALITY\"]].agg(\"mean\").reset_index()"
   ]
  }
 ],
 "metadata": {
  "kernelspec": {
   "display_name": "Python 3 (ipykernel)",
   "language": "python",
   "name": "python3"
  },
  "language_info": {
   "codemirror_mode": {
    "name": "ipython",
    "version": 3
   },
   "file_extension": ".py",
   "mimetype": "text/x-python",
   "name": "python",
   "nbconvert_exporter": "python",
   "pygments_lexer": "ipython3",
   "version": "3.10.11"
  }
 },
 "nbformat": 4,
 "nbformat_minor": 5
}
