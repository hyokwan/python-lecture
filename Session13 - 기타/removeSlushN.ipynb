{
 "cells": [
  {
   "cell_type": "code",
   "execution_count": 3,
   "id": "0e6aad87-34bd-4c70-975a-6c56aef2c956",
   "metadata": {},
   "outputs": [
    {
     "data": {
      "text/html": [
       "<div>\n",
       "<style scoped>\n",
       "    .dataframe tbody tr th:only-of-type {\n",
       "        vertical-align: middle;\n",
       "    }\n",
       "\n",
       "    .dataframe tbody tr th {\n",
       "        vertical-align: top;\n",
       "    }\n",
       "\n",
       "    .dataframe thead th {\n",
       "        text-align: right;\n",
       "    }\n",
       "</style>\n",
       "<table border=\"1\" class=\"dataframe\">\n",
       "  <thead>\n",
       "    <tr style=\"text-align: right;\">\n",
       "      <th></th>\n",
       "      <th>0</th>\n",
       "      <th>1</th>\n",
       "      <th>2</th>\n",
       "    </tr>\n",
       "  </thead>\n",
       "  <tbody>\n",
       "    <tr>\n",
       "      <th>0</th>\n",
       "      <td>aaa</td>\n",
       "      <td>bbb</td>\n",
       "      <td>1</td>\n",
       "    </tr>\n",
       "    <tr>\n",
       "      <th>1</th>\n",
       "      <td>ccc</td>\n",
       "      <td>ddd</td>\n",
       "      <td>2</td>\n",
       "    </tr>\n",
       "    <tr>\n",
       "      <th>2</th>\n",
       "      <td>aa</td>\n",
       "      <td>dd</td>\n",
       "      <td>15</td>\n",
       "    </tr>\n",
       "  </tbody>\n",
       "</table>\n",
       "</div>"
      ],
      "text/plain": [
       "     0    1   2\n",
       "0  aaa  bbb   1\n",
       "1  ccc  ddd   2\n",
       "2   aa   dd  15"
      ]
     },
     "execution_count": 3,
     "metadata": {},
     "output_type": "execute_result"
    }
   ],
   "source": [
    "import pandas as pd\n",
    "### 함수정의: 데이터프레임을 파라미터로 받아 \\n제거  strip() 함수 적용\n",
    "### 파라미터: indf : 데이터프레임\n",
    "\n",
    "def applyFunction(indf):\n",
    "    # 입력df의 문자컬럼만 선택한다.\n",
    "    strObj = indf.select_dtypes(['object'])\n",
    "    # 문자컬럼 대상 lambda 함수적용하여 \\n을 제거한다\n",
    "    indf[strObj.columns] = strObj.apply(lambda x: x.str.strip())\n",
    "    return indf\n",
    "\n",
    "# 테스트 데이터\n",
    "exDf = pd.DataFrame([[\"aaa\",\"bbb\",1],\n",
    "                    [\"ccc\",\"ddd\",2],\n",
    "                    [\"aa\\n\",\"dd\\n\",15] ]  )\n",
    "# 적용 예시\n",
    "applyFunction(exDf)"
   ]
  },
  {
   "cell_type": "code",
   "execution_count": null,
   "id": "f6859800-de31-4442-b1a1-12583e6701c8",
   "metadata": {},
   "outputs": [],
   "source": []
  }
 ],
 "metadata": {
  "kernelspec": {
   "display_name": "Python 3 (ipykernel)",
   "language": "python",
   "name": "python3"
  },
  "language_info": {
   "codemirror_mode": {
    "name": "ipython",
    "version": 3
   },
   "file_extension": ".py",
   "mimetype": "text/x-python",
   "name": "python",
   "nbconvert_exporter": "python",
   "pygments_lexer": "ipython3",
   "version": "3.9.7"
  }
 },
 "nbformat": 4,
 "nbformat_minor": 5
}
