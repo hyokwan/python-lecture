{
 "cells": [
  {
   "cell_type": "code",
   "execution_count": 1,
   "id": "83c62e81-d669-4b93-bd95-d405c60136b3",
   "metadata": {},
   "outputs": [
    {
     "name": "stdout",
     "output_type": "stream",
     "text": [
      "True\n"
     ]
    }
   ],
   "source": [
    "import torch\n",
    "# GPU 사용 가능 -> True, GPU 사용 불가 -> False\n",
    "print(torch.cuda.is_available())\n"
   ]
  },
  {
   "cell_type": "code",
   "execution_count": 2,
   "id": "a0c6c247-9263-451d-b00e-775f79b46c92",
   "metadata": {
    "scrolled": true
   },
   "outputs": [],
   "source": [
    "from ultralytics import YOLO"
   ]
  },
  {
   "cell_type": "code",
   "execution_count": 3,
   "id": "16a41c33-8e57-4ea3-a4e5-fcb8c24021a7",
   "metadata": {
    "scrolled": true
   },
   "outputs": [],
   "source": [
    "# Load a model\n",
    "model = YOLO('yolov8n.pt')"
   ]
  },
  {
   "cell_type": "code",
   "execution_count": 4,
   "id": "3097fa98-6879-42a7-8aa2-2263418c8c05",
   "metadata": {
    "scrolled": true
   },
   "outputs": [
    {
     "name": "stdout",
     "output_type": "stream",
     "text": [
      "New https://pypi.org/project/ultralytics/8.1.28 available 😃 Update with 'pip install -U ultralytics'\n",
      "Ultralytics YOLOv8.1.15 🚀 Python-3.10.11 torch-1.12.1+cu113 CUDA:0 (NVIDIA GeForce GTX 950M, 2048MiB)\n",
      "WARNING ⚠️ Upgrade to torch>=2.0.0 for deterministic training.\n",
      "\u001b[34m\u001b[1mengine\\trainer: \u001b[0mtask=detect, mode=train, model=yolov8n.pt, data=D:/yolodata/rail_anomaly/data.yaml, epochs=10, time=None, patience=50, batch=16, imgsz=416, save=True, save_period=-1, cache=False, device=0, workers=0, project=None, name=train, exist_ok=False, pretrained=True, optimizer=auto, verbose=True, seed=0, deterministic=True, single_cls=False, rect=False, cos_lr=False, close_mosaic=10, resume=False, amp=True, fraction=1.0, profile=False, freeze=None, multi_scale=False, overlap_mask=True, mask_ratio=4, dropout=0.0, val=True, split=val, save_json=False, save_hybrid=False, conf=None, iou=0.7, max_det=300, half=False, dnn=False, plots=True, source=None, vid_stride=1, stream_buffer=False, visualize=False, augment=False, agnostic_nms=False, classes=None, retina_masks=False, embed=None, show=False, save_frames=False, save_txt=False, save_conf=False, save_crop=False, show_labels=True, show_conf=True, show_boxes=True, line_width=None, format=torchscript, keras=False, optimize=False, int8=False, dynamic=False, simplify=False, opset=None, workspace=4, nms=False, lr0=0.01, lrf=0.01, momentum=0.937, weight_decay=0.0005, warmup_epochs=3.0, warmup_momentum=0.8, warmup_bias_lr=0.1, box=7.5, cls=0.5, dfl=1.5, pose=12.0, kobj=1.0, label_smoothing=0.0, nbs=64, hsv_h=0.015, hsv_s=0.7, hsv_v=0.4, degrees=0.0, translate=0.1, scale=0.5, shear=0.0, perspective=0.0, flipud=0.0, fliplr=0.5, mosaic=1.0, mixup=0.0, copy_paste=0.0, auto_augment=randaugment, erasing=0.4, crop_fraction=1.0, cfg=None, tracker=botsort.yaml, save_dir=runs\\detect\\train\n",
      "Overriding model.yaml nc=80 with nc=2\n",
      "\n",
      "                   from  n    params  module                                       arguments                     \n",
      "  0                  -1  1       464  ultralytics.nn.modules.conv.Conv             [3, 16, 3, 2]                 \n",
      "  1                  -1  1      4672  ultralytics.nn.modules.conv.Conv             [16, 32, 3, 2]                \n",
      "  2                  -1  1      7360  ultralytics.nn.modules.block.C2f             [32, 32, 1, True]             \n",
      "  3                  -1  1     18560  ultralytics.nn.modules.conv.Conv             [32, 64, 3, 2]                \n",
      "  4                  -1  2     49664  ultralytics.nn.modules.block.C2f             [64, 64, 2, True]             \n",
      "  5                  -1  1     73984  ultralytics.nn.modules.conv.Conv             [64, 128, 3, 2]               \n",
      "  6                  -1  2    197632  ultralytics.nn.modules.block.C2f             [128, 128, 2, True]           \n",
      "  7                  -1  1    295424  ultralytics.nn.modules.conv.Conv             [128, 256, 3, 2]              \n",
      "  8                  -1  1    460288  ultralytics.nn.modules.block.C2f             [256, 256, 1, True]           \n",
      "  9                  -1  1    164608  ultralytics.nn.modules.block.SPPF            [256, 256, 5]                 \n",
      " 10                  -1  1         0  torch.nn.modules.upsampling.Upsample         [None, 2, 'nearest']          \n",
      " 11             [-1, 6]  1         0  ultralytics.nn.modules.conv.Concat           [1]                           \n",
      " 12                  -1  1    148224  ultralytics.nn.modules.block.C2f             [384, 128, 1]                 \n",
      " 13                  -1  1         0  torch.nn.modules.upsampling.Upsample         [None, 2, 'nearest']          \n",
      " 14             [-1, 4]  1         0  ultralytics.nn.modules.conv.Concat           [1]                           \n",
      " 15                  -1  1     37248  ultralytics.nn.modules.block.C2f             [192, 64, 1]                  \n",
      " 16                  -1  1     36992  ultralytics.nn.modules.conv.Conv             [64, 64, 3, 2]                \n",
      " 17            [-1, 12]  1         0  ultralytics.nn.modules.conv.Concat           [1]                           \n",
      " 18                  -1  1    123648  ultralytics.nn.modules.block.C2f             [192, 128, 1]                 \n",
      " 19                  -1  1    147712  ultralytics.nn.modules.conv.Conv             [128, 128, 3, 2]              \n",
      " 20             [-1, 9]  1         0  ultralytics.nn.modules.conv.Concat           [1]                           \n",
      " 21                  -1  1    493056  ultralytics.nn.modules.block.C2f             [384, 256, 1]                 \n",
      " 22        [15, 18, 21]  1    751702  ultralytics.nn.modules.head.Detect           [2, [64, 128, 256]]           \n",
      "Model summary: 225 layers, 3011238 parameters, 3011222 gradients, 8.2 GFLOPs\n",
      "\n",
      "Transferred 319/355 items from pretrained weights\n",
      "\u001b[34m\u001b[1mTensorBoard: \u001b[0mStart with 'tensorboard --logdir runs\\detect\\train', view at http://localhost:6006/\n",
      "Freezing layer 'model.22.dfl.conv.weight'\n",
      "\u001b[34m\u001b[1mAMP: \u001b[0mrunning Automatic Mixed Precision (AMP) checks with YOLOv8n...\n",
      "\u001b[34m\u001b[1mAMP: \u001b[0mchecks passed ✅\n"
     ]
    },
    {
     "name": "stderr",
     "output_type": "stream",
     "text": [
      "\u001b[34m\u001b[1mtrain: \u001b[0mScanning D:\\yolodata\\rail_anomaly\\train\\labels.cache... 3052 images, 1405 backgrounds, 0 corrupt: 100%|██████\u001b[0m\n",
      "\u001b[34m\u001b[1mval: \u001b[0mScanning D:\\yolodata\\rail_anomaly\\valid\\labels.cache... 12 images, 3 backgrounds, 0 corrupt: 100%|██████████| 1\u001b[0m\n"
     ]
    },
    {
     "name": "stdout",
     "output_type": "stream",
     "text": [
      "Plotting labels to runs\\detect\\train\\labels.jpg... \n",
      "\u001b[34m\u001b[1moptimizer:\u001b[0m 'optimizer=auto' found, ignoring 'lr0=0.01' and 'momentum=0.937' and determining best 'optimizer', 'lr0' and 'momentum' automatically... \n",
      "\u001b[34m\u001b[1moptimizer:\u001b[0m AdamW(lr=0.001667, momentum=0.9) with parameter groups 57 weight(decay=0.0), 64 weight(decay=0.0005), 63 bias(decay=0.0)\n",
      "\u001b[34m\u001b[1mTensorBoard: \u001b[0mmodel graph visualization added ✅\n",
      "Image sizes 416 train, 416 val\n",
      "Using 0 dataloader workers\n",
      "Logging results to \u001b[1mruns\\detect\\train\u001b[0m\n",
      "Starting training for 10 epochs...\n",
      "Closing dataloader mosaic\n",
      "\n",
      "      Epoch    GPU_mem   box_loss   cls_loss   dfl_loss  Instances       Size\n"
     ]
    },
    {
     "name": "stderr",
     "output_type": "stream",
     "text": [
      "       1/10     0.923G       1.37      2.489       1.28          5        416: 100%|██████████| 191/191 [03:58<00:00\n",
      "                 Class     Images  Instances      Box(P          R      mAP50  mAP50-95): 100%|██████████| 1/1 [00:0"
     ]
    },
    {
     "name": "stdout",
     "output_type": "stream",
     "text": [
      "                   all         12         23      0.732      0.739      0.815      0.463\n"
     ]
    },
    {
     "name": "stderr",
     "output_type": "stream",
     "text": [
      "\n"
     ]
    },
    {
     "name": "stdout",
     "output_type": "stream",
     "text": [
      "\n",
      "      Epoch    GPU_mem   box_loss   cls_loss   dfl_loss  Instances       Size\n"
     ]
    },
    {
     "name": "stderr",
     "output_type": "stream",
     "text": [
      "       2/10      1.01G      1.345      1.686      1.257         13        416: 100%|██████████| 191/191 [03:42<00:00\n",
      "                 Class     Images  Instances      Box(P          R      mAP50  mAP50-95): 100%|██████████| 1/1 [00:0"
     ]
    },
    {
     "name": "stdout",
     "output_type": "stream",
     "text": [
      "                   all         12         23      0.801      0.739      0.784      0.437\n"
     ]
    },
    {
     "name": "stderr",
     "output_type": "stream",
     "text": [
      "\n"
     ]
    },
    {
     "name": "stdout",
     "output_type": "stream",
     "text": [
      "\n",
      "      Epoch    GPU_mem   box_loss   cls_loss   dfl_loss  Instances       Size\n"
     ]
    },
    {
     "name": "stderr",
     "output_type": "stream",
     "text": [
      "       3/10      1.01G      1.355      1.372      1.274          8        416: 100%|██████████| 191/191 [03:03<00:00\n",
      "                 Class     Images  Instances      Box(P          R      mAP50  mAP50-95): 100%|██████████| 1/1 [00:0"
     ]
    },
    {
     "name": "stdout",
     "output_type": "stream",
     "text": [
      "                   all         12         23       0.94      0.682      0.847      0.519\n"
     ]
    },
    {
     "name": "stderr",
     "output_type": "stream",
     "text": [
      "\n"
     ]
    },
    {
     "name": "stdout",
     "output_type": "stream",
     "text": [
      "\n",
      "      Epoch    GPU_mem   box_loss   cls_loss   dfl_loss  Instances       Size\n"
     ]
    },
    {
     "name": "stderr",
     "output_type": "stream",
     "text": [
      "       4/10      1.01G      1.262      1.183      1.198         10        416: 100%|██████████| 191/191 [03:19<00:00\n",
      "                 Class     Images  Instances      Box(P          R      mAP50  mAP50-95): 100%|██████████| 1/1 [00:0"
     ]
    },
    {
     "name": "stdout",
     "output_type": "stream",
     "text": [
      "                   all         12         23      0.784      0.739      0.841      0.529\n"
     ]
    },
    {
     "name": "stderr",
     "output_type": "stream",
     "text": [
      "\n"
     ]
    },
    {
     "name": "stdout",
     "output_type": "stream",
     "text": [
      "\n",
      "      Epoch    GPU_mem   box_loss   cls_loss   dfl_loss  Instances       Size\n"
     ]
    },
    {
     "name": "stderr",
     "output_type": "stream",
     "text": [
      "       5/10      1.01G      1.198      1.018      1.169         12        416: 100%|██████████| 191/191 [02:57<00:00\n",
      "                 Class     Images  Instances      Box(P          R      mAP50  mAP50-95): 100%|██████████| 1/1 [00:0"
     ]
    },
    {
     "name": "stdout",
     "output_type": "stream",
     "text": [
      "                   all         12         23      0.893       0.87      0.938      0.624\n"
     ]
    },
    {
     "name": "stderr",
     "output_type": "stream",
     "text": [
      "\n"
     ]
    },
    {
     "name": "stdout",
     "output_type": "stream",
     "text": [
      "\n",
      "      Epoch    GPU_mem   box_loss   cls_loss   dfl_loss  Instances       Size\n"
     ]
    },
    {
     "name": "stderr",
     "output_type": "stream",
     "text": [
      "       6/10      1.01G      1.115     0.9148      1.125          7        416: 100%|██████████| 191/191 [02:55<00:00\n",
      "                 Class     Images  Instances      Box(P          R      mAP50  mAP50-95): 100%|██████████| 1/1 [00:0"
     ]
    },
    {
     "name": "stdout",
     "output_type": "stream",
     "text": [
      "                   all         12         23      0.949      0.815      0.893      0.603\n"
     ]
    },
    {
     "name": "stderr",
     "output_type": "stream",
     "text": [
      "\n"
     ]
    },
    {
     "name": "stdout",
     "output_type": "stream",
     "text": [
      "\n",
      "      Epoch    GPU_mem   box_loss   cls_loss   dfl_loss  Instances       Size\n"
     ]
    },
    {
     "name": "stderr",
     "output_type": "stream",
     "text": [
      "       7/10      1.01G      1.058     0.8484        1.1          5        416: 100%|██████████| 191/191 [03:39<00:00\n",
      "                 Class     Images  Instances      Box(P          R      mAP50  mAP50-95): 100%|██████████| 1/1 [00:0"
     ]
    },
    {
     "name": "stdout",
     "output_type": "stream",
     "text": [
      "                   all         12         23      0.811      0.957      0.946      0.655\n"
     ]
    },
    {
     "name": "stderr",
     "output_type": "stream",
     "text": [
      "\n"
     ]
    },
    {
     "name": "stdout",
     "output_type": "stream",
     "text": [
      "\n",
      "      Epoch    GPU_mem   box_loss   cls_loss   dfl_loss  Instances       Size\n"
     ]
    },
    {
     "name": "stderr",
     "output_type": "stream",
     "text": [
      "       8/10      1.01G     0.9808     0.7603      1.067         13        416: 100%|██████████| 191/191 [03:41<00:00\n",
      "                 Class     Images  Instances      Box(P          R      mAP50  mAP50-95): 100%|██████████| 1/1 [00:0"
     ]
    },
    {
     "name": "stdout",
     "output_type": "stream",
     "text": [
      "                   all         12         23      0.842      0.957      0.952      0.676\n"
     ]
    },
    {
     "name": "stderr",
     "output_type": "stream",
     "text": [
      "\n"
     ]
    },
    {
     "name": "stdout",
     "output_type": "stream",
     "text": [
      "\n",
      "      Epoch    GPU_mem   box_loss   cls_loss   dfl_loss  Instances       Size\n"
     ]
    },
    {
     "name": "stderr",
     "output_type": "stream",
     "text": [
      "       9/10      1.01G     0.9522     0.7034      1.045          7        416: 100%|██████████| 191/191 [03:31<00:00\n",
      "                 Class     Images  Instances      Box(P          R      mAP50  mAP50-95): 100%|██████████| 1/1 [00:0"
     ]
    },
    {
     "name": "stdout",
     "output_type": "stream",
     "text": [
      "                   all         12         23      0.878      0.942      0.963      0.723\n"
     ]
    },
    {
     "name": "stderr",
     "output_type": "stream",
     "text": [
      "\n"
     ]
    },
    {
     "name": "stdout",
     "output_type": "stream",
     "text": [
      "\n",
      "      Epoch    GPU_mem   box_loss   cls_loss   dfl_loss  Instances       Size\n"
     ]
    },
    {
     "name": "stderr",
     "output_type": "stream",
     "text": [
      "      10/10      1.01G     0.8917     0.6543      1.016          5        416: 100%|██████████| 191/191 [03:37<00:00\n",
      "                 Class     Images  Instances      Box(P          R      mAP50  mAP50-95): 100%|██████████| 1/1 [00:0"
     ]
    },
    {
     "name": "stdout",
     "output_type": "stream",
     "text": [
      "                   all         12         23      0.916      0.945      0.979      0.766\n"
     ]
    },
    {
     "name": "stderr",
     "output_type": "stream",
     "text": [
      "\n"
     ]
    },
    {
     "name": "stdout",
     "output_type": "stream",
     "text": [
      "\n",
      "10 epochs completed in 0.582 hours.\n",
      "Optimizer stripped from runs\\detect\\train\\weights\\last.pt, 6.2MB\n",
      "Optimizer stripped from runs\\detect\\train\\weights\\best.pt, 6.2MB\n",
      "\n",
      "Validating runs\\detect\\train\\weights\\best.pt...\n",
      "Ultralytics YOLOv8.1.15 🚀 Python-3.10.11 torch-1.12.1+cu113 CUDA:0 (NVIDIA GeForce GTX 950M, 2048MiB)\n",
      "Model summary (fused): 168 layers, 3006038 parameters, 0 gradients, 8.1 GFLOPs\n"
     ]
    },
    {
     "name": "stderr",
     "output_type": "stream",
     "text": [
      "                 Class     Images  Instances      Box(P          R      mAP50  mAP50-95): 100%|██████████| 1/1 [00:0\n"
     ]
    },
    {
     "name": "stdout",
     "output_type": "stream",
     "text": [
      "                   all         12         23      0.916      0.945      0.979      0.767\n",
      "                     0         12         23      0.916      0.945      0.979      0.767\n",
      "Speed: 0.8ms preprocess, 15.7ms inference, 0.0ms loss, 2.0ms postprocess per image\n",
      "Results saved to \u001b[1mruns\\detect\\train\u001b[0m\n"
     ]
    },
    {
     "data": {
      "text/plain": [
       "ultralytics.utils.metrics.DetMetrics object with attributes:\n",
       "\n",
       "ap_class_index: array([0])\n",
       "box: ultralytics.utils.metrics.Metric object\n",
       "confusion_matrix: <ultralytics.utils.metrics.ConfusionMatrix object at 0x000001A84410BFD0>\n",
       "curves: ['Precision-Recall(B)', 'F1-Confidence(B)', 'Precision-Confidence(B)', 'Recall-Confidence(B)']\n",
       "curves_results: [[array([          0,    0.001001,    0.002002,    0.003003,    0.004004,    0.005005,    0.006006,    0.007007,    0.008008,    0.009009,     0.01001,    0.011011,    0.012012,    0.013013,    0.014014,    0.015015,    0.016016,    0.017017,    0.018018,    0.019019,     0.02002,    0.021021,    0.022022,    0.023023,\n",
       "          0.024024,    0.025025,    0.026026,    0.027027,    0.028028,    0.029029,     0.03003,    0.031031,    0.032032,    0.033033,    0.034034,    0.035035,    0.036036,    0.037037,    0.038038,    0.039039,     0.04004,    0.041041,    0.042042,    0.043043,    0.044044,    0.045045,    0.046046,    0.047047,\n",
       "          0.048048,    0.049049,     0.05005,    0.051051,    0.052052,    0.053053,    0.054054,    0.055055,    0.056056,    0.057057,    0.058058,    0.059059,     0.06006,    0.061061,    0.062062,    0.063063,    0.064064,    0.065065,    0.066066,    0.067067,    0.068068,    0.069069,     0.07007,    0.071071,\n",
       "          0.072072,    0.073073,    0.074074,    0.075075,    0.076076,    0.077077,    0.078078,    0.079079,     0.08008,    0.081081,    0.082082,    0.083083,    0.084084,    0.085085,    0.086086,    0.087087,    0.088088,    0.089089,     0.09009,    0.091091,    0.092092,    0.093093,    0.094094,    0.095095,\n",
       "          0.096096,    0.097097,    0.098098,    0.099099,      0.1001,      0.1011,      0.1021,      0.1031,      0.1041,     0.10511,     0.10611,     0.10711,     0.10811,     0.10911,     0.11011,     0.11111,     0.11211,     0.11311,     0.11411,     0.11512,     0.11612,     0.11712,     0.11812,     0.11912,\n",
       "           0.12012,     0.12112,     0.12212,     0.12312,     0.12412,     0.12513,     0.12613,     0.12713,     0.12813,     0.12913,     0.13013,     0.13113,     0.13213,     0.13313,     0.13413,     0.13514,     0.13614,     0.13714,     0.13814,     0.13914,     0.14014,     0.14114,     0.14214,     0.14314,\n",
       "           0.14414,     0.14515,     0.14615,     0.14715,     0.14815,     0.14915,     0.15015,     0.15115,     0.15215,     0.15315,     0.15415,     0.15516,     0.15616,     0.15716,     0.15816,     0.15916,     0.16016,     0.16116,     0.16216,     0.16316,     0.16416,     0.16517,     0.16617,     0.16717,\n",
       "           0.16817,     0.16917,     0.17017,     0.17117,     0.17217,     0.17317,     0.17417,     0.17518,     0.17618,     0.17718,     0.17818,     0.17918,     0.18018,     0.18118,     0.18218,     0.18318,     0.18418,     0.18519,     0.18619,     0.18719,     0.18819,     0.18919,     0.19019,     0.19119,\n",
       "           0.19219,     0.19319,     0.19419,      0.1952,      0.1962,      0.1972,      0.1982,      0.1992,      0.2002,      0.2012,      0.2022,      0.2032,      0.2042,     0.20521,     0.20621,     0.20721,     0.20821,     0.20921,     0.21021,     0.21121,     0.21221,     0.21321,     0.21421,     0.21522,\n",
       "           0.21622,     0.21722,     0.21822,     0.21922,     0.22022,     0.22122,     0.22222,     0.22322,     0.22422,     0.22523,     0.22623,     0.22723,     0.22823,     0.22923,     0.23023,     0.23123,     0.23223,     0.23323,     0.23423,     0.23524,     0.23624,     0.23724,     0.23824,     0.23924,\n",
       "           0.24024,     0.24124,     0.24224,     0.24324,     0.24424,     0.24525,     0.24625,     0.24725,     0.24825,     0.24925,     0.25025,     0.25125,     0.25225,     0.25325,     0.25425,     0.25526,     0.25626,     0.25726,     0.25826,     0.25926,     0.26026,     0.26126,     0.26226,     0.26326,\n",
       "           0.26426,     0.26527,     0.26627,     0.26727,     0.26827,     0.26927,     0.27027,     0.27127,     0.27227,     0.27327,     0.27427,     0.27528,     0.27628,     0.27728,     0.27828,     0.27928,     0.28028,     0.28128,     0.28228,     0.28328,     0.28428,     0.28529,     0.28629,     0.28729,\n",
       "           0.28829,     0.28929,     0.29029,     0.29129,     0.29229,     0.29329,     0.29429,      0.2953,      0.2963,      0.2973,      0.2983,      0.2993,      0.3003,      0.3013,      0.3023,      0.3033,      0.3043,     0.30531,     0.30631,     0.30731,     0.30831,     0.30931,     0.31031,     0.31131,\n",
       "           0.31231,     0.31331,     0.31431,     0.31532,     0.31632,     0.31732,     0.31832,     0.31932,     0.32032,     0.32132,     0.32232,     0.32332,     0.32432,     0.32533,     0.32633,     0.32733,     0.32833,     0.32933,     0.33033,     0.33133,     0.33233,     0.33333,     0.33433,     0.33534,\n",
       "           0.33634,     0.33734,     0.33834,     0.33934,     0.34034,     0.34134,     0.34234,     0.34334,     0.34434,     0.34535,     0.34635,     0.34735,     0.34835,     0.34935,     0.35035,     0.35135,     0.35235,     0.35335,     0.35435,     0.35536,     0.35636,     0.35736,     0.35836,     0.35936,\n",
       "           0.36036,     0.36136,     0.36236,     0.36336,     0.36436,     0.36537,     0.36637,     0.36737,     0.36837,     0.36937,     0.37037,     0.37137,     0.37237,     0.37337,     0.37437,     0.37538,     0.37638,     0.37738,     0.37838,     0.37938,     0.38038,     0.38138,     0.38238,     0.38338,\n",
       "           0.38438,     0.38539,     0.38639,     0.38739,     0.38839,     0.38939,     0.39039,     0.39139,     0.39239,     0.39339,     0.39439,      0.3954,      0.3964,      0.3974,      0.3984,      0.3994,      0.4004,      0.4014,      0.4024,      0.4034,      0.4044,     0.40541,     0.40641,     0.40741,\n",
       "           0.40841,     0.40941,     0.41041,     0.41141,     0.41241,     0.41341,     0.41441,     0.41542,     0.41642,     0.41742,     0.41842,     0.41942,     0.42042,     0.42142,     0.42242,     0.42342,     0.42442,     0.42543,     0.42643,     0.42743,     0.42843,     0.42943,     0.43043,     0.43143,\n",
       "           0.43243,     0.43343,     0.43443,     0.43544,     0.43644,     0.43744,     0.43844,     0.43944,     0.44044,     0.44144,     0.44244,     0.44344,     0.44444,     0.44545,     0.44645,     0.44745,     0.44845,     0.44945,     0.45045,     0.45145,     0.45245,     0.45345,     0.45445,     0.45546,\n",
       "           0.45646,     0.45746,     0.45846,     0.45946,     0.46046,     0.46146,     0.46246,     0.46346,     0.46446,     0.46547,     0.46647,     0.46747,     0.46847,     0.46947,     0.47047,     0.47147,     0.47247,     0.47347,     0.47447,     0.47548,     0.47648,     0.47748,     0.47848,     0.47948,\n",
       "           0.48048,     0.48148,     0.48248,     0.48348,     0.48448,     0.48549,     0.48649,     0.48749,     0.48849,     0.48949,     0.49049,     0.49149,     0.49249,     0.49349,     0.49449,      0.4955,      0.4965,      0.4975,      0.4985,      0.4995,      0.5005,      0.5015,      0.5025,      0.5035,\n",
       "            0.5045,     0.50551,     0.50651,     0.50751,     0.50851,     0.50951,     0.51051,     0.51151,     0.51251,     0.51351,     0.51451,     0.51552,     0.51652,     0.51752,     0.51852,     0.51952,     0.52052,     0.52152,     0.52252,     0.52352,     0.52452,     0.52553,     0.52653,     0.52753,\n",
       "           0.52853,     0.52953,     0.53053,     0.53153,     0.53253,     0.53353,     0.53453,     0.53554,     0.53654,     0.53754,     0.53854,     0.53954,     0.54054,     0.54154,     0.54254,     0.54354,     0.54454,     0.54555,     0.54655,     0.54755,     0.54855,     0.54955,     0.55055,     0.55155,\n",
       "           0.55255,     0.55355,     0.55455,     0.55556,     0.55656,     0.55756,     0.55856,     0.55956,     0.56056,     0.56156,     0.56256,     0.56356,     0.56456,     0.56557,     0.56657,     0.56757,     0.56857,     0.56957,     0.57057,     0.57157,     0.57257,     0.57357,     0.57457,     0.57558,\n",
       "           0.57658,     0.57758,     0.57858,     0.57958,     0.58058,     0.58158,     0.58258,     0.58358,     0.58458,     0.58559,     0.58659,     0.58759,     0.58859,     0.58959,     0.59059,     0.59159,     0.59259,     0.59359,     0.59459,      0.5956,      0.5966,      0.5976,      0.5986,      0.5996,\n",
       "            0.6006,      0.6016,      0.6026,      0.6036,      0.6046,     0.60561,     0.60661,     0.60761,     0.60861,     0.60961,     0.61061,     0.61161,     0.61261,     0.61361,     0.61461,     0.61562,     0.61662,     0.61762,     0.61862,     0.61962,     0.62062,     0.62162,     0.62262,     0.62362,\n",
       "           0.62462,     0.62563,     0.62663,     0.62763,     0.62863,     0.62963,     0.63063,     0.63163,     0.63263,     0.63363,     0.63463,     0.63564,     0.63664,     0.63764,     0.63864,     0.63964,     0.64064,     0.64164,     0.64264,     0.64364,     0.64464,     0.64565,     0.64665,     0.64765,\n",
       "           0.64865,     0.64965,     0.65065,     0.65165,     0.65265,     0.65365,     0.65465,     0.65566,     0.65666,     0.65766,     0.65866,     0.65966,     0.66066,     0.66166,     0.66266,     0.66366,     0.66466,     0.66567,     0.66667,     0.66767,     0.66867,     0.66967,     0.67067,     0.67167,\n",
       "           0.67267,     0.67367,     0.67467,     0.67568,     0.67668,     0.67768,     0.67868,     0.67968,     0.68068,     0.68168,     0.68268,     0.68368,     0.68468,     0.68569,     0.68669,     0.68769,     0.68869,     0.68969,     0.69069,     0.69169,     0.69269,     0.69369,     0.69469,      0.6957,\n",
       "            0.6967,      0.6977,      0.6987,      0.6997,      0.7007,      0.7017,      0.7027,      0.7037,      0.7047,     0.70571,     0.70671,     0.70771,     0.70871,     0.70971,     0.71071,     0.71171,     0.71271,     0.71371,     0.71471,     0.71572,     0.71672,     0.71772,     0.71872,     0.71972,\n",
       "           0.72072,     0.72172,     0.72272,     0.72372,     0.72472,     0.72573,     0.72673,     0.72773,     0.72873,     0.72973,     0.73073,     0.73173,     0.73273,     0.73373,     0.73473,     0.73574,     0.73674,     0.73774,     0.73874,     0.73974,     0.74074,     0.74174,     0.74274,     0.74374,\n",
       "           0.74474,     0.74575,     0.74675,     0.74775,     0.74875,     0.74975,     0.75075,     0.75175,     0.75275,     0.75375,     0.75475,     0.75576,     0.75676,     0.75776,     0.75876,     0.75976,     0.76076,     0.76176,     0.76276,     0.76376,     0.76476,     0.76577,     0.76677,     0.76777,\n",
       "           0.76877,     0.76977,     0.77077,     0.77177,     0.77277,     0.77377,     0.77477,     0.77578,     0.77678,     0.77778,     0.77878,     0.77978,     0.78078,     0.78178,     0.78278,     0.78378,     0.78478,     0.78579,     0.78679,     0.78779,     0.78879,     0.78979,     0.79079,     0.79179,\n",
       "           0.79279,     0.79379,     0.79479,      0.7958,      0.7968,      0.7978,      0.7988,      0.7998,      0.8008,      0.8018,      0.8028,      0.8038,      0.8048,     0.80581,     0.80681,     0.80781,     0.80881,     0.80981,     0.81081,     0.81181,     0.81281,     0.81381,     0.81481,     0.81582,\n",
       "           0.81682,     0.81782,     0.81882,     0.81982,     0.82082,     0.82182,     0.82282,     0.82382,     0.82482,     0.82583,     0.82683,     0.82783,     0.82883,     0.82983,     0.83083,     0.83183,     0.83283,     0.83383,     0.83483,     0.83584,     0.83684,     0.83784,     0.83884,     0.83984,\n",
       "           0.84084,     0.84184,     0.84284,     0.84384,     0.84484,     0.84585,     0.84685,     0.84785,     0.84885,     0.84985,     0.85085,     0.85185,     0.85285,     0.85385,     0.85485,     0.85586,     0.85686,     0.85786,     0.85886,     0.85986,     0.86086,     0.86186,     0.86286,     0.86386,\n",
       "           0.86486,     0.86587,     0.86687,     0.86787,     0.86887,     0.86987,     0.87087,     0.87187,     0.87287,     0.87387,     0.87487,     0.87588,     0.87688,     0.87788,     0.87888,     0.87988,     0.88088,     0.88188,     0.88288,     0.88388,     0.88488,     0.88589,     0.88689,     0.88789,\n",
       "           0.88889,     0.88989,     0.89089,     0.89189,     0.89289,     0.89389,     0.89489,      0.8959,      0.8969,      0.8979,      0.8989,      0.8999,      0.9009,      0.9019,      0.9029,      0.9039,      0.9049,     0.90591,     0.90691,     0.90791,     0.90891,     0.90991,     0.91091,     0.91191,\n",
       "           0.91291,     0.91391,     0.91491,     0.91592,     0.91692,     0.91792,     0.91892,     0.91992,     0.92092,     0.92192,     0.92292,     0.92392,     0.92492,     0.92593,     0.92693,     0.92793,     0.92893,     0.92993,     0.93093,     0.93193,     0.93293,     0.93393,     0.93493,     0.93594,\n",
       "           0.93694,     0.93794,     0.93894,     0.93994,     0.94094,     0.94194,     0.94294,     0.94394,     0.94494,     0.94595,     0.94695,     0.94795,     0.94895,     0.94995,     0.95095,     0.95195,     0.95295,     0.95395,     0.95495,     0.95596,     0.95696,     0.95796,     0.95896,     0.95996,\n",
       "           0.96096,     0.96196,     0.96296,     0.96396,     0.96496,     0.96597,     0.96697,     0.96797,     0.96897,     0.96997,     0.97097,     0.97197,     0.97297,     0.97397,     0.97497,     0.97598,     0.97698,     0.97798,     0.97898,     0.97998,     0.98098,     0.98198,     0.98298,     0.98398,\n",
       "           0.98498,     0.98599,     0.98699,     0.98799,     0.98899,     0.98999,     0.99099,     0.99199,     0.99299,     0.99399,     0.99499,       0.996,       0.997,       0.998,       0.999,           1]), array([[          1,           1,           1,           1,           1,           1,           1,           1,           1,           1,           1,           1,           1,           1,           1,           1,           1,           1,           1,           1,           1,           1,           1,\n",
       "                  1,           1,           1,           1,           1,           1,           1,           1,           1,           1,           1,           1,           1,           1,           1,           1,           1,           1,           1,           1,           1,           1,           1,\n",
       "                  1,           1,           1,           1,           1,           1,           1,           1,           1,           1,           1,           1,           1,           1,           1,           1,           1,           1,           1,           1,           1,           1,           1,\n",
       "                  1,           1,           1,           1,           1,           1,           1,           1,           1,           1,           1,           1,           1,           1,           1,           1,           1,           1,           1,           1,           1,           1,           1,\n",
       "                  1,           1,           1,           1,           1,           1,           1,           1,           1,           1,           1,           1,           1,           1,           1,           1,           1,           1,           1,           1,           1,           1,           1,\n",
       "                  1,           1,           1,           1,           1,           1,           1,           1,           1,           1,           1,           1,           1,           1,           1,           1,           1,           1,           1,           1,           1,           1,           1,\n",
       "                  1,           1,           1,           1,           1,           1,           1,           1,           1,           1,           1,           1,           1,           1,           1,           1,           1,           1,           1,           1,           1,           1,           1,\n",
       "                  1,           1,           1,           1,           1,           1,           1,           1,           1,           1,           1,           1,           1,           1,           1,           1,           1,           1,           1,           1,           1,           1,           1,\n",
       "                  1,           1,           1,           1,           1,           1,           1,           1,           1,           1,           1,           1,           1,           1,           1,           1,           1,           1,           1,           1,           1,           1,           1,\n",
       "                  1,           1,           1,           1,           1,           1,           1,           1,           1,           1,           1,           1,           1,           1,           1,           1,           1,           1,           1,           1,           1,           1,           1,\n",
       "                  1,           1,           1,           1,           1,           1,           1,           1,           1,           1,           1,           1,           1,           1,           1,           1,           1,           1,           1,           1,           1,           1,           1,\n",
       "                  1,           1,           1,           1,           1,           1,           1,           1,           1,           1,           1,           1,           1,           1,           1,           1,           1,           1,           1,           1,           1,           1,           1,\n",
       "                  1,           1,           1,           1,           1,           1,           1,           1,           1,           1,           1,           1,           1,           1,           1,           1,           1,           1,           1,           1,           1,           1,           1,\n",
       "                  1,           1,           1,           1,           1,           1,           1,           1,           1,           1,           1,           1,           1,           1,           1,           1,           1,           1,           1,           1,           1,           1,           1,\n",
       "                  1,           1,           1,           1,           1,           1,           1,           1,           1,           1,           1,           1,           1,           1,           1,           1,           1,           1,           1,           1,           1,           1,           1,\n",
       "                  1,           1,           1,           1,           1,           1,           1,           1,           1,           1,           1,           1,           1,           1,           1,           1,           1,           1,           1,           1,           1,           1,           1,\n",
       "                  1,           1,           1,           1,           1,           1,           1,           1,           1,           1,           1,           1,           1,           1,           1,           1,           1,           1,           1,           1,           1,           1,           1,\n",
       "                  1,           1,           1,           1,           1,           1,           1,           1,           1,           1,           1,           1,           1,           1,           1,           1,           1,           1,           1,           1,           1,           1,           1,\n",
       "                  1,           1,           1,           1,           1,           1,           1,           1,           1,           1,           1,           1,           1,           1,           1,           1,           1,           1,           1,           1,           1,           1,           1,\n",
       "                  1,           1,           1,           1,           1,           1,           1,           1,           1,           1,           1,           1,           1,           1,           1,           1,           1,           1,           1,           1,           1,           1,           1,\n",
       "                  1,           1,           1,           1,           1,           1,           1,           1,           1,           1,           1,           1,           1,           1,           1,           1,           1,           1,           1,           1,           1,           1,           1,\n",
       "                  1,           1,           1,           1,           1,           1,           1,           1,           1,           1,           1,           1,           1,           1,           1,           1,           1,           1,           1,           1,           1,           1,           1,\n",
       "                  1,           1,           1,           1,           1,           1,           1,           1,           1,           1,           1,           1,           1,           1,           1,           1,           1,           1,           1,           1,           1,           1,           1,\n",
       "                  1,           1,           1,           1,           1,           1,           1,           1,           1,           1,           1,           1,           1,           1,           1,           1,           1,           1,           1,           1,           1,           1,           1,\n",
       "                  1,           1,           1,           1,           1,           1,           1,           1,           1,           1,           1,           1,           1,           1,           1,           1,           1,           1,           1,           1,           1,           1,           1,\n",
       "                  1,           1,           1,           1,           1,           1,           1,           1,           1,           1,           1,           1,           1,           1,           1,           1,           1,           1,           1,           1,           1,           1,           1,\n",
       "                  1,           1,           1,           1,           1,           1,           1,           1,           1,           1,           1,           1,           1,           1,           1,           1,           1,           1,           1,           1,           1,           1,           1,\n",
       "                  1,           1,           1,           1,           1,           1,           1,           1,           1,           1,           1,           1,           1,           1,           1,           1,           1,           1,           1,           1,           1,           1,           1,\n",
       "                  1,           1,           1,           1,           1,           1,           1,           1,           1,           1,           1,           1,           1,           1,           1,           1,           1,           1,           1,           1,           1,           1,           1,\n",
       "                  1,           1,           1,           1,           1,           1,           1,           1,           1,           1,           1,           1,           1,           1,           1,           1,           1,           1,           1,           1,           1,           1,           1,\n",
       "                  1,           1,           1,           1,           1,           1,           1,           1,           1,           1,           1,           1,           1,           1,           1,           1,           1,           1,           1,           1,           1,           1,           1,\n",
       "                  1,           1,           1,           1,           1,           1,           1,           1,           1,           1,           1,           1,           1,           1,           1,           1,           1,           1,           1,           1,           1,           1,           1,\n",
       "                  1,           1,           1,           1,           1,           1,           1,           1,           1,           1,           1,           1,           1,           1,           1,           1,           1,           1,           1,           1,           1,           1,           1,\n",
       "                  1,           1,           1,           1,           1,           1,           1,           1,           1,           1,           1,           1,           1,           1,           1,           1,           1,           1,           1,           1,           1,           1,           1,\n",
       "                  1,           1,           1,           1,           1,           1,           1,           1,           1,           1,           1,           1,           1,           1,           1,           1,           1,           1,           1,           1,           1,           1,           1,\n",
       "                  1,           1,           1,           1,           1,           1,           1,           1,           1,           1,           1,           1,           1,           1,           1,           1,           1,           1,           1,           1,           1,           1,           1,\n",
       "                  1,           1,           1,           1,           1,           1,           1,           1,           1,           1,           1,           1,           1,           1,           1,           1,           1,           1,           1,           1,           1,           1,           1,\n",
       "                  1,           1,           1,           1,           1,           1,           1,           1,           1,           1,           1,           1,           1,           1,           1,           1,           1,           1,     0.91667,     0.91667,     0.91667,     0.91667,     0.91667,\n",
       "            0.91667,     0.91667,     0.91667,     0.91667,     0.91667,     0.91667,     0.91667,     0.91667,     0.91667,     0.91667,     0.91667,     0.91667,     0.91667,     0.91667,     0.91667,     0.91667,     0.91667,     0.91667,     0.91667,     0.91667,     0.91667,     0.91667,     0.91667,\n",
       "            0.91667,     0.91667,     0.91667,     0.91667,     0.91667,     0.91667,     0.91667,     0.91667,     0.91667,     0.91667,     0.91667,     0.91667,     0.91667,     0.91667,     0.91667,     0.91667,     0.91667,     0.91667,     0.91667,     0.91667,     0.91667,     0.91667,     0.91667,\n",
       "            0.91667,     0.91667,     0.91667,     0.91667,     0.91667,     0.91667,     0.91667,     0.91667,     0.91667,     0.91667,     0.91667,     0.91667,     0.91667,     0.91667,     0.91667,     0.91667,     0.91667,     0.91667,     0.91667,     0.91667,     0.91667,     0.91667,     0.91667,\n",
       "            0.91667,     0.91667,     0.91667,     0.91667,     0.91667,     0.91667,     0.91667,     0.91667,     0.91667,     0.91667,     0.91667,     0.91667,     0.91667,      0.7931,      0.7931,      0.7931,      0.7931,      0.7931,      0.7931,      0.7931,      0.7931,      0.7931,      0.7931,\n",
       "             0.7931,      0.7931,      0.7931,      0.7931,      0.7931,      0.7931,      0.7931,      0.7931,      0.7931,      0.7931,      0.7931,      0.7931,      0.7931,      0.7931,      0.7931,      0.7931,      0.7931,      0.7931,      0.7931,      0.7931,      0.7931,      0.7931,      0.7931,\n",
       "             0.7931,      0.7931,      0.7931,      0.7931,      0.7931,      0.7931,      0.7931,      0.7931,      0.7931,      0.7931,           0]]), 'Recall', 'Precision'], [array([          0,    0.001001,    0.002002,    0.003003,    0.004004,    0.005005,    0.006006,    0.007007,    0.008008,    0.009009,     0.01001,    0.011011,    0.012012,    0.013013,    0.014014,    0.015015,    0.016016,    0.017017,    0.018018,    0.019019,     0.02002,    0.021021,    0.022022,    0.023023,\n",
       "          0.024024,    0.025025,    0.026026,    0.027027,    0.028028,    0.029029,     0.03003,    0.031031,    0.032032,    0.033033,    0.034034,    0.035035,    0.036036,    0.037037,    0.038038,    0.039039,     0.04004,    0.041041,    0.042042,    0.043043,    0.044044,    0.045045,    0.046046,    0.047047,\n",
       "          0.048048,    0.049049,     0.05005,    0.051051,    0.052052,    0.053053,    0.054054,    0.055055,    0.056056,    0.057057,    0.058058,    0.059059,     0.06006,    0.061061,    0.062062,    0.063063,    0.064064,    0.065065,    0.066066,    0.067067,    0.068068,    0.069069,     0.07007,    0.071071,\n",
       "          0.072072,    0.073073,    0.074074,    0.075075,    0.076076,    0.077077,    0.078078,    0.079079,     0.08008,    0.081081,    0.082082,    0.083083,    0.084084,    0.085085,    0.086086,    0.087087,    0.088088,    0.089089,     0.09009,    0.091091,    0.092092,    0.093093,    0.094094,    0.095095,\n",
       "          0.096096,    0.097097,    0.098098,    0.099099,      0.1001,      0.1011,      0.1021,      0.1031,      0.1041,     0.10511,     0.10611,     0.10711,     0.10811,     0.10911,     0.11011,     0.11111,     0.11211,     0.11311,     0.11411,     0.11512,     0.11612,     0.11712,     0.11812,     0.11912,\n",
       "           0.12012,     0.12112,     0.12212,     0.12312,     0.12412,     0.12513,     0.12613,     0.12713,     0.12813,     0.12913,     0.13013,     0.13113,     0.13213,     0.13313,     0.13413,     0.13514,     0.13614,     0.13714,     0.13814,     0.13914,     0.14014,     0.14114,     0.14214,     0.14314,\n",
       "           0.14414,     0.14515,     0.14615,     0.14715,     0.14815,     0.14915,     0.15015,     0.15115,     0.15215,     0.15315,     0.15415,     0.15516,     0.15616,     0.15716,     0.15816,     0.15916,     0.16016,     0.16116,     0.16216,     0.16316,     0.16416,     0.16517,     0.16617,     0.16717,\n",
       "           0.16817,     0.16917,     0.17017,     0.17117,     0.17217,     0.17317,     0.17417,     0.17518,     0.17618,     0.17718,     0.17818,     0.17918,     0.18018,     0.18118,     0.18218,     0.18318,     0.18418,     0.18519,     0.18619,     0.18719,     0.18819,     0.18919,     0.19019,     0.19119,\n",
       "           0.19219,     0.19319,     0.19419,      0.1952,      0.1962,      0.1972,      0.1982,      0.1992,      0.2002,      0.2012,      0.2022,      0.2032,      0.2042,     0.20521,     0.20621,     0.20721,     0.20821,     0.20921,     0.21021,     0.21121,     0.21221,     0.21321,     0.21421,     0.21522,\n",
       "           0.21622,     0.21722,     0.21822,     0.21922,     0.22022,     0.22122,     0.22222,     0.22322,     0.22422,     0.22523,     0.22623,     0.22723,     0.22823,     0.22923,     0.23023,     0.23123,     0.23223,     0.23323,     0.23423,     0.23524,     0.23624,     0.23724,     0.23824,     0.23924,\n",
       "           0.24024,     0.24124,     0.24224,     0.24324,     0.24424,     0.24525,     0.24625,     0.24725,     0.24825,     0.24925,     0.25025,     0.25125,     0.25225,     0.25325,     0.25425,     0.25526,     0.25626,     0.25726,     0.25826,     0.25926,     0.26026,     0.26126,     0.26226,     0.26326,\n",
       "           0.26426,     0.26527,     0.26627,     0.26727,     0.26827,     0.26927,     0.27027,     0.27127,     0.27227,     0.27327,     0.27427,     0.27528,     0.27628,     0.27728,     0.27828,     0.27928,     0.28028,     0.28128,     0.28228,     0.28328,     0.28428,     0.28529,     0.28629,     0.28729,\n",
       "           0.28829,     0.28929,     0.29029,     0.29129,     0.29229,     0.29329,     0.29429,      0.2953,      0.2963,      0.2973,      0.2983,      0.2993,      0.3003,      0.3013,      0.3023,      0.3033,      0.3043,     0.30531,     0.30631,     0.30731,     0.30831,     0.30931,     0.31031,     0.31131,\n",
       "           0.31231,     0.31331,     0.31431,     0.31532,     0.31632,     0.31732,     0.31832,     0.31932,     0.32032,     0.32132,     0.32232,     0.32332,     0.32432,     0.32533,     0.32633,     0.32733,     0.32833,     0.32933,     0.33033,     0.33133,     0.33233,     0.33333,     0.33433,     0.33534,\n",
       "           0.33634,     0.33734,     0.33834,     0.33934,     0.34034,     0.34134,     0.34234,     0.34334,     0.34434,     0.34535,     0.34635,     0.34735,     0.34835,     0.34935,     0.35035,     0.35135,     0.35235,     0.35335,     0.35435,     0.35536,     0.35636,     0.35736,     0.35836,     0.35936,\n",
       "           0.36036,     0.36136,     0.36236,     0.36336,     0.36436,     0.36537,     0.36637,     0.36737,     0.36837,     0.36937,     0.37037,     0.37137,     0.37237,     0.37337,     0.37437,     0.37538,     0.37638,     0.37738,     0.37838,     0.37938,     0.38038,     0.38138,     0.38238,     0.38338,\n",
       "           0.38438,     0.38539,     0.38639,     0.38739,     0.38839,     0.38939,     0.39039,     0.39139,     0.39239,     0.39339,     0.39439,      0.3954,      0.3964,      0.3974,      0.3984,      0.3994,      0.4004,      0.4014,      0.4024,      0.4034,      0.4044,     0.40541,     0.40641,     0.40741,\n",
       "           0.40841,     0.40941,     0.41041,     0.41141,     0.41241,     0.41341,     0.41441,     0.41542,     0.41642,     0.41742,     0.41842,     0.41942,     0.42042,     0.42142,     0.42242,     0.42342,     0.42442,     0.42543,     0.42643,     0.42743,     0.42843,     0.42943,     0.43043,     0.43143,\n",
       "           0.43243,     0.43343,     0.43443,     0.43544,     0.43644,     0.43744,     0.43844,     0.43944,     0.44044,     0.44144,     0.44244,     0.44344,     0.44444,     0.44545,     0.44645,     0.44745,     0.44845,     0.44945,     0.45045,     0.45145,     0.45245,     0.45345,     0.45445,     0.45546,\n",
       "           0.45646,     0.45746,     0.45846,     0.45946,     0.46046,     0.46146,     0.46246,     0.46346,     0.46446,     0.46547,     0.46647,     0.46747,     0.46847,     0.46947,     0.47047,     0.47147,     0.47247,     0.47347,     0.47447,     0.47548,     0.47648,     0.47748,     0.47848,     0.47948,\n",
       "           0.48048,     0.48148,     0.48248,     0.48348,     0.48448,     0.48549,     0.48649,     0.48749,     0.48849,     0.48949,     0.49049,     0.49149,     0.49249,     0.49349,     0.49449,      0.4955,      0.4965,      0.4975,      0.4985,      0.4995,      0.5005,      0.5015,      0.5025,      0.5035,\n",
       "            0.5045,     0.50551,     0.50651,     0.50751,     0.50851,     0.50951,     0.51051,     0.51151,     0.51251,     0.51351,     0.51451,     0.51552,     0.51652,     0.51752,     0.51852,     0.51952,     0.52052,     0.52152,     0.52252,     0.52352,     0.52452,     0.52553,     0.52653,     0.52753,\n",
       "           0.52853,     0.52953,     0.53053,     0.53153,     0.53253,     0.53353,     0.53453,     0.53554,     0.53654,     0.53754,     0.53854,     0.53954,     0.54054,     0.54154,     0.54254,     0.54354,     0.54454,     0.54555,     0.54655,     0.54755,     0.54855,     0.54955,     0.55055,     0.55155,\n",
       "           0.55255,     0.55355,     0.55455,     0.55556,     0.55656,     0.55756,     0.55856,     0.55956,     0.56056,     0.56156,     0.56256,     0.56356,     0.56456,     0.56557,     0.56657,     0.56757,     0.56857,     0.56957,     0.57057,     0.57157,     0.57257,     0.57357,     0.57457,     0.57558,\n",
       "           0.57658,     0.57758,     0.57858,     0.57958,     0.58058,     0.58158,     0.58258,     0.58358,     0.58458,     0.58559,     0.58659,     0.58759,     0.58859,     0.58959,     0.59059,     0.59159,     0.59259,     0.59359,     0.59459,      0.5956,      0.5966,      0.5976,      0.5986,      0.5996,\n",
       "            0.6006,      0.6016,      0.6026,      0.6036,      0.6046,     0.60561,     0.60661,     0.60761,     0.60861,     0.60961,     0.61061,     0.61161,     0.61261,     0.61361,     0.61461,     0.61562,     0.61662,     0.61762,     0.61862,     0.61962,     0.62062,     0.62162,     0.62262,     0.62362,\n",
       "           0.62462,     0.62563,     0.62663,     0.62763,     0.62863,     0.62963,     0.63063,     0.63163,     0.63263,     0.63363,     0.63463,     0.63564,     0.63664,     0.63764,     0.63864,     0.63964,     0.64064,     0.64164,     0.64264,     0.64364,     0.64464,     0.64565,     0.64665,     0.64765,\n",
       "           0.64865,     0.64965,     0.65065,     0.65165,     0.65265,     0.65365,     0.65465,     0.65566,     0.65666,     0.65766,     0.65866,     0.65966,     0.66066,     0.66166,     0.66266,     0.66366,     0.66466,     0.66567,     0.66667,     0.66767,     0.66867,     0.66967,     0.67067,     0.67167,\n",
       "           0.67267,     0.67367,     0.67467,     0.67568,     0.67668,     0.67768,     0.67868,     0.67968,     0.68068,     0.68168,     0.68268,     0.68368,     0.68468,     0.68569,     0.68669,     0.68769,     0.68869,     0.68969,     0.69069,     0.69169,     0.69269,     0.69369,     0.69469,      0.6957,\n",
       "            0.6967,      0.6977,      0.6987,      0.6997,      0.7007,      0.7017,      0.7027,      0.7037,      0.7047,     0.70571,     0.70671,     0.70771,     0.70871,     0.70971,     0.71071,     0.71171,     0.71271,     0.71371,     0.71471,     0.71572,     0.71672,     0.71772,     0.71872,     0.71972,\n",
       "           0.72072,     0.72172,     0.72272,     0.72372,     0.72472,     0.72573,     0.72673,     0.72773,     0.72873,     0.72973,     0.73073,     0.73173,     0.73273,     0.73373,     0.73473,     0.73574,     0.73674,     0.73774,     0.73874,     0.73974,     0.74074,     0.74174,     0.74274,     0.74374,\n",
       "           0.74474,     0.74575,     0.74675,     0.74775,     0.74875,     0.74975,     0.75075,     0.75175,     0.75275,     0.75375,     0.75475,     0.75576,     0.75676,     0.75776,     0.75876,     0.75976,     0.76076,     0.76176,     0.76276,     0.76376,     0.76476,     0.76577,     0.76677,     0.76777,\n",
       "           0.76877,     0.76977,     0.77077,     0.77177,     0.77277,     0.77377,     0.77477,     0.77578,     0.77678,     0.77778,     0.77878,     0.77978,     0.78078,     0.78178,     0.78278,     0.78378,     0.78478,     0.78579,     0.78679,     0.78779,     0.78879,     0.78979,     0.79079,     0.79179,\n",
       "           0.79279,     0.79379,     0.79479,      0.7958,      0.7968,      0.7978,      0.7988,      0.7998,      0.8008,      0.8018,      0.8028,      0.8038,      0.8048,     0.80581,     0.80681,     0.80781,     0.80881,     0.80981,     0.81081,     0.81181,     0.81281,     0.81381,     0.81481,     0.81582,\n",
       "           0.81682,     0.81782,     0.81882,     0.81982,     0.82082,     0.82182,     0.82282,     0.82382,     0.82482,     0.82583,     0.82683,     0.82783,     0.82883,     0.82983,     0.83083,     0.83183,     0.83283,     0.83383,     0.83483,     0.83584,     0.83684,     0.83784,     0.83884,     0.83984,\n",
       "           0.84084,     0.84184,     0.84284,     0.84384,     0.84484,     0.84585,     0.84685,     0.84785,     0.84885,     0.84985,     0.85085,     0.85185,     0.85285,     0.85385,     0.85485,     0.85586,     0.85686,     0.85786,     0.85886,     0.85986,     0.86086,     0.86186,     0.86286,     0.86386,\n",
       "           0.86486,     0.86587,     0.86687,     0.86787,     0.86887,     0.86987,     0.87087,     0.87187,     0.87287,     0.87387,     0.87487,     0.87588,     0.87688,     0.87788,     0.87888,     0.87988,     0.88088,     0.88188,     0.88288,     0.88388,     0.88488,     0.88589,     0.88689,     0.88789,\n",
       "           0.88889,     0.88989,     0.89089,     0.89189,     0.89289,     0.89389,     0.89489,      0.8959,      0.8969,      0.8979,      0.8989,      0.8999,      0.9009,      0.9019,      0.9029,      0.9039,      0.9049,     0.90591,     0.90691,     0.90791,     0.90891,     0.90991,     0.91091,     0.91191,\n",
       "           0.91291,     0.91391,     0.91491,     0.91592,     0.91692,     0.91792,     0.91892,     0.91992,     0.92092,     0.92192,     0.92292,     0.92392,     0.92492,     0.92593,     0.92693,     0.92793,     0.92893,     0.92993,     0.93093,     0.93193,     0.93293,     0.93393,     0.93493,     0.93594,\n",
       "           0.93694,     0.93794,     0.93894,     0.93994,     0.94094,     0.94194,     0.94294,     0.94394,     0.94494,     0.94595,     0.94695,     0.94795,     0.94895,     0.94995,     0.95095,     0.95195,     0.95295,     0.95395,     0.95495,     0.95596,     0.95696,     0.95796,     0.95896,     0.95996,\n",
       "           0.96096,     0.96196,     0.96296,     0.96396,     0.96496,     0.96597,     0.96697,     0.96797,     0.96897,     0.96997,     0.97097,     0.97197,     0.97297,     0.97397,     0.97497,     0.97598,     0.97698,     0.97798,     0.97898,     0.97998,     0.98098,     0.98198,     0.98298,     0.98398,\n",
       "           0.98498,     0.98599,     0.98699,     0.98799,     0.98899,     0.98999,     0.99099,     0.99199,     0.99299,     0.99399,     0.99499,       0.996,       0.997,       0.998,       0.999,           1]), array([[    0.17164,     0.17164,     0.22771,     0.26743,     0.29731,     0.33218,     0.36919,     0.38327,     0.40261,     0.43939,     0.44761,      0.4582,     0.47814,     0.49435,     0.50336,      0.5125,     0.51653,     0.53465,      0.5394,     0.55549,     0.55864,     0.56192,     0.56565,\n",
       "            0.57714,      0.5848,     0.59202,     0.59533,     0.59879,     0.60253,     0.60754,     0.61488,      0.6197,     0.62258,     0.62418,     0.62578,     0.62738,     0.62897,     0.63554,     0.65716,      0.6586,     0.66004,     0.66148,     0.66291,     0.66434,     0.66577,     0.67362,\n",
       "            0.68151,     0.68696,      0.6897,     0.69243,     0.69515,     0.69772,     0.69997,     0.70221,     0.70445,     0.70668,     0.71183,     0.71891,     0.72088,     0.72285,     0.72481,     0.72677,     0.72872,     0.73148,     0.73658,     0.74164,     0.75367,     0.75532,     0.75659,\n",
       "            0.75785,     0.75911,     0.76037,     0.76163,     0.76288,     0.76413,     0.76538,     0.76662,     0.76835,      0.7701,     0.77184,     0.77357,      0.7753,     0.77702,     0.77874,     0.78271,     0.78919,     0.79334,     0.79396,     0.79457,     0.79519,      0.7958,     0.79641,\n",
       "            0.79703,     0.79764,     0.79825,     0.79886,     0.79947,     0.80008,     0.80068,     0.80129,      0.8019,     0.80251,     0.80311,     0.80372,     0.80432,     0.80492,     0.80553,     0.80613,     0.80673,     0.80988,     0.81526,      0.8206,     0.82202,     0.82272,     0.82341,\n",
       "            0.82411,      0.8248,      0.8255,     0.82619,     0.82688,     0.82758,     0.82827,     0.82896,     0.82965,     0.83034,     0.83102,     0.83171,      0.8324,     0.83308,     0.83377,     0.83445,     0.83514,     0.83582,     0.83667,      0.8382,     0.83972,     0.84124,     0.84276,\n",
       "            0.84428,     0.84578,     0.84729,     0.84879,     0.85029,     0.85178,     0.85714,     0.86264,     0.86812,     0.87502,     0.88184,     0.88373,     0.88223,     0.88072,     0.87921,      0.8777,     0.87618,     0.87467,     0.87315,     0.87163,      0.8701,     0.86857,     0.86704,\n",
       "            0.86551,     0.86398,     0.86405,     0.87053,     0.87693,     0.88176,     0.88514,      0.8885,     0.89184,     0.89516,     0.89824,      0.9001,     0.90194,     0.90379,     0.90562,     0.90745,     0.90927,     0.91109,      0.9129,      0.9147,      0.9165,     0.91788,     0.91921,\n",
       "            0.92054,     0.92186,     0.92318,      0.9245,     0.92582,     0.92713,     0.92844,     0.92974,     0.93104,     0.93234,     0.93363,     0.93492,     0.93617,     0.93601,     0.93586,     0.93571,     0.93556,     0.93541,     0.93525,      0.9351,     0.93495,      0.9348,     0.93465,\n",
       "            0.93449,     0.93434,     0.93419,     0.93404,     0.93388,     0.93373,     0.93358,     0.93343,     0.93328,     0.93312,     0.93297,     0.93282,     0.93266,     0.93251,     0.93236,     0.93221,     0.93205,      0.9319,     0.93175,      0.9316,     0.93144,     0.93129,     0.93114,\n",
       "            0.93098,     0.93083,     0.93068,     0.93052,     0.93037,     0.93022,     0.93006,     0.92991,     0.92976,      0.9296,     0.92945,      0.9293,     0.92914,     0.92899,     0.92884,     0.92868,     0.92853,     0.92838,     0.92822,     0.92807,     0.92792,     0.92776,     0.92761,\n",
       "            0.92745,      0.9273,     0.92715,     0.92699,     0.92684,     0.92668,     0.92653,     0.92638,     0.92622,     0.92607,     0.92591,     0.92576,     0.92561,     0.92545,      0.9253,     0.92514,     0.92499,     0.92483,     0.92468,     0.92452,     0.92437,     0.92421,     0.92406,\n",
       "            0.92391,     0.92375,      0.9236,     0.92344,     0.92329,     0.92313,     0.92298,     0.92282,     0.92267,     0.92251,     0.92236,      0.9222,     0.92205,     0.92189,     0.92174,     0.92158,     0.92142,     0.92127,     0.92111,     0.92096,      0.9208,     0.92065,     0.92049,\n",
       "            0.92034,     0.92018,     0.92003,     0.91987,     0.91971,     0.91956,      0.9194,     0.91925,     0.91909,     0.91893,     0.91878,     0.91862,     0.91847,     0.91831,     0.91815,       0.918,     0.91784,     0.91769,     0.91753,     0.91737,     0.91722,     0.91706,      0.9169,\n",
       "            0.91675,     0.91659,     0.91643,     0.91628,     0.91612,     0.91596,     0.91581,     0.91565,     0.91549,     0.91534,     0.91518,     0.91502,     0.91487,     0.91471,     0.91455,      0.9144,     0.91424,     0.91408,     0.91392,     0.91377,     0.91361,     0.91345,      0.9133,\n",
       "            0.91314,     0.91287,     0.91244,       0.912,     0.91157,     0.91113,      0.9107,     0.91026,     0.90982,     0.90939,     0.90895,     0.90851,     0.90808,     0.90764,      0.9072,     0.90676,     0.90632,     0.90589,     0.90545,     0.90501,     0.90457,     0.90413,     0.90369,\n",
       "            0.90325,     0.90281,     0.90237,     0.90192,     0.90148,     0.90104,      0.9006,     0.90016,     0.89971,     0.89927,     0.89883,     0.89838,     0.89794,     0.89749,     0.89705,     0.89661,     0.89616,     0.89571,     0.89527,     0.89482,     0.89438,     0.89393,     0.89348,\n",
       "            0.89303,     0.89259,     0.89214,     0.89169,     0.89124,     0.89079,     0.89034,     0.88989,     0.88944,     0.88899,     0.88905,     0.88926,     0.88948,     0.88969,      0.8899,     0.89011,     0.89033,     0.89054,     0.89075,     0.89096,     0.89117,     0.89138,     0.89159,\n",
       "            0.89181,     0.89202,     0.89223,     0.89244,     0.89265,     0.89286,     0.89307,     0.89328,     0.89349,      0.8937,     0.89391,     0.89412,     0.89433,     0.89454,     0.89475,     0.89496,     0.89517,     0.89538,     0.89559,      0.8958,     0.89601,     0.89622,     0.89643,\n",
       "            0.89664,     0.89684,     0.89705,     0.89726,     0.89747,     0.89768,     0.89789,     0.89809,      0.8983,     0.89851,     0.89872,     0.89893,     0.89913,     0.89934,     0.89955,     0.89976,     0.89996,     0.90017,     0.90038,     0.90058,     0.90079,       0.901,      0.9012,\n",
       "            0.90141,     0.90162,     0.90182,     0.90203,     0.90224,     0.90244,     0.90265,     0.90285,     0.90306,     0.90326,     0.90347,     0.90368,     0.90388,     0.90409,     0.90429,      0.9045,      0.9047,     0.90491,     0.90511,     0.90531,     0.90552,     0.90572,     0.90593,\n",
       "            0.90613,     0.90634,     0.90654,     0.90674,     0.90695,     0.90715,     0.90735,     0.90756,     0.90776,     0.90796,     0.90817,     0.90837,     0.90857,     0.90878,     0.90898,     0.90935,     0.90992,     0.91049,     0.91105,     0.91162,     0.91219,     0.91275,     0.91332,\n",
       "            0.91388,     0.91445,     0.91501,     0.91557,     0.91613,     0.91669,     0.91725,     0.91781,     0.91837,     0.91892,     0.91948,     0.92004,     0.92059,     0.92114,      0.9217,     0.92225,      0.9228,     0.92335,      0.9239,     0.92445,       0.925,     0.92555,      0.9261,\n",
       "            0.92664,     0.92719,     0.92774,     0.92828,     0.92882,     0.92937,     0.92991,     0.92895,     0.92574,     0.92252,     0.91927,     0.91601,     0.91273,     0.90942,      0.9061,     0.90451,     0.90409,     0.90367,     0.90324,     0.90282,      0.9024,     0.90198,     0.90155,\n",
       "            0.90113,     0.90071,     0.90028,     0.89986,     0.89943,     0.89901,     0.89858,     0.89816,     0.89773,      0.8973,     0.89688,     0.89645,     0.89602,     0.89559,     0.89517,     0.89474,     0.89431,     0.89388,     0.89345,     0.89302,     0.89259,     0.89216,     0.89173,\n",
       "             0.8913,     0.89087,     0.89043,        0.89,     0.88957,     0.88914,      0.8887,     0.88827,     0.88784,      0.8874,     0.88697,     0.88653,      0.8861,     0.88566,     0.88523,     0.88479,     0.88435,     0.88392,     0.88348,     0.88304,      0.8826,     0.88216,     0.88173,\n",
       "            0.88129,     0.88085,     0.88041,     0.87997,     0.87953,     0.87909,     0.87865,      0.8782,      0.8779,     0.87768,     0.87746,     0.87724,     0.87702,     0.87679,     0.87657,     0.87635,     0.87613,     0.87591,     0.87568,     0.87546,     0.87524,     0.87501,     0.87479,\n",
       "            0.87457,     0.87434,     0.87412,      0.8739,     0.87367,     0.87345,     0.87323,       0.873,     0.87278,     0.87256,     0.87233,     0.87211,     0.87188,     0.87166,     0.87144,     0.87121,     0.87099,     0.87076,     0.87054,     0.87031,     0.87009,     0.86986,     0.86964,\n",
       "            0.86941,     0.86919,     0.86896,     0.86874,     0.86851,     0.86829,     0.86806,     0.86783,     0.86761,     0.86738,     0.86716,     0.86693,      0.8667,     0.86648,     0.86625,     0.86603,      0.8658,     0.86557,     0.86535,     0.86512,     0.86489,     0.86466,     0.86444,\n",
       "            0.86421,     0.86398,     0.86376,     0.86353,      0.8633,     0.86307,     0.86285,     0.86262,     0.86239,     0.86216,     0.86193,     0.86171,     0.86148,     0.86125,     0.86102,     0.86079,     0.86056,     0.86033,     0.86011,     0.85988,     0.85965,     0.85942,     0.85919,\n",
       "            0.85896,     0.85873,      0.8585,     0.85827,     0.85804,     0.85781,     0.85758,     0.85735,     0.85712,     0.85689,     0.85666,     0.85643,      0.8562,     0.85597,     0.85574,     0.85551,     0.85528,     0.85505,     0.85482,     0.85459,     0.85435,     0.85412,     0.85389,\n",
       "            0.85366,     0.85343,      0.8532,     0.85297,     0.85273,      0.8525,     0.85227,     0.85204,     0.85181,     0.85157,     0.85134,     0.85111,     0.85088,     0.85064,     0.85041,     0.85018,     0.84965,     0.84817,     0.84669,     0.84521,     0.84372,     0.84223,     0.84074,\n",
       "            0.83924,     0.83773,     0.83623,     0.83472,      0.8332,     0.83168,     0.83016,     0.82863,      0.8271,     0.82557,     0.82403,     0.82248,     0.82094,     0.81933,     0.81769,     0.81605,      0.8144,     0.81275,      0.8111,     0.80944,     0.80777,      0.8061,     0.80443,\n",
       "            0.80275,     0.80107,     0.79938,     0.79768,     0.79599,     0.79428,     0.79258,     0.79087,     0.78896,     0.78623,     0.78349,     0.78073,     0.77797,     0.77519,     0.77239,     0.76959,     0.76677,     0.76394,      0.7611,     0.75824,     0.75641,     0.75568,     0.75495,\n",
       "            0.75423,      0.7535,     0.75277,     0.75204,     0.75131,     0.75058,     0.74984,     0.74911,     0.74837,     0.74764,      0.7469,     0.74617,     0.74543,     0.74469,     0.74395,     0.74321,     0.74247,     0.74173,     0.74098,     0.74024,     0.73949,     0.73875,       0.738,\n",
       "            0.73725,      0.7365,     0.73576,     0.73501,     0.73425,      0.7335,     0.73275,       0.732,     0.73124,     0.73048,     0.72973,     0.72897,     0.72821,     0.72745,     0.72669,     0.72593,     0.72517,     0.72441,     0.72364,     0.72288,     0.71703,     0.68513,     0.68162,\n",
       "            0.67809,     0.67454,     0.67097,     0.66738,     0.66378,     0.66015,      0.6565,     0.65284,     0.64915,     0.64432,     0.63799,      0.6316,     0.62515,     0.61864,     0.61207,     0.60558,     0.60047,     0.59531,     0.59012,     0.58489,     0.57962,     0.57431,     0.56896,\n",
       "            0.56358,     0.55425,     0.54383,     0.53325,     0.52252,     0.51474,     0.51134,     0.50793,      0.5045,     0.50105,     0.49759,     0.49411,     0.49062,     0.48711,     0.48359,     0.48004,     0.47648,     0.47291,     0.46932,     0.46357,     0.45179,     0.43983,     0.42769,\n",
       "            0.41535,      0.3804,     0.35508,     0.35004,     0.34497,     0.33986,     0.33473,     0.32957,     0.32437,     0.31914,     0.31388,     0.30858,     0.30325,     0.29789,     0.29278,     0.28777,     0.28273,     0.27766,     0.27256,     0.26743,     0.26227,     0.25708,     0.25186,\n",
       "             0.2466,     0.24132,       0.236,      0.2277,     0.15763,     0.15317,     0.14868,     0.14418,     0.13966,     0.13511,     0.13054,     0.12595,     0.12133,     0.11669,     0.11203,     0.10735,     0.10264,    0.097912,    0.093158,     0.08838,    0.083578,           0,           0,\n",
       "                  0,           0,           0,           0,           0,           0,           0,           0,           0,           0,           0,           0,           0,           0,           0,           0,           0,           0,           0,           0,           0,           0,           0,\n",
       "                  0,           0,           0,           0,           0,           0,           0,           0,           0,           0,           0,           0,           0,           0,           0,           0,           0,           0,           0,           0,           0,           0,           0,\n",
       "                  0,           0,           0,           0,           0,           0,           0,           0,           0,           0,           0,           0,           0,           0,           0,           0,           0,           0,           0,           0,           0,           0,           0,\n",
       "                  0,           0,           0,           0,           0,           0,           0,           0,           0,           0,           0]]), 'Confidence', 'F1'], [array([          0,    0.001001,    0.002002,    0.003003,    0.004004,    0.005005,    0.006006,    0.007007,    0.008008,    0.009009,     0.01001,    0.011011,    0.012012,    0.013013,    0.014014,    0.015015,    0.016016,    0.017017,    0.018018,    0.019019,     0.02002,    0.021021,    0.022022,    0.023023,\n",
       "          0.024024,    0.025025,    0.026026,    0.027027,    0.028028,    0.029029,     0.03003,    0.031031,    0.032032,    0.033033,    0.034034,    0.035035,    0.036036,    0.037037,    0.038038,    0.039039,     0.04004,    0.041041,    0.042042,    0.043043,    0.044044,    0.045045,    0.046046,    0.047047,\n",
       "          0.048048,    0.049049,     0.05005,    0.051051,    0.052052,    0.053053,    0.054054,    0.055055,    0.056056,    0.057057,    0.058058,    0.059059,     0.06006,    0.061061,    0.062062,    0.063063,    0.064064,    0.065065,    0.066066,    0.067067,    0.068068,    0.069069,     0.07007,    0.071071,\n",
       "          0.072072,    0.073073,    0.074074,    0.075075,    0.076076,    0.077077,    0.078078,    0.079079,     0.08008,    0.081081,    0.082082,    0.083083,    0.084084,    0.085085,    0.086086,    0.087087,    0.088088,    0.089089,     0.09009,    0.091091,    0.092092,    0.093093,    0.094094,    0.095095,\n",
       "          0.096096,    0.097097,    0.098098,    0.099099,      0.1001,      0.1011,      0.1021,      0.1031,      0.1041,     0.10511,     0.10611,     0.10711,     0.10811,     0.10911,     0.11011,     0.11111,     0.11211,     0.11311,     0.11411,     0.11512,     0.11612,     0.11712,     0.11812,     0.11912,\n",
       "           0.12012,     0.12112,     0.12212,     0.12312,     0.12412,     0.12513,     0.12613,     0.12713,     0.12813,     0.12913,     0.13013,     0.13113,     0.13213,     0.13313,     0.13413,     0.13514,     0.13614,     0.13714,     0.13814,     0.13914,     0.14014,     0.14114,     0.14214,     0.14314,\n",
       "           0.14414,     0.14515,     0.14615,     0.14715,     0.14815,     0.14915,     0.15015,     0.15115,     0.15215,     0.15315,     0.15415,     0.15516,     0.15616,     0.15716,     0.15816,     0.15916,     0.16016,     0.16116,     0.16216,     0.16316,     0.16416,     0.16517,     0.16617,     0.16717,\n",
       "           0.16817,     0.16917,     0.17017,     0.17117,     0.17217,     0.17317,     0.17417,     0.17518,     0.17618,     0.17718,     0.17818,     0.17918,     0.18018,     0.18118,     0.18218,     0.18318,     0.18418,     0.18519,     0.18619,     0.18719,     0.18819,     0.18919,     0.19019,     0.19119,\n",
       "           0.19219,     0.19319,     0.19419,      0.1952,      0.1962,      0.1972,      0.1982,      0.1992,      0.2002,      0.2012,      0.2022,      0.2032,      0.2042,     0.20521,     0.20621,     0.20721,     0.20821,     0.20921,     0.21021,     0.21121,     0.21221,     0.21321,     0.21421,     0.21522,\n",
       "           0.21622,     0.21722,     0.21822,     0.21922,     0.22022,     0.22122,     0.22222,     0.22322,     0.22422,     0.22523,     0.22623,     0.22723,     0.22823,     0.22923,     0.23023,     0.23123,     0.23223,     0.23323,     0.23423,     0.23524,     0.23624,     0.23724,     0.23824,     0.23924,\n",
       "           0.24024,     0.24124,     0.24224,     0.24324,     0.24424,     0.24525,     0.24625,     0.24725,     0.24825,     0.24925,     0.25025,     0.25125,     0.25225,     0.25325,     0.25425,     0.25526,     0.25626,     0.25726,     0.25826,     0.25926,     0.26026,     0.26126,     0.26226,     0.26326,\n",
       "           0.26426,     0.26527,     0.26627,     0.26727,     0.26827,     0.26927,     0.27027,     0.27127,     0.27227,     0.27327,     0.27427,     0.27528,     0.27628,     0.27728,     0.27828,     0.27928,     0.28028,     0.28128,     0.28228,     0.28328,     0.28428,     0.28529,     0.28629,     0.28729,\n",
       "           0.28829,     0.28929,     0.29029,     0.29129,     0.29229,     0.29329,     0.29429,      0.2953,      0.2963,      0.2973,      0.2983,      0.2993,      0.3003,      0.3013,      0.3023,      0.3033,      0.3043,     0.30531,     0.30631,     0.30731,     0.30831,     0.30931,     0.31031,     0.31131,\n",
       "           0.31231,     0.31331,     0.31431,     0.31532,     0.31632,     0.31732,     0.31832,     0.31932,     0.32032,     0.32132,     0.32232,     0.32332,     0.32432,     0.32533,     0.32633,     0.32733,     0.32833,     0.32933,     0.33033,     0.33133,     0.33233,     0.33333,     0.33433,     0.33534,\n",
       "           0.33634,     0.33734,     0.33834,     0.33934,     0.34034,     0.34134,     0.34234,     0.34334,     0.34434,     0.34535,     0.34635,     0.34735,     0.34835,     0.34935,     0.35035,     0.35135,     0.35235,     0.35335,     0.35435,     0.35536,     0.35636,     0.35736,     0.35836,     0.35936,\n",
       "           0.36036,     0.36136,     0.36236,     0.36336,     0.36436,     0.36537,     0.36637,     0.36737,     0.36837,     0.36937,     0.37037,     0.37137,     0.37237,     0.37337,     0.37437,     0.37538,     0.37638,     0.37738,     0.37838,     0.37938,     0.38038,     0.38138,     0.38238,     0.38338,\n",
       "           0.38438,     0.38539,     0.38639,     0.38739,     0.38839,     0.38939,     0.39039,     0.39139,     0.39239,     0.39339,     0.39439,      0.3954,      0.3964,      0.3974,      0.3984,      0.3994,      0.4004,      0.4014,      0.4024,      0.4034,      0.4044,     0.40541,     0.40641,     0.40741,\n",
       "           0.40841,     0.40941,     0.41041,     0.41141,     0.41241,     0.41341,     0.41441,     0.41542,     0.41642,     0.41742,     0.41842,     0.41942,     0.42042,     0.42142,     0.42242,     0.42342,     0.42442,     0.42543,     0.42643,     0.42743,     0.42843,     0.42943,     0.43043,     0.43143,\n",
       "           0.43243,     0.43343,     0.43443,     0.43544,     0.43644,     0.43744,     0.43844,     0.43944,     0.44044,     0.44144,     0.44244,     0.44344,     0.44444,     0.44545,     0.44645,     0.44745,     0.44845,     0.44945,     0.45045,     0.45145,     0.45245,     0.45345,     0.45445,     0.45546,\n",
       "           0.45646,     0.45746,     0.45846,     0.45946,     0.46046,     0.46146,     0.46246,     0.46346,     0.46446,     0.46547,     0.46647,     0.46747,     0.46847,     0.46947,     0.47047,     0.47147,     0.47247,     0.47347,     0.47447,     0.47548,     0.47648,     0.47748,     0.47848,     0.47948,\n",
       "           0.48048,     0.48148,     0.48248,     0.48348,     0.48448,     0.48549,     0.48649,     0.48749,     0.48849,     0.48949,     0.49049,     0.49149,     0.49249,     0.49349,     0.49449,      0.4955,      0.4965,      0.4975,      0.4985,      0.4995,      0.5005,      0.5015,      0.5025,      0.5035,\n",
       "            0.5045,     0.50551,     0.50651,     0.50751,     0.50851,     0.50951,     0.51051,     0.51151,     0.51251,     0.51351,     0.51451,     0.51552,     0.51652,     0.51752,     0.51852,     0.51952,     0.52052,     0.52152,     0.52252,     0.52352,     0.52452,     0.52553,     0.52653,     0.52753,\n",
       "           0.52853,     0.52953,     0.53053,     0.53153,     0.53253,     0.53353,     0.53453,     0.53554,     0.53654,     0.53754,     0.53854,     0.53954,     0.54054,     0.54154,     0.54254,     0.54354,     0.54454,     0.54555,     0.54655,     0.54755,     0.54855,     0.54955,     0.55055,     0.55155,\n",
       "           0.55255,     0.55355,     0.55455,     0.55556,     0.55656,     0.55756,     0.55856,     0.55956,     0.56056,     0.56156,     0.56256,     0.56356,     0.56456,     0.56557,     0.56657,     0.56757,     0.56857,     0.56957,     0.57057,     0.57157,     0.57257,     0.57357,     0.57457,     0.57558,\n",
       "           0.57658,     0.57758,     0.57858,     0.57958,     0.58058,     0.58158,     0.58258,     0.58358,     0.58458,     0.58559,     0.58659,     0.58759,     0.58859,     0.58959,     0.59059,     0.59159,     0.59259,     0.59359,     0.59459,      0.5956,      0.5966,      0.5976,      0.5986,      0.5996,\n",
       "            0.6006,      0.6016,      0.6026,      0.6036,      0.6046,     0.60561,     0.60661,     0.60761,     0.60861,     0.60961,     0.61061,     0.61161,     0.61261,     0.61361,     0.61461,     0.61562,     0.61662,     0.61762,     0.61862,     0.61962,     0.62062,     0.62162,     0.62262,     0.62362,\n",
       "           0.62462,     0.62563,     0.62663,     0.62763,     0.62863,     0.62963,     0.63063,     0.63163,     0.63263,     0.63363,     0.63463,     0.63564,     0.63664,     0.63764,     0.63864,     0.63964,     0.64064,     0.64164,     0.64264,     0.64364,     0.64464,     0.64565,     0.64665,     0.64765,\n",
       "           0.64865,     0.64965,     0.65065,     0.65165,     0.65265,     0.65365,     0.65465,     0.65566,     0.65666,     0.65766,     0.65866,     0.65966,     0.66066,     0.66166,     0.66266,     0.66366,     0.66466,     0.66567,     0.66667,     0.66767,     0.66867,     0.66967,     0.67067,     0.67167,\n",
       "           0.67267,     0.67367,     0.67467,     0.67568,     0.67668,     0.67768,     0.67868,     0.67968,     0.68068,     0.68168,     0.68268,     0.68368,     0.68468,     0.68569,     0.68669,     0.68769,     0.68869,     0.68969,     0.69069,     0.69169,     0.69269,     0.69369,     0.69469,      0.6957,\n",
       "            0.6967,      0.6977,      0.6987,      0.6997,      0.7007,      0.7017,      0.7027,      0.7037,      0.7047,     0.70571,     0.70671,     0.70771,     0.70871,     0.70971,     0.71071,     0.71171,     0.71271,     0.71371,     0.71471,     0.71572,     0.71672,     0.71772,     0.71872,     0.71972,\n",
       "           0.72072,     0.72172,     0.72272,     0.72372,     0.72472,     0.72573,     0.72673,     0.72773,     0.72873,     0.72973,     0.73073,     0.73173,     0.73273,     0.73373,     0.73473,     0.73574,     0.73674,     0.73774,     0.73874,     0.73974,     0.74074,     0.74174,     0.74274,     0.74374,\n",
       "           0.74474,     0.74575,     0.74675,     0.74775,     0.74875,     0.74975,     0.75075,     0.75175,     0.75275,     0.75375,     0.75475,     0.75576,     0.75676,     0.75776,     0.75876,     0.75976,     0.76076,     0.76176,     0.76276,     0.76376,     0.76476,     0.76577,     0.76677,     0.76777,\n",
       "           0.76877,     0.76977,     0.77077,     0.77177,     0.77277,     0.77377,     0.77477,     0.77578,     0.77678,     0.77778,     0.77878,     0.77978,     0.78078,     0.78178,     0.78278,     0.78378,     0.78478,     0.78579,     0.78679,     0.78779,     0.78879,     0.78979,     0.79079,     0.79179,\n",
       "           0.79279,     0.79379,     0.79479,      0.7958,      0.7968,      0.7978,      0.7988,      0.7998,      0.8008,      0.8018,      0.8028,      0.8038,      0.8048,     0.80581,     0.80681,     0.80781,     0.80881,     0.80981,     0.81081,     0.81181,     0.81281,     0.81381,     0.81481,     0.81582,\n",
       "           0.81682,     0.81782,     0.81882,     0.81982,     0.82082,     0.82182,     0.82282,     0.82382,     0.82482,     0.82583,     0.82683,     0.82783,     0.82883,     0.82983,     0.83083,     0.83183,     0.83283,     0.83383,     0.83483,     0.83584,     0.83684,     0.83784,     0.83884,     0.83984,\n",
       "           0.84084,     0.84184,     0.84284,     0.84384,     0.84484,     0.84585,     0.84685,     0.84785,     0.84885,     0.84985,     0.85085,     0.85185,     0.85285,     0.85385,     0.85485,     0.85586,     0.85686,     0.85786,     0.85886,     0.85986,     0.86086,     0.86186,     0.86286,     0.86386,\n",
       "           0.86486,     0.86587,     0.86687,     0.86787,     0.86887,     0.86987,     0.87087,     0.87187,     0.87287,     0.87387,     0.87487,     0.87588,     0.87688,     0.87788,     0.87888,     0.87988,     0.88088,     0.88188,     0.88288,     0.88388,     0.88488,     0.88589,     0.88689,     0.88789,\n",
       "           0.88889,     0.88989,     0.89089,     0.89189,     0.89289,     0.89389,     0.89489,      0.8959,      0.8969,      0.8979,      0.8989,      0.8999,      0.9009,      0.9019,      0.9029,      0.9039,      0.9049,     0.90591,     0.90691,     0.90791,     0.90891,     0.90991,     0.91091,     0.91191,\n",
       "           0.91291,     0.91391,     0.91491,     0.91592,     0.91692,     0.91792,     0.91892,     0.91992,     0.92092,     0.92192,     0.92292,     0.92392,     0.92492,     0.92593,     0.92693,     0.92793,     0.92893,     0.92993,     0.93093,     0.93193,     0.93293,     0.93393,     0.93493,     0.93594,\n",
       "           0.93694,     0.93794,     0.93894,     0.93994,     0.94094,     0.94194,     0.94294,     0.94394,     0.94494,     0.94595,     0.94695,     0.94795,     0.94895,     0.94995,     0.95095,     0.95195,     0.95295,     0.95395,     0.95495,     0.95596,     0.95696,     0.95796,     0.95896,     0.95996,\n",
       "           0.96096,     0.96196,     0.96296,     0.96396,     0.96496,     0.96597,     0.96697,     0.96797,     0.96897,     0.96997,     0.97097,     0.97197,     0.97297,     0.97397,     0.97497,     0.97598,     0.97698,     0.97798,     0.97898,     0.97998,     0.98098,     0.98198,     0.98298,     0.98398,\n",
       "           0.98498,     0.98599,     0.98699,     0.98799,     0.98899,     0.98999,     0.99099,     0.99199,     0.99299,     0.99399,     0.99499,       0.996,       0.997,       0.998,       0.999,           1]), array([[   0.093878,    0.093878,     0.12848,     0.15435,     0.17461,     0.19917,     0.22638,     0.23706,     0.25205,     0.28155,     0.28834,     0.29719,     0.31418,     0.32833,     0.33632,     0.34454,     0.34819,     0.36486,      0.3693,     0.38455,     0.38757,     0.39075,     0.39436,\n",
       "            0.40562,     0.41323,     0.42048,     0.42382,     0.42734,     0.43116,     0.43631,     0.44392,     0.44896,     0.45199,     0.45368,     0.45537,     0.45706,     0.45875,     0.46579,     0.48938,     0.49098,     0.49258,     0.49418,     0.49579,     0.49739,     0.49899,     0.50787,\n",
       "            0.51689,     0.52318,     0.52637,     0.52956,     0.53275,     0.53576,     0.53842,     0.54108,     0.54375,     0.54641,     0.55258,     0.56117,     0.56358,     0.56599,      0.5684,      0.5708,     0.57321,     0.57664,       0.583,     0.58937,     0.60471,     0.60684,     0.60848,\n",
       "            0.61011,     0.61175,     0.61339,     0.61502,     0.61666,     0.61829,     0.61993,     0.62156,     0.62384,     0.62615,     0.62845,     0.63075,     0.63305,     0.63536,     0.63766,     0.64299,     0.65179,     0.65747,     0.65832,     0.65917,     0.66001,     0.66086,      0.6617,\n",
       "            0.66255,     0.66339,     0.66424,     0.66508,     0.66593,     0.66677,     0.66762,     0.66846,     0.66931,     0.67015,       0.671,     0.67184,     0.67269,     0.67353,     0.67438,     0.67523,     0.67607,      0.6805,     0.68814,     0.69578,     0.69782,     0.69883,     0.69983,\n",
       "            0.70084,     0.70184,     0.70285,     0.70386,     0.70486,     0.70587,     0.70688,     0.70788,     0.70889,     0.70989,      0.7109,     0.71191,     0.71291,     0.71392,     0.71492,     0.71593,     0.71694,     0.71794,      0.7192,     0.72146,     0.72373,     0.72599,     0.72825,\n",
       "            0.73052,     0.73278,     0.73504,     0.73731,     0.73957,     0.74183,        0.75,     0.75845,     0.76697,     0.77781,     0.78865,      0.7928,     0.79229,     0.79177,     0.79126,     0.79075,     0.79023,     0.78972,     0.78921,     0.78869,     0.78818,     0.78767,     0.78715,\n",
       "            0.78664,     0.78613,     0.78787,     0.79872,     0.80957,     0.81783,     0.82367,     0.82951,     0.83535,     0.84119,     0.84665,     0.84996,     0.85326,     0.85656,     0.85987,     0.86317,     0.86648,     0.86978,     0.87308,     0.87639,     0.87969,     0.88223,      0.8847,\n",
       "            0.88716,     0.88963,     0.89209,     0.89456,     0.89702,     0.89949,     0.90195,     0.90442,     0.90688,     0.90934,     0.91181,     0.91427,     0.91667,     0.91664,     0.91662,     0.91659,     0.91657,     0.91654,     0.91652,      0.9165,     0.91647,     0.91645,     0.91642,\n",
       "             0.9164,     0.91638,     0.91635,     0.91633,      0.9163,     0.91628,     0.91625,     0.91623,     0.91621,     0.91618,     0.91616,     0.91613,     0.91611,     0.91608,     0.91606,     0.91604,     0.91601,     0.91599,     0.91596,     0.91594,     0.91592,     0.91589,     0.91587,\n",
       "            0.91584,     0.91582,     0.91579,     0.91577,     0.91575,     0.91572,      0.9157,     0.91567,     0.91565,     0.91562,      0.9156,     0.91558,     0.91555,     0.91553,      0.9155,     0.91548,     0.91546,     0.91543,     0.91541,     0.91538,     0.91536,     0.91533,     0.91531,\n",
       "            0.91529,     0.91526,     0.91524,     0.91521,     0.91519,     0.91516,     0.91514,     0.91512,     0.91509,     0.91507,     0.91504,     0.91502,       0.915,     0.91497,     0.91495,     0.91492,      0.9149,     0.91487,     0.91485,     0.91483,      0.9148,     0.91478,     0.91475,\n",
       "            0.91473,      0.9147,     0.91468,     0.91466,     0.91463,     0.91461,     0.91458,     0.91456,     0.91454,     0.91451,     0.91449,     0.91446,     0.91444,     0.91441,     0.91439,     0.91437,     0.91434,     0.91432,     0.91429,     0.91427,     0.91424,     0.91422,      0.9142,\n",
       "            0.91417,     0.91415,     0.91412,      0.9141,     0.91408,     0.91405,     0.91403,       0.914,     0.91398,     0.91395,     0.91393,     0.91391,     0.91388,     0.91386,     0.91383,     0.91381,     0.91378,     0.91376,     0.91374,     0.91371,     0.91369,     0.91366,     0.91364,\n",
       "            0.91361,     0.91359,     0.91357,     0.91354,     0.91352,     0.91349,     0.91347,     0.91345,     0.91342,      0.9134,     0.91337,     0.91335,     0.91332,      0.9133,     0.91328,     0.91325,     0.91323,      0.9132,     0.91318,     0.91315,     0.91313,     0.91311,     0.91308,\n",
       "            0.91306,     0.91301,     0.91294,     0.91287,      0.9128,     0.91273,     0.91265,     0.91258,     0.91251,     0.91244,     0.91236,     0.91229,     0.91222,     0.91215,     0.91207,       0.912,     0.91193,     0.91186,     0.91178,     0.91171,     0.91164,     0.91157,      0.9115,\n",
       "            0.91142,     0.91135,     0.91128,     0.91121,     0.91113,     0.91106,     0.91099,     0.91092,     0.91084,     0.91077,      0.9107,     0.91063,     0.91055,     0.91048,     0.91041,     0.91034,     0.91027,     0.91019,     0.91012,     0.91005,     0.90998,      0.9099,     0.90983,\n",
       "            0.90976,     0.90969,     0.90961,     0.90954,     0.90947,      0.9094,     0.90932,     0.90925,     0.90918,     0.90911,     0.90943,     0.90988,     0.91032,     0.91077,     0.91121,     0.91166,      0.9121,     0.91255,     0.91299,     0.91344,     0.91388,     0.91432,     0.91477,\n",
       "            0.91521,     0.91566,      0.9161,     0.91655,     0.91699,     0.91744,     0.91788,     0.91833,     0.91877,     0.91922,     0.91966,     0.92011,     0.92055,       0.921,     0.92144,     0.92189,     0.92233,     0.92278,     0.92322,     0.92367,     0.92411,     0.92456,       0.925,\n",
       "            0.92545,     0.92589,     0.92634,     0.92678,     0.92723,     0.92767,     0.92812,     0.92856,       0.929,     0.92945,     0.92989,     0.93034,     0.93078,     0.93123,     0.93167,     0.93212,     0.93256,     0.93301,     0.93345,      0.9339,     0.93434,     0.93479,     0.93523,\n",
       "            0.93568,     0.93612,     0.93657,     0.93701,     0.93746,      0.9379,     0.93835,     0.93879,     0.93924,     0.93968,     0.94013,     0.94057,     0.94102,     0.94146,     0.94191,     0.94235,      0.9428,     0.94324,     0.94368,     0.94413,     0.94457,     0.94502,     0.94546,\n",
       "            0.94591,     0.94635,      0.9468,     0.94724,     0.94769,     0.94813,     0.94858,     0.94902,     0.94947,     0.94991,     0.95036,      0.9508,     0.95125,     0.95169,     0.95214,     0.95295,      0.9542,     0.95545,      0.9567,     0.95795,      0.9592,     0.96045,     0.96171,\n",
       "            0.96296,     0.96421,     0.96546,     0.96671,     0.96796,     0.96922,     0.97047,     0.97172,     0.97297,     0.97422,     0.97547,     0.97673,     0.97798,     0.97923,     0.98048,     0.98173,     0.98298,     0.98423,     0.98549,     0.98674,     0.98799,     0.98924,     0.99049,\n",
       "            0.99174,       0.993,     0.99425,      0.9955,     0.99675,       0.998,     0.99925,           1,           1,           1,           1,           1,           1,           1,           1,           1,           1,           1,           1,           1,           1,           1,           1,\n",
       "                  1,           1,           1,           1,           1,           1,           1,           1,           1,           1,           1,           1,           1,           1,           1,           1,           1,           1,           1,           1,           1,           1,           1,\n",
       "                  1,           1,           1,           1,           1,           1,           1,           1,           1,           1,           1,           1,           1,           1,           1,           1,           1,           1,           1,           1,           1,           1,           1,\n",
       "                  1,           1,           1,           1,           1,           1,           1,           1,           1,           1,           1,           1,           1,           1,           1,           1,           1,           1,           1,           1,           1,           1,           1,\n",
       "                  1,           1,           1,           1,           1,           1,           1,           1,           1,           1,           1,           1,           1,           1,           1,           1,           1,           1,           1,           1,           1,           1,           1,\n",
       "                  1,           1,           1,           1,           1,           1,           1,           1,           1,           1,           1,           1,           1,           1,           1,           1,           1,           1,           1,           1,           1,           1,           1,\n",
       "                  1,           1,           1,           1,           1,           1,           1,           1,           1,           1,           1,           1,           1,           1,           1,           1,           1,           1,           1,           1,           1,           1,           1,\n",
       "                  1,           1,           1,           1,           1,           1,           1,           1,           1,           1,           1,           1,           1,           1,           1,           1,           1,           1,           1,           1,           1,           1,           1,\n",
       "                  1,           1,           1,           1,           1,           1,           1,           1,           1,           1,           1,           1,           1,           1,           1,           1,           1,           1,           1,           1,           1,           1,           1,\n",
       "                  1,           1,           1,           1,           1,           1,           1,           1,           1,           1,           1,           1,           1,           1,           1,           1,           1,           1,           1,           1,           1,           1,           1,\n",
       "                  1,           1,           1,           1,           1,           1,           1,           1,           1,           1,           1,           1,           1,           1,           1,           1,           1,           1,           1,           1,           1,           1,           1,\n",
       "                  1,           1,           1,           1,           1,           1,           1,           1,           1,           1,           1,           1,           1,           1,           1,           1,           1,           1,           1,           1,           1,           1,           1,\n",
       "                  1,           1,           1,           1,           1,           1,           1,           1,           1,           1,           1,           1,           1,           1,           1,           1,           1,           1,           1,           1,           1,           1,           1,\n",
       "                  1,           1,           1,           1,           1,           1,           1,           1,           1,           1,           1,           1,           1,           1,           1,           1,           1,           1,           1,           1,           1,           1,           1,\n",
       "                  1,           1,           1,           1,           1,           1,           1,           1,           1,           1,           1,           1,           1,           1,           1,           1,           1,           1,           1,           1,           1,           1,           1,\n",
       "                  1,           1,           1,           1,           1,           1,           1,           1,           1,           1,           1,           1,           1,           1,           1,           1,           1,           1,           1,           1,           1,           1,           1,\n",
       "                  1,           1,           1,           1,           1,           1,           1,           1,           1,           1,           1,           1,           1,           1,           1,           1,           1,           1,           1,           1,           1,           1,           1,\n",
       "                  1,           1,           1,           1,           1,           1,           1,           1,           1,           1,           1,           1,           1,           1,           1,           1,           1,           1,           1,           1,           1,           1,           1,\n",
       "                  1,           1,           1,           1,           1,           1,           1,           1,           1,           1,           1,           1,           1,           1,           1,           1,           1,           1,           1,           1,           1,           1,           1,\n",
       "                  1,           1,           1,           1,           1,           1,           1,           1,           1,           1,           1,           1,           1,           1,           1,           1,           1,           1,           1,           1,           1,           1,           1,\n",
       "                  1,           1,           1,           1,           1,           1,           1,           1,           1,           1,           1]]), 'Confidence', 'Precision'], [array([          0,    0.001001,    0.002002,    0.003003,    0.004004,    0.005005,    0.006006,    0.007007,    0.008008,    0.009009,     0.01001,    0.011011,    0.012012,    0.013013,    0.014014,    0.015015,    0.016016,    0.017017,    0.018018,    0.019019,     0.02002,    0.021021,    0.022022,    0.023023,\n",
       "          0.024024,    0.025025,    0.026026,    0.027027,    0.028028,    0.029029,     0.03003,    0.031031,    0.032032,    0.033033,    0.034034,    0.035035,    0.036036,    0.037037,    0.038038,    0.039039,     0.04004,    0.041041,    0.042042,    0.043043,    0.044044,    0.045045,    0.046046,    0.047047,\n",
       "          0.048048,    0.049049,     0.05005,    0.051051,    0.052052,    0.053053,    0.054054,    0.055055,    0.056056,    0.057057,    0.058058,    0.059059,     0.06006,    0.061061,    0.062062,    0.063063,    0.064064,    0.065065,    0.066066,    0.067067,    0.068068,    0.069069,     0.07007,    0.071071,\n",
       "          0.072072,    0.073073,    0.074074,    0.075075,    0.076076,    0.077077,    0.078078,    0.079079,     0.08008,    0.081081,    0.082082,    0.083083,    0.084084,    0.085085,    0.086086,    0.087087,    0.088088,    0.089089,     0.09009,    0.091091,    0.092092,    0.093093,    0.094094,    0.095095,\n",
       "          0.096096,    0.097097,    0.098098,    0.099099,      0.1001,      0.1011,      0.1021,      0.1031,      0.1041,     0.10511,     0.10611,     0.10711,     0.10811,     0.10911,     0.11011,     0.11111,     0.11211,     0.11311,     0.11411,     0.11512,     0.11612,     0.11712,     0.11812,     0.11912,\n",
       "           0.12012,     0.12112,     0.12212,     0.12312,     0.12412,     0.12513,     0.12613,     0.12713,     0.12813,     0.12913,     0.13013,     0.13113,     0.13213,     0.13313,     0.13413,     0.13514,     0.13614,     0.13714,     0.13814,     0.13914,     0.14014,     0.14114,     0.14214,     0.14314,\n",
       "           0.14414,     0.14515,     0.14615,     0.14715,     0.14815,     0.14915,     0.15015,     0.15115,     0.15215,     0.15315,     0.15415,     0.15516,     0.15616,     0.15716,     0.15816,     0.15916,     0.16016,     0.16116,     0.16216,     0.16316,     0.16416,     0.16517,     0.16617,     0.16717,\n",
       "           0.16817,     0.16917,     0.17017,     0.17117,     0.17217,     0.17317,     0.17417,     0.17518,     0.17618,     0.17718,     0.17818,     0.17918,     0.18018,     0.18118,     0.18218,     0.18318,     0.18418,     0.18519,     0.18619,     0.18719,     0.18819,     0.18919,     0.19019,     0.19119,\n",
       "           0.19219,     0.19319,     0.19419,      0.1952,      0.1962,      0.1972,      0.1982,      0.1992,      0.2002,      0.2012,      0.2022,      0.2032,      0.2042,     0.20521,     0.20621,     0.20721,     0.20821,     0.20921,     0.21021,     0.21121,     0.21221,     0.21321,     0.21421,     0.21522,\n",
       "           0.21622,     0.21722,     0.21822,     0.21922,     0.22022,     0.22122,     0.22222,     0.22322,     0.22422,     0.22523,     0.22623,     0.22723,     0.22823,     0.22923,     0.23023,     0.23123,     0.23223,     0.23323,     0.23423,     0.23524,     0.23624,     0.23724,     0.23824,     0.23924,\n",
       "           0.24024,     0.24124,     0.24224,     0.24324,     0.24424,     0.24525,     0.24625,     0.24725,     0.24825,     0.24925,     0.25025,     0.25125,     0.25225,     0.25325,     0.25425,     0.25526,     0.25626,     0.25726,     0.25826,     0.25926,     0.26026,     0.26126,     0.26226,     0.26326,\n",
       "           0.26426,     0.26527,     0.26627,     0.26727,     0.26827,     0.26927,     0.27027,     0.27127,     0.27227,     0.27327,     0.27427,     0.27528,     0.27628,     0.27728,     0.27828,     0.27928,     0.28028,     0.28128,     0.28228,     0.28328,     0.28428,     0.28529,     0.28629,     0.28729,\n",
       "           0.28829,     0.28929,     0.29029,     0.29129,     0.29229,     0.29329,     0.29429,      0.2953,      0.2963,      0.2973,      0.2983,      0.2993,      0.3003,      0.3013,      0.3023,      0.3033,      0.3043,     0.30531,     0.30631,     0.30731,     0.30831,     0.30931,     0.31031,     0.31131,\n",
       "           0.31231,     0.31331,     0.31431,     0.31532,     0.31632,     0.31732,     0.31832,     0.31932,     0.32032,     0.32132,     0.32232,     0.32332,     0.32432,     0.32533,     0.32633,     0.32733,     0.32833,     0.32933,     0.33033,     0.33133,     0.33233,     0.33333,     0.33433,     0.33534,\n",
       "           0.33634,     0.33734,     0.33834,     0.33934,     0.34034,     0.34134,     0.34234,     0.34334,     0.34434,     0.34535,     0.34635,     0.34735,     0.34835,     0.34935,     0.35035,     0.35135,     0.35235,     0.35335,     0.35435,     0.35536,     0.35636,     0.35736,     0.35836,     0.35936,\n",
       "           0.36036,     0.36136,     0.36236,     0.36336,     0.36436,     0.36537,     0.36637,     0.36737,     0.36837,     0.36937,     0.37037,     0.37137,     0.37237,     0.37337,     0.37437,     0.37538,     0.37638,     0.37738,     0.37838,     0.37938,     0.38038,     0.38138,     0.38238,     0.38338,\n",
       "           0.38438,     0.38539,     0.38639,     0.38739,     0.38839,     0.38939,     0.39039,     0.39139,     0.39239,     0.39339,     0.39439,      0.3954,      0.3964,      0.3974,      0.3984,      0.3994,      0.4004,      0.4014,      0.4024,      0.4034,      0.4044,     0.40541,     0.40641,     0.40741,\n",
       "           0.40841,     0.40941,     0.41041,     0.41141,     0.41241,     0.41341,     0.41441,     0.41542,     0.41642,     0.41742,     0.41842,     0.41942,     0.42042,     0.42142,     0.42242,     0.42342,     0.42442,     0.42543,     0.42643,     0.42743,     0.42843,     0.42943,     0.43043,     0.43143,\n",
       "           0.43243,     0.43343,     0.43443,     0.43544,     0.43644,     0.43744,     0.43844,     0.43944,     0.44044,     0.44144,     0.44244,     0.44344,     0.44444,     0.44545,     0.44645,     0.44745,     0.44845,     0.44945,     0.45045,     0.45145,     0.45245,     0.45345,     0.45445,     0.45546,\n",
       "           0.45646,     0.45746,     0.45846,     0.45946,     0.46046,     0.46146,     0.46246,     0.46346,     0.46446,     0.46547,     0.46647,     0.46747,     0.46847,     0.46947,     0.47047,     0.47147,     0.47247,     0.47347,     0.47447,     0.47548,     0.47648,     0.47748,     0.47848,     0.47948,\n",
       "           0.48048,     0.48148,     0.48248,     0.48348,     0.48448,     0.48549,     0.48649,     0.48749,     0.48849,     0.48949,     0.49049,     0.49149,     0.49249,     0.49349,     0.49449,      0.4955,      0.4965,      0.4975,      0.4985,      0.4995,      0.5005,      0.5015,      0.5025,      0.5035,\n",
       "            0.5045,     0.50551,     0.50651,     0.50751,     0.50851,     0.50951,     0.51051,     0.51151,     0.51251,     0.51351,     0.51451,     0.51552,     0.51652,     0.51752,     0.51852,     0.51952,     0.52052,     0.52152,     0.52252,     0.52352,     0.52452,     0.52553,     0.52653,     0.52753,\n",
       "           0.52853,     0.52953,     0.53053,     0.53153,     0.53253,     0.53353,     0.53453,     0.53554,     0.53654,     0.53754,     0.53854,     0.53954,     0.54054,     0.54154,     0.54254,     0.54354,     0.54454,     0.54555,     0.54655,     0.54755,     0.54855,     0.54955,     0.55055,     0.55155,\n",
       "           0.55255,     0.55355,     0.55455,     0.55556,     0.55656,     0.55756,     0.55856,     0.55956,     0.56056,     0.56156,     0.56256,     0.56356,     0.56456,     0.56557,     0.56657,     0.56757,     0.56857,     0.56957,     0.57057,     0.57157,     0.57257,     0.57357,     0.57457,     0.57558,\n",
       "           0.57658,     0.57758,     0.57858,     0.57958,     0.58058,     0.58158,     0.58258,     0.58358,     0.58458,     0.58559,     0.58659,     0.58759,     0.58859,     0.58959,     0.59059,     0.59159,     0.59259,     0.59359,     0.59459,      0.5956,      0.5966,      0.5976,      0.5986,      0.5996,\n",
       "            0.6006,      0.6016,      0.6026,      0.6036,      0.6046,     0.60561,     0.60661,     0.60761,     0.60861,     0.60961,     0.61061,     0.61161,     0.61261,     0.61361,     0.61461,     0.61562,     0.61662,     0.61762,     0.61862,     0.61962,     0.62062,     0.62162,     0.62262,     0.62362,\n",
       "           0.62462,     0.62563,     0.62663,     0.62763,     0.62863,     0.62963,     0.63063,     0.63163,     0.63263,     0.63363,     0.63463,     0.63564,     0.63664,     0.63764,     0.63864,     0.63964,     0.64064,     0.64164,     0.64264,     0.64364,     0.64464,     0.64565,     0.64665,     0.64765,\n",
       "           0.64865,     0.64965,     0.65065,     0.65165,     0.65265,     0.65365,     0.65465,     0.65566,     0.65666,     0.65766,     0.65866,     0.65966,     0.66066,     0.66166,     0.66266,     0.66366,     0.66466,     0.66567,     0.66667,     0.66767,     0.66867,     0.66967,     0.67067,     0.67167,\n",
       "           0.67267,     0.67367,     0.67467,     0.67568,     0.67668,     0.67768,     0.67868,     0.67968,     0.68068,     0.68168,     0.68268,     0.68368,     0.68468,     0.68569,     0.68669,     0.68769,     0.68869,     0.68969,     0.69069,     0.69169,     0.69269,     0.69369,     0.69469,      0.6957,\n",
       "            0.6967,      0.6977,      0.6987,      0.6997,      0.7007,      0.7017,      0.7027,      0.7037,      0.7047,     0.70571,     0.70671,     0.70771,     0.70871,     0.70971,     0.71071,     0.71171,     0.71271,     0.71371,     0.71471,     0.71572,     0.71672,     0.71772,     0.71872,     0.71972,\n",
       "           0.72072,     0.72172,     0.72272,     0.72372,     0.72472,     0.72573,     0.72673,     0.72773,     0.72873,     0.72973,     0.73073,     0.73173,     0.73273,     0.73373,     0.73473,     0.73574,     0.73674,     0.73774,     0.73874,     0.73974,     0.74074,     0.74174,     0.74274,     0.74374,\n",
       "           0.74474,     0.74575,     0.74675,     0.74775,     0.74875,     0.74975,     0.75075,     0.75175,     0.75275,     0.75375,     0.75475,     0.75576,     0.75676,     0.75776,     0.75876,     0.75976,     0.76076,     0.76176,     0.76276,     0.76376,     0.76476,     0.76577,     0.76677,     0.76777,\n",
       "           0.76877,     0.76977,     0.77077,     0.77177,     0.77277,     0.77377,     0.77477,     0.77578,     0.77678,     0.77778,     0.77878,     0.77978,     0.78078,     0.78178,     0.78278,     0.78378,     0.78478,     0.78579,     0.78679,     0.78779,     0.78879,     0.78979,     0.79079,     0.79179,\n",
       "           0.79279,     0.79379,     0.79479,      0.7958,      0.7968,      0.7978,      0.7988,      0.7998,      0.8008,      0.8018,      0.8028,      0.8038,      0.8048,     0.80581,     0.80681,     0.80781,     0.80881,     0.80981,     0.81081,     0.81181,     0.81281,     0.81381,     0.81481,     0.81582,\n",
       "           0.81682,     0.81782,     0.81882,     0.81982,     0.82082,     0.82182,     0.82282,     0.82382,     0.82482,     0.82583,     0.82683,     0.82783,     0.82883,     0.82983,     0.83083,     0.83183,     0.83283,     0.83383,     0.83483,     0.83584,     0.83684,     0.83784,     0.83884,     0.83984,\n",
       "           0.84084,     0.84184,     0.84284,     0.84384,     0.84484,     0.84585,     0.84685,     0.84785,     0.84885,     0.84985,     0.85085,     0.85185,     0.85285,     0.85385,     0.85485,     0.85586,     0.85686,     0.85786,     0.85886,     0.85986,     0.86086,     0.86186,     0.86286,     0.86386,\n",
       "           0.86486,     0.86587,     0.86687,     0.86787,     0.86887,     0.86987,     0.87087,     0.87187,     0.87287,     0.87387,     0.87487,     0.87588,     0.87688,     0.87788,     0.87888,     0.87988,     0.88088,     0.88188,     0.88288,     0.88388,     0.88488,     0.88589,     0.88689,     0.88789,\n",
       "           0.88889,     0.88989,     0.89089,     0.89189,     0.89289,     0.89389,     0.89489,      0.8959,      0.8969,      0.8979,      0.8989,      0.8999,      0.9009,      0.9019,      0.9029,      0.9039,      0.9049,     0.90591,     0.90691,     0.90791,     0.90891,     0.90991,     0.91091,     0.91191,\n",
       "           0.91291,     0.91391,     0.91491,     0.91592,     0.91692,     0.91792,     0.91892,     0.91992,     0.92092,     0.92192,     0.92292,     0.92392,     0.92492,     0.92593,     0.92693,     0.92793,     0.92893,     0.92993,     0.93093,     0.93193,     0.93293,     0.93393,     0.93493,     0.93594,\n",
       "           0.93694,     0.93794,     0.93894,     0.93994,     0.94094,     0.94194,     0.94294,     0.94394,     0.94494,     0.94595,     0.94695,     0.94795,     0.94895,     0.94995,     0.95095,     0.95195,     0.95295,     0.95395,     0.95495,     0.95596,     0.95696,     0.95796,     0.95896,     0.95996,\n",
       "           0.96096,     0.96196,     0.96296,     0.96396,     0.96496,     0.96597,     0.96697,     0.96797,     0.96897,     0.96997,     0.97097,     0.97197,     0.97297,     0.97397,     0.97497,     0.97598,     0.97698,     0.97798,     0.97898,     0.97998,     0.98098,     0.98198,     0.98298,     0.98398,\n",
       "           0.98498,     0.98599,     0.98699,     0.98799,     0.98899,     0.98999,     0.99099,     0.99199,     0.99299,     0.99399,     0.99499,       0.996,       0.997,       0.998,       0.999,           1]), array([[          1,           1,           1,           1,           1,           1,           1,           1,           1,           1,           1,           1,           1,           1,           1,           1,           1,           1,           1,           1,           1,           1,           1,\n",
       "                  1,           1,           1,           1,           1,           1,           1,           1,           1,           1,           1,           1,           1,           1,           1,           1,           1,           1,           1,           1,           1,           1,           1,\n",
       "                  1,           1,           1,           1,           1,           1,           1,           1,           1,           1,           1,           1,           1,           1,           1,           1,           1,           1,           1,           1,           1,           1,           1,\n",
       "                  1,           1,           1,           1,           1,           1,           1,           1,           1,           1,           1,           1,           1,           1,           1,           1,           1,           1,           1,           1,           1,           1,           1,\n",
       "                  1,           1,           1,           1,           1,           1,           1,           1,           1,           1,           1,           1,           1,           1,           1,           1,           1,           1,           1,           1,           1,           1,           1,\n",
       "                  1,           1,           1,           1,           1,           1,           1,           1,           1,           1,           1,           1,           1,           1,           1,           1,           1,           1,           1,           1,           1,           1,           1,\n",
       "                  1,           1,           1,           1,           1,           1,           1,           1,           1,           1,           1,     0.99822,      0.9952,     0.99218,     0.98916,     0.98613,     0.98311,     0.98009,     0.97707,     0.97405,     0.97103,     0.96801,     0.96498,\n",
       "            0.96196,     0.95894,     0.95652,     0.95652,     0.95652,     0.95652,     0.95652,     0.95652,     0.95652,     0.95652,     0.95652,     0.95652,     0.95652,     0.95652,     0.95652,     0.95652,     0.95652,     0.95652,     0.95652,     0.95652,     0.95652,     0.95652,     0.95652,\n",
       "            0.95652,     0.95652,     0.95652,     0.95652,     0.95652,     0.95652,     0.95652,     0.95652,     0.95652,     0.95652,     0.95652,     0.95652,     0.95651,     0.95622,     0.95593,     0.95564,     0.95535,     0.95506,     0.95477,     0.95448,     0.95419,      0.9539,     0.95361,\n",
       "            0.95332,     0.95303,     0.95274,     0.95245,     0.95215,     0.95186,     0.95157,     0.95128,     0.95099,      0.9507,     0.95041,     0.95012,     0.94983,     0.94954,     0.94925,     0.94896,     0.94867,     0.94838,     0.94809,      0.9478,     0.94751,     0.94721,     0.94692,\n",
       "            0.94663,     0.94634,     0.94605,     0.94576,     0.94547,     0.94518,     0.94489,      0.9446,     0.94431,     0.94402,     0.94373,     0.94344,     0.94315,     0.94286,     0.94257,     0.94228,     0.94198,     0.94169,      0.9414,     0.94111,     0.94082,     0.94053,     0.94024,\n",
       "            0.93995,     0.93966,     0.93937,     0.93908,     0.93879,      0.9385,     0.93821,     0.93792,     0.93763,     0.93734,     0.93705,     0.93675,     0.93646,     0.93617,     0.93588,     0.93559,      0.9353,     0.93501,     0.93472,     0.93443,     0.93414,     0.93385,     0.93356,\n",
       "            0.93327,     0.93298,     0.93269,      0.9324,     0.93211,     0.93181,     0.93152,     0.93123,     0.93094,     0.93065,     0.93036,     0.93007,     0.92978,     0.92949,      0.9292,     0.92891,     0.92862,     0.92833,     0.92804,     0.92775,     0.92746,     0.92717,     0.92688,\n",
       "            0.92658,     0.92629,       0.926,     0.92571,     0.92542,     0.92513,     0.92484,     0.92455,     0.92426,     0.92397,     0.92368,     0.92339,      0.9231,     0.92281,     0.92252,     0.92223,     0.92194,     0.92164,     0.92135,     0.92106,     0.92077,     0.92048,     0.92019,\n",
       "             0.9199,     0.91961,     0.91932,     0.91903,     0.91874,     0.91845,     0.91816,     0.91787,     0.91758,     0.91729,       0.917,     0.91671,     0.91641,     0.91612,     0.91583,     0.91554,     0.91525,     0.91496,     0.91467,     0.91438,     0.91409,      0.9138,     0.91351,\n",
       "            0.91322,     0.91273,     0.91193,     0.91113,     0.91034,     0.90954,     0.90875,     0.90795,     0.90716,     0.90636,     0.90556,     0.90477,     0.90397,     0.90318,     0.90238,     0.90158,     0.90079,     0.89999,      0.8992,      0.8984,     0.89761,     0.89681,     0.89601,\n",
       "            0.89522,     0.89442,     0.89363,     0.89283,     0.89203,     0.89124,     0.89044,     0.88965,     0.88885,     0.88806,     0.88726,     0.88646,     0.88567,     0.88487,     0.88408,     0.88328,     0.88248,     0.88169,     0.88089,      0.8801,      0.8793,     0.87851,     0.87771,\n",
       "            0.87691,     0.87612,     0.87532,     0.87453,     0.87373,     0.87293,     0.87214,     0.87134,     0.87055,     0.86975,     0.86957,     0.86957,     0.86957,     0.86957,     0.86957,     0.86957,     0.86957,     0.86957,     0.86957,     0.86957,     0.86957,     0.86957,     0.86957,\n",
       "            0.86957,     0.86957,     0.86957,     0.86957,     0.86957,     0.86957,     0.86957,     0.86957,     0.86957,     0.86957,     0.86957,     0.86957,     0.86957,     0.86957,     0.86957,     0.86957,     0.86957,     0.86957,     0.86957,     0.86957,     0.86957,     0.86957,     0.86957,\n",
       "            0.86957,     0.86957,     0.86957,     0.86957,     0.86957,     0.86957,     0.86957,     0.86957,     0.86957,     0.86957,     0.86957,     0.86957,     0.86957,     0.86957,     0.86957,     0.86957,     0.86957,     0.86957,     0.86957,     0.86957,     0.86957,     0.86957,     0.86957,\n",
       "            0.86957,     0.86957,     0.86957,     0.86957,     0.86957,     0.86957,     0.86957,     0.86957,     0.86957,     0.86957,     0.86957,     0.86957,     0.86957,     0.86957,     0.86957,     0.86957,     0.86957,     0.86957,     0.86957,     0.86957,     0.86957,     0.86957,     0.86957,\n",
       "            0.86957,     0.86957,     0.86957,     0.86957,     0.86957,     0.86957,     0.86957,     0.86957,     0.86957,     0.86957,     0.86957,     0.86957,     0.86957,     0.86957,     0.86957,     0.86957,     0.86957,     0.86957,     0.86957,     0.86957,     0.86957,     0.86957,     0.86957,\n",
       "            0.86957,     0.86957,     0.86957,     0.86957,     0.86957,     0.86957,     0.86957,     0.86957,     0.86957,     0.86957,     0.86957,     0.86957,     0.86957,     0.86957,     0.86957,     0.86957,     0.86957,     0.86957,     0.86957,     0.86957,     0.86957,     0.86957,     0.86957,\n",
       "            0.86957,     0.86957,     0.86957,     0.86957,     0.86957,     0.86957,     0.86957,     0.86732,     0.86175,     0.85618,     0.85061,     0.84504,     0.83946,     0.83389,     0.82832,     0.82567,     0.82496,     0.82426,     0.82356,     0.82286,     0.82216,     0.82146,     0.82075,\n",
       "            0.82005,     0.81935,     0.81865,     0.81795,     0.81724,     0.81654,     0.81584,     0.81514,     0.81444,     0.81374,     0.81303,     0.81233,     0.81163,     0.81093,     0.81023,     0.80952,     0.80882,     0.80812,     0.80742,     0.80672,     0.80602,     0.80531,     0.80461,\n",
       "            0.80391,     0.80321,     0.80251,      0.8018,      0.8011,      0.8004,      0.7997,       0.799,      0.7983,     0.79759,     0.79689,     0.79619,     0.79549,     0.79479,     0.79408,     0.79338,     0.79268,     0.79198,     0.79128,     0.79058,     0.78987,     0.78917,     0.78847,\n",
       "            0.78777,     0.78707,     0.78636,     0.78566,     0.78496,     0.78426,     0.78356,     0.78286,     0.78238,     0.78203,     0.78168,     0.78132,     0.78097,     0.78062,     0.78027,     0.77991,     0.77956,     0.77921,     0.77886,      0.7785,     0.77815,      0.7778,     0.77745,\n",
       "             0.7771,     0.77674,     0.77639,     0.77604,     0.77569,     0.77533,     0.77498,     0.77463,     0.77428,     0.77392,     0.77357,     0.77322,     0.77287,     0.77252,     0.77216,     0.77181,     0.77146,     0.77111,     0.77075,      0.7704,     0.77005,      0.7697,     0.76934,\n",
       "            0.76899,     0.76864,     0.76829,     0.76794,     0.76758,     0.76723,     0.76688,     0.76653,     0.76617,     0.76582,     0.76547,     0.76512,     0.76476,     0.76441,     0.76406,     0.76371,     0.76336,       0.763,     0.76265,      0.7623,     0.76195,     0.76159,     0.76124,\n",
       "            0.76089,     0.76054,     0.76019,     0.75983,     0.75948,     0.75913,     0.75878,     0.75842,     0.75807,     0.75772,     0.75737,     0.75701,     0.75666,     0.75631,     0.75596,     0.75561,     0.75525,      0.7549,     0.75455,      0.7542,     0.75384,     0.75349,     0.75314,\n",
       "            0.75279,     0.75243,     0.75208,     0.75173,     0.75138,     0.75103,     0.75067,     0.75032,     0.74997,     0.74962,     0.74926,     0.74891,     0.74856,     0.74821,     0.74785,      0.7475,     0.74715,      0.7468,     0.74645,     0.74609,     0.74574,     0.74539,     0.74504,\n",
       "            0.74468,     0.74433,     0.74398,     0.74363,     0.74327,     0.74292,     0.74257,     0.74222,     0.74187,     0.74151,     0.74116,     0.74081,     0.74046,      0.7401,     0.73975,      0.7394,      0.7386,     0.73637,     0.73415,     0.73192,     0.72969,     0.72746,     0.72523,\n",
       "              0.723,     0.72078,     0.71855,     0.71632,     0.71409,     0.71186,     0.70963,     0.70741,     0.70518,     0.70295,     0.70072,     0.69849,     0.69626,     0.69395,      0.6916,     0.68926,     0.68691,     0.68457,     0.68222,     0.67988,     0.67753,     0.67519,     0.67284,\n",
       "            0.67049,     0.66815,      0.6658,     0.66346,     0.66111,     0.65877,     0.65642,     0.65408,     0.65147,     0.64776,     0.64404,     0.64033,     0.63661,      0.6329,     0.62919,     0.62547,     0.62176,     0.61805,     0.61433,     0.61062,     0.60824,      0.6073,     0.60637,\n",
       "            0.60543,     0.60449,     0.60355,     0.60261,     0.60168,     0.60074,      0.5998,     0.59886,     0.59792,     0.59698,     0.59605,     0.59511,     0.59417,     0.59323,     0.59229,     0.59135,     0.59042,     0.58948,     0.58854,      0.5876,     0.58666,     0.58573,     0.58479,\n",
       "            0.58385,     0.58291,     0.58197,     0.58103,      0.5801,     0.57916,     0.57822,     0.57728,     0.57634,      0.5754,     0.57447,     0.57353,     0.57259,     0.57165,     0.57071,     0.56978,     0.56884,      0.5679,     0.56696,     0.56602,     0.55888,     0.52106,     0.51701,\n",
       "            0.51296,     0.50891,     0.50486,     0.50081,     0.49676,      0.4927,     0.48865,      0.4846,     0.48055,     0.47528,     0.46842,     0.46157,     0.45471,     0.44785,       0.441,     0.43429,     0.42905,      0.4238,     0.41856,     0.41332,     0.40808,     0.40283,     0.39759,\n",
       "            0.39235,     0.38337,     0.37347,     0.36356,     0.35366,     0.34656,     0.34349,     0.34042,     0.33734,     0.33427,     0.33119,     0.32812,     0.32505,     0.32197,      0.3189,     0.31583,     0.31275,     0.30968,     0.30661,     0.30172,     0.29182,     0.28191,     0.27201,\n",
       "            0.26211,     0.23487,     0.21586,     0.21215,     0.20843,     0.20472,     0.20101,     0.19729,     0.19358,     0.18987,     0.18615,     0.18244,     0.17872,     0.17501,      0.1715,     0.16807,     0.16464,     0.16121,     0.15778,     0.15436,     0.15093,      0.1475,     0.14407,\n",
       "            0.14064,     0.13722,     0.13379,     0.12848,    0.085556,    0.082935,    0.080313,    0.077692,     0.07507,    0.072448,    0.069827,    0.067205,    0.064584,    0.061962,    0.059341,    0.056719,    0.054098,    0.051476,    0.048854,    0.046233,    0.043611,           0,           0,\n",
       "                  0,           0,           0,           0,           0,           0,           0,           0,           0,           0,           0,           0,           0,           0,           0,           0,           0,           0,           0,           0,           0,           0,           0,\n",
       "                  0,           0,           0,           0,           0,           0,           0,           0,           0,           0,           0,           0,           0,           0,           0,           0,           0,           0,           0,           0,           0,           0,           0,\n",
       "                  0,           0,           0,           0,           0,           0,           0,           0,           0,           0,           0,           0,           0,           0,           0,           0,           0,           0,           0,           0,           0,           0,           0,\n",
       "                  0,           0,           0,           0,           0,           0,           0,           0,           0,           0,           0]]), 'Confidence', 'Recall']]\n",
       "fitness: 0.7883007168566771\n",
       "keys: ['metrics/precision(B)', 'metrics/recall(B)', 'metrics/mAP50(B)', 'metrics/mAP50-95(B)']\n",
       "maps: array([    0.76709,     0.76709])\n",
       "names: {0: '0', 1: '1'}\n",
       "plot: True\n",
       "results_dict: {'metrics/precision(B)': 0.9156973906923708, 'metrics/recall(B)': 0.9448904274388843, 'metrics/mAP50(B)': 0.9792241379310346, 'metrics/mAP50-95(B)': 0.7670870034039708, 'fitness': 0.7883007168566771}\n",
       "save_dir: WindowsPath('runs/detect/train')\n",
       "speed: {'preprocess': 0.8309483528137207, 'inference': 15.708128611246746, 'loss': 0.0, 'postprocess': 1.9945899645487466}\n",
       "task: 'detect'"
      ]
     },
     "execution_count": 4,
     "metadata": {},
     "output_type": "execute_result"
    }
   ],
   "source": [
    "# 10번 반복하여 모델을 학습시키겠습니다. data에 data.yaml 경로를 넣어주세요\n",
    "model.train(data='D:/yolodata/rail_anomaly/data.yaml', epochs=10, imgsz=416, device=0, workers=0)"
   ]
  },
  {
   "cell_type": "markdown",
   "id": "2f279cc1-4f75-424f-b09e-7084f5b89ebc",
   "metadata": {},
   "source": [
    "# 예측"
   ]
  },
  {
   "cell_type": "code",
   "execution_count": 10,
   "id": "52afbe56-71ec-4c2e-a081-ef4ac8613bc8",
   "metadata": {},
   "outputs": [],
   "source": [
    "# Load a model\n",
    "model = YOLO('best.pt')"
   ]
  },
  {
   "cell_type": "code",
   "execution_count": null,
   "id": "5a8871fd-242b-494b-9074-ea72f24b7abb",
   "metadata": {},
   "outputs": [],
   "source": [
    "from torchvision.transforms import Resize\n",
    "from PIL import Image\n",
    "\n",
    "resize = Resize((416, 416))\n",
    "image = Image.open(\"D:/yolodata/rail_anomaly/test/images/rail7.jpg\")\n",
    "resized_image = resize(image)"
   ]
  },
  {
   "cell_type": "code",
   "execution_count": 5,
   "id": "2b53dcff-beea-4b68-8efb-8dde4958909a",
   "metadata": {},
   "outputs": [],
   "source": [
    "from torchvision.transforms import Resize\n",
    "from PIL import Image\n",
    "\n",
    "resize = Resize((416, 416))\n",
    "image = Image.open(\"D:/yolodata/rail_anomaly/test/images/rail7.jpg\")\n",
    "resized_image = resize(image)"
   ]
  },
  {
   "cell_type": "code",
   "execution_count": 6,
   "id": "5e61f1dd-e9d8-4063-ac99-b128bea1382a",
   "metadata": {},
   "outputs": [
    {
     "name": "stdout",
     "output_type": "stream",
     "text": [
      "\n",
      "0: 416x416 5 0s, 136.6ms\n",
      "Speed: 4.0ms preprocess, 136.6ms inference, 6.0ms postprocess per image at shape (1, 3, 416, 416)\n",
      "Results saved to \u001b[1mruns\\detect\\predict\u001b[0m\n"
     ]
    },
    {
     "data": {
      "text/plain": [
       "[ultralytics.engine.results.Results object with attributes:\n",
       " \n",
       " boxes: ultralytics.engine.results.Boxes object\n",
       " keypoints: None\n",
       " masks: None\n",
       " names: {0: '0', 1: '1'}\n",
       " obb: None\n",
       " orig_img: array([[[123, 119, 130],\n",
       "         [ 46,  42,  53],\n",
       "         [ 60,  56,  67],\n",
       "         ...,\n",
       "         [175, 177, 178],\n",
       "         [197, 199, 200],\n",
       "         [231, 233, 234]],\n",
       " \n",
       "        [[ 77,  73,  84],\n",
       "         [ 50,  46,  57],\n",
       "         [ 55,  51,  62],\n",
       "         ...,\n",
       "         [184, 186, 187],\n",
       "         [151, 153, 154],\n",
       "         [160, 162, 163]],\n",
       " \n",
       "        [[ 39,  35,  46],\n",
       "         [ 44,  40,  51],\n",
       "         [ 69,  65,  76],\n",
       "         ...,\n",
       "         [120, 122, 123],\n",
       "         [ 90,  92,  93],\n",
       "         [ 89,  91,  92]],\n",
       " \n",
       "        ...,\n",
       " \n",
       "        [[ 36,  40,  51],\n",
       "         [ 64,  68,  79],\n",
       "         [133, 137, 148],\n",
       "         ...,\n",
       "         [167, 171, 182],\n",
       "         [ 68,  72,  83],\n",
       "         [150, 154, 165]],\n",
       " \n",
       "        [[166, 170, 181],\n",
       "         [193, 197, 208],\n",
       "         [198, 202, 213],\n",
       "         ...,\n",
       "         [169, 173, 184],\n",
       "         [ 74,  78,  89],\n",
       "         [122, 126, 137]],\n",
       " \n",
       "        [[203, 207, 217],\n",
       "         [214, 218, 228],\n",
       "         [205, 209, 220],\n",
       "         ...,\n",
       "         [166, 170, 181],\n",
       "         [ 93,  97, 108],\n",
       "         [ 92,  96, 107]]], dtype=uint8)\n",
       " orig_shape: (416, 416)\n",
       " path: 'image0.jpg'\n",
       " probs: None\n",
       " save_dir: 'runs\\\\detect\\\\predict'\n",
       " speed: {'preprocess': 3.9882659912109375, 'inference': 136.63458824157715, 'postprocess': 5.98454475402832}]"
      ]
     },
     "execution_count": 6,
     "metadata": {},
     "output_type": "execute_result"
    }
   ],
   "source": [
    "# 훈련된 커스텀 yolo 모델을 불러오겠습니다.\n",
    "#학습하여 모델이 만들어 질때마다 train1 처럼 폴더의 숫자가 커지며 그안에 best.pt이 생성됩니다.\n",
    "model = YOLO(\"runs/detect/train/weights/best.pt\") \n",
    "\n",
    "\n",
    "# source에 test사진의 위치를 넣어주세요\n",
    "# model.predict(source=\"D:/yolodata/eojin/test/images/AEUF7937_JPG.rf.dac1c17ad7096e77a642729fcbccebbb.jpg\", imgsz=400, save=True, show=True)\n",
    "model.predict(source=resized_image, imgsz=416, save=True, show=True)"
   ]
  },
  {
   "cell_type": "code",
   "execution_count": null,
   "id": "30482a04-9039-44c2-992a-46f60dbac0a0",
   "metadata": {},
   "outputs": [],
   "source": []
  },
  {
   "cell_type": "code",
   "execution_count": null,
   "id": "86ee7a11-1c7d-4345-a4f7-dd9dd61b325a",
   "metadata": {},
   "outputs": [],
   "source": []
  },
  {
   "cell_type": "code",
   "execution_count": 29,
   "id": "77d9b13c-ce87-4727-af5a-587f9c8a7347",
   "metadata": {
    "scrolled": true
   },
   "outputs": [
    {
     "name": "stdout",
     "output_type": "stream",
     "text": [
      "\n",
      "WARNING ⚠️ imgsz=[400] must be multiple of max stride 32, updating to [416]\n",
      "image 1/1 D:\\yolodata\\eojin\\test\\images\\AEUF7937_JPG.rf.dac1c17ad7096e77a642729fcbccebbb.jpg: 416x320 (no detections), 46.9ms\n",
      "Speed: 295.1ms preprocess, 46.9ms inference, 0.0ms postprocess per image at shape (1, 3, 416, 320)\n",
      "Results saved to \u001b[1mruns\\detect\\train164\u001b[0m\n"
     ]
    },
    {
     "data": {
      "text/plain": [
       "[ultralytics.engine.results.Results object with attributes:\n",
       " \n",
       " boxes: ultralytics.engine.results.Boxes object\n",
       " keypoints: None\n",
       " masks: None\n",
       " names: {0: 'eojin'}\n",
       " obb: None\n",
       " orig_img: array([[[206, 206, 206],\n",
       "         [206, 206, 206],\n",
       "         [206, 206, 206],\n",
       "         ...,\n",
       "         [119, 145, 145],\n",
       "         [119, 145, 145],\n",
       "         [119, 145, 145]],\n",
       " \n",
       "        [[206, 206, 206],\n",
       "         [206, 206, 206],\n",
       "         [206, 206, 206],\n",
       "         ...,\n",
       "         [119, 145, 145],\n",
       "         [119, 145, 145],\n",
       "         [119, 145, 145]],\n",
       " \n",
       "        [[207, 207, 207],\n",
       "         [207, 207, 207],\n",
       "         [207, 207, 207],\n",
       "         ...,\n",
       "         [119, 145, 145],\n",
       "         [119, 145, 145],\n",
       "         [119, 145, 145]],\n",
       " \n",
       "        ...,\n",
       " \n",
       "        [[181, 201, 218],\n",
       "         [179, 199, 216],\n",
       "         [177, 197, 214],\n",
       "         ...,\n",
       "         [162, 188, 204],\n",
       "         [162, 188, 204],\n",
       "         [162, 188, 204]],\n",
       " \n",
       "        [[179, 199, 216],\n",
       "         [177, 197, 214],\n",
       "         [176, 196, 213],\n",
       "         ...,\n",
       "         [161, 187, 204],\n",
       "         [161, 187, 204],\n",
       "         [161, 187, 204]],\n",
       " \n",
       "        [[178, 198, 215],\n",
       "         [176, 196, 213],\n",
       "         [175, 195, 212],\n",
       "         ...,\n",
       "         [161, 187, 204],\n",
       "         [161, 187, 204],\n",
       "         [161, 187, 204]]], dtype=uint8)\n",
       " orig_shape: (1008, 756)\n",
       " path: 'D:\\\\yolodata\\\\eojin\\\\test\\\\images\\\\AEUF7937_JPG.rf.dac1c17ad7096e77a642729fcbccebbb.jpg'\n",
       " probs: None\n",
       " save_dir: 'runs\\\\detect\\\\train164'\n",
       " speed: {'preprocess': 295.0725555419922, 'inference': 46.92649841308594, 'postprocess': 0.0}]"
      ]
     },
     "execution_count": 29,
     "metadata": {},
     "output_type": "execute_result"
    }
   ],
   "source": [
    "# 훈련된 커스텀 yolo 모델을 불러오겠습니다.\n",
    "#학습하여 모델이 만들어 질때마다 train1 처럼 폴더의 숫자가 커지며 그안에 best.pt이 생성됩니다.\n",
    "# model = YOLO(\"runs/detect/train26/weights/best.pt\") \n",
    "\n",
    "\n",
    "# source에 test사진의 위치를 넣어주세요\n",
    "model.predict(source=\"D:/yolodata/eojin/test/images/AEUF7937_JPG.rf.dac1c17ad7096e77a642729fcbccebbb.jpg\", imgsz=400, save=True, show=True)\n",
    "# model.predict(source=resized_image, imgsz=416, save=True, show=True)"
   ]
  },
  {
   "cell_type": "code",
   "execution_count": 5,
   "id": "115b6243-fb77-4429-a7d0-ddf6a9276ee3",
   "metadata": {},
   "outputs": [
    {
     "name": "stdout",
     "output_type": "stream",
     "text": [
      "Ultralytics YOLOv8.1.15 🚀 Python-3.10.11 torch-1.12.1+cu113 CPU (Intel Core(TM) i7-7500U 2.70GHz)\n",
      "\n",
      "\u001b[34m\u001b[1mPyTorch:\u001b[0m starting from 'runs\\detect\\train12\\weights\\last.pt' with input shape (1, 3, 512, 512) BCHW and output shape(s) (1, 5, 5376) (5.9 MB)\n",
      "\n",
      "\u001b[34m\u001b[1mTorchScript:\u001b[0m starting export with torch 1.12.1+cu113...\n",
      "\u001b[34m\u001b[1mTorchScript:\u001b[0m export success ✅ 2.4s, saved as 'runs\\detect\\train12\\weights\\last.torchscript' (11.9 MB)\n",
      "\n",
      "Export complete (4.8s)\n",
      "Results saved to \u001b[1mC:\\Users\\kopo\\hkcode\\Session13 - 객체인식모델 연동실습_yolo\\runs\\detect\\train12\\weights\u001b[0m\n",
      "Predict:         yolo predict task=detect model=runs\\detect\\train12\\weights\\last.torchscript imgsz=512  \n",
      "Validate:        yolo val task=detect model=runs\\detect\\train12\\weights\\last.torchscript imgsz=512 data=D:/yolodata/eojin/data.yaml  \n",
      "Visualize:       https://netron.app\n"
     ]
    },
    {
     "data": {
      "text/plain": [
       "'runs\\\\detect\\\\train12\\\\weights\\\\last.torchscript'"
      ]
     },
     "execution_count": 5,
     "metadata": {},
     "output_type": "execute_result"
    }
   ],
   "source": [
    "# Export the model\n",
    "model.export()"
   ]
  },
  {
   "cell_type": "code",
   "execution_count": null,
   "id": "b8e874ef-4128-4474-b4ca-feab1977a1d0",
   "metadata": {},
   "outputs": [],
   "source": []
  }
 ],
 "metadata": {
  "kernelspec": {
   "display_name": "Python 3 (ipykernel)",
   "language": "python",
   "name": "python3"
  },
  "language_info": {
   "codemirror_mode": {
    "name": "ipython",
    "version": 3
   },
   "file_extension": ".py",
   "mimetype": "text/x-python",
   "name": "python",
   "nbconvert_exporter": "python",
   "pygments_lexer": "ipython3",
   "version": "3.10.11"
  }
 },
 "nbformat": 4,
 "nbformat_minor": 5
}
