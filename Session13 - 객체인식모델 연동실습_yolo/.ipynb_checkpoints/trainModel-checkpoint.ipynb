{
 "cells": [
  {
   "cell_type": "code",
   "execution_count": 1,
   "id": "83c62e81-d669-4b93-bd95-d405c60136b3",
   "metadata": {},
   "outputs": [
    {
     "name": "stdout",
     "output_type": "stream",
     "text": [
      "True\n"
     ]
    }
   ],
   "source": [
    "import torch\n",
    "# GPU 사용 가능 -> True, GPU 사용 불가 -> False\n",
    "print(torch.cuda.is_available())\n"
   ]
  },
  {
   "cell_type": "code",
   "execution_count": 2,
   "id": "a0c6c247-9263-451d-b00e-775f79b46c92",
   "metadata": {
    "scrolled": true
   },
   "outputs": [],
   "source": [
    "from ultralytics import YOLO"
   ]
  },
  {
   "cell_type": "code",
   "execution_count": 3,
   "id": "16a41c33-8e57-4ea3-a4e5-fcb8c24021a7",
   "metadata": {
    "scrolled": true
   },
   "outputs": [],
   "source": [
    "# Load a model\n",
    "model = YOLO('yolov8n.pt')"
   ]
  },
  {
   "cell_type": "code",
   "execution_count": null,
   "id": "3097fa98-6879-42a7-8aa2-2263418c8c05",
   "metadata": {
    "scrolled": true
   },
   "outputs": [
    {
     "name": "stdout",
     "output_type": "stream",
     "text": [
      "New https://pypi.org/project/ultralytics/8.1.28 available 😃 Update with 'pip install -U ultralytics'\n",
      "Ultralytics YOLOv8.1.15 🚀 Python-3.10.11 torch-1.12.1+cu113 CUDA:0 (NVIDIA GeForce GTX 950M, 2048MiB)\n",
      "WARNING ⚠️ Upgrade to torch>=2.0.0 for deterministic training.\n",
      "\u001b[34m\u001b[1mengine\\trainer: \u001b[0mtask=detect, mode=train, model=yolov8n.pt, data=D:/yolodata/rail_anomaly/data.yaml, epochs=10, time=None, patience=50, batch=16, imgsz=416, save=True, save_period=-1, cache=False, device=0, workers=0, project=None, name=train, exist_ok=False, pretrained=True, optimizer=auto, verbose=True, seed=0, deterministic=True, single_cls=False, rect=False, cos_lr=False, close_mosaic=10, resume=False, amp=True, fraction=1.0, profile=False, freeze=None, multi_scale=False, overlap_mask=True, mask_ratio=4, dropout=0.0, val=True, split=val, save_json=False, save_hybrid=False, conf=None, iou=0.7, max_det=300, half=False, dnn=False, plots=True, source=None, vid_stride=1, stream_buffer=False, visualize=False, augment=False, agnostic_nms=False, classes=None, retina_masks=False, embed=None, show=False, save_frames=False, save_txt=False, save_conf=False, save_crop=False, show_labels=True, show_conf=True, show_boxes=True, line_width=None, format=torchscript, keras=False, optimize=False, int8=False, dynamic=False, simplify=False, opset=None, workspace=4, nms=False, lr0=0.01, lrf=0.01, momentum=0.937, weight_decay=0.0005, warmup_epochs=3.0, warmup_momentum=0.8, warmup_bias_lr=0.1, box=7.5, cls=0.5, dfl=1.5, pose=12.0, kobj=1.0, label_smoothing=0.0, nbs=64, hsv_h=0.015, hsv_s=0.7, hsv_v=0.4, degrees=0.0, translate=0.1, scale=0.5, shear=0.0, perspective=0.0, flipud=0.0, fliplr=0.5, mosaic=1.0, mixup=0.0, copy_paste=0.0, auto_augment=randaugment, erasing=0.4, crop_fraction=1.0, cfg=None, tracker=botsort.yaml, save_dir=runs\\detect\\train\n",
      "Overriding model.yaml nc=80 with nc=2\n",
      "\n",
      "                   from  n    params  module                                       arguments                     \n",
      "  0                  -1  1       464  ultralytics.nn.modules.conv.Conv             [3, 16, 3, 2]                 \n",
      "  1                  -1  1      4672  ultralytics.nn.modules.conv.Conv             [16, 32, 3, 2]                \n",
      "  2                  -1  1      7360  ultralytics.nn.modules.block.C2f             [32, 32, 1, True]             \n",
      "  3                  -1  1     18560  ultralytics.nn.modules.conv.Conv             [32, 64, 3, 2]                \n",
      "  4                  -1  2     49664  ultralytics.nn.modules.block.C2f             [64, 64, 2, True]             \n",
      "  5                  -1  1     73984  ultralytics.nn.modules.conv.Conv             [64, 128, 3, 2]               \n",
      "  6                  -1  2    197632  ultralytics.nn.modules.block.C2f             [128, 128, 2, True]           \n",
      "  7                  -1  1    295424  ultralytics.nn.modules.conv.Conv             [128, 256, 3, 2]              \n",
      "  8                  -1  1    460288  ultralytics.nn.modules.block.C2f             [256, 256, 1, True]           \n",
      "  9                  -1  1    164608  ultralytics.nn.modules.block.SPPF            [256, 256, 5]                 \n",
      " 10                  -1  1         0  torch.nn.modules.upsampling.Upsample         [None, 2, 'nearest']          \n",
      " 11             [-1, 6]  1         0  ultralytics.nn.modules.conv.Concat           [1]                           \n",
      " 12                  -1  1    148224  ultralytics.nn.modules.block.C2f             [384, 128, 1]                 \n",
      " 13                  -1  1         0  torch.nn.modules.upsampling.Upsample         [None, 2, 'nearest']          \n",
      " 14             [-1, 4]  1         0  ultralytics.nn.modules.conv.Concat           [1]                           \n",
      " 15                  -1  1     37248  ultralytics.nn.modules.block.C2f             [192, 64, 1]                  \n",
      " 16                  -1  1     36992  ultralytics.nn.modules.conv.Conv             [64, 64, 3, 2]                \n",
      " 17            [-1, 12]  1         0  ultralytics.nn.modules.conv.Concat           [1]                           \n",
      " 18                  -1  1    123648  ultralytics.nn.modules.block.C2f             [192, 128, 1]                 \n",
      " 19                  -1  1    147712  ultralytics.nn.modules.conv.Conv             [128, 128, 3, 2]              \n",
      " 20             [-1, 9]  1         0  ultralytics.nn.modules.conv.Concat           [1]                           \n",
      " 21                  -1  1    493056  ultralytics.nn.modules.block.C2f             [384, 256, 1]                 \n",
      " 22        [15, 18, 21]  1    751702  ultralytics.nn.modules.head.Detect           [2, [64, 128, 256]]           \n",
      "Model summary: 225 layers, 3011238 parameters, 3011222 gradients, 8.2 GFLOPs\n",
      "\n",
      "Transferred 319/355 items from pretrained weights\n",
      "\u001b[34m\u001b[1mTensorBoard: \u001b[0mStart with 'tensorboard --logdir runs\\detect\\train', view at http://localhost:6006/\n",
      "Freezing layer 'model.22.dfl.conv.weight'\n",
      "\u001b[34m\u001b[1mAMP: \u001b[0mrunning Automatic Mixed Precision (AMP) checks with YOLOv8n...\n",
      "\u001b[34m\u001b[1mAMP: \u001b[0mchecks passed ✅\n"
     ]
    },
    {
     "name": "stderr",
     "output_type": "stream",
     "text": [
      "\u001b[34m\u001b[1mtrain: \u001b[0mScanning D:\\yolodata\\rail_anomaly\\train\\labels.cache... 3052 images, 1405 backgrounds, 0 corrupt: 100%|██████\u001b[0m\n",
      "\u001b[34m\u001b[1mval: \u001b[0mScanning D:\\yolodata\\rail_anomaly\\valid\\labels.cache... 12 images, 3 backgrounds, 0 corrupt: 100%|██████████| 1\u001b[0m\n"
     ]
    },
    {
     "name": "stdout",
     "output_type": "stream",
     "text": [
      "Plotting labels to runs\\detect\\train\\labels.jpg... \n",
      "\u001b[34m\u001b[1moptimizer:\u001b[0m 'optimizer=auto' found, ignoring 'lr0=0.01' and 'momentum=0.937' and determining best 'optimizer', 'lr0' and 'momentum' automatically... \n",
      "\u001b[34m\u001b[1moptimizer:\u001b[0m AdamW(lr=0.001667, momentum=0.9) with parameter groups 57 weight(decay=0.0), 64 weight(decay=0.0005), 63 bias(decay=0.0)\n",
      "\u001b[34m\u001b[1mTensorBoard: \u001b[0mmodel graph visualization added ✅\n",
      "Image sizes 416 train, 416 val\n",
      "Using 0 dataloader workers\n",
      "Logging results to \u001b[1mruns\\detect\\train\u001b[0m\n",
      "Starting training for 10 epochs...\n",
      "Closing dataloader mosaic\n",
      "\n",
      "      Epoch    GPU_mem   box_loss   cls_loss   dfl_loss  Instances       Size\n"
     ]
    },
    {
     "name": "stderr",
     "output_type": "stream",
     "text": [
      "       1/10     0.879G      1.557      4.272      1.546         17        416:  12%|█▏        | 23/191 [00:29<03:24,"
     ]
    }
   ],
   "source": [
    "# 10번 반복하여 모델을 학습시키겠습니다. data에 data.yaml 경로를 넣어주세요\n",
    "model.train(data='D:/yolodata/rail_anomaly/data.yaml', epochs=10, imgsz=416, device=0, workers=0)"
   ]
  },
  {
   "cell_type": "markdown",
   "id": "2f279cc1-4f75-424f-b09e-7084f5b89ebc",
   "metadata": {},
   "source": [
    "# 예측"
   ]
  },
  {
   "cell_type": "code",
   "execution_count": 25,
   "id": "2b53dcff-beea-4b68-8efb-8dde4958909a",
   "metadata": {},
   "outputs": [],
   "source": [
    "from torchvision.transforms import Resize\n",
    "from PIL import Image\n",
    "\n",
    "resize = Resize((416, 416))\n",
    "image = Image.open(\"D:/yolodata/rail_anomaly/test/images/rail7.jpg\")\n",
    "resized_image = resize(image)"
   ]
  },
  {
   "cell_type": "code",
   "execution_count": 29,
   "id": "77d9b13c-ce87-4727-af5a-587f9c8a7347",
   "metadata": {
    "scrolled": true
   },
   "outputs": [
    {
     "name": "stdout",
     "output_type": "stream",
     "text": [
      "\n",
      "WARNING ⚠️ imgsz=[400] must be multiple of max stride 32, updating to [416]\n",
      "image 1/1 D:\\yolodata\\eojin\\test\\images\\AEUF7937_JPG.rf.dac1c17ad7096e77a642729fcbccebbb.jpg: 416x320 (no detections), 46.9ms\n",
      "Speed: 295.1ms preprocess, 46.9ms inference, 0.0ms postprocess per image at shape (1, 3, 416, 320)\n",
      "Results saved to \u001b[1mruns\\detect\\train164\u001b[0m\n"
     ]
    },
    {
     "data": {
      "text/plain": [
       "[ultralytics.engine.results.Results object with attributes:\n",
       " \n",
       " boxes: ultralytics.engine.results.Boxes object\n",
       " keypoints: None\n",
       " masks: None\n",
       " names: {0: 'eojin'}\n",
       " obb: None\n",
       " orig_img: array([[[206, 206, 206],\n",
       "         [206, 206, 206],\n",
       "         [206, 206, 206],\n",
       "         ...,\n",
       "         [119, 145, 145],\n",
       "         [119, 145, 145],\n",
       "         [119, 145, 145]],\n",
       " \n",
       "        [[206, 206, 206],\n",
       "         [206, 206, 206],\n",
       "         [206, 206, 206],\n",
       "         ...,\n",
       "         [119, 145, 145],\n",
       "         [119, 145, 145],\n",
       "         [119, 145, 145]],\n",
       " \n",
       "        [[207, 207, 207],\n",
       "         [207, 207, 207],\n",
       "         [207, 207, 207],\n",
       "         ...,\n",
       "         [119, 145, 145],\n",
       "         [119, 145, 145],\n",
       "         [119, 145, 145]],\n",
       " \n",
       "        ...,\n",
       " \n",
       "        [[181, 201, 218],\n",
       "         [179, 199, 216],\n",
       "         [177, 197, 214],\n",
       "         ...,\n",
       "         [162, 188, 204],\n",
       "         [162, 188, 204],\n",
       "         [162, 188, 204]],\n",
       " \n",
       "        [[179, 199, 216],\n",
       "         [177, 197, 214],\n",
       "         [176, 196, 213],\n",
       "         ...,\n",
       "         [161, 187, 204],\n",
       "         [161, 187, 204],\n",
       "         [161, 187, 204]],\n",
       " \n",
       "        [[178, 198, 215],\n",
       "         [176, 196, 213],\n",
       "         [175, 195, 212],\n",
       "         ...,\n",
       "         [161, 187, 204],\n",
       "         [161, 187, 204],\n",
       "         [161, 187, 204]]], dtype=uint8)\n",
       " orig_shape: (1008, 756)\n",
       " path: 'D:\\\\yolodata\\\\eojin\\\\test\\\\images\\\\AEUF7937_JPG.rf.dac1c17ad7096e77a642729fcbccebbb.jpg'\n",
       " probs: None\n",
       " save_dir: 'runs\\\\detect\\\\train164'\n",
       " speed: {'preprocess': 295.0725555419922, 'inference': 46.92649841308594, 'postprocess': 0.0}]"
      ]
     },
     "execution_count": 29,
     "metadata": {},
     "output_type": "execute_result"
    }
   ],
   "source": [
    "# 훈련된 커스텀 yolo 모델을 불러오겠습니다.\n",
    "#학습하여 모델이 만들어 질때마다 train1 처럼 폴더의 숫자가 커지며 그안에 best.pt이 생성됩니다.\n",
    "# model = YOLO(\"runs/detect/train26/weights/best.pt\") \n",
    "\n",
    "\n",
    "# source에 test사진의 위치를 넣어주세요\n",
    "model.predict(source=\"D:/yolodata/eojin/test/images/AEUF7937_JPG.rf.dac1c17ad7096e77a642729fcbccebbb.jpg\", imgsz=400, save=True, show=True)\n",
    "# model.predict(source=resized_image, imgsz=416, save=True, show=True)"
   ]
  },
  {
   "cell_type": "code",
   "execution_count": 5,
   "id": "115b6243-fb77-4429-a7d0-ddf6a9276ee3",
   "metadata": {},
   "outputs": [
    {
     "name": "stdout",
     "output_type": "stream",
     "text": [
      "Ultralytics YOLOv8.1.15 🚀 Python-3.10.11 torch-1.12.1+cu113 CPU (Intel Core(TM) i7-7500U 2.70GHz)\n",
      "\n",
      "\u001b[34m\u001b[1mPyTorch:\u001b[0m starting from 'runs\\detect\\train12\\weights\\last.pt' with input shape (1, 3, 512, 512) BCHW and output shape(s) (1, 5, 5376) (5.9 MB)\n",
      "\n",
      "\u001b[34m\u001b[1mTorchScript:\u001b[0m starting export with torch 1.12.1+cu113...\n",
      "\u001b[34m\u001b[1mTorchScript:\u001b[0m export success ✅ 2.4s, saved as 'runs\\detect\\train12\\weights\\last.torchscript' (11.9 MB)\n",
      "\n",
      "Export complete (4.8s)\n",
      "Results saved to \u001b[1mC:\\Users\\kopo\\hkcode\\Session13 - 객체인식모델 연동실습_yolo\\runs\\detect\\train12\\weights\u001b[0m\n",
      "Predict:         yolo predict task=detect model=runs\\detect\\train12\\weights\\last.torchscript imgsz=512  \n",
      "Validate:        yolo val task=detect model=runs\\detect\\train12\\weights\\last.torchscript imgsz=512 data=D:/yolodata/eojin/data.yaml  \n",
      "Visualize:       https://netron.app\n"
     ]
    },
    {
     "data": {
      "text/plain": [
       "'runs\\\\detect\\\\train12\\\\weights\\\\last.torchscript'"
      ]
     },
     "execution_count": 5,
     "metadata": {},
     "output_type": "execute_result"
    }
   ],
   "source": [
    "# Export the model\n",
    "model.export()"
   ]
  },
  {
   "cell_type": "code",
   "execution_count": null,
   "id": "b8e874ef-4128-4474-b4ca-feab1977a1d0",
   "metadata": {},
   "outputs": [],
   "source": []
  }
 ],
 "metadata": {
  "kernelspec": {
   "display_name": "Python 3 (ipykernel)",
   "language": "python",
   "name": "python3"
  },
  "language_info": {
   "codemirror_mode": {
    "name": "ipython",
    "version": 3
   },
   "file_extension": ".py",
   "mimetype": "text/x-python",
   "name": "python",
   "nbconvert_exporter": "python",
   "pygments_lexer": "ipython3",
   "version": "3.10.11"
  }
 },
 "nbformat": 4,
 "nbformat_minor": 5
}
