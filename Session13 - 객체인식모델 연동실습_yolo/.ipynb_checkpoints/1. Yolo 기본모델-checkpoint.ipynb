{
 "cells": [
  {
   "cell_type": "markdown",
   "id": "22fb211c-2bc8-4be6-87ef-a4988ed339b1",
   "metadata": {},
   "source": [
    "### 1. Yolo 기본모델 실행"
   ]
  },
  {
   "cell_type": "code",
   "execution_count": 1,
   "id": "813a334b-4bfd-4f58-a9a9-77987ad78e20",
   "metadata": {
    "tags": []
   },
   "outputs": [
    {
     "name": "stderr",
     "output_type": "stream",
     "text": [
      "Downloading https://github.com/ultralytics/assets/releases/download/v0.0.0/yolov8n.pt to 'yolov8n.pt'...\n",
      "100%|██████████████████████████████████████████████████████████████████████████| 6.23M/6.23M [00:02<00:00, 2.83MB/s]\n"
     ]
    }
   ],
   "source": [
    "import cv2\n",
    "from ultralytics import YOLO\n",
    "\n",
    "model = YOLO(\"yolov8n.pt\")\n"
   ]
  },
  {
   "cell_type": "code",
   "execution_count": 2,
   "id": "5e74a25c-2d28-4224-8a64-cd04cf6a7375",
   "metadata": {
    "tags": []
   },
   "outputs": [
    {
     "name": "stderr",
     "output_type": "stream",
     "text": [
      "\n",
      "0: 480x640 1 person, 394.0ms\n",
      "Speed: 13.0ms preprocess, 394.0ms inference, 8.0ms postprocess per image at shape (1, 3, 480, 640)\n",
      "\n",
      "0: 480x640 1 person, 2 bottles, 8 books, 512.6ms\n",
      "Speed: 10.0ms preprocess, 512.6ms inference, 5.0ms postprocess per image at shape (1, 3, 480, 640)\n",
      "\n",
      "0: 480x640 1 person, 1 bottle, 9 books, 278.9ms\n",
      "Speed: 6.0ms preprocess, 278.9ms inference, 4.0ms postprocess per image at shape (1, 3, 480, 640)\n",
      "\n",
      "0: 480x640 1 person, 2 bottles, 9 books, 708.1ms\n",
      "Speed: 3.0ms preprocess, 708.1ms inference, 6.0ms postprocess per image at shape (1, 3, 480, 640)\n",
      "\n",
      "0: 480x640 1 person, 1 bottle, 8 books, 252.9ms\n",
      "Speed: 3.0ms preprocess, 252.9ms inference, 4.0ms postprocess per image at shape (1, 3, 480, 640)\n",
      "\n",
      "0: 480x640 1 person, 1 bottle, 8 books, 385.0ms\n",
      "Speed: 4.0ms preprocess, 385.0ms inference, 8.0ms postprocess per image at shape (1, 3, 480, 640)\n",
      "\n",
      "0: 480x640 1 person, 1 bottle, 8 books, 479.4ms\n",
      "Speed: 21.0ms preprocess, 479.4ms inference, 9.0ms postprocess per image at shape (1, 3, 480, 640)\n",
      "\n",
      "0: 480x640 1 person, 1 bottle, 8 books, 402.9ms\n",
      "Speed: 8.0ms preprocess, 402.9ms inference, 8.0ms postprocess per image at shape (1, 3, 480, 640)\n",
      "\n",
      "0: 480x640 1 person, 1 bottle, 10 books, 472.8ms\n",
      "Speed: 4.0ms preprocess, 472.8ms inference, 7.0ms postprocess per image at shape (1, 3, 480, 640)\n",
      "\n",
      "0: 480x640 1 person, 2 bottles, 11 books, 287.5ms\n",
      "Speed: 4.5ms preprocess, 287.5ms inference, 3.0ms postprocess per image at shape (1, 3, 480, 640)\n",
      "\n",
      "0: 480x640 1 person, 1 bottle, 7 books, 380.6ms\n",
      "Speed: 4.0ms preprocess, 380.6ms inference, 3.0ms postprocess per image at shape (1, 3, 480, 640)\n",
      "\n",
      "0: 480x640 1 person, 1 bottle, 8 books, 277.8ms\n",
      "Speed: 5.0ms preprocess, 277.8ms inference, 6.0ms postprocess per image at shape (1, 3, 480, 640)\n",
      "\n",
      "0: 480x640 1 person, 1 bottle, 8 books, 294.7ms\n",
      "Speed: 5.0ms preprocess, 294.7ms inference, 3.0ms postprocess per image at shape (1, 3, 480, 640)\n",
      "\n",
      "0: 480x640 1 person, 1 bottle, 7 books, 235.4ms\n",
      "Speed: 4.0ms preprocess, 235.4ms inference, 6.0ms postprocess per image at shape (1, 3, 480, 640)\n",
      "\n",
      "0: 480x640 1 person, 1 bottle, 7 books, 255.3ms\n",
      "Speed: 4.0ms preprocess, 255.3ms inference, 5.0ms postprocess per image at shape (1, 3, 480, 640)\n",
      "\n",
      "0: 480x640 1 person, 2 bottles, 7 books, 221.9ms\n",
      "Speed: 4.0ms preprocess, 221.9ms inference, 4.0ms postprocess per image at shape (1, 3, 480, 640)\n",
      "\n",
      "0: 480x640 1 person, 1 bottle, 8 books, 288.3ms\n",
      "Speed: 5.0ms preprocess, 288.3ms inference, 6.0ms postprocess per image at shape (1, 3, 480, 640)\n",
      "\n",
      "0: 480x640 1 person, 8 books, 285.3ms\n",
      "Speed: 4.0ms preprocess, 285.3ms inference, 6.0ms postprocess per image at shape (1, 3, 480, 640)\n",
      "\n",
      "0: 480x640 1 person, 1 bottle, 9 books, 256.3ms\n",
      "Speed: 11.0ms preprocess, 256.3ms inference, 4.0ms postprocess per image at shape (1, 3, 480, 640)\n",
      "\n",
      "0: 480x640 1 person, 8 books, 243.8ms\n",
      "Speed: 4.0ms preprocess, 243.8ms inference, 6.0ms postprocess per image at shape (1, 3, 480, 640)\n",
      "\n",
      "0: 480x640 1 person, 1 bottle, 9 books, 238.1ms\n",
      "Speed: 5.0ms preprocess, 238.1ms inference, 5.0ms postprocess per image at shape (1, 3, 480, 640)\n",
      "\n",
      "0: 480x640 1 person, 1 bottle, 8 books, 230.4ms\n",
      "Speed: 3.0ms preprocess, 230.4ms inference, 4.0ms postprocess per image at shape (1, 3, 480, 640)\n",
      "\n",
      "0: 480x640 1 person, 1 bottle, 8 books, 235.4ms\n",
      "Speed: 5.0ms preprocess, 235.4ms inference, 4.0ms postprocess per image at shape (1, 3, 480, 640)\n",
      "\n",
      "0: 480x640 1 person, 1 bottle, 8 books, 226.4ms\n",
      "Speed: 3.0ms preprocess, 226.4ms inference, 5.0ms postprocess per image at shape (1, 3, 480, 640)\n",
      "\n",
      "0: 480x640 1 person, 1 bottle, 9 books, 220.5ms\n",
      "Speed: 5.0ms preprocess, 220.5ms inference, 3.0ms postprocess per image at shape (1, 3, 480, 640)\n",
      "\n",
      "0: 480x640 1 person, 1 bottle, 10 books, 227.4ms\n",
      "Speed: 7.0ms preprocess, 227.4ms inference, 4.0ms postprocess per image at shape (1, 3, 480, 640)\n",
      "\n",
      "0: 480x640 1 person, 1 bottle, 8 books, 226.4ms\n",
      "Speed: 4.0ms preprocess, 226.4ms inference, 4.0ms postprocess per image at shape (1, 3, 480, 640)\n"
     ]
    }
   ],
   "source": [
    "# 캠 0,1 중 두번째 선택\n",
    "capture = cv2.VideoCapture(0)\n",
    "\n",
    "# 아래 구문 무한 반복\n",
    "while (capture.isOpened):\n",
    "    # 비디오 영상 불러오기\n",
    "    ret, frame = capture.read()\n",
    "    # 만약 영상이 종료되지 않았다면\n",
    "    if ret:\n",
    "        results = model(frame)\n",
    "        \n",
    "        # yolo 예측 모델 활용\n",
    "        predFrame = results[0].plot()\n",
    "        cv2.imshow(\"YOLOV8\", predFrame)\n",
    "        \n",
    "        key = cv2.waitKey(33)#1) & 0xFF\n",
    "        # esc 종료\n",
    "        if key == 27:\n",
    "            break\n",
    "    else:\n",
    "        break\n",
    "capture.release()\n",
    "cv2.destroyAllWindows()"
   ]
  },
  {
   "cell_type": "code",
   "execution_count": null,
   "id": "7d652178-c5ec-4fff-b0cb-f3730594e731",
   "metadata": {},
   "outputs": [],
   "source": []
  }
 ],
 "metadata": {
  "kernelspec": {
   "display_name": "Python 3 (ipykernel)",
   "language": "python",
   "name": "python3"
  },
  "language_info": {
   "codemirror_mode": {
    "name": "ipython",
    "version": 3
   },
   "file_extension": ".py",
   "mimetype": "text/x-python",
   "name": "python",
   "nbconvert_exporter": "python",
   "pygments_lexer": "ipython3",
   "version": "3.11.5"
  }
 },
 "nbformat": 4,
 "nbformat_minor": 5
}
