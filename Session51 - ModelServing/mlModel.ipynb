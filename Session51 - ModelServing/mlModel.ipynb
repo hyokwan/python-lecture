{
 "cells": [
  {
   "cell_type": "markdown",
   "id": "fd40d888-5f4a-4854-91e4-5665a041d592",
   "metadata": {},
   "source": [
    "### 간단한 모델을 생성해보자"
   ]
  },
  {
   "cell_type": "code",
   "execution_count": 2,
   "id": "3fcd3d19-b4f4-451b-a32c-3193d8437cc5",
   "metadata": {},
   "outputs": [],
   "source": [
    "import pandas as pd\n",
    "import numpy as np\n",
    "from sklearn import tree "
   ]
  },
  {
   "cell_type": "code",
   "execution_count": 1,
   "id": "1828015d-91bf-421f-b715-74455905f847",
   "metadata": {},
   "outputs": [],
   "source": [
    "dataurl = \"https://raw.githubusercontent.com/hyokwan/python-lecture/master/dataset/feature_regression_example.csv\""
   ]
  },
  {
   "cell_type": "markdown",
   "id": "74fa47ff-660b-40f6-86fa-0525cf749cd4",
   "metadata": {},
   "source": [
    "### 1. 데이터 불러오기"
   ]
  },
  {
   "cell_type": "code",
   "execution_count": 5,
   "id": "ff1faf48-0f93-401a-b309-277a27898841",
   "metadata": {},
   "outputs": [
    {
     "data": {
      "text/html": [
       "<div>\n",
       "<style scoped>\n",
       "    .dataframe tbody tr th:only-of-type {\n",
       "        vertical-align: middle;\n",
       "    }\n",
       "\n",
       "    .dataframe tbody tr th {\n",
       "        vertical-align: top;\n",
       "    }\n",
       "\n",
       "    .dataframe thead th {\n",
       "        text-align: right;\n",
       "    }\n",
       "</style>\n",
       "<table border=\"1\" class=\"dataframe\">\n",
       "  <thead>\n",
       "    <tr style=\"text-align: right;\">\n",
       "      <th></th>\n",
       "      <th>REGIONID</th>\n",
       "      <th>PRODUCTGROUP</th>\n",
       "      <th>PRODUCT</th>\n",
       "      <th>ITEM</th>\n",
       "      <th>YEARWEEK</th>\n",
       "      <th>YEAR</th>\n",
       "      <th>WEEK</th>\n",
       "      <th>QTY</th>\n",
       "      <th>HOLIDAY</th>\n",
       "      <th>HCLUS</th>\n",
       "      <th>PROMOTION</th>\n",
       "      <th>PRO_PERCENT</th>\n",
       "    </tr>\n",
       "  </thead>\n",
       "  <tbody>\n",
       "    <tr>\n",
       "      <th>0</th>\n",
       "      <td>SEOUL_BANK_001</td>\n",
       "      <td>PG02</td>\n",
       "      <td>PRODUCT0010</td>\n",
       "      <td>ITEM0115</td>\n",
       "      <td>201501</td>\n",
       "      <td>2015</td>\n",
       "      <td>1</td>\n",
       "      <td>1225</td>\n",
       "      <td>Y</td>\n",
       "      <td>1</td>\n",
       "      <td>Y</td>\n",
       "      <td>0.209442</td>\n",
       "    </tr>\n",
       "    <tr>\n",
       "      <th>1</th>\n",
       "      <td>SEOUL_BANK_001</td>\n",
       "      <td>PG02</td>\n",
       "      <td>PRODUCT0010</td>\n",
       "      <td>ITEM0115</td>\n",
       "      <td>201502</td>\n",
       "      <td>2015</td>\n",
       "      <td>2</td>\n",
       "      <td>968</td>\n",
       "      <td>N</td>\n",
       "      <td>4</td>\n",
       "      <td>Y</td>\n",
       "      <td>0.209442</td>\n",
       "    </tr>\n",
       "  </tbody>\n",
       "</table>\n",
       "</div>"
      ],
      "text/plain": [
       "         REGIONID PRODUCTGROUP      PRODUCT      ITEM  YEARWEEK  YEAR  WEEK  \\\n",
       "0  SEOUL_BANK_001         PG02  PRODUCT0010  ITEM0115    201501  2015     1   \n",
       "1  SEOUL_BANK_001         PG02  PRODUCT0010  ITEM0115    201502  2015     2   \n",
       "\n",
       "    QTY HOLIDAY  HCLUS PROMOTION  PRO_PERCENT  \n",
       "0  1225       Y      1         Y     0.209442  \n",
       "1   968       N      4         Y     0.209442  "
      ]
     },
     "execution_count": 5,
     "metadata": {},
     "output_type": "execute_result"
    }
   ],
   "source": [
    "selloutData = pd.read_csv(dataurl)\n",
    "selloutData.head(2)"
   ]
  },
  {
   "cell_type": "markdown",
   "id": "7c45e529-29d3-4ba0-9e2d-883e1bcc5c64",
   "metadata": {},
   "source": [
    "### 2. 데이터 분리 (훈련, 테스트)"
   ]
  },
  {
   "cell_type": "code",
   "execution_count": 8,
   "id": "262344a4-6869-4b2a-b1b0-b997b62e0526",
   "metadata": {},
   "outputs": [],
   "source": [
    "label = [\"QTY\"]"
   ]
  },
  {
   "cell_type": "code",
   "execution_count": 9,
   "id": "8d6cd2ee-1bd9-4490-ac6d-66c7bf4fa554",
   "metadata": {},
   "outputs": [],
   "source": [
    "features = list(  set( selloutData.select_dtypes(np.number).columns) - set(label) )"
   ]
  },
  {
   "cell_type": "code",
   "execution_count": 19,
   "id": "58c5457c-816c-4ecb-8898-a9d2f65d39ff",
   "metadata": {},
   "outputs": [
    {
     "data": {
      "text/plain": [
       "(105, 12)"
      ]
     },
     "execution_count": 19,
     "metadata": {},
     "output_type": "execute_result"
    }
   ],
   "source": [
    "selloutData.shape"
   ]
  },
  {
   "cell_type": "code",
   "execution_count": 16,
   "id": "0286956a-3953-40bd-a73b-269ae1fb3108",
   "metadata": {},
   "outputs": [
    {
     "data": {
      "text/plain": [
       "84"
      ]
     },
     "execution_count": 16,
     "metadata": {},
     "output_type": "execute_result"
    }
   ],
   "source": [
    "splitIndex = int( selloutData.shape[0] * 0.8 )\n",
    "splitIndex"
   ]
  },
  {
   "cell_type": "code",
   "execution_count": 17,
   "id": "007f3046-4daa-4f18-9006-1d457b2dae50",
   "metadata": {},
   "outputs": [],
   "source": [
    "trainingDataFeatures = selloutData.loc[:splitIndex, features]\n",
    "trainingDataLabel = selloutData.loc[:splitIndex, label]\n",
    "testDataFeatures = selloutData.loc[splitIndex+1:, features]\n",
    "testgDataLabel = selloutData.loc[splitIndex+1:, label]"
   ]
  },
  {
   "cell_type": "code",
   "execution_count": 18,
   "id": "2dab0e86-4e81-4c89-a15e-57da010c0c12",
   "metadata": {},
   "outputs": [
    {
     "name": "stdout",
     "output_type": "stream",
     "text": [
      "(85, 5)\n",
      "(85, 1)\n",
      "(20, 5)\n",
      "(20, 1)\n"
     ]
    }
   ],
   "source": [
    "print(trainingDataFeatures.shape)\n",
    "print(trainingDataLabel.shape)\n",
    "print(testDataFeatures.shape)\n",
    "print(testgDataLabel.shape)"
   ]
  },
  {
   "cell_type": "markdown",
   "id": "294b9619-0003-4811-9906-c1deb495c694",
   "metadata": {},
   "source": [
    "### 3. 모델 정의 및 훈련"
   ]
  },
  {
   "cell_type": "code",
   "execution_count": 20,
   "id": "f4e410f9-7254-4fcf-90d1-808dca2cb66b",
   "metadata": {},
   "outputs": [],
   "source": [
    "dtModel = tree.DecisionTreeRegressor(random_state=10)"
   ]
  },
  {
   "cell_type": "code",
   "execution_count": 21,
   "id": "cf869f91-74a6-425c-9a01-57fd87c44525",
   "metadata": {},
   "outputs": [
    {
     "data": {
      "text/plain": [
       "DecisionTreeRegressor(random_state=10)"
      ]
     },
     "execution_count": 21,
     "metadata": {},
     "output_type": "execute_result"
    }
   ],
   "source": [
    "dtModel.fit(trainingDataFeatures, trainingDataLabel)"
   ]
  },
  {
   "cell_type": "markdown",
   "id": "4eb267bc-e9c6-4006-bd27-afbced3f69b9",
   "metadata": {},
   "source": [
    "### 4. 예측"
   ]
  },
  {
   "cell_type": "code",
   "execution_count": 23,
   "id": "1561e021-0056-4d81-9cb0-366750784528",
   "metadata": {},
   "outputs": [],
   "source": [
    "predictValue = dtModel.predict(testDataFeatures)"
   ]
  },
  {
   "cell_type": "code",
   "execution_count": 29,
   "id": "0fb1d56b-ea81-47f4-a8d6-2596395d339d",
   "metadata": {},
   "outputs": [],
   "source": [
    "inYearweek = 202401\n",
    "inWeek = 1\n",
    "inPromotion = 0.1\n",
    "inHclus = 1\n",
    "inYear = 2024\n",
    "\n",
    "testDf = pd.DataFrame([[inYearweek,inWeek,inPromotion,inHclus,inYear     ]])"
   ]
  },
  {
   "cell_type": "code",
   "execution_count": 31,
   "id": "8e86fab0-1d52-4b72-9df3-efe8ce9c0bce",
   "metadata": {},
   "outputs": [
    {
     "name": "stderr",
     "output_type": "stream",
     "text": [
      "C:\\Users\\kopo\\anaconda3\\lib\\site-packages\\sklearn\\base.py:450: UserWarning: X does not have valid feature names, but DecisionTreeRegressor was fitted with feature names\n",
      "  warnings.warn(\n"
     ]
    },
    {
     "data": {
      "text/plain": [
       "array([79.])"
      ]
     },
     "execution_count": 31,
     "metadata": {},
     "output_type": "execute_result"
    }
   ],
   "source": [
    "dtModel.predict(testDf)"
   ]
  },
  {
   "cell_type": "markdown",
   "id": "ce798c38-3e0f-41ea-8781-98d8fa00dbe2",
   "metadata": {},
   "source": [
    "### 학습결과 저장"
   ]
  },
  {
   "cell_type": "code",
   "execution_count": 32,
   "id": "72c9f4a8-90e6-4a8e-a3bf-c105747ee607",
   "metadata": {},
   "outputs": [],
   "source": [
    "import pickle"
   ]
  },
  {
   "cell_type": "code",
   "execution_count": 33,
   "id": "fda4d5cd-d0bd-460f-b87e-91bd5540bfd3",
   "metadata": {},
   "outputs": [],
   "source": [
    "with open(\"mldt.dump\",\"wb\") as fw:\n",
    "    pickle.dump(dtModel, fw)"
   ]
  },
  {
   "cell_type": "code",
   "execution_count": null,
   "id": "36d10294-c9cf-4ef5-b540-40617e72af67",
   "metadata": {},
   "outputs": [],
   "source": []
  },
  {
   "cell_type": "code",
   "execution_count": null,
   "id": "1653d5e9-06c7-498e-b837-9cb79fa5c183",
   "metadata": {},
   "outputs": [],
   "source": []
  },
  {
   "cell_type": "code",
   "execution_count": null,
   "id": "3a057814-180a-42d1-8711-93a5af399396",
   "metadata": {},
   "outputs": [],
   "source": []
  },
  {
   "cell_type": "code",
   "execution_count": null,
   "id": "fece6753-f239-4760-8af8-44614277fc02",
   "metadata": {},
   "outputs": [],
   "source": []
  },
  {
   "cell_type": "code",
   "execution_count": null,
   "id": "17b99fdc-a98e-4100-9134-86bfe7376c74",
   "metadata": {},
   "outputs": [],
   "source": []
  },
  {
   "cell_type": "code",
   "execution_count": null,
   "id": "95c5a8bc-91ea-4075-96f1-f5a3bec4ecd7",
   "metadata": {},
   "outputs": [],
   "source": []
  },
  {
   "cell_type": "code",
   "execution_count": null,
   "id": "bec4a4b6-6f6e-499e-9544-4c117efaa8d5",
   "metadata": {},
   "outputs": [],
   "source": []
  },
  {
   "cell_type": "code",
   "execution_count": null,
   "id": "eaff9abc-4883-4482-9b8e-0ac057f64241",
   "metadata": {},
   "outputs": [],
   "source": []
  },
  {
   "cell_type": "code",
   "execution_count": null,
   "id": "ee897256-3b5d-4104-a316-4b751c90c2a5",
   "metadata": {},
   "outputs": [],
   "source": []
  },
  {
   "cell_type": "code",
   "execution_count": null,
   "id": "f55dee1f-331e-4219-89a3-5fc03e0cc85d",
   "metadata": {},
   "outputs": [],
   "source": []
  },
  {
   "cell_type": "code",
   "execution_count": 24,
   "id": "4f1798f0-b07a-4553-8d3d-558b039a140b",
   "metadata": {},
   "outputs": [
    {
     "data": {
      "text/plain": [
       "['YEARWEEK', 'WEEK', 'PRO_PERCENT', 'HCLUS', 'YEAR']"
      ]
     },
     "execution_count": 24,
     "metadata": {},
     "output_type": "execute_result"
    }
   ],
   "source": [
    "features"
   ]
  },
  {
   "cell_type": "code",
   "execution_count": null,
   "id": "ae251d5d-eb16-4aa4-b27c-0ffe98a78d28",
   "metadata": {},
   "outputs": [],
   "source": []
  },
  {
   "cell_type": "code",
   "execution_count": null,
   "id": "64637852-888b-4516-864e-f1edd60a2612",
   "metadata": {},
   "outputs": [],
   "source": []
  },
  {
   "cell_type": "code",
   "execution_count": null,
   "id": "f1eb6567-202f-417c-bc93-f19425ca80f8",
   "metadata": {},
   "outputs": [],
   "source": []
  },
  {
   "cell_type": "code",
   "execution_count": null,
   "id": "3eb184cf-8275-4533-a74b-ace6e4c2c629",
   "metadata": {},
   "outputs": [],
   "source": []
  },
  {
   "cell_type": "code",
   "execution_count": null,
   "id": "d1824de1-f8f1-4946-953b-d489be55960b",
   "metadata": {},
   "outputs": [],
   "source": []
  },
  {
   "cell_type": "code",
   "execution_count": null,
   "id": "778778be-973a-45af-855c-284eaa393983",
   "metadata": {},
   "outputs": [],
   "source": [
    "### 데이터"
   ]
  }
 ],
 "metadata": {
  "kernelspec": {
   "display_name": "Python 3 (ipykernel)",
   "language": "python",
   "name": "python3"
  },
  "language_info": {
   "codemirror_mode": {
    "name": "ipython",
    "version": 3
   },
   "file_extension": ".py",
   "mimetype": "text/x-python",
   "name": "python",
   "nbconvert_exporter": "python",
   "pygments_lexer": "ipython3",
   "version": "3.9.13"
  }
 },
 "nbformat": 4,
 "nbformat_minor": 5
}
