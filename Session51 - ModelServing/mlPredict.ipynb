{
 "cells": [
  {
   "cell_type": "code",
   "execution_count": 1,
   "id": "d5100dab-1ac5-4940-b6cd-fd6dd2ba518d",
   "metadata": {},
   "outputs": [],
   "source": [
    "import pickle\n",
    "import pandas as pd\n",
    "import numpy as np"
   ]
  },
  {
   "cell_type": "markdown",
   "id": "567cad6e-220e-4a09-8042-75acf81fb851",
   "metadata": {},
   "source": [
    "### 1. 학습결과 불러오기ㅡ"
   ]
  },
  {
   "cell_type": "code",
   "execution_count": 3,
   "id": "c4668b16-ce8a-49ff-b0c6-f88959808a21",
   "metadata": {},
   "outputs": [],
   "source": [
    "with open(\"mldt.dump\",\"rb\") as fr:\n",
    "    loadedModel = pickle.load(fr)"
   ]
  },
  {
   "cell_type": "markdown",
   "id": "54774a35-ca1e-4c70-903e-624c238722a5",
   "metadata": {},
   "source": [
    "### 2. 특성 데이터 입력"
   ]
  },
  {
   "cell_type": "code",
   "execution_count": 7,
   "id": "2aa3fd45-b71d-43b3-bbe9-23d3663946ea",
   "metadata": {},
   "outputs": [],
   "source": [
    "inYearweek = 202401\n",
    "inWeek = 1\n",
    "inPromotion = 0.5\n",
    "inHclus = 1\n",
    "inYear = 2024\n",
    "\n",
    "testDf = pd.DataFrame([[inYearweek,inWeek,inPromotion,inHclus,inYear     ]])"
   ]
  },
  {
   "cell_type": "markdown",
   "id": "66a22007-ed76-40ab-a371-664e0ec4c363",
   "metadata": {},
   "source": [
    "### 3. 예측"
   ]
  },
  {
   "cell_type": "code",
   "execution_count": 8,
   "id": "783a19f4-9c34-42f6-9ffb-d8ea2008be98",
   "metadata": {},
   "outputs": [
    {
     "name": "stderr",
     "output_type": "stream",
     "text": [
      "C:\\Users\\kopo\\anaconda3\\lib\\site-packages\\sklearn\\base.py:450: UserWarning: X does not have valid feature names, but DecisionTreeRegressor was fitted with feature names\n",
      "  warnings.warn(\n"
     ]
    },
    {
     "data": {
      "text/plain": [
       "array([2282.])"
      ]
     },
     "execution_count": 8,
     "metadata": {},
     "output_type": "execute_result"
    }
   ],
   "source": [
    "loadedModel.predict(testDf)"
   ]
  }
 ],
 "metadata": {
  "kernelspec": {
   "display_name": "Python 3 (ipykernel)",
   "language": "python",
   "name": "python3"
  },
  "language_info": {
   "codemirror_mode": {
    "name": "ipython",
    "version": 3
   },
   "file_extension": ".py",
   "mimetype": "text/x-python",
   "name": "python",
   "nbconvert_exporter": "python",
   "pygments_lexer": "ipython3",
   "version": "3.9.13"
  }
 },
 "nbformat": 4,
 "nbformat_minor": 5
}
