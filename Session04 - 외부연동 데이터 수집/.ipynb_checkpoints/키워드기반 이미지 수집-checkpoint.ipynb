{
 "cells": [
  {
   "cell_type": "code",
   "execution_count": 10,
   "id": "293e48cb-9163-4da6-be27-c7cbcfec3d87",
   "metadata": {},
   "outputs": [],
   "source": [
    "from selenium.webdriver.common.by import By\n"
   ]
  },
  {
   "cell_type": "code",
   "execution_count": null,
   "id": "dbd5542c-ad35-46c5-8358-6410da2b55af",
   "metadata": {},
   "outputs": [],
   "source": [
    "driver.find_element(By.XPATH, 'body').click()\n"
   ]
  },
  {
   "cell_type": "code",
   "execution_count": null,
   "id": "f60cca64-953f-4254-9e63-208e137a288a",
   "metadata": {},
   "outputs": [],
   "source": [
    "from re import I\n",
    "from selenium import webdriver\n",
    "from selenium.webdriver.common.keys import Keys\n",
    "import time\n",
    "import urllib.request\n",
    "import os\n",
    "\n",
    "search_words = [\"마리오\"]\n",
    "driver = webdriver.Chrome()  #chromedriver.exe -> 가져 옴\n",
    "driver.get(\"https://www.google.co.kr/imghp?hl=ko&tab=wi&authuser=0&ogbl\")\n",
    "# assert \"Python\" in driver.title\n",
    "current_path = os.getcwd() # 저장 경로\n",
    "for search_word in search_words:\n",
    "    elem = driver.find_element(By.NAME,\"q\")  # 검색탕의 검색엔진을 찾는 코드\n",
    "    elem.clear()\n",
    "    elem.send_keys(search_word)  # 해당 검색엔진에 글자를 입력\n",
    "    elem.send_keys(Keys.RETURN)\n",
    "    SCROLL_PAUSE_TIME = 1\n",
    "\n",
    "    # Get scroll height\n",
    "    last_height = driver.execute_script(\n",
    "        \"return document.body.scrollHeight\")  #브라우져 높이를 확인 가능(자바스크립트)\n",
    "\n",
    "    while True:\n",
    "        # Scroll down to bottom\n",
    "        driver.execute_script(\"window.scrollTo(0, document.body.scrollHeight);\"\n",
    "                              )  # 브라우져 끝까지 스크롤을 내리겠다.\n",
    "\n",
    "        # Wait to load page\n",
    "        time.sleep(SCROLL_PAUSE_TIME)  # 페이지 로딩 될 동안 웨잇\n",
    "\n",
    "        # Calculate new scroll height and compare with last scroll height\n",
    "        new_height = driver.execute_script(\"return document.body.scrollHeight\")\n",
    "        if new_height == last_height:  # 스크롤이 끝까지 내려가서 더이상 내릴 것이 없을 때\n",
    "            try:\n",
    "                driver.driver.find_element(By.CSS_SELECTOR,\n",
    "                    \".mye4qd\").click()  # 검색어 더 찾아보기 클릭\n",
    "            except:\n",
    "                break\n",
    "        last_height = new_height\n",
    "\n",
    "    images = driver.find_element(By.CSS_SELECTOR,\".rg_i.Q4LuWd\")\n",
    "\n",
    "    folder_name = search_word\n",
    "    #해당 이미지 이름과 동일한 폴더 생성\n",
    "    if not os.path.isdir(folder_name):  # 없으면 새로 생성하는 조건문\n",
    "        os.mkdir(folder_name)\n",
    "\n",
    "    count = 1\n",
    "    for image in images:\n",
    "        if count > 100:\n",
    "            break\n",
    "        try:\n",
    "            image.click()\n",
    "            time.sleep(3)\n",
    "            imgUrl = driver.find_element(By.XPATH,\n",
    "                \"/html/body/div[2]/c-wiz/div[3]/div[2]/div[3]/div/div/div[3]/div[2]/c-wiz/div/div[1]/div[1]/div[2]/div/a/img\").get_attribute(\"src\")\n",
    "            urllib.request.urlretrieve(\n",
    "                imgUrl,\n",
    "                folder_name + \"/\" + search_word + \".\" + str(count) + \".jpg\")\n",
    "            count = count + 1\n",
    "        except:\n",
    "            pass\n",
    "    driver.back()\n",
    "\n",
    "driver.close()"
   ]
  },
  {
   "cell_type": "code",
   "execution_count": null,
   "id": "817d1854-54c8-4b0b-967c-dfcf494df81c",
   "metadata": {},
   "outputs": [],
   "source": []
  },
  {
   "cell_type": "code",
   "execution_count": null,
   "id": "c28fac88-c5a2-4b71-ba93-4a4732619b87",
   "metadata": {},
   "outputs": [],
   "source": []
  },
  {
   "cell_type": "code",
   "execution_count": 4,
   "id": "6793623d-4d32-43b3-bf0c-a23e41c1fbcd",
   "metadata": {},
   "outputs": [],
   "source": [
    "from selenium.webdriver.common.by import By\n"
   ]
  },
  {
   "cell_type": "code",
   "execution_count": null,
   "id": "8277edd4-cd52-4cd6-87e1-8236ef11840e",
   "metadata": {},
   "outputs": [],
   "source": [
    "driver.find_element(By.NAME, 'body').click()\n"
   ]
  },
  {
   "cell_type": "code",
   "execution_count": 9,
   "id": "088e0cd6-250f-40b9-a2e8-4bd7e3110177",
   "metadata": {},
   "outputs": [
    {
     "ename": "TypeError",
     "evalue": "object of type 'WebElement' has no len()",
     "output_type": "error",
     "traceback": [
      "\u001b[1;31m---------------------------------------------------------------------------\u001b[0m",
      "\u001b[1;31mTypeError\u001b[0m                                 Traceback (most recent call last)",
      "Cell \u001b[1;32mIn[9], line 44\u001b[0m\n\u001b[0;32m     41\u001b[0m     driver\u001b[38;5;241m.\u001b[39mquit()\n\u001b[0;32m     43\u001b[0m \u001b[38;5;66;03m# 키워드와 다운로드할 이미지 수를 지정하여 함수 호출\u001b[39;00m\n\u001b[1;32m---> 44\u001b[0m \u001b[43mdownload_images_with_scroll\u001b[49m\u001b[43m(\u001b[49m\u001b[38;5;124;43m'\u001b[39;49m\u001b[38;5;124;43m마리오\u001b[39;49m\u001b[38;5;124;43m'\u001b[39;49m\u001b[43m,\u001b[49m\u001b[43m \u001b[49m\u001b[43mnum_images\u001b[49m\u001b[38;5;241;43m=\u001b[39;49m\u001b[38;5;241;43m100\u001b[39;49m\u001b[43m)\u001b[49m\n",
      "Cell \u001b[1;32mIn[9], line 16\u001b[0m, in \u001b[0;36mdownload_images_with_scroll\u001b[1;34m(query, num_images, save_directory)\u001b[0m\n\u001b[0;32m     14\u001b[0m \u001b[38;5;66;03m# 스크롤 다운\u001b[39;00m\n\u001b[0;32m     15\u001b[0m last_height \u001b[38;5;241m=\u001b[39m driver\u001b[38;5;241m.\u001b[39mexecute_script(\u001b[38;5;124m\"\u001b[39m\u001b[38;5;124mreturn document.body.scrollHeight\u001b[39m\u001b[38;5;124m\"\u001b[39m)\n\u001b[1;32m---> 16\u001b[0m \u001b[38;5;28;01mwhile\u001b[39;00m \u001b[38;5;28;43mlen\u001b[39;49m\u001b[43m(\u001b[49m\u001b[43mdriver\u001b[49m\u001b[38;5;241;43m.\u001b[39;49m\u001b[43mfind_element\u001b[49m\u001b[43m(\u001b[49m\u001b[43mBy\u001b[49m\u001b[38;5;241;43m.\u001b[39;49m\u001b[43mTAG_NAME\u001b[49m\u001b[43m,\u001b[49m\u001b[38;5;124;43m\"\u001b[39;49m\u001b[38;5;124;43mimg\u001b[39;49m\u001b[38;5;124;43m\"\u001b[39;49m\u001b[43m)\u001b[49m\u001b[43m)\u001b[49m \u001b[38;5;241m<\u001b[39m num_images:\n\u001b[0;32m     17\u001b[0m     driver\u001b[38;5;241m.\u001b[39mexecute_script(\u001b[38;5;124m\"\u001b[39m\u001b[38;5;124mwindow.scrollTo(0, document.body.scrollHeight);\u001b[39m\u001b[38;5;124m\"\u001b[39m)\n\u001b[0;32m     18\u001b[0m     time\u001b[38;5;241m.\u001b[39msleep(\u001b[38;5;241m1\u001b[39m)\n",
      "\u001b[1;31mTypeError\u001b[0m: object of type 'WebElement' has no len()"
     ]
    }
   ],
   "source": [
    "import time\n",
    "import os\n",
    "from selenium import webdriver\n",
    "from selenium.webdriver.common.keys import Keys\n",
    "\n",
    "def download_images_with_scroll(query, num_images=100, save_directory='images'):\n",
    "    # 웹 드라이버 시작\n",
    "    driver = webdriver.Chrome() # 크롬 드라이버 경로 설정\n",
    "    driver.get(\"https://www.google.com/imghp\")\n",
    "    elem = driver.find_element(By.NAME,\"q\")\n",
    "    elem.send_keys(query)\n",
    "    elem.send_keys(Keys.RETURN)\n",
    "    \n",
    "    # 스크롤 다운\n",
    "    last_height = driver.execute_script(\"return document.body.scrollHeight\")\n",
    "    while len(driver.find_element(By.TAG_NAME,\"img\")) < num_images:\n",
    "        driver.execute_script(\"window.scrollTo(0, document.body.scrollHeight);\")\n",
    "        time.sleep(1)\n",
    "        new_height = driver.execute_script(\"return document.body.scrollHeight\")\n",
    "        if new_height == last_height:\n",
    "            break\n",
    "        last_height = new_height\n",
    "    \n",
    "    # 이미지 URL 가져오기\n",
    "    soup = BeautifulSoup(driver.page_source, 'html.parser')\n",
    "    image_urls = [img['src'] for img in soup.find_all('img') if img.get('src') and img.get('src').startswith('http')]\n",
    "    image_urls = image_urls[:num_images]\n",
    "\n",
    "    # 이미지 다운로드 및 저장\n",
    "    os.makedirs(save_directory, exist_ok=True)\n",
    "    for i, image_url in enumerate(image_urls):\n",
    "        try:\n",
    "            image_data = requests.get(image_url).content\n",
    "            with open(f\"{save_directory}/image_{i+1}.jpg\", 'wb') as f:\n",
    "                f.write(image_data)\n",
    "            print(f\"이미지 {i+1}/{num_images} 다운로드 완료\")\n",
    "        except Exception as e:\n",
    "            print(f\"이미지 {i+1}/{num_images} 다운로드 실패: {e}\")\n",
    "    \n",
    "    # 웹 드라이버 종료\n",
    "    driver.quit()\n",
    "\n",
    "# 키워드와 다운로드할 이미지 수를 지정하여 함수 호출\n",
    "download_images('마리오', num_images=100)\n"
   ]
  },
  {
   "cell_type": "code",
   "execution_count": 1,
   "id": "e0c9bb18-e1ed-4921-814d-0ff89b05f5d8",
   "metadata": {},
   "outputs": [
    {
     "name": "stdout",
     "output_type": "stream",
     "text": [
      "이미지 1/10 다운로드 실패: Invalid URL '/images/branding/searchlogo/1x/googlelogo_desk_heirloom_color_150x55dp.gif': No scheme supplied. Perhaps you meant https:///images/branding/searchlogo/1x/googlelogo_desk_heirloom_color_150x55dp.gif?\n",
      "이미지 2/10 다운로드 완료\n",
      "이미지 3/10 다운로드 완료\n",
      "이미지 4/10 다운로드 완료\n",
      "이미지 5/10 다운로드 완료\n",
      "이미지 6/10 다운로드 완료\n",
      "이미지 7/10 다운로드 완료\n",
      "이미지 8/10 다운로드 완료\n",
      "이미지 9/10 다운로드 완료\n",
      "이미지 10/10 다운로드 완료\n"
     ]
    }
   ],
   "source": [
    "import os\n",
    "import requests\n",
    "from bs4 import BeautifulSoup\n",
    "import urllib.parse\n",
    "\n",
    "def download_images(query, num_images=5, save_directory='images'):\n",
    "    # 검색어를 이용하여 Google 이미지 검색 페이지 URL 생성\n",
    "    query = urllib.parse.quote_plus(query)\n",
    "    url = f\"https://www.google.com/search?q={query}&tbm=isch\"\n",
    "    \n",
    "    # HTTP 요청을 보내고 응답을 받아옴\n",
    "    headers = {'User-Agent': 'Mozilla/5.0'}\n",
    "    response = requests.get(url, headers=headers)\n",
    "    response.raise_for_status()\n",
    "    \n",
    "    # HTML 파싱\n",
    "    soup = BeautifulSoup(response.text, 'html.parser')\n",
    "    \n",
    "    # 이미지 URL을 담을 리스트 초기화\n",
    "    image_urls = []\n",
    "    \n",
    "    # 이미지 URL을 추출하여 리스트에 추가\n",
    "    for img in soup.find_all('img'):\n",
    "        image_urls.append(img.get('src'))\n",
    "        \n",
    "    # 이미지 다운로드 및 저장\n",
    "    os.makedirs(save_directory, exist_ok=True)\n",
    "    for i, image_url in enumerate(image_urls[:num_images]):\n",
    "        try:\n",
    "            image_data = requests.get(image_url).content\n",
    "            with open(f\"{save_directory}/image_{i+1}.jpg\", 'wb') as f:\n",
    "                f.write(image_data)\n",
    "            print(f\"이미지 {i+1}/{num_images} 다운로드 완료\")\n",
    "        except Exception as e:\n",
    "            print(f\"이미지 {i+1}/{num_images} 다운로드 실패: {e}\")\n",
    "\n",
    "# 키워드와 다운로드할 이미지 수를 지정하여 함수 호출\n",
    "download_images('마리오', num_images=10)\n"
   ]
  },
  {
   "cell_type": "code",
   "execution_count": null,
   "id": "dd1aaf3d-79b6-40e3-895c-f44e86db2632",
   "metadata": {},
   "outputs": [],
   "source": []
  }
 ],
 "metadata": {
  "kernelspec": {
   "display_name": "Python 3 (ipykernel)",
   "language": "python",
   "name": "python3"
  },
  "language_info": {
   "codemirror_mode": {
    "name": "ipython",
    "version": 3
   },
   "file_extension": ".py",
   "mimetype": "text/x-python",
   "name": "python",
   "nbconvert_exporter": "python",
   "pygments_lexer": "ipython3",
   "version": "3.10.11"
  }
 },
 "nbformat": 4,
 "nbformat_minor": 5
}
