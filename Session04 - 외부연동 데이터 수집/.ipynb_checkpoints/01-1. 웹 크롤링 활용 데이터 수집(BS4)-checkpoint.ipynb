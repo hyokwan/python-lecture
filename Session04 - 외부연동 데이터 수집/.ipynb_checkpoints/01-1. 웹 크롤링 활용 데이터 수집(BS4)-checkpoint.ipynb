{
 "cells": [
  {
   "cell_type": "markdown",
   "metadata": {},
   "source": [
    "# 1. BeautifulSoup 및 웹페이지 이해"
   ]
  },
  {
   "cell_type": "markdown",
   "metadata": {},
   "source": [
    "# 2. 라이브러리 선언 및 HTML 소스 불러오기"
   ]
  },
  {
   "cell_type": "code",
   "execution_count": 1,
   "metadata": {
    "scrolled": true
   },
   "outputs": [
    {
     "data": {
      "text/plain": [
       "<!DOCTYPE html>\n",
       "\n",
       "<html lang=\"ko-KR\">\n",
       "<head>\n",
       "<meta charset=\"utf-8\"/>\n",
       "<meta content=\"width=device-width, initial-scale=1\" name=\"viewport\"/>\n",
       "<link href=\"http://gmpg.org/xfn/11\" rel=\"profile\"/>\n",
       "<link href=\"https://sparkkorea.com/xmlrpc.php\" rel=\"pingback\"/>\n",
       "<title>퀴즈 – 스파크 코리아</title>\n",
       "<meta content=\"max-image-preview:large\" name=\"robots\">\n",
       "<meta content=\"QRZVgHsoL23RuwmgmXNuXfO-mUaxCkdvhP2rRvLT270\" name=\"google-site-verification\">\n",
       "<!-- Async WordPress.com Remote Login -->\n",
       "<script id=\"wpcom_remote_login_js\">\n",
       "var wpcom_remote_login_extra_auth = '';\n",
       "function wpcom_remote_login_remove_dom_node_id( element_id ) {\n",
       "\tvar dom_node = document.getElementById( element_id );\n",
       "\tif ( dom_node ) { dom_node.parentNode.removeChild( dom_node ); }\n",
       "}\n",
       "function wpcom_remote_login_remove_dom_node_classes( class_name ) {\n",
       "\tvar dom_nodes = document.querySelectorAll( '.' + class_name );\n",
       "\tfor ( var i = 0; i < dom_nodes.length; i++ ) {\n",
       "\t\tdom_nodes[ i ].parentNode.removeChild( dom_nodes[ i ] );\n",
       "\t}\n",
       "}\n",
       "function wpcom_remote_login_final_cleanup() {\n",
       "\twpcom_remote_login_remove_dom_node_classes( \"wpcom_remote_login_msg\" );\n",
       "\twpcom_remote_login_remove_dom_node_id( \"wpcom_remote_login_key\" );\n",
       "\twpcom_remote_login_remove_dom_node_id( \"wpcom_remote_login_validate\" );\n",
       "\twpcom_remote_login_remove_dom_node_id( \"wpcom_remote_login_js\" );\n",
       "\twpcom_remote_login_remove_dom_node_id( \"wpcom_request_access_iframe\" );\n",
       "\twpcom_remote_login_remove_dom_node_id( \"wpcom_request_access_styles\" );\n",
       "}\n",
       "\n",
       "// Watch for messages back from the remote login\n",
       "window.addEventListener( \"message\", function( e ) {\n",
       "\tif ( e.origin === \"https://r-login.wordpress.com\" ) {\n",
       "\t\tvar data = {};\n",
       "\t\ttry {\n",
       "\t\t\tdata = JSON.parse( e.data );\n",
       "\t\t} catch( e ) {\n",
       "\t\t\twpcom_remote_login_final_cleanup();\n",
       "\t\t\treturn;\n",
       "\t\t}\n",
       "\n",
       "\t\tif ( data.msg === 'LOGIN' ) {\n",
       "\t\t\t// Clean up the login check iframe\n",
       "\t\t\twpcom_remote_login_remove_dom_node_id( \"wpcom_remote_login_key\" );\n",
       "\n",
       "\t\t\tvar id_regex = new RegExp( /^[0-9]+$/ );\n",
       "\t\t\tvar token_regex = new RegExp( /^.*|.*|.*$/ );\n",
       "\t\t\tif (\n",
       "\t\t\t\ttoken_regex.test( data.token )\n",
       "\t\t\t\t&& id_regex.test( data.wpcomid )\n",
       "\t\t\t) {\n",
       "\t\t\t\t// We have everything we need to ask for a login\n",
       "\t\t\t\tvar script = document.createElement( \"script\" );\n",
       "\t\t\t\tscript.setAttribute( \"id\", \"wpcom_remote_login_validate\" );\n",
       "\t\t\t\tscript.src = '/remote-login.php?wpcom_remote_login=validate'\n",
       "\t\t\t\t\t+ '&wpcomid=' + data.wpcomid\n",
       "\t\t\t\t\t+ '&token=' + encodeURIComponent( data.token )\n",
       "\t\t\t\t\t+ '&host=' + window.location.protocol\n",
       "\t\t\t\t\t+ '//' + window.location.hostname\n",
       "\t\t\t\t\t+ '&postid=102'\n",
       "\t\t\t\t\t+ '&is_singular=';\n",
       "\t\t\t\tdocument.body.appendChild( script );\n",
       "\t\t\t}\n",
       "\n",
       "\t\t\treturn;\n",
       "\t\t}\n",
       "\n",
       "\t\t// Safari ITP, not logged in, so redirect\n",
       "\t\tif ( data.msg === 'LOGIN-REDIRECT' ) {\n",
       "\t\t\twindow.location = 'https://wordpress.com/log-in?redirect_to=' + window.location.href;\n",
       "\t\t\treturn;\n",
       "\t\t}\n",
       "\n",
       "\t\t// Safari ITP, storage access failed, remove the request\n",
       "\t\tif ( data.msg === 'LOGIN-REMOVE' ) {\n",
       "\t\t\tvar css_zap = 'html { -webkit-transition: margin-top 1s; transition: margin-top 1s; } /* 9001 */ html { margin-top: 0 !important; } * html body { margin-top: 0 !important; } @media screen and ( max-width: 782px ) { html { margin-top: 0 !important; } * html body { margin-top: 0 !important; } }';\n",
       "\t\t\tvar style_zap = document.createElement( 'style' );\n",
       "\t\t\tstyle_zap.type = 'text/css';\n",
       "\t\t\tstyle_zap.appendChild( document.createTextNode( css_zap ) );\n",
       "\t\t\tdocument.body.appendChild( style_zap );\n",
       "\n",
       "\t\t\tvar e = document.getElementById( 'wpcom_request_access_iframe' );\n",
       "\t\t\te.parentNode.removeChild( e );\n",
       "\n",
       "\t\t\tdocument.cookie = 'wordpress_com_login_access=denied; path=/; max-age=31536000';\n",
       "\n",
       "\t\t\treturn;\n",
       "\t\t}\n",
       "\n",
       "\t\t// Safari ITP\n",
       "\t\tif ( data.msg === 'REQUEST_ACCESS' ) {\n",
       "\t\t\tconsole.log( 'request access: safari' );\n",
       "\n",
       "\t\t\t// Check ITP iframe enable/disable knob\n",
       "\t\t\tif ( wpcom_remote_login_extra_auth !== 'safari_itp_iframe' ) {\n",
       "\t\t\t\treturn;\n",
       "\t\t\t}\n",
       "\n",
       "\t\t\t// If we are in a \"private window\" there is no ITP.\n",
       "\t\t\tvar private_window = false;\n",
       "\t\t\ttry {\n",
       "\t\t\t\tvar opendb = window.openDatabase( null, null, null, null );\n",
       "\t\t\t} catch( e ) {\n",
       "\t\t\t\tprivate_window = true;\n",
       "\t\t\t}\n",
       "\n",
       "\t\t\tif ( private_window ) {\n",
       "\t\t\t\tconsole.log( 'private window' );\n",
       "\t\t\t\treturn;\n",
       "\t\t\t}\n",
       "\n",
       "\t\t\tvar iframe = document.createElement( 'iframe' );\n",
       "\t\t\tiframe.id = 'wpcom_request_access_iframe';\n",
       "\t\t\tiframe.setAttribute( 'scrolling', 'no' );\n",
       "\t\t\tiframe.setAttribute( 'sandbox', 'allow-storage-access-by-user-activation allow-scripts allow-same-origin allow-top-navigation-by-user-activation' );\n",
       "\t\t\tiframe.src = 'https://r-login.wordpress.com/remote-login.php?wpcom_remote_login=request_access&origin=' + encodeURIComponent( data.origin ) + '&wpcomid=' + encodeURIComponent( data.wpcomid );\n",
       "\n",
       "\t\t\tvar css = 'html { -webkit-transition: margin-top 1s; transition: margin-top 1s; } /* 9001 */ html { margin-top: 46px !important; } * html body { margin-top: 46px !important; } @media screen and ( max-width: 660px ) { html { margin-top: 71px !important; } * html body { margin-top: 71px !important; } #wpcom_request_access_iframe { display: block; height: 71px !important; } } #wpcom_request_access_iframe { border: 0px; height: 46px; position: fixed; top: 0; left: 0; width: 100%; min-width: 100%; z-index: 99999; background: #23282d; } ';\n",
       "\n",
       "\t\t\tvar style = document.createElement( 'style' );\n",
       "\t\t\tstyle.type = 'text/css';\n",
       "\t\t\tstyle.id = 'wpcom_request_access_styles';\n",
       "\t\t\tstyle.appendChild( document.createTextNode( css ) );\n",
       "\t\t\tdocument.body.appendChild( style );\n",
       "\n",
       "\t\t\tdocument.body.appendChild( iframe );\n",
       "\t\t}\n",
       "\n",
       "\t\tif ( data.msg === 'DONE' ) {\n",
       "\t\t\twpcom_remote_login_final_cleanup();\n",
       "\t\t}\n",
       "\t}\n",
       "}, false );\n",
       "\n",
       "// Inject the remote login iframe after the page has had a chance to load\n",
       "// more critical resources\n",
       "window.addEventListener( \"DOMContentLoaded\", function( e ) {\n",
       "\tvar iframe = document.createElement( \"iframe\" );\n",
       "\tiframe.style.display = \"none\";\n",
       "\tiframe.setAttribute( \"scrolling\", \"no\" );\n",
       "\tiframe.setAttribute( \"id\", \"wpcom_remote_login_key\" );\n",
       "\tiframe.src = \"https://r-login.wordpress.com/remote-login.php\"\n",
       "\t\t+ \"?wpcom_remote_login=key\"\n",
       "\t\t+ \"&origin=aHR0cHM6Ly9zcGFya2tvcmVhLmNvbQ%3D%3D\"\n",
       "\t\t+ \"&wpcomid=163927570\"\n",
       "\t\t+ \"&time=1721258010\";\n",
       "\tdocument.body.appendChild( iframe );\n",
       "}, false );\n",
       "</script>\n",
       "<link href=\"//s2.wp.com\" rel=\"dns-prefetch\">\n",
       "<link href=\"//s1.wp.com\" rel=\"dns-prefetch\">\n",
       "<link href=\"//s0.wp.com\" rel=\"dns-prefetch\"/>\n",
       "<link href=\"//wordpress.com\" rel=\"dns-prefetch\"/>\n",
       "<link href=\"//fonts-api.wp.com\" rel=\"dns-prefetch\"/>\n",
       "<link href=\"https://sparkkorea.com/feed/\" rel=\"alternate\" title=\"스파크 코리아 » 피드\" type=\"application/rss+xml\"/>\n",
       "<link href=\"https://sparkkorea.com/comments/feed/\" rel=\"alternate\" title=\"스파크 코리아 » 댓글 피드\" type=\"application/rss+xml\"/>\n",
       "<script type=\"text/javascript\">\n",
       "\t\t/* <![CDATA[ */\n",
       "\t\tfunction addLoadEvent(func) {\n",
       "\t\t\tvar oldonload = window.onload;\n",
       "\t\t\tif (typeof window.onload != 'function') {\n",
       "\t\t\t\twindow.onload = func;\n",
       "\t\t\t} else {\n",
       "\t\t\t\twindow.onload = function () {\n",
       "\t\t\t\t\toldonload();\n",
       "\t\t\t\t\tfunc();\n",
       "\t\t\t\t}\n",
       "\t\t\t}\n",
       "\t\t}\n",
       "\t\t/* ]]> */\n",
       "\t</script>\n",
       "<script type=\"text/javascript\">\n",
       "/* <![CDATA[ */\n",
       "window._wpemojiSettings = {\"baseUrl\":\"https:\\/\\/s0.wp.com\\/wp-content\\/mu-plugins\\/wpcom-smileys\\/twemoji\\/2\\/72x72\\/\",\"ext\":\".png\",\"svgUrl\":\"https:\\/\\/s0.wp.com\\/wp-content\\/mu-plugins\\/wpcom-smileys\\/twemoji\\/2\\/svg\\/\",\"svgExt\":\".svg\",\"source\":{\"concatemoji\":\"https:\\/\\/s1.wp.com\\/wp-includes\\/js\\/wp-emoji-release.min.js?m=1719498190i&ver=6.6-RC3-58720\"}};\n",
       "/*! This file is auto-generated */\n",
       "!function(i,n){var o,s,e;function c(e){try{var t={supportTests:e,timestamp:(new Date).valueOf()};sessionStorage.setItem(o,JSON.stringify(t))}catch(e){}}function p(e,t,n){e.clearRect(0,0,e.canvas.width,e.canvas.height),e.fillText(t,0,0);var t=new Uint32Array(e.getImageData(0,0,e.canvas.width,e.canvas.height).data),r=(e.clearRect(0,0,e.canvas.width,e.canvas.height),e.fillText(n,0,0),new Uint32Array(e.getImageData(0,0,e.canvas.width,e.canvas.height).data));return t.every(function(e,t){return e===r[t]})}function u(e,t,n){switch(t){case\"flag\":return n(e,\"\\ud83c\\udff3\\ufe0f\\u200d\\u26a7\\ufe0f\",\"\\ud83c\\udff3\\ufe0f\\u200b\\u26a7\\ufe0f\")?!1:!n(e,\"\\ud83c\\uddfa\\ud83c\\uddf3\",\"\\ud83c\\uddfa\\u200b\\ud83c\\uddf3\")&&!n(e,\"\\ud83c\\udff4\\udb40\\udc67\\udb40\\udc62\\udb40\\udc65\\udb40\\udc6e\\udb40\\udc67\\udb40\\udc7f\",\"\\ud83c\\udff4\\u200b\\udb40\\udc67\\u200b\\udb40\\udc62\\u200b\\udb40\\udc65\\u200b\\udb40\\udc6e\\u200b\\udb40\\udc67\\u200b\\udb40\\udc7f\");case\"emoji\":return!n(e,\"\\ud83d\\udc26\\u200d\\u2b1b\",\"\\ud83d\\udc26\\u200b\\u2b1b\")}return!1}function f(e,t,n){var r=\"undefined\"!=typeof WorkerGlobalScope&&self instanceof WorkerGlobalScope?new OffscreenCanvas(300,150):i.createElement(\"canvas\"),a=r.getContext(\"2d\",{willReadFrequently:!0}),o=(a.textBaseline=\"top\",a.font=\"600 32px Arial\",{});return e.forEach(function(e){o[e]=t(a,e,n)}),o}function t(e){var t=i.createElement(\"script\");t.src=e,t.defer=!0,i.head.appendChild(t)}\"undefined\"!=typeof Promise&&(o=\"wpEmojiSettingsSupports\",s=[\"flag\",\"emoji\"],n.supports={everything:!0,everythingExceptFlag:!0},e=new Promise(function(e){i.addEventListener(\"DOMContentLoaded\",e,{once:!0})}),new Promise(function(t){var n=function(){try{var e=JSON.parse(sessionStorage.getItem(o));if(\"object\"==typeof e&&\"number\"==typeof e.timestamp&&(new Date).valueOf()<e.timestamp+604800&&\"object\"==typeof e.supportTests)return e.supportTests}catch(e){}return null}();if(!n){if(\"undefined\"!=typeof Worker&&\"undefined\"!=typeof OffscreenCanvas&&\"undefined\"!=typeof URL&&URL.createObjectURL&&\"undefined\"!=typeof Blob)try{var e=\"postMessage(\"+f.toString()+\"(\"+[JSON.stringify(s),u.toString(),p.toString()].join(\",\")+\"));\",r=new Blob([e],{type:\"text/javascript\"}),a=new Worker(URL.createObjectURL(r),{name:\"wpTestEmojiSupports\"});return void(a.onmessage=function(e){c(n=e.data),a.terminate(),t(n)})}catch(e){}c(n=f(s,u,p))}t(n)}).then(function(e){for(var t in e)n.supports[t]=e[t],n.supports.everything=n.supports.everything&&n.supports[t],\"flag\"!==t&&(n.supports.everythingExceptFlag=n.supports.everythingExceptFlag&&n.supports[t]);n.supports.everythingExceptFlag=n.supports.everythingExceptFlag&&!n.supports.flag,n.DOMReady=!1,n.readyCallback=function(){n.DOMReady=!0}}).then(function(){return e}).then(function(){var e;n.supports.everything||(n.readyCallback(),(e=n.source||{}).concatemoji?t(e.concatemoji):e.wpemoji&&e.twemoji&&(t(e.twemoji),t(e.wpemoji)))}))}((window,document),window._wpemojiSettings);\n",
       "/* ]]> */\n",
       "</script>\n",
       "<link crossorigin=\"anonymous\" href=\"https://s1.wp.com/wp-content/mu-plugins/likes/jetpack-likes.css?m=1717404074i&amp;cssminify=yes\" id=\"all-css-0-1\" media=\"all\" rel=\"stylesheet\" type=\"text/css\"/>\n",
       "<style id=\"wp-emoji-styles-inline-css\">\n",
       "\n",
       "\timg.wp-smiley, img.emoji {\n",
       "\t\tdisplay: inline !important;\n",
       "\t\tborder: none !important;\n",
       "\t\tbox-shadow: none !important;\n",
       "\t\theight: 1em !important;\n",
       "\t\twidth: 1em !important;\n",
       "\t\tmargin: 0 0.07em !important;\n",
       "\t\tvertical-align: -0.1em !important;\n",
       "\t\tbackground: none !important;\n",
       "\t\tpadding: 0 !important;\n",
       "\t}\n",
       "</style>\n",
       "<link crossorigin=\"anonymous\" href=\"https://s2.wp.com/_static/??-eJylzE0OQDAQQOELacdYFAtxFq1JlVHSH+L2GlewfHnJB/cpzOET+QQnZ+t8BJtLagq2nEBwYSdbiaCz4xk0H2YT7HSYwgMxPUzSxFjBPygttH/QuA/YNrXCHhu1vih0OFs=&amp;cssminify=yes\" id=\"all-css-2-1\" media=\"all\" rel=\"stylesheet\" type=\"text/css\"/>\n",
       "<style id=\"wp-block-library-inline-css\">\n",
       ".has-text-align-justify {\n",
       "\ttext-align:justify;\n",
       "}\n",
       ".has-text-align-justify{text-align:justify;}\n",
       "</style>\n",
       "<link crossorigin=\"anonymous\" href=\"https://s2.wp.com/_static/??-eJzTLy/QzcxLzilNSS3WzyrWz01NyUxMzUnNTc0rQeEU5CRWphbp5qSmJyZX6uVm5uklFxfr6OPTDpRD5sM02efaGpoZmFkYGRuZGmQBAHPvL0Y=&amp;cssminify=yes\" id=\"all-css-4-1\" media=\"all\" rel=\"stylesheet\" type=\"text/css\"/>\n",
       "<style id=\"jetpack-sharing-buttons-style-inline-css\">\n",
       ".jetpack-sharing-buttons__services-list{display:flex;flex-direction:row;flex-wrap:wrap;gap:0;list-style-type:none;margin:5px;padding:0}.jetpack-sharing-buttons__services-list.has-small-icon-size{font-size:12px}.jetpack-sharing-buttons__services-list.has-normal-icon-size{font-size:16px}.jetpack-sharing-buttons__services-list.has-large-icon-size{font-size:24px}.jetpack-sharing-buttons__services-list.has-huge-icon-size{font-size:36px}@media print{.jetpack-sharing-buttons__services-list{display:none!important}}.editor-styles-wrapper .wp-block-jetpack-sharing-buttons{gap:0;padding-inline-start:0}ul.jetpack-sharing-buttons__services-list.has-background{padding:1.25em 2.375em}\n",
       "</style>\n",
       "<link crossorigin=\"anonymous\" href=\"https://s1.wp.com/_static/??-eJyVzDEOgCAMQNELiQU1Jg7Gs2AlDYpAaInx9ro5O/7hfbiywhTFRYEcKvnIQPXN1RVSa0h4MOxOssVDBXunKoqK34DlDq5F5gb+LIoVH4k/vpyzGYe+03oyw/4AcmU1KQ==&amp;cssminify=yes\" id=\"all-css-6-1\" media=\"all\" rel=\"stylesheet\" type=\"text/css\"/>\n",
       "<style id=\"classic-theme-styles-inline-css\">\n",
       "/*! This file is auto-generated */\n",
       ".wp-block-button__link{color:#fff;background-color:#32373c;border-radius:9999px;box-shadow:none;text-decoration:none;padding:calc(.667em + 2px) calc(1.333em + 2px);font-size:1.125em}.wp-block-file__button{background:#32373c;color:#fff;text-decoration:none}\n",
       "</style>\n",
       "<link crossorigin=\"anonymous\" href=\"https://s1.wp.com/_static/??/wp-content/mu-plugins/core-compat/wp-mediaelement.css,/wp-content/mu-plugins/wpcom-bbpress-premium-themes.css?m=1432920480j&amp;cssminify=yes\" id=\"all-css-8-1\" media=\"all\" rel=\"stylesheet\" type=\"text/css\"/>\n",
       "<style id=\"global-styles-inline-css\">\n",
       ":root{--wp--preset--aspect-ratio--square: 1;--wp--preset--aspect-ratio--4-3: 4/3;--wp--preset--aspect-ratio--3-4: 3/4;--wp--preset--aspect-ratio--3-2: 3/2;--wp--preset--aspect-ratio--2-3: 2/3;--wp--preset--aspect-ratio--16-9: 16/9;--wp--preset--aspect-ratio--9-16: 9/16;--wp--preset--color--black: #000000;--wp--preset--color--cyan-bluish-gray: #abb8c3;--wp--preset--color--white: #fff;--wp--preset--color--pale-pink: #f78da7;--wp--preset--color--vivid-red: #cf2e2e;--wp--preset--color--luminous-vivid-orange: #ff6900;--wp--preset--color--luminous-vivid-amber: #fcb900;--wp--preset--color--light-green-cyan: #7bdcb5;--wp--preset--color--vivid-green-cyan: #00d084;--wp--preset--color--pale-cyan-blue: #8ed1fc;--wp--preset--color--vivid-cyan-blue: #0693e3;--wp--preset--color--vivid-purple: #9b51e0;--wp--preset--color--bright-blue: #678db8;--wp--preset--color--yellow: #e7ae01;--wp--preset--color--light-gray-blue: #abb7c3;--wp--preset--color--medium-gray: #6a6c6e;--wp--preset--color--dark-gray: #1a1c1e;--wp--preset--color--dark-gray-blue: #292c2f;--wp--preset--gradient--vivid-cyan-blue-to-vivid-purple: linear-gradient(135deg,rgba(6,147,227,1) 0%,rgb(155,81,224) 100%);--wp--preset--gradient--light-green-cyan-to-vivid-green-cyan: linear-gradient(135deg,rgb(122,220,180) 0%,rgb(0,208,130) 100%);--wp--preset--gradient--luminous-vivid-amber-to-luminous-vivid-orange: linear-gradient(135deg,rgba(252,185,0,1) 0%,rgba(255,105,0,1) 100%);--wp--preset--gradient--luminous-vivid-orange-to-vivid-red: linear-gradient(135deg,rgba(255,105,0,1) 0%,rgb(207,46,46) 100%);--wp--preset--gradient--very-light-gray-to-cyan-bluish-gray: linear-gradient(135deg,rgb(238,238,238) 0%,rgb(169,184,195) 100%);--wp--preset--gradient--cool-to-warm-spectrum: linear-gradient(135deg,rgb(74,234,220) 0%,rgb(151,120,209) 20%,rgb(207,42,186) 40%,rgb(238,44,130) 60%,rgb(251,105,98) 80%,rgb(254,248,76) 100%);--wp--preset--gradient--blush-light-purple: linear-gradient(135deg,rgb(255,206,236) 0%,rgb(152,150,240) 100%);--wp--preset--gradient--blush-bordeaux: linear-gradient(135deg,rgb(254,205,165) 0%,rgb(254,45,45) 50%,rgb(107,0,62) 100%);--wp--preset--gradient--luminous-dusk: linear-gradient(135deg,rgb(255,203,112) 0%,rgb(199,81,192) 50%,rgb(65,88,208) 100%);--wp--preset--gradient--pale-ocean: linear-gradient(135deg,rgb(255,245,203) 0%,rgb(182,227,212) 50%,rgb(51,167,181) 100%);--wp--preset--gradient--electric-grass: linear-gradient(135deg,rgb(202,248,128) 0%,rgb(113,206,126) 100%);--wp--preset--gradient--midnight: linear-gradient(135deg,rgb(2,3,129) 0%,rgb(40,116,252) 100%);--wp--preset--font-size--small: 13px;--wp--preset--font-size--medium: 20px;--wp--preset--font-size--large: 36px;--wp--preset--font-size--x-large: 42px;--wp--preset--font-family--albert-sans: 'Albert Sans', sans-serif;--wp--preset--font-family--alegreya: Alegreya, serif;--wp--preset--font-family--arvo: Arvo, serif;--wp--preset--font-family--bodoni-moda: 'Bodoni Moda', serif;--wp--preset--font-family--bricolage-grotesque: 'Bricolage Grotesque', sans-serif;--wp--preset--font-family--cabin: Cabin, sans-serif;--wp--preset--font-family--chivo: Chivo, sans-serif;--wp--preset--font-family--commissioner: Commissioner, sans-serif;--wp--preset--font-family--cormorant: Cormorant, serif;--wp--preset--font-family--courier-prime: 'Courier Prime', monospace;--wp--preset--font-family--crimson-pro: 'Crimson Pro', serif;--wp--preset--font-family--dm-mono: 'DM Mono', monospace;--wp--preset--font-family--dm-sans: 'DM Sans', sans-serif;--wp--preset--font-family--dm-serif-display: 'DM Serif Display', serif;--wp--preset--font-family--domine: Domine, serif;--wp--preset--font-family--eb-garamond: 'EB Garamond', serif;--wp--preset--font-family--epilogue: Epilogue, sans-serif;--wp--preset--font-family--fahkwang: Fahkwang, sans-serif;--wp--preset--font-family--figtree: Figtree, sans-serif;--wp--preset--font-family--fira-sans: 'Fira Sans', sans-serif;--wp--preset--font-family--fjalla-one: 'Fjalla One', sans-serif;--wp--preset--font-family--fraunces: Fraunces, serif;--wp--preset--font-family--gabarito: Gabarito, system-ui;--wp--preset--font-family--ibm-plex-mono: 'IBM Plex Mono', monospace;--wp--preset--font-family--ibm-plex-sans: 'IBM Plex Sans', sans-serif;--wp--preset--font-family--ibarra-real-nova: 'Ibarra Real Nova', serif;--wp--preset--font-family--instrument-serif: 'Instrument Serif', serif;--wp--preset--font-family--inter: Inter, sans-serif;--wp--preset--font-family--josefin-sans: 'Josefin Sans', sans-serif;--wp--preset--font-family--jost: Jost, sans-serif;--wp--preset--font-family--libre-baskerville: 'Libre Baskerville', serif;--wp--preset--font-family--libre-franklin: 'Libre Franklin', sans-serif;--wp--preset--font-family--literata: Literata, serif;--wp--preset--font-family--lora: Lora, serif;--wp--preset--font-family--merriweather: Merriweather, serif;--wp--preset--font-family--montserrat: Montserrat, sans-serif;--wp--preset--font-family--newsreader: Newsreader, serif;--wp--preset--font-family--noto-sans-mono: 'Noto Sans Mono', sans-serif;--wp--preset--font-family--nunito: Nunito, sans-serif;--wp--preset--font-family--open-sans: 'Open Sans', sans-serif;--wp--preset--font-family--overpass: Overpass, sans-serif;--wp--preset--font-family--pt-serif: 'PT Serif', serif;--wp--preset--font-family--petrona: Petrona, serif;--wp--preset--font-family--piazzolla: Piazzolla, serif;--wp--preset--font-family--playfair-display: 'Playfair Display', serif;--wp--preset--font-family--plus-jakarta-sans: 'Plus Jakarta Sans', sans-serif;--wp--preset--font-family--poppins: Poppins, sans-serif;--wp--preset--font-family--raleway: Raleway, sans-serif;--wp--preset--font-family--roboto: Roboto, sans-serif;--wp--preset--font-family--roboto-slab: 'Roboto Slab', serif;--wp--preset--font-family--rubik: Rubik, sans-serif;--wp--preset--font-family--rufina: Rufina, serif;--wp--preset--font-family--sora: Sora, sans-serif;--wp--preset--font-family--source-sans-3: 'Source Sans 3', sans-serif;--wp--preset--font-family--source-serif-4: 'Source Serif 4', serif;--wp--preset--font-family--space-mono: 'Space Mono', monospace;--wp--preset--font-family--syne: Syne, sans-serif;--wp--preset--font-family--texturina: Texturina, serif;--wp--preset--font-family--urbanist: Urbanist, sans-serif;--wp--preset--font-family--work-sans: 'Work Sans', sans-serif;--wp--preset--spacing--20: 0.44rem;--wp--preset--spacing--30: 0.67rem;--wp--preset--spacing--40: 1rem;--wp--preset--spacing--50: 1.5rem;--wp--preset--spacing--60: 2.25rem;--wp--preset--spacing--70: 3.38rem;--wp--preset--spacing--80: 5.06rem;--wp--preset--shadow--natural: 6px 6px 9px rgba(0, 0, 0, 0.2);--wp--preset--shadow--deep: 12px 12px 50px rgba(0, 0, 0, 0.4);--wp--preset--shadow--sharp: 6px 6px 0px rgba(0, 0, 0, 0.2);--wp--preset--shadow--outlined: 6px 6px 0px -3px rgba(255, 255, 255, 1), 6px 6px rgba(0, 0, 0, 1);--wp--preset--shadow--crisp: 6px 6px 0px rgba(0, 0, 0, 1);}:where(.is-layout-flex){gap: 0.5em;}:where(.is-layout-grid){gap: 0.5em;}body .is-layout-flex{display: flex;}.is-layout-flex{flex-wrap: wrap;align-items: center;}.is-layout-flex > :is(*, div){margin: 0;}body .is-layout-grid{display: grid;}.is-layout-grid > :is(*, div){margin: 0;}:where(.wp-block-columns.is-layout-flex){gap: 2em;}:where(.wp-block-columns.is-layout-grid){gap: 2em;}:where(.wp-block-post-template.is-layout-flex){gap: 1.25em;}:where(.wp-block-post-template.is-layout-grid){gap: 1.25em;}.has-black-color{color: var(--wp--preset--color--black) !important;}.has-cyan-bluish-gray-color{color: var(--wp--preset--color--cyan-bluish-gray) !important;}.has-white-color{color: var(--wp--preset--color--white) !important;}.has-pale-pink-color{color: var(--wp--preset--color--pale-pink) !important;}.has-vivid-red-color{color: var(--wp--preset--color--vivid-red) !important;}.has-luminous-vivid-orange-color{color: var(--wp--preset--color--luminous-vivid-orange) !important;}.has-luminous-vivid-amber-color{color: var(--wp--preset--color--luminous-vivid-amber) !important;}.has-light-green-cyan-color{color: var(--wp--preset--color--light-green-cyan) !important;}.has-vivid-green-cyan-color{color: var(--wp--preset--color--vivid-green-cyan) !important;}.has-pale-cyan-blue-color{color: var(--wp--preset--color--pale-cyan-blue) !important;}.has-vivid-cyan-blue-color{color: var(--wp--preset--color--vivid-cyan-blue) !important;}.has-vivid-purple-color{color: var(--wp--preset--color--vivid-purple) !important;}.has-black-background-color{background-color: var(--wp--preset--color--black) !important;}.has-cyan-bluish-gray-background-color{background-color: var(--wp--preset--color--cyan-bluish-gray) !important;}.has-white-background-color{background-color: var(--wp--preset--color--white) !important;}.has-pale-pink-background-color{background-color: var(--wp--preset--color--pale-pink) !important;}.has-vivid-red-background-color{background-color: var(--wp--preset--color--vivid-red) !important;}.has-luminous-vivid-orange-background-color{background-color: var(--wp--preset--color--luminous-vivid-orange) !important;}.has-luminous-vivid-amber-background-color{background-color: var(--wp--preset--color--luminous-vivid-amber) !important;}.has-light-green-cyan-background-color{background-color: var(--wp--preset--color--light-green-cyan) !important;}.has-vivid-green-cyan-background-color{background-color: var(--wp--preset--color--vivid-green-cyan) !important;}.has-pale-cyan-blue-background-color{background-color: var(--wp--preset--color--pale-cyan-blue) !important;}.has-vivid-cyan-blue-background-color{background-color: var(--wp--preset--color--vivid-cyan-blue) !important;}.has-vivid-purple-background-color{background-color: var(--wp--preset--color--vivid-purple) !important;}.has-black-border-color{border-color: var(--wp--preset--color--black) !important;}.has-cyan-bluish-gray-border-color{border-color: var(--wp--preset--color--cyan-bluish-gray) !important;}.has-white-border-color{border-color: var(--wp--preset--color--white) !important;}.has-pale-pink-border-color{border-color: var(--wp--preset--color--pale-pink) !important;}.has-vivid-red-border-color{border-color: var(--wp--preset--color--vivid-red) !important;}.has-luminous-vivid-orange-border-color{border-color: var(--wp--preset--color--luminous-vivid-orange) !important;}.has-luminous-vivid-amber-border-color{border-color: var(--wp--preset--color--luminous-vivid-amber) !important;}.has-light-green-cyan-border-color{border-color: var(--wp--preset--color--light-green-cyan) !important;}.has-vivid-green-cyan-border-color{border-color: var(--wp--preset--color--vivid-green-cyan) !important;}.has-pale-cyan-blue-border-color{border-color: var(--wp--preset--color--pale-cyan-blue) !important;}.has-vivid-cyan-blue-border-color{border-color: var(--wp--preset--color--vivid-cyan-blue) !important;}.has-vivid-purple-border-color{border-color: var(--wp--preset--color--vivid-purple) !important;}.has-vivid-cyan-blue-to-vivid-purple-gradient-background{background: var(--wp--preset--gradient--vivid-cyan-blue-to-vivid-purple) !important;}.has-light-green-cyan-to-vivid-green-cyan-gradient-background{background: var(--wp--preset--gradient--light-green-cyan-to-vivid-green-cyan) !important;}.has-luminous-vivid-amber-to-luminous-vivid-orange-gradient-background{background: var(--wp--preset--gradient--luminous-vivid-amber-to-luminous-vivid-orange) !important;}.has-luminous-vivid-orange-to-vivid-red-gradient-background{background: var(--wp--preset--gradient--luminous-vivid-orange-to-vivid-red) !important;}.has-very-light-gray-to-cyan-bluish-gray-gradient-background{background: var(--wp--preset--gradient--very-light-gray-to-cyan-bluish-gray) !important;}.has-cool-to-warm-spectrum-gradient-background{background: var(--wp--preset--gradient--cool-to-warm-spectrum) !important;}.has-blush-light-purple-gradient-background{background: var(--wp--preset--gradient--blush-light-purple) !important;}.has-blush-bordeaux-gradient-background{background: var(--wp--preset--gradient--blush-bordeaux) !important;}.has-luminous-dusk-gradient-background{background: var(--wp--preset--gradient--luminous-dusk) !important;}.has-pale-ocean-gradient-background{background: var(--wp--preset--gradient--pale-ocean) !important;}.has-electric-grass-gradient-background{background: var(--wp--preset--gradient--electric-grass) !important;}.has-midnight-gradient-background{background: var(--wp--preset--gradient--midnight) !important;}.has-small-font-size{font-size: var(--wp--preset--font-size--small) !important;}.has-medium-font-size{font-size: var(--wp--preset--font-size--medium) !important;}.has-large-font-size{font-size: var(--wp--preset--font-size--large) !important;}.has-x-large-font-size{font-size: var(--wp--preset--font-size--x-large) !important;}.has-albert-sans-font-family{font-family: var(--wp--preset--font-family--albert-sans) !important;}.has-alegreya-font-family{font-family: var(--wp--preset--font-family--alegreya) !important;}.has-arvo-font-family{font-family: var(--wp--preset--font-family--arvo) !important;}.has-bodoni-moda-font-family{font-family: var(--wp--preset--font-family--bodoni-moda) !important;}.has-bricolage-grotesque-font-family{font-family: var(--wp--preset--font-family--bricolage-grotesque) !important;}.has-cabin-font-family{font-family: var(--wp--preset--font-family--cabin) !important;}.has-chivo-font-family{font-family: var(--wp--preset--font-family--chivo) !important;}.has-commissioner-font-family{font-family: var(--wp--preset--font-family--commissioner) !important;}.has-cormorant-font-family{font-family: var(--wp--preset--font-family--cormorant) !important;}.has-courier-prime-font-family{font-family: var(--wp--preset--font-family--courier-prime) !important;}.has-crimson-pro-font-family{font-family: var(--wp--preset--font-family--crimson-pro) !important;}.has-dm-mono-font-family{font-family: var(--wp--preset--font-family--dm-mono) !important;}.has-dm-sans-font-family{font-family: var(--wp--preset--font-family--dm-sans) !important;}.has-dm-serif-display-font-family{font-family: var(--wp--preset--font-family--dm-serif-display) !important;}.has-domine-font-family{font-family: var(--wp--preset--font-family--domine) !important;}.has-eb-garamond-font-family{font-family: var(--wp--preset--font-family--eb-garamond) !important;}.has-epilogue-font-family{font-family: var(--wp--preset--font-family--epilogue) !important;}.has-fahkwang-font-family{font-family: var(--wp--preset--font-family--fahkwang) !important;}.has-figtree-font-family{font-family: var(--wp--preset--font-family--figtree) !important;}.has-fira-sans-font-family{font-family: var(--wp--preset--font-family--fira-sans) !important;}.has-fjalla-one-font-family{font-family: var(--wp--preset--font-family--fjalla-one) !important;}.has-fraunces-font-family{font-family: var(--wp--preset--font-family--fraunces) !important;}.has-gabarito-font-family{font-family: var(--wp--preset--font-family--gabarito) !important;}.has-ibm-plex-mono-font-family{font-family: var(--wp--preset--font-family--ibm-plex-mono) !important;}.has-ibm-plex-sans-font-family{font-family: var(--wp--preset--font-family--ibm-plex-sans) !important;}.has-ibarra-real-nova-font-family{font-family: var(--wp--preset--font-family--ibarra-real-nova) !important;}.has-instrument-serif-font-family{font-family: var(--wp--preset--font-family--instrument-serif) !important;}.has-inter-font-family{font-family: var(--wp--preset--font-family--inter) !important;}.has-josefin-sans-font-family{font-family: var(--wp--preset--font-family--josefin-sans) !important;}.has-jost-font-family{font-family: var(--wp--preset--font-family--jost) !important;}.has-libre-baskerville-font-family{font-family: var(--wp--preset--font-family--libre-baskerville) !important;}.has-libre-franklin-font-family{font-family: var(--wp--preset--font-family--libre-franklin) !important;}.has-literata-font-family{font-family: var(--wp--preset--font-family--literata) !important;}.has-lora-font-family{font-family: var(--wp--preset--font-family--lora) !important;}.has-merriweather-font-family{font-family: var(--wp--preset--font-family--merriweather) !important;}.has-montserrat-font-family{font-family: var(--wp--preset--font-family--montserrat) !important;}.has-newsreader-font-family{font-family: var(--wp--preset--font-family--newsreader) !important;}.has-noto-sans-mono-font-family{font-family: var(--wp--preset--font-family--noto-sans-mono) !important;}.has-nunito-font-family{font-family: var(--wp--preset--font-family--nunito) !important;}.has-open-sans-font-family{font-family: var(--wp--preset--font-family--open-sans) !important;}.has-overpass-font-family{font-family: var(--wp--preset--font-family--overpass) !important;}.has-pt-serif-font-family{font-family: var(--wp--preset--font-family--pt-serif) !important;}.has-petrona-font-family{font-family: var(--wp--preset--font-family--petrona) !important;}.has-piazzolla-font-family{font-family: var(--wp--preset--font-family--piazzolla) !important;}.has-playfair-display-font-family{font-family: var(--wp--preset--font-family--playfair-display) !important;}.has-plus-jakarta-sans-font-family{font-family: var(--wp--preset--font-family--plus-jakarta-sans) !important;}.has-poppins-font-family{font-family: var(--wp--preset--font-family--poppins) !important;}.has-raleway-font-family{font-family: var(--wp--preset--font-family--raleway) !important;}.has-roboto-font-family{font-family: var(--wp--preset--font-family--roboto) !important;}.has-roboto-slab-font-family{font-family: var(--wp--preset--font-family--roboto-slab) !important;}.has-rubik-font-family{font-family: var(--wp--preset--font-family--rubik) !important;}.has-rufina-font-family{font-family: var(--wp--preset--font-family--rufina) !important;}.has-sora-font-family{font-family: var(--wp--preset--font-family--sora) !important;}.has-source-sans-3-font-family{font-family: var(--wp--preset--font-family--source-sans-3) !important;}.has-source-serif-4-font-family{font-family: var(--wp--preset--font-family--source-serif-4) !important;}.has-space-mono-font-family{font-family: var(--wp--preset--font-family--space-mono) !important;}.has-syne-font-family{font-family: var(--wp--preset--font-family--syne) !important;}.has-texturina-font-family{font-family: var(--wp--preset--font-family--texturina) !important;}.has-urbanist-font-family{font-family: var(--wp--preset--font-family--urbanist) !important;}.has-work-sans-font-family{font-family: var(--wp--preset--font-family--work-sans) !important;}\n",
       ":where(.wp-block-columns.is-layout-flex){gap: 2em;}:where(.wp-block-columns.is-layout-grid){gap: 2em;}\n",
       ":root :where(.wp-block-pullquote){font-size: 1.5em;line-height: 1.6;}\n",
       ":where(.wp-block-post-template.is-layout-flex){gap: 1.25em;}:where(.wp-block-post-template.is-layout-grid){gap: 1.25em;}\n",
       "</style>\n",
       "<link crossorigin=\"anonymous\" href=\"https://s1.wp.com/_static/??/wp-content/mu-plugins/comment-likes/css/comment-likes.css,/i/noticons/noticons.css?m=1436783281j&amp;cssminify=yes\" id=\"all-css-10-1\" media=\"all\" rel=\"stylesheet\" type=\"text/css\"/>\n",
       "<link href=\"https://fonts-api.wp.com/css?family=Lato%3A400%2C400italic%2C700%2C700italic%7CNoto+Serif%3A400%2C400italic%2C700%2C700italic&amp;subset=latin%2Clatin-ext\" id=\"dyad-2-fonts-css\" media=\"all\" rel=\"stylesheet\"/>\n",
       "<link crossorigin=\"anonymous\" href=\"https://s2.wp.com/_static/??-eJyNj10KwjAQhC/kujRgxQfxKJJu15g2fzQJpbc3LYIBRfo2A/MNMzgHIO8Su4Q2QzBZaRdx4BQkjW+P1nuHd+0IFTuedCHib3mkGA9YlaYnW44Ycof9InsQGNNieEeuJLAznsY9peu2rRjmQN5+EdU3xR5KrUy6nKoNPIzU0z904jJIFam2dR+7Qjd7bc6NEOLUXtrhBYW2f6s=&amp;cssminify=yes\" id=\"all-css-12-1\" media=\"all\" rel=\"stylesheet\" type=\"text/css\"/>\n",
       "<link crossorigin=\"anonymous\" href=\"https://s1.wp.com/wp-content/mu-plugins/global-print/global-print.css?m=1465851035i&amp;cssminify=yes\" id=\"print-css-13-1\" media=\"print\" rel=\"stylesheet\" type=\"text/css\"/>\n",
       "<style id=\"jetpack-global-styles-frontend-style-inline-css\">\n",
       ":root { --font-headings: unset; --font-base: unset; --font-headings-default: -apple-system,BlinkMacSystemFont,\"Segoe UI\",Roboto,Oxygen-Sans,Ubuntu,Cantarell,\"Helvetica Neue\",sans-serif; --font-base-default: -apple-system,BlinkMacSystemFont,\"Segoe UI\",Roboto,Oxygen-Sans,Ubuntu,Cantarell,\"Helvetica Neue\",sans-serif;}\n",
       "</style>\n",
       "<link crossorigin=\"anonymous\" href=\"https://s2.wp.com/_static/??-eJyNjcEKwjAQRH/IuA1aehI/ReImJKmb3eAmFP9eW3oRL16GeTC8gaUaFG6BG5RuKvWYWWEOrTp87AxFZA3fKShocs/gnfevrWaOR1Q9wP+mW2YEFcyODEkU/YIfW0uhfH7TGSLJ3dE6uJaLneww2mkYT/MbUOlJHA==&amp;cssminify=yes\" id=\"all-css-16-1\" media=\"all\" rel=\"stylesheet\" type=\"text/css\"/>\n",
       "<script id=\"media-video-jwt-bridge-js-extra\" type=\"text/javascript\">\n",
       "/* <![CDATA[ */\n",
       "var videopressAjax = {\"ajaxUrl\":\"https:\\/\\/sparkkorea.wordpress.com\\/wp-admin\\/admin-ajax.php\",\"bridgeUrl\":\"\\/wp-content\\/mu-plugins\\/jetpack-plugin\\/moon\\/jetpack_vendor\\/automattic\\/jetpack-videopress\\/build\\/lib\\/token-bridge.js\",\"post_id\":\"102\"};\n",
       "/* ]]> */\n",
       "</script>\n",
       "<script id=\"wpcom-actionbar-placeholder-js-extra\" type=\"text/javascript\">\n",
       "/* <![CDATA[ */\n",
       "var actionbardata = {\"siteID\":\"163927570\",\"postID\":\"102\",\"siteURL\":\"https:\\/\\/sparkkorea.com\",\"xhrURL\":\"https:\\/\\/sparkkorea.com\\/wp-admin\\/admin-ajax.php\",\"nonce\":\"edafba05df\",\"isLoggedIn\":\"\",\"statusMessage\":\"\",\"subsEmailDefault\":\"instantly\",\"proxyScriptUrl\":\"https:\\/\\/s0.wp.com\\/wp-content\\/js\\/wpcom-proxy-request.js?ver=20211021\",\"shortlink\":\"https:\\/\\/wp.me\\/Pb5P34-1E\",\"i18n\":{\"followedText\":\"\\uc774 \\uc0ac\\uc774\\ud2b8\\uc758 \\uc0c8 \\uae00\\uc774 \\uc774\\uc81c <a href=\\\"https:\\/\\/wordpress.com\\/read\\\">\\ub9ac\\ub354(Reader)<\\/a>\\uc5d0 \\ud45c\\uc2dc\\ub429\\ub2c8\\ub2e4\",\"foldBar\":\"\\uc774 \\ud45c\\uc2dc\\uc904 \\ucd95\\uc18c\",\"unfoldBar\":\"\\uc774 \\ud45c\\uc2dc\\uc904 \\ud655\\uc7a5\"}};\n",
       "/* ]]> */\n",
       "</script>\n",
       "<script crossorigin=\"anonymous\" src=\"https://s1.wp.com/_static/??-eJyFjksOwjAMRC9EmgLit0AcBaWNqdwmdkicQm9PkFoEK1Yjz7zRWD+CapkESHSftOcGHaicIJqueArpxlWfVvqXi05UiPyclgypddlCeof9PUOcZqk80l9IeeyiEfiGlzWfVXC5QyodkGDaYb7Ls0yLdx2BLEdtsrA3Ith+6BEtcIiQkm4yOqsdNlp4AFJNRNtBWbz48/qwqXfben889S/PnGdx\" type=\"text/javascript\"></script>\n",
       "<script id=\"rlt-proxy-js-after\" type=\"text/javascript\">\n",
       "/* <![CDATA[ */\n",
       "\trltInitialize( {\"token\":null,\"iframeOrigins\":[\"https:\\/\\/widgets.wp.com\"]} );\n",
       "/* ]]> */\n",
       "</script>\n",
       "<link href=\"https://sparkkorea.wordpress.com/xmlrpc.php?rsd\" rel=\"EditURI\" title=\"RSD\" type=\"application/rsd+xml\"/>\n",
       "<meta content=\"WordPress.com\" name=\"generator\"/>\n",
       "<link href=\"https://sparkkorea.com/%ed%80%b4%ec%a6%88/\" rel=\"canonical\"/>\n",
       "<link href=\"https://wp.me/Pb5P34-1E\" rel=\"shortlink\"/>\n",
       "<link href=\"https://public-api.wordpress.com/oembed/?format=json&amp;url=https%3A%2F%2Fsparkkorea.com%2F%25ed%2580%25b4%25ec%25a6%2588%2F&amp;for=wpcom-auto-discovery\" rel=\"alternate\" type=\"application/json+oembed\"/><link href=\"https://public-api.wordpress.com/oembed/?format=xml&amp;url=https%3A%2F%2Fsparkkorea.com%2F%25ed%2580%25b4%25ec%25a6%2588%2F&amp;for=wpcom-auto-discovery\" rel=\"alternate\" type=\"application/xml+oembed\"/>\n",
       "<!-- Jetpack Open Graph Tags -->\n",
       "<meta content=\"article\" property=\"og:type\"/>\n",
       "<meta content=\"퀴즈\" property=\"og:title\"/>\n",
       "<meta content=\"https://sparkkorea.com/%ed%80%b4%ec%a6%88/\" property=\"og:url\"/>\n",
       "<meta content=\"메인 설문 준비중 Spark 퀴즈 6/13 Spark 심화과정 6/13 Spark 기본과정 6/18 Spark [MAP_FILTER] 6/18 Spark GroupBy 심화 6/25 Spark RDD 실전 분석 6/27 Spark RDD 실전 분석2\" property=\"og:description\"/>\n",
       "<meta content=\"2019-07-08T09:35:27+00:00\" property=\"article:published_time\"/>\n",
       "<meta content=\"2020-03-20T09:42:15+00:00\" property=\"article:modified_time\"/>\n",
       "<meta content=\"스파크 코리아\" property=\"og:site_name\"/>\n",
       "<meta content=\"https://s0.wp.com/i/blank.jpg\" property=\"og:image\"/>\n",
       "<meta content=\"\" property=\"og:image:alt\"/>\n",
       "<meta content=\"ko_KR\" property=\"og:locale\"/>\n",
       "<meta content=\"https://www.facebook.com/WordPresscom\" property=\"article:publisher\"/>\n",
       "<meta content=\"퀴즈\" name=\"twitter:text:title\"/>\n",
       "<meta content=\"summary\" name=\"twitter:card\"/>\n",
       "<!-- End Jetpack Open Graph Tags -->\n",
       "<link href=\"https://s1.wp.com/i/favicon.ico\" rel=\"shortcut icon\" sizes=\"16x16 24x24 32x32 48x48\" type=\"image/x-icon\"/>\n",
       "<link href=\"https://s1.wp.com/i/favicon.ico\" rel=\"icon\" sizes=\"16x16 24x24 32x32 48x48\" type=\"image/x-icon\"/>\n",
       "<link href=\"https://s2.wp.com/i/webclip.png\" rel=\"apple-touch-icon\"/>\n",
       "<link href=\"https://sparkkorea.com/osd.xml\" rel=\"search\" title=\"스파크 코리아\" type=\"application/opensearchdescription+xml\"/>\n",
       "<link href=\"https://s1.wp.com/opensearch.xml\" rel=\"search\" title=\"WordPress.com\" type=\"application/opensearchdescription+xml\"/>\n",
       "<meta content=\"스파크 코리아\" name=\"application-name\"/><meta content=\"width=device-width;height=device-height\" name=\"msapplication-window\"/><meta content=\"스파크코리아 자료공유\" name=\"msapplication-tooltip\"/><meta content=\"메인 설문 준비중 Spark 퀴즈 6/13 Spark 심화과정 6/13 Spark 기본과정 6/18 Spark [MAP_FILTER] 6/18 Spark GroupBy 심화 6/25 Spark RDD 실전 분석 6/27 Spark RDD 실전 분석2\" name=\"description\"/>\n",
       "</link></link></meta></meta></head>\n",
       "<body class=\"page-template-default page page-id-102 wp-embed-responsive customizer-styles-applied is-singular no-js jetpack-reblog-enabled\">\n",
       "<div class=\"hfeed site\" id=\"page\">\n",
       "<a class=\"skip-link screen-reader-text\" href=\"#content\">컨텐츠로 건너뛰기</a>\n",
       "<header class=\"site-header\" id=\"masthead\" role=\"banner\">\n",
       "<div class=\"site-branding\">\n",
       "<h1 class=\"site-title\">\n",
       "<a href=\"https://sparkkorea.com/\" rel=\"home\">\n",
       "\t\t\t\t\t스파크 코리아\t\t\t\t</a>\n",
       "</h1>\n",
       "<p class=\"site-description\">스파크코리아 자료공유</p>\n",
       "</div><!-- .site-branding -->\n",
       "<nav class=\"main-navigation\" id=\"site-navigation\" role=\"navigation\">\n",
       "<button aria-controls=\"primary-menu\" aria-expanded=\"false\" class=\"menu-toggle\">메뉴</button>\n",
       "<div class=\"primary-menu\"><ul class=\"menu\" id=\"primary-menu\"><li class=\"menu-item menu-item-type-post_type menu-item-object-page menu-item-27\" id=\"menu-item-27\"><a href=\"https://sparkkorea.com/%ec%9e%90%eb%a3%8c%ec%8b%a4/\">자료실</a></li>\n",
       "<li class=\"menu-item menu-item-type-post_type menu-item-object-page current-menu-item page_item page-item-102 current_page_item menu-item-382\" id=\"menu-item-382\"><a aria-current=\"page\" href=\"https://sparkkorea.com/%ed%80%b4%ec%a6%88/\">퀴즈</a></li>\n",
       "<li class=\"menu-item menu-item-type-post_type menu-item-object-page menu-item-264\" id=\"menu-item-264\"><a href=\"https://sparkkorea.com/%ec%84%a4%eb%ac%b8-2/\">설문s</a></li>\n",
       "<li class=\"menu-item menu-item-type-post_type menu-item-object-page menu-item-383\" id=\"menu-item-383\"><a href=\"https://sparkkorea.com/%ed%85%8c%ec%8a%a4%ed%8a%b8/\">테스트</a></li>\n",
       "<li class=\"menu-item menu-item-type-post_type menu-item-object-page menu-item-397\" id=\"menu-item-397\"><a href=\"https://sparkkorea.com/%ec%84%a4%eb%ac%b8/\">학생퀴즈</a></li>\n",
       "</ul></div> </nav>\n",
       "</header><!-- #masthead -->\n",
       "<div class=\"site-inner\">\n",
       "<div class=\"site-content\" id=\"content\">\n",
       "<main class=\"content-area\" id=\"primary\" role=\"main\">\n",
       "<article class=\"post-102 page type-page status-publish hentry\" id=\"post-102\">\n",
       "<div class=\"entry-inner\">\n",
       "<header class=\"entry-header\">\n",
       "<h1 class=\"entry-title\">퀴즈</h1> </header><!-- .entry-header -->\n",
       "<div class=\"entry-content\">\n",
       "<div class=\"class_general_main\" id=\"id_general_main\">\n",
       "<h1> 메인 </h1>\n",
       "<a href=\"#\"> 설문 준비중 </a>\n",
       "<p></p>\n",
       "</div>\n",
       "<div class=\"class_spark_quiz\" id=\"id_spark_quiz\">\n",
       "<h1>Spark 퀴즈 </h1>\n",
       "<a href=\"https://forms.gle/Fw49w9GhWQChDcZm7\"> 6/13 Spark 심화과정 </a>\n",
       "<p></p>\n",
       "<a href=\"https://forms.gle/G4TcXm3fKuHLHA6D6\"> 6/13 Spark 기본과정 </a>\n",
       "<p></p>\n",
       "<a href=\"https://forms.gle/M8gr1kC2ubA3UDVp8\"> 6/18 Spark [MAP_FILTER] </a>\n",
       "<p></p>\n",
       "<a href=\"https://forms.gle/h8w5mZ4MNaPLCPbi6\"> 6/18 Spark GroupBy 심화 </a>\n",
       "<p></p>\n",
       "<a href=\"https://forms.gle/q5yL6QHfueDLM5w27\"> 6/25 Spark RDD 실전 분석 </a>\n",
       "<p></p>\n",
       "<a href=\"https://forms.gle/Gxb4y6LfVYiaLu4M7\"> 6/27 Spark RDD 실전 분석2 </a>\n",
       "<p></p>\n",
       "</div>\n",
       "<div class=\"sharedaddy sd-like-enabled sd-sharing-enabled\" id=\"jp-post-flair\"><div class=\"sharedaddy sd-sharing-enabled\"><div class=\"robots-nocontent sd-block sd-social sd-social-icon-text sd-sharing\"><h3 class=\"sd-title\">이 글 공유하기:</h3><div class=\"sd-content\"><ul><li class=\"share-twitter\"><a class=\"share-twitter sd-button share-icon\" data-shared=\"sharing-twitter-102\" href=\"https://sparkkorea.com/%ed%80%b4%ec%a6%88/?share=twitter\" rel=\"nofollow noopener noreferrer\" target=\"_blank\" title=\"트위터로 공유하기\"><span>트위터</span></a></li><li class=\"share-facebook\"><a class=\"share-facebook sd-button share-icon\" data-shared=\"sharing-facebook-102\" href=\"https://sparkkorea.com/%ed%80%b4%ec%a6%88/?share=facebook\" rel=\"nofollow noopener noreferrer\" target=\"_blank\" title=\"페이스북에 공유하려면 클릭하세요.\"><span>Facebook</span></a></li><li class=\"share-end\"></li></ul></div></div></div><div class=\"sharedaddy sd-block sd-like jetpack-likes-widget-wrapper jetpack-likes-widget-unloaded\" data-name=\"like-post-frame-163927570-102-6698501a4471d\" data-src=\"//widgets.wp.com/likes/index.html?ver=20240717#blog_id=163927570&amp;post_id=102&amp;origin=sparkkorea.wordpress.com&amp;obj_id=163927570-102-6698501a4471d&amp;domain=sparkkorea.com\" data-title=\"좋아요 또는 리블로깅\" id=\"like-post-wrapper-163927570-102-6698501a4471d\"><div class=\"likes-widget-placeholder post-likes-widget-placeholder\" style=\"height: 55px;\"><span class=\"button\"><span>좋아하기</span></span> <span class=\"loading\">가져오는 중...</span></div><span class=\"sd-text-color\"></span><a class=\"sd-link-color\"></a></div></div> </div><!-- .entry-content -->\n",
       "</div><!-- .entry-inner -->\n",
       "</article><!-- #post-## -->\n",
       "</main><!-- #main -->\n",
       "</div><!-- #content -->\n",
       "<footer class=\"site-footer\" id=\"colophon\" role=\"contentinfo\">\n",
       "<div class=\"footer-bottom-info\">\n",
       "<div class=\"site-info\">\n",
       "<a href=\"https://wordpress.com/?ref=footer_segment_business\" rel=\"nofollow\">워드프레스닷컴 웹사이트.</a>\n",
       "</div><!-- .site-info -->\n",
       "</div><!-- .footer-bottom-info -->\n",
       "</footer><!-- #colophon -->\n",
       "</div><!-- .site-inner -->\n",
       "</div><!-- #page -->\n",
       "<!-- -->\n",
       "<script id=\"grofiles-cards-js\" src=\"//0.gravatar.com/js/hovercards/hovercards.min.js?ver=202429b46853b388ab997de6bfa04c1e397b91783aa2d3e125eb7f62b2f41b95dd5e57\" type=\"text/javascript\"></script>\n",
       "<script id=\"wpgroho-js-extra\" type=\"text/javascript\">\n",
       "/* <![CDATA[ */\n",
       "var WPGroHo = {\"my_hash\":\"\"};\n",
       "/* ]]> */\n",
       "</script>\n",
       "<script crossorigin=\"anonymous\" src=\"https://s2.wp.com/wp-content/mu-plugins/gravatar-hovercards/wpgroho.js?m=1610363240i\" type=\"text/javascript\"></script>\n",
       "<script>\n",
       "\t\t// Initialize and attach hovercards to all gravatars\n",
       "\t\t( function() {\n",
       "\t\t\tfunction init() {\n",
       "\t\t\t\tif ( typeof Gravatar === 'undefined' ) {\n",
       "\t\t\t\t\treturn;\n",
       "\t\t\t\t}\n",
       "\n",
       "\t\t\t\tif ( typeof Gravatar.init !== 'function' ) {\n",
       "\t\t\t\t\treturn;\n",
       "\t\t\t\t}\n",
       "\n",
       "\t\t\t\tGravatar.profile_cb = function ( hash, id ) {\n",
       "\t\t\t\t\tWPGroHo.syncProfileData( hash, id );\n",
       "\t\t\t\t};\n",
       "\n",
       "\t\t\t\tGravatar.my_hash = WPGroHo.my_hash;\n",
       "\t\t\t\tGravatar.init(\n",
       "\t\t\t\t\t'body',\n",
       "\t\t\t\t\t'#wp-admin-bar-my-account',\n",
       "\t\t\t\t\t{\n",
       "\t\t\t\t\t\ti18n: {\n",
       "\t\t\t\t\t\t\t'Edit your profile': '당신의 프로필 편집',\n",
       "\t\t\t\t\t\t\t'View profile': 'View profile',\n",
       "\t\t\t\t\t\t\t'Sorry, we are unable to load this Gravatar profile.': 'Sorry, we are unable to load this Gravatar profile.',\n",
       "\t\t\t\t\t\t\t'Too Many Requests.': 'Too Many Requests.',\n",
       "\t\t\t\t\t\t\t'Internal Server Error.': 'Internal Server Error.',\n",
       "\t\t\t\t\t\t},\n",
       "\t\t\t\t\t}\n",
       "\t\t\t\t);\n",
       "\t\t\t}\n",
       "\n",
       "\t\t\tif ( document.readyState !== 'loading' ) {\n",
       "\t\t\t\tinit();\n",
       "\t\t\t} else {\n",
       "\t\t\t\tdocument.addEventListener( 'DOMContentLoaded', init );\n",
       "\t\t\t}\n",
       "\t\t} )();\n",
       "\t</script>\n",
       "<div style=\"display:none\">\n",
       "</div>\n",
       "<div class=\"actnbr-pub-dyad-2 actnbr-has-follow\" id=\"actionbar\" style=\"display: none;\">\n",
       "<ul>\n",
       "<li class=\"actnbr-ellipsis actnbr-hidden\">\n",
       "<svg class=\"gridicon gridicons-ellipsis\" height=\"24\" viewbox=\"0 0 24 24\" width=\"24\" xmlns=\"http://www.w3.org/2000/svg\"><g><path d=\"M7 12c0 1.104-.896 2-2 2s-2-.896-2-2 .896-2 2-2 2 .896 2 2zm12-2c-1.104 0-2 .896-2 2s.896 2 2 2 2-.896 2-2-.896-2-2-2zm-7 0c-1.104 0-2 .896-2 2s.896 2 2 2 2-.896 2-2-.896-2-2-2z\"></path></g></svg> <div class=\"actnbr-popover tip tip-top-left actnbr-more\">\n",
       "<div class=\"tip-arrow\"></div>\n",
       "<div class=\"tip-inner\">\n",
       "<ul>\n",
       "<li class=\"actnbr-sitename\">\n",
       "<a href=\"https://sparkkorea.com\">\n",
       "<img alt=\"\" class=\"avatar avatar-50\" height=\"50\" src=\"https://s2.wp.com/i/logo/wpcom-gray-white.png\" srcset=\"https://s2.wp.com/i/logo/wpcom-gray-white.png 1x\" width=\"50\"/>\t\t\t\t스파크 코리아\t\t\t</a>\n",
       "</li>\n",
       "<li class=\"actnbr-folded-customize\">\n",
       "<a href=\"https://sparkkorea.wordpress.com/wp-admin/customize.php?url=https%3A%2F%2Fsparkkorea.wordpress.com%2F%25ED%2580%25B4%25EC%25A6%2588%2F\">\n",
       "<svg class=\"gridicon gridicons-customize\" height=\"20\" viewbox=\"0 0 24 24\" width=\"20\" xmlns=\"http://www.w3.org/2000/svg\"><g><path d=\"M2 6c0-1.505.78-3.08 2-4 0 .845.69 2 2 2 1.657 0 3 1.343 3 3 0 .386-.08.752-.212 1.09.74.594 1.476 1.19 2.19 1.81L8.9 11.98c-.62-.716-1.214-1.454-1.807-2.192C6.753 9.92 6.387 10 6 10c-2.21 0-4-1.79-4-4zm12.152 6.848l1.34-1.34c.607.304 1.283.492 2.008.492 2.485 0 4.5-2.015 4.5-4.5 0-.725-.188-1.4-.493-2.007L18 9l-2-2 3.507-3.507C18.9 3.188 18.225 3 17.5 3 15.015 3 13 5.015 13 7.5c0 .725.188 1.4.493 2.007L3 20l2 2 6.848-6.848c1.885 1.928 3.874 3.753 5.977 5.45l1.425 1.148 1.5-1.5-1.15-1.425c-1.695-2.103-3.52-4.092-5.448-5.977z\"></path></g></svg> <span>사용자 정의하기</span>\n",
       "</a>\n",
       "</li>\n",
       "<li class=\"actnbr-signup\"><a href=\"https://wordpress.com/start/\">가입</a></li>\n",
       "<li class=\"actnbr-login\"><a href=\"https://wordpress.com/log-in?redirect_to=https%3A%2F%2Fr-login.wordpress.com%2Fremote-login.php%3Faction%3Dlink%26back%3Dhttps%253A%252F%252Fsparkkorea.com%252F%2525ed%252580%2525b4%2525ec%2525a6%252588%252F\">로그인</a></li>\n",
       "<li class=\"actnbr-shortlink\"><a href=\"https://wp.me/Pb5P34-1E\">단축 링크 복사</a></li>\n",
       "<li class=\"flb-report\">\n",
       "<a href=\"https://wordpress.com/abuse/?report_url=https://sparkkorea.com/%ed%80%b4%ec%a6%88/\" rel=\"noopener noreferrer\" target=\"_blank\">\n",
       "\t\t\t\t\t\t\t\t\t\t\t이 콘텐츠 신고하기\t\t\t\t\t\t\t\t\t\t</a>\n",
       "</li>\n",
       "<li class=\"actnbr-subs\">\n",
       "<a href=\"https://subscribe.wordpress.com/\">구독 관리</a>\n",
       "</li>\n",
       "</ul>\n",
       "</div>\n",
       "</div>\n",
       "</li>\n",
       "</ul>\n",
       "</div>\n",
       "<script>\n",
       "window.addEventListener( \"load\", function( event ) {\n",
       "\tvar link = document.createElement( \"link\" );\n",
       "\tlink.href = \"https://s0.wp.com/wp-content/mu-plugins/actionbar/actionbar.css?v=20240115\";\n",
       "\tlink.type = \"text/css\";\n",
       "\tlink.rel = \"stylesheet\";\n",
       "\tdocument.head.appendChild( link );\n",
       "\n",
       "\tvar script = document.createElement( \"script\" );\n",
       "\tscript.src = \"https://s0.wp.com/wp-content/mu-plugins/actionbar/actionbar.js?v=20231122\";\n",
       "\tscript.defer = true;\n",
       "\tdocument.body.appendChild( script );\n",
       "} );\n",
       "</script>\n",
       "<script type=\"text/javascript\">\n",
       "\t\twindow.WPCOM_sharing_counts = {\"https:\\/\\/sparkkorea.com\\/%ed%80%b4%ec%a6%88\\/\":102};\n",
       "\t</script>\n",
       "<script id=\"comment-like-js-extra\" type=\"text/javascript\">\n",
       "/* <![CDATA[ */\n",
       "var comment_like_text = {\"loading\":\"\\uac00\\uc838\\uc624\\ub294 \\uc911...\",\"swipeUrl\":\"https:\\/\\/s2.wp.com\\/wp-content\\/mu-plugins\\/comment-likes\\/js\\/lib\\/swipe.js?ver=20131008\"};\n",
       "/* ]]> */\n",
       "</script>\n",
       "<script id=\"sharing-js-js-extra\" type=\"text/javascript\">\n",
       "/* <![CDATA[ */\n",
       "var sharing_js_options = {\"lang\":\"en\",\"counts\":\"1\",\"is_stats_active\":\"1\"};\n",
       "/* ]]> */\n",
       "</script>\n",
       "<script crossorigin=\"anonymous\" src=\"https://s2.wp.com/_static/??-eJyNkNFuwzAIRX9oLu0UKU/TPmUihjokNnix3S1/33TtpKmqqr3B5R4uAr6y86aVtUJqLscWRAtEmbnAZ+PGIypFXnZTeYHHZm8pbZK7QtOdcA/WkdNmy20AWpHc64VQPEnAKqb/spdZ8rZdZ3c034o7yvcvJ+pjo+sdkjBwiYbEtEuijzwJi+my/h0/jQ7RBoxPvjFxzejnWw/JTOFjS4ShSSQoIy5MSLT+lKLhFv2e3g79oe/23b7vpjOhCZYn\" type=\"text/javascript\"></script>\n",
       "<script id=\"sharing-js-js-after\" type=\"text/javascript\">\n",
       "/* <![CDATA[ */\n",
       "var windowOpen;\n",
       "\t\t\t( function () {\n",
       "\t\t\t\tfunction matches( el, sel ) {\n",
       "\t\t\t\t\treturn !! (\n",
       "\t\t\t\t\t\tel.matches && el.matches( sel ) ||\n",
       "\t\t\t\t\t\tel.msMatchesSelector && el.msMatchesSelector( sel )\n",
       "\t\t\t\t\t);\n",
       "\t\t\t\t}\n",
       "\n",
       "\t\t\t\tdocument.body.addEventListener( 'click', function ( event ) {\n",
       "\t\t\t\t\tif ( ! event.target ) {\n",
       "\t\t\t\t\t\treturn;\n",
       "\t\t\t\t\t}\n",
       "\n",
       "\t\t\t\t\tvar el;\n",
       "\t\t\t\t\tif ( matches( event.target, 'a.share-twitter' ) ) {\n",
       "\t\t\t\t\t\tel = event.target;\n",
       "\t\t\t\t\t} else if ( event.target.parentNode && matches( event.target.parentNode, 'a.share-twitter' ) ) {\n",
       "\t\t\t\t\t\tel = event.target.parentNode;\n",
       "\t\t\t\t\t}\n",
       "\n",
       "\t\t\t\t\tif ( el ) {\n",
       "\t\t\t\t\t\tevent.preventDefault();\n",
       "\n",
       "\t\t\t\t\t\t// If there's another sharing window open, close it.\n",
       "\t\t\t\t\t\tif ( typeof windowOpen !== 'undefined' ) {\n",
       "\t\t\t\t\t\t\twindowOpen.close();\n",
       "\t\t\t\t\t\t}\n",
       "\t\t\t\t\t\twindowOpen = window.open( el.getAttribute( 'href' ), 'wpcomtwitter', 'menubar=1,resizable=1,width=600,height=350' );\n",
       "\t\t\t\t\t\treturn false;\n",
       "\t\t\t\t\t}\n",
       "\t\t\t\t} );\n",
       "\t\t\t} )();\n",
       "var windowOpen;\n",
       "\t\t\t( function () {\n",
       "\t\t\t\tfunction matches( el, sel ) {\n",
       "\t\t\t\t\treturn !! (\n",
       "\t\t\t\t\t\tel.matches && el.matches( sel ) ||\n",
       "\t\t\t\t\t\tel.msMatchesSelector && el.msMatchesSelector( sel )\n",
       "\t\t\t\t\t);\n",
       "\t\t\t\t}\n",
       "\n",
       "\t\t\t\tdocument.body.addEventListener( 'click', function ( event ) {\n",
       "\t\t\t\t\tif ( ! event.target ) {\n",
       "\t\t\t\t\t\treturn;\n",
       "\t\t\t\t\t}\n",
       "\n",
       "\t\t\t\t\tvar el;\n",
       "\t\t\t\t\tif ( matches( event.target, 'a.share-facebook' ) ) {\n",
       "\t\t\t\t\t\tel = event.target;\n",
       "\t\t\t\t\t} else if ( event.target.parentNode && matches( event.target.parentNode, 'a.share-facebook' ) ) {\n",
       "\t\t\t\t\t\tel = event.target.parentNode;\n",
       "\t\t\t\t\t}\n",
       "\n",
       "\t\t\t\t\tif ( el ) {\n",
       "\t\t\t\t\t\tevent.preventDefault();\n",
       "\n",
       "\t\t\t\t\t\t// If there's another sharing window open, close it.\n",
       "\t\t\t\t\t\tif ( typeof windowOpen !== 'undefined' ) {\n",
       "\t\t\t\t\t\t\twindowOpen.close();\n",
       "\t\t\t\t\t\t}\n",
       "\t\t\t\t\t\twindowOpen = window.open( el.getAttribute( 'href' ), 'wpcomfacebook', 'menubar=1,resizable=1,width=600,height=400' );\n",
       "\t\t\t\t\t\treturn false;\n",
       "\t\t\t\t\t}\n",
       "\t\t\t\t} );\n",
       "\t\t\t} )();\n",
       "/* ]]> */\n",
       "</script>\n",
       "<script type=\"text/javascript\">\n",
       "\t\t(function () {\n",
       "\t\t\tvar wpcom_reblog = {\n",
       "\t\t\t\tsource: 'toolbar',\n",
       "\n",
       "\t\t\t\ttoggle_reblog_box_flair: function (obj_id, post_id) {\n",
       "\n",
       "\t\t\t\t\t// Go to site selector. This will redirect to their blog if they only have one.\n",
       "\t\t\t\t\tconst postEndpoint = `https://wordpress.com/post`;\n",
       "\n",
       "\t\t\t\t\t// Ideally we would use the permalink here, but fortunately this will be replaced with the \n",
       "\t\t\t\t\t// post permalink in the editor.\n",
       "\t\t\t\t\tconst originalURL = `${ document.location.href }?page_id=${ post_id }`; \n",
       "\t\t\t\t\t\n",
       "\t\t\t\t\tconst url =\n",
       "\t\t\t\t\t\tpostEndpoint +\n",
       "\t\t\t\t\t\t'?url=' +\n",
       "\t\t\t\t\t\tencodeURIComponent( originalURL ) +\n",
       "\t\t\t\t\t\t'&is_post_share=true' +\n",
       "\t\t\t\t\t\t'&v=5';\n",
       "\n",
       "\t\t\t\t\tconst redirect = function () {\n",
       "\t\t\t\t\t\tif (\n",
       "\t\t\t\t\t\t\t! window.open( url, '_blank' )\n",
       "\t\t\t\t\t\t) {\n",
       "\t\t\t\t\t\t\tlocation.href = url;\n",
       "\t\t\t\t\t\t}\n",
       "\t\t\t\t\t};\n",
       "\n",
       "\t\t\t\t\tif ( /Firefox/.test( navigator.userAgent ) ) {\n",
       "\t\t\t\t\t\tsetTimeout( redirect, 0 );\n",
       "\t\t\t\t\t} else {\n",
       "\t\t\t\t\t\tredirect();\n",
       "\t\t\t\t\t}\n",
       "\t\t\t\t},\n",
       "\t\t\t};\n",
       "\n",
       "\t\t\twindow.wpcom_reblog = wpcom_reblog;\n",
       "\t\t})();\n",
       "\t</script>\n",
       "<script type=\"text/javascript\">\n",
       "// <![CDATA[\n",
       "(function() {\n",
       "try{\n",
       "  if ( window.external &&'msIsSiteMode' in window.external) {\n",
       "    if (window.external.msIsSiteMode()) {\n",
       "      var jl = document.createElement('script');\n",
       "      jl.type='text/javascript';\n",
       "      jl.async=true;\n",
       "      jl.src='/wp-content/plugins/ie-sitemode/custom-jumplist.php';\n",
       "      var s = document.getElementsByTagName('script')[0];\n",
       "      s.parentNode.insertBefore(jl, s);\n",
       "    }\n",
       "  }\n",
       "}catch(e){}\n",
       "})();\n",
       "// ]]>\n",
       "</script> <iframe id=\"likes-master\" name=\"likes-master\" scrolling=\"no\" src=\"https://widgets.wp.com/likes/master.html?ver=20240717#ver=20240717&amp;lang=ko&amp;lang_ver=1713165972&amp;origin=https://sparkkorea.com\" style=\"display:none;\"></iframe>\n",
       "<div aria-hidden=\"true\" class=\"wpl-new-layout\" id=\"likes-other-gravatars\" role=\"dialog\" tabindex=\"-1\">\n",
       "<div class=\"likes-text\">\n",
       "<span>%d</span> </div>\n",
       "<ul class=\"wpl-avatars sd-like-gravatars\"></ul>\n",
       "</div>\n",
       "<script defer=\"\" src=\"//stats.wp.com/w.js?67\"></script> <script type=\"text/javascript\">\n",
       "_tkq = window._tkq || [];\n",
       "_stq = window._stq || [];\n",
       "_tkq.push(['storeContext', {'blog_id':'163927570','blog_tz':'9','user_lang':'ko','blog_lang':'ko','user_id':'0'}]);\n",
       "_stq.push(['view', {'blog':'163927570','v':'wpcom','tz':'9','user_id':'0','post':'102','subd':'sparkkorea'}]);\n",
       "\t\t_stq.push(['extra', {'crypt':'UE40eW5QN0p8M2Y/RE1mNzc2NTVTamdsd0xoLz9RQkM2K298TXY9bERQMXc2MjhEaVZfb2wwakRoSj0mUkp1THptM1NdbkV1WjZIcU9mVWQmPUIvMlN6Jk8wW3NYVEJ3dWZOWExuWD8xeVkmK0dUTXo0Y2Zla35pLTE0dlY2QWxQL01fUWNOQUp6Ui1sbnctaHA1W3JNX1ZKel1BfkIvblVGRC51dmt0dUxxejRTc2JjMnh2TnQwXTh3Ti1yQyVdOVt+WFdxcmRLc0xdZjBfbHdCLDRxVlE3UFJEND9IaHhIWjMxTHEzcklVeD92UUMmJTNxNko3cS8vZ3g5SytxfDRnV1VUaXRGfGpRVW5w'}]);\n",
       "_stq.push([ 'clickTrackerInit', '163927570', '102' ]);\n",
       "</script>\n",
       "<noscript><img alt=\"\" src=\"https://pixel.wp.com/b.gif?v=noscript\" style=\"height:1px;width:1px;overflow:hidden;position:absolute;bottom:1px;\"/></noscript>\n",
       "<script>\n",
       "if ( 'object' === typeof wpcom_mobile_user_agent_info ) {\n",
       "\n",
       "\twpcom_mobile_user_agent_info.init();\n",
       "\tvar mobileStatsQueryString = \"\";\n",
       "\t\n",
       "\tif( false !== wpcom_mobile_user_agent_info.matchedPlatformName )\n",
       "\t\tmobileStatsQueryString += \"&x_\" + 'mobile_platforms' + '=' + wpcom_mobile_user_agent_info.matchedPlatformName;\n",
       "\t\n",
       "\tif( false !== wpcom_mobile_user_agent_info.matchedUserAgentName )\n",
       "\t\tmobileStatsQueryString += \"&x_\" + 'mobile_devices' + '=' + wpcom_mobile_user_agent_info.matchedUserAgentName;\n",
       "\t\n",
       "\tif( wpcom_mobile_user_agent_info.isIPad() )\n",
       "\t\tmobileStatsQueryString += \"&x_\" + 'ipad_views' + '=' + 'views';\n",
       "\n",
       "\tif( \"\" != mobileStatsQueryString ) {\n",
       "\t\tnew Image().src = document.location.protocol + '//pixel.wp.com/g.gif?v=wpcom-no-pv' + mobileStatsQueryString + '&baba=' + Math.random();\n",
       "\t}\n",
       "\t\n",
       "}\n",
       "</script>\n",
       "</body>\n",
       "</html>"
      ]
     },
     "execution_count": 1,
     "metadata": {},
     "output_type": "execute_result"
    }
   ],
   "source": [
    "import requests, bs4\n",
    "import pandas as pd\n",
    "\n",
    "#웹페이지 html 소스 가져오기\n",
    "resp = requests.get(\"https://sparkkorea.com/퀴즈/\")\n",
    "resp.encoding='utf-8'\n",
    "html = resp.text\n",
    "\n",
    "bs = bs4.BeautifulSoup(html, 'html.parser')\n",
    "bs"
   ]
  },
  {
   "cell_type": "markdown",
   "metadata": {},
   "source": [
    "# 3. 태그정보 수집하기"
   ]
  },
  {
   "cell_type": "markdown",
   "metadata": {},
   "source": [
    "### (1) 태그명으로 소스 수집하기"
   ]
  },
  {
   "cell_type": "code",
   "execution_count": 2,
   "metadata": {},
   "outputs": [
    {
     "name": "stdout",
     "output_type": "stream",
     "text": [
      "<a class=\"skip-link screen-reader-text\" href=\"#content\">컨텐츠로 건너뛰기</a>\n",
      "<class 'bs4.element.Tag'>\n",
      "[<a class=\"skip-link screen-reader-text\" href=\"#content\">컨텐츠로 건너뛰기</a>, <a href=\"https://sparkkorea.com/\" rel=\"home\">\n",
      "\t\t\t\t\t스파크 코리아\t\t\t\t</a>]\n",
      "<class 'bs4.element.ResultSet'>\n"
     ]
    }
   ],
   "source": [
    "# 코드 내 a 태그 1개만 탐색\n",
    "bs = bs4.BeautifulSoup(html,\"html.parser\")\n",
    "aTag = bs.find(name = \"a\")\n",
    "print(aTag)\n",
    "print( type(aTag) )\n",
    "# 코드 내 a 태그 탐색, 상단 2개만\n",
    "aTags = bs.findAll(name = \"a\", limit = 2)\n",
    "print(aTags)\n",
    "print( type(aTags) )"
   ]
  },
  {
   "cell_type": "code",
   "execution_count": 3,
   "metadata": {},
   "outputs": [
    {
     "name": "stdout",
     "output_type": "stream",
     "text": [
      "컨텐츠로 건너뛰기\n",
      "a\n",
      "컨텐츠로 건너뛰기\n",
      "\n",
      "\t\t\t\t\t스파크 코리아\t\t\t\t\n"
     ]
    }
   ],
   "source": [
    "print(aTag.text)\n",
    "print(aTag.name)\n",
    "\n",
    "print(aTags[0].text)\n",
    "print(aTags[1].text)"
   ]
  },
  {
   "cell_type": "code",
   "execution_count": 4,
   "metadata": {},
   "outputs": [
    {
     "data": {
      "text/plain": [
       "[<a class=\"skip-link screen-reader-text\" href=\"#content\">컨텐츠로 건너뛰기</a>,\n",
       " <a href=\"https://sparkkorea.com/\" rel=\"home\">\n",
       " \t\t\t\t\t스파크 코리아\t\t\t\t</a>]"
      ]
     },
     "execution_count": 4,
     "metadata": {},
     "output_type": "execute_result"
    }
   ],
   "source": [
    "# html 태그 정보 가져오기\n",
    "aTags = bs.findAll(name = \"a\", limit=2)\n",
    "aTags"
   ]
  },
  {
   "cell_type": "markdown",
   "metadata": {},
   "source": [
    "### (2) 태그 속성정보로 소스 수집하기"
   ]
  },
  {
   "cell_type": "code",
   "execution_count": 5,
   "metadata": {},
   "outputs": [
    {
     "data": {
      "text/plain": [
       "<div class=\"class_spark_quiz\" id=\"id_spark_quiz\">\n",
       "<h1>Spark 퀴즈 </h1>\n",
       "<a href=\"https://forms.gle/Fw49w9GhWQChDcZm7\"> 6/13 Spark 심화과정 </a>\n",
       "<p></p>\n",
       "<a href=\"https://forms.gle/G4TcXm3fKuHLHA6D6\"> 6/13 Spark 기본과정 </a>\n",
       "<p></p>\n",
       "<a href=\"https://forms.gle/M8gr1kC2ubA3UDVp8\"> 6/18 Spark [MAP_FILTER] </a>\n",
       "<p></p>\n",
       "<a href=\"https://forms.gle/h8w5mZ4MNaPLCPbi6\"> 6/18 Spark GroupBy 심화 </a>\n",
       "<p></p>\n",
       "<a href=\"https://forms.gle/q5yL6QHfueDLM5w27\"> 6/25 Spark RDD 실전 분석 </a>\n",
       "<p></p>\n",
       "<a href=\"https://forms.gle/Gxb4y6LfVYiaLu4M7\"> 6/27 Spark RDD 실전 분석2 </a>\n",
       "<p></p>\n",
       "</div>"
      ]
     },
     "execution_count": 5,
     "metadata": {},
     "output_type": "execute_result"
    }
   ],
   "source": [
    "# ID 속성으로 태그 탐색\n",
    "spQuizTag = bs.find(name = \"div\",\n",
    "        attrs = {\"id\":\"id_spark_quiz\"} ) \n",
    "spQuizTag"
   ]
  },
  {
   "cell_type": "markdown",
   "metadata": {},
   "source": [
    "### (3) 태그 내 부분태그 소스 수집하기"
   ]
  },
  {
   "cell_type": "code",
   "execution_count": 6,
   "metadata": {},
   "outputs": [
    {
     "data": {
      "text/plain": [
       "<a href=\"https://forms.gle/Fw49w9GhWQChDcZm7\"> 6/13 Spark 심화과정 </a>"
      ]
     },
     "execution_count": 6,
     "metadata": {},
     "output_type": "execute_result"
    }
   ],
   "source": [
    "# html 부분구조 가져오기\n",
    "spQuizTagLink = spQuizTag.find(name = \"a\")\n",
    "spQuizTagLink"
   ]
  },
  {
   "cell_type": "markdown",
   "metadata": {},
   "source": [
    "### (4) 태그 내 속성정보 수집하기"
   ]
  },
  {
   "cell_type": "code",
   "execution_count": 7,
   "metadata": {},
   "outputs": [
    {
     "name": "stdout",
     "output_type": "stream",
     "text": [
      "https://forms.gle/Fw49w9GhWQChDcZm7  6/13 Spark 심화과정  a\n"
     ]
    }
   ],
   "source": [
    "# html 부분구조 가져오기\n",
    "spQuizTagLink = spQuizTag.find(name = \"a\")\n",
    "spQuizTagLink\n",
    "# 링크 속성정보 가져오기\n",
    "linkAttrs = spQuizTagLink.attrs['href']\n",
    "linkText = spQuizTagLink.text\n",
    "linkTag = spQuizTagLink.name\n",
    "print(linkAttrs, linkText, linkTag)"
   ]
  },
  {
   "cell_type": "code",
   "execution_count": 8,
   "metadata": {},
   "outputs": [
    {
     "data": {
      "text/plain": [
       "[<a href=\"https://forms.gle/Fw49w9GhWQChDcZm7\"> 6/13 Spark 심화과정 </a>,\n",
       " <a href=\"https://forms.gle/G4TcXm3fKuHLHA6D6\"> 6/13 Spark 기본과정 </a>,\n",
       " <a href=\"https://forms.gle/M8gr1kC2ubA3UDVp8\"> 6/18 Spark [MAP_FILTER] </a>,\n",
       " <a href=\"https://forms.gle/h8w5mZ4MNaPLCPbi6\"> 6/18 Spark GroupBy 심화 </a>,\n",
       " <a href=\"https://forms.gle/q5yL6QHfueDLM5w27\"> 6/25 Spark RDD 실전 분석 </a>,\n",
       " <a href=\"https://forms.gle/Gxb4y6LfVYiaLu4M7\"> 6/27 Spark RDD 실전 분석2 </a>]"
      ]
     },
     "execution_count": 8,
     "metadata": {},
     "output_type": "execute_result"
    }
   ],
   "source": [
    "# html 부분구조 가져오기\n",
    "spQuizTagLinks = spQuizTag.findAll(name = \"a\")\n",
    "spQuizTagLinks"
   ]
  },
  {
   "cell_type": "markdown",
   "metadata": {},
   "source": [
    "### 참조. findAll 디버깅하기"
   ]
  },
  {
   "cell_type": "code",
   "execution_count": 9,
   "metadata": {},
   "outputs": [],
   "source": [
    "# html 부분구조 가져오기\n",
    "spQuizTagLinks = spQuizTag.findAll(name = \"a\") \n",
    "spQuizTagLinks\n",
    "\n",
    "titleList = [] \n",
    "linkList = []\n",
    "# 첫 번째 a 태그 정보 수집\n",
    "titleList.append ( spQuizTagLinks[0].text ) \n",
    "linkList.append ( spQuizTagLinks[0].attrs[\"href\"] )\n",
    "# 두 번째 a 태그 정보 수집\n",
    "titleList.append ( spQuizTagLinks[1].text )\n",
    "linkList.append ( spQuizTagLinks[1].attrs[\"href\"] )\n",
    "# 마지막 퀴즈 a 태그 까지 반복:  len(spQuzTagLinks)"
   ]
  },
  {
   "cell_type": "code",
   "execution_count": 10,
   "metadata": {},
   "outputs": [],
   "source": [
    "# html 부분구조 가져오기\n",
    "spQuizTagLinks = spQuizTag.findAll(name = \"a\") \n",
    "spQuizTagLinks\n",
    "\n",
    "titleList = [] \n",
    "linkList = []\n",
    "# 첫 번째 a 태그 정보 수집\n",
    "for i in range(0, len(spQuizTagLinks)):\n",
    "    titleList.append ( spQuizTagLinks[i].text ) \n",
    "    linkList.append ( spQuizTagLinks[i].attrs[\"href\"] )"
   ]
  },
  {
   "cell_type": "markdown",
   "metadata": {},
   "source": [
    "### 참조. List 활용 데이터프레임 만들기"
   ]
  },
  {
   "cell_type": "code",
   "execution_count": 11,
   "metadata": {},
   "outputs": [
    {
     "data": {
      "text/html": [
       "<div>\n",
       "<style scoped>\n",
       "    .dataframe tbody tr th:only-of-type {\n",
       "        vertical-align: middle;\n",
       "    }\n",
       "\n",
       "    .dataframe tbody tr th {\n",
       "        vertical-align: top;\n",
       "    }\n",
       "\n",
       "    .dataframe thead th {\n",
       "        text-align: right;\n",
       "    }\n",
       "</style>\n",
       "<table border=\"1\" class=\"dataframe\">\n",
       "  <thead>\n",
       "    <tr style=\"text-align: right;\">\n",
       "      <th></th>\n",
       "      <th>링크</th>\n",
       "      <th>타이틀</th>\n",
       "    </tr>\n",
       "  </thead>\n",
       "  <tbody>\n",
       "    <tr>\n",
       "      <th>0</th>\n",
       "      <td>링크1_링크</td>\n",
       "      <td>링크1_타이틀</td>\n",
       "    </tr>\n",
       "    <tr>\n",
       "      <th>1</th>\n",
       "      <td>링크2_링크</td>\n",
       "      <td>링크2_타이틀</td>\n",
       "    </tr>\n",
       "  </tbody>\n",
       "</table>\n",
       "</div>"
      ],
      "text/plain": [
       "       링크      타이틀\n",
       "0  링크1_링크  링크1_타이틀\n",
       "1  링크2_링크  링크2_타이틀"
      ]
     },
     "execution_count": 11,
     "metadata": {},
     "output_type": "execute_result"
    }
   ],
   "source": [
    "import pandas as pd\n",
    "\n",
    "testList = [ [\"링크1_링크\",\"링크1_타이틀\"], \n",
    "             [\"링크2_링크\",\"링크2_타이틀\"]  ]\n",
    "\n",
    "pd.DataFrame(testList, columns = [\"링크\",\"타이틀\"])"
   ]
  },
  {
   "cell_type": "code",
   "execution_count": 12,
   "metadata": {},
   "outputs": [
    {
     "data": {
      "text/html": [
       "<div>\n",
       "<style scoped>\n",
       "    .dataframe tbody tr th:only-of-type {\n",
       "        vertical-align: middle;\n",
       "    }\n",
       "\n",
       "    .dataframe tbody tr th {\n",
       "        vertical-align: top;\n",
       "    }\n",
       "\n",
       "    .dataframe thead th {\n",
       "        text-align: right;\n",
       "    }\n",
       "</style>\n",
       "<table border=\"1\" class=\"dataframe\">\n",
       "  <thead>\n",
       "    <tr style=\"text-align: right;\">\n",
       "      <th></th>\n",
       "      <th>링크</th>\n",
       "      <th>제목</th>\n",
       "    </tr>\n",
       "  </thead>\n",
       "  <tbody>\n",
       "    <tr>\n",
       "      <th>0</th>\n",
       "      <td>링크1_링크</td>\n",
       "      <td>링크1_타이틀</td>\n",
       "    </tr>\n",
       "    <tr>\n",
       "      <th>1</th>\n",
       "      <td>링크2_링크</td>\n",
       "      <td>링크2_타이틀</td>\n",
       "    </tr>\n",
       "  </tbody>\n",
       "</table>\n",
       "</div>"
      ],
      "text/plain": [
       "       링크       제목\n",
       "0  링크1_링크  링크1_타이틀\n",
       "1  링크2_링크  링크2_타이틀"
      ]
     },
     "execution_count": 12,
     "metadata": {},
     "output_type": "execute_result"
    }
   ],
   "source": [
    "import pandas as pd\n",
    "\n",
    "linkColumn = [\"링크1_링크\", \"링크2_링크\"]\n",
    "titleColumn = [\"링크1_타이틀\", \"링크2_타이틀\"]\n",
    "pd.DataFrame({\"링크\":linkColumn,\"제목\":titleColumn})\n",
    "pd.DataFrame(zip(linkColumn,titleColumn), \n",
    "             columns = [\"링크\",\"제목\"])"
   ]
  },
  {
   "cell_type": "markdown",
   "metadata": {},
   "source": [
    "### [실습1] \n",
    "[find 활용] sparkkorea.com 사이트내 퀴즈 페이지 에서\n",
    "스파크 퀴즈  퀴즈이름 및 링크정보를 스크랩 하세요"
   ]
  },
  {
   "cell_type": "code",
   "execution_count": 13,
   "metadata": {
    "scrolled": true
   },
   "outputs": [
    {
     "data": {
      "text/html": [
       "<div>\n",
       "<style scoped>\n",
       "    .dataframe tbody tr th:only-of-type {\n",
       "        vertical-align: middle;\n",
       "    }\n",
       "\n",
       "    .dataframe tbody tr th {\n",
       "        vertical-align: top;\n",
       "    }\n",
       "\n",
       "    .dataframe thead th {\n",
       "        text-align: right;\n",
       "    }\n",
       "</style>\n",
       "<table border=\"1\" class=\"dataframe\">\n",
       "  <thead>\n",
       "    <tr style=\"text-align: right;\">\n",
       "      <th></th>\n",
       "      <th>spark퀴즈 타이틀</th>\n",
       "      <th>spark퀴즈 링크</th>\n",
       "    </tr>\n",
       "  </thead>\n",
       "  <tbody>\n",
       "    <tr>\n",
       "      <th>0</th>\n",
       "      <td>6/13 Spark 심화과정</td>\n",
       "      <td>https://forms.gle/Fw49w9GhWQChDcZm7</td>\n",
       "    </tr>\n",
       "    <tr>\n",
       "      <th>1</th>\n",
       "      <td>6/13 Spark 기본과정</td>\n",
       "      <td>https://forms.gle/G4TcXm3fKuHLHA6D6</td>\n",
       "    </tr>\n",
       "    <tr>\n",
       "      <th>2</th>\n",
       "      <td>6/18 Spark [MAP_FILTER]</td>\n",
       "      <td>https://forms.gle/M8gr1kC2ubA3UDVp8</td>\n",
       "    </tr>\n",
       "    <tr>\n",
       "      <th>3</th>\n",
       "      <td>6/18 Spark GroupBy 심화</td>\n",
       "      <td>https://forms.gle/h8w5mZ4MNaPLCPbi6</td>\n",
       "    </tr>\n",
       "    <tr>\n",
       "      <th>4</th>\n",
       "      <td>6/25 Spark RDD 실전 분석</td>\n",
       "      <td>https://forms.gle/q5yL6QHfueDLM5w27</td>\n",
       "    </tr>\n",
       "    <tr>\n",
       "      <th>5</th>\n",
       "      <td>6/27 Spark RDD 실전 분석2</td>\n",
       "      <td>https://forms.gle/Gxb4y6LfVYiaLu4M7</td>\n",
       "    </tr>\n",
       "  </tbody>\n",
       "</table>\n",
       "</div>"
      ],
      "text/plain": [
       "                 spark퀴즈 타이틀                           spark퀴즈 링크\n",
       "0           6/13 Spark 심화과정   https://forms.gle/Fw49w9GhWQChDcZm7\n",
       "1           6/13 Spark 기본과정   https://forms.gle/G4TcXm3fKuHLHA6D6\n",
       "2   6/18 Spark [MAP_FILTER]   https://forms.gle/M8gr1kC2ubA3UDVp8\n",
       "3     6/18 Spark GroupBy 심화   https://forms.gle/h8w5mZ4MNaPLCPbi6\n",
       "4      6/25 Spark RDD 실전 분석   https://forms.gle/q5yL6QHfueDLM5w27\n",
       "5     6/27 Spark RDD 실전 분석2   https://forms.gle/Gxb4y6LfVYiaLu4M7"
      ]
     },
     "execution_count": 13,
     "metadata": {},
     "output_type": "execute_result"
    }
   ],
   "source": [
    "rowList = []\n",
    "columnList =[]\n",
    "\n",
    "spQuizTag = bs.find(name = \"div\",\n",
    "        attrs = {\"id\":\"id_spark_quiz\"} ) \n",
    "\n",
    "# html 부분구조 가져오기\n",
    "spQuizTagLinks = spQuizTag.findAll(name = \"a\")\n",
    "\n",
    "rowList = []\n",
    "\n",
    "titleList=[]\n",
    "linkList=[]\n",
    "\n",
    "for i in range(0, len(spQuizTagLinks)):\n",
    "    titleList.append(spQuizTagLinks[i].text)\n",
    "    linkList.append(spQuizTagLinks[i].attrs[\"href\"])\n",
    "\n",
    "answer = pd.DataFrame(zip( titleList, linkList), \n",
    "                      columns = [\"spark퀴즈 타이틀\",\"spark퀴즈 링크\"])\n",
    "answer = pd.DataFrame( { \"spark퀴즈 타이틀\": titleList,\n",
    "                         \"spark퀴즈 링크\" : linkList })\n",
    "answer"
   ]
  },
  {
   "cell_type": "markdown",
   "metadata": {},
   "source": [
    "# 4. 테이블 정보 수집하기"
   ]
  },
  {
   "cell_type": "markdown",
   "metadata": {},
   "source": [
    "### 테이블트리 스크랩"
   ]
  },
  {
   "cell_type": "code",
   "execution_count": 18,
   "metadata": {},
   "outputs": [
    {
     "data": {
      "text/plain": [
       "<table class=\"type07\" id=\"test_table\">\n",
       "<thead>\n",
       "<tr>\n",
       "<th scope=\"cols\">학번</th>\n",
       "<th scope=\"cols\">이름</th>\n",
       "</tr>\n",
       "</thead>\n",
       "<tbody>\n",
       "<tr>\n",
       "<td>101</td>\n",
       "<td>김효관</td>\n",
       "</tr>\n",
       "<tr>\n",
       "<td>102</td>\n",
       "<td>이순신</td>\n",
       "</tr>\n",
       "<tr>\n",
       "<td>103</td>\n",
       "<td>김어진</td>\n",
       "</tr>\n",
       "</tbody>\n",
       "</table>"
      ]
     },
     "execution_count": 18,
     "metadata": {},
     "output_type": "execute_result"
    }
   ],
   "source": [
    "import requests, bs4\n",
    "import pandas as pd\n",
    "\n",
    "#웹페이지 html 소스 가져오기\n",
    "resp = requests.get(\"https://sparkkorea.com/테스트/\")\n",
    "resp.encoding='utf-8'\n",
    "html = resp.text\n",
    "bs = bs4.BeautifulSoup(html, 'html.parser')\n",
    "\n",
    "tabletag = bs.find(\"table\", {\"id\":\"test_table\"})\n",
    "tabletag"
   ]
  },
  {
   "cell_type": "code",
   "execution_count": 19,
   "metadata": {},
   "outputs": [
    {
     "data": {
      "text/plain": [
       "[<tr>\n",
       " <td>101</td>\n",
       " <td>김효관</td>\n",
       " </tr>,\n",
       " <tr>\n",
       " <td>102</td>\n",
       " <td>이순신</td>\n",
       " </tr>,\n",
       " <tr>\n",
       " <td>103</td>\n",
       " <td>김어진</td>\n",
       " </tr>]"
      ]
     },
     "execution_count": 19,
     "metadata": {},
     "output_type": "execute_result"
    }
   ],
   "source": [
    "rows = tabletag.find(\"tbody\").findAll(\"tr\")\n",
    "rows"
   ]
  },
  {
   "cell_type": "code",
   "execution_count": 20,
   "metadata": {},
   "outputs": [],
   "source": [
    "# 행 전체를 저장할 리스트\n",
    "rowList=[]\n",
    "# 행별 컬럼값을 저장할 리스트\n",
    "columnList =[]"
   ]
  },
  {
   "cell_type": "code",
   "execution_count": 21,
   "metadata": {},
   "outputs": [],
   "source": [
    "for i in range(0, len(rows)):\n",
    "    columns = rows[i].findAll(\"td\")\n",
    "    columnsLen = len(columns)\n",
    "    for j in range(0, columnsLen):\n",
    "        columnList.append(columns[j].text)\n",
    "\n",
    "    rowList.append(columnList)\n",
    "    columnList=[]"
   ]
  },
  {
   "cell_type": "code",
   "execution_count": 22,
   "metadata": {},
   "outputs": [
    {
     "data": {
      "text/plain": [
       "[['101', '김효관'], ['102', '이순신'], ['103', '김어진']]"
      ]
     },
     "execution_count": 22,
     "metadata": {},
     "output_type": "execute_result"
    }
   ],
   "source": [
    "rowList"
   ]
  },
  {
   "cell_type": "code",
   "execution_count": 23,
   "metadata": {},
   "outputs": [
    {
     "data": {
      "text/html": [
       "<div>\n",
       "<style scoped>\n",
       "    .dataframe tbody tr th:only-of-type {\n",
       "        vertical-align: middle;\n",
       "    }\n",
       "\n",
       "    .dataframe tbody tr th {\n",
       "        vertical-align: top;\n",
       "    }\n",
       "\n",
       "    .dataframe thead th {\n",
       "        text-align: right;\n",
       "    }\n",
       "</style>\n",
       "<table border=\"1\" class=\"dataframe\">\n",
       "  <thead>\n",
       "    <tr style=\"text-align: right;\">\n",
       "      <th></th>\n",
       "      <th>학번</th>\n",
       "      <th>이름</th>\n",
       "    </tr>\n",
       "  </thead>\n",
       "  <tbody>\n",
       "    <tr>\n",
       "      <th>0</th>\n",
       "      <td>101</td>\n",
       "      <td>김효관</td>\n",
       "    </tr>\n",
       "    <tr>\n",
       "      <th>1</th>\n",
       "      <td>102</td>\n",
       "      <td>이순신</td>\n",
       "    </tr>\n",
       "    <tr>\n",
       "      <th>2</th>\n",
       "      <td>103</td>\n",
       "      <td>김어진</td>\n",
       "    </tr>\n",
       "  </tbody>\n",
       "</table>\n",
       "</div>"
      ],
      "text/plain": [
       "    학번   이름\n",
       "0  101  김효관\n",
       "1  102  이순신\n",
       "2  103  김어진"
      ]
     },
     "execution_count": 23,
     "metadata": {},
     "output_type": "execute_result"
    }
   ],
   "source": [
    "pd.DataFrame(rowList, columns =[\"학번\",\"이름\"])"
   ]
  },
  {
   "cell_type": "markdown",
   "metadata": {},
   "source": [
    "### [실습] \n",
    "https://www.timeanddate.com/holidays/south-korea/\n",
    "스크랩 한국 홀리데이"
   ]
  },
  {
   "cell_type": "code",
   "execution_count": 3,
   "metadata": {},
   "outputs": [],
   "source": [
    "import requests, bs4\n",
    "import pandas as pd"
   ]
  },
  {
   "cell_type": "code",
   "execution_count": 4,
   "metadata": {},
   "outputs": [],
   "source": [
    "url = \"https://www.timeanddate.com/holidays/south-korea/\"\n",
    "resp = requests.get(url)"
   ]
  },
  {
   "cell_type": "code",
   "execution_count": 5,
   "metadata": {},
   "outputs": [],
   "source": [
    "websource = resp.text"
   ]
  },
  {
   "cell_type": "code",
   "execution_count": 7,
   "metadata": {},
   "outputs": [],
   "source": [
    "bsobj = bs4.BeautifulSoup(websource, \"html.parser\")"
   ]
  },
  {
   "cell_type": "code",
   "execution_count": 8,
   "metadata": {},
   "outputs": [],
   "source": [
    "thead = bsobj.select_one(\"#holidays-table > thead\")"
   ]
  },
  {
   "cell_type": "code",
   "execution_count": 9,
   "metadata": {},
   "outputs": [
    {
     "data": {
      "text/plain": [
       "<thead><tr><th rowspan=\"2\">Date</th><th rowspan=\"2\"> </th><th rowspan=\"2\">Name</th><th rowspan=\"2\">Type</th></tr><tr></tr></thead>"
      ]
     },
     "execution_count": 9,
     "metadata": {},
     "output_type": "execute_result"
    }
   ],
   "source": [
    "thead"
   ]
  },
  {
   "cell_type": "code",
   "execution_count": 10,
   "metadata": {},
   "outputs": [],
   "source": [
    "iter_th = thead.find_all(\"th\")"
   ]
  },
  {
   "cell_type": "code",
   "execution_count": 11,
   "metadata": {},
   "outputs": [
    {
     "data": {
      "text/plain": [
       "[<th rowspan=\"2\">Date</th>,\n",
       " <th rowspan=\"2\"> </th>,\n",
       " <th rowspan=\"2\">Name</th>,\n",
       " <th rowspan=\"2\">Type</th>]"
      ]
     },
     "execution_count": 11,
     "metadata": {},
     "output_type": "execute_result"
    }
   ],
   "source": [
    "iter_th"
   ]
  },
  {
   "cell_type": "code",
   "execution_count": 12,
   "metadata": {},
   "outputs": [
    {
     "data": {
      "text/plain": [
       "['Date', '\\xa0', 'Name', 'Type']"
      ]
     },
     "execution_count": 12,
     "metadata": {},
     "output_type": "execute_result"
    }
   ],
   "source": [
    "hcontent=[]\n",
    "\n",
    "for th in iter_th:\n",
    "    hcontent.append(th.text)\n",
    "\n",
    "hcontent"
   ]
  },
  {
   "cell_type": "code",
   "execution_count": 13,
   "metadata": {},
   "outputs": [],
   "source": [
    "tbody = bsobj.select_one(\"#holidays-table > tbody\")"
   ]
  },
  {
   "cell_type": "code",
   "execution_count": 14,
   "metadata": {},
   "outputs": [],
   "source": [
    "iter_tr = tbody.find_all(\"tr\")"
   ]
  },
  {
   "cell_type": "code",
   "execution_count": 15,
   "metadata": {},
   "outputs": [],
   "source": [
    "content=[]\n",
    "allcontent=[]\n",
    "\n",
    "#rows = iter_tr[0]\n",
    "\n",
    "content=[]\n",
    "allcontent=[]\n",
    "\n",
    "for rows in iter_tr:\n",
    "    if rows.text==\"\":\n",
    "        continue\n",
    "    ths = rows.find_all(\"th\")\n",
    "    for th in ths:\n",
    "        content.append(th.text)\n",
    "    tds = rows.find_all(\"td\")\n",
    "    for td in tds:\n",
    "        content.append(td.text)\n",
    "    allcontent.append(content)\n",
    "    content=[]"
   ]
  },
  {
   "cell_type": "code",
   "execution_count": 16,
   "metadata": {},
   "outputs": [],
   "source": [
    "finalResult = pd.DataFrame(allcontent)"
   ]
  },
  {
   "cell_type": "code",
   "execution_count": 17,
   "metadata": {},
   "outputs": [],
   "source": [
    "finalResult.columns = hcontent"
   ]
  },
  {
   "cell_type": "code",
   "execution_count": 18,
   "metadata": {},
   "outputs": [
    {
     "data": {
      "text/html": [
       "<div>\n",
       "<style scoped>\n",
       "    .dataframe tbody tr th:only-of-type {\n",
       "        vertical-align: middle;\n",
       "    }\n",
       "\n",
       "    .dataframe tbody tr th {\n",
       "        vertical-align: top;\n",
       "    }\n",
       "\n",
       "    .dataframe thead th {\n",
       "        text-align: right;\n",
       "    }\n",
       "</style>\n",
       "<table border=\"1\" class=\"dataframe\">\n",
       "  <thead>\n",
       "    <tr style=\"text-align: right;\">\n",
       "      <th></th>\n",
       "      <th>Date</th>\n",
       "      <th></th>\n",
       "      <th>Name</th>\n",
       "      <th>Type</th>\n",
       "    </tr>\n",
       "  </thead>\n",
       "  <tbody>\n",
       "    <tr>\n",
       "      <th>0</th>\n",
       "      <td>8월 15일</td>\n",
       "      <td>목요일</td>\n",
       "      <td>Liberation Day</td>\n",
       "      <td>National holiday</td>\n",
       "    </tr>\n",
       "    <tr>\n",
       "      <th>1</th>\n",
       "      <td>9월 16일</td>\n",
       "      <td>월요일</td>\n",
       "      <td>Chuseok Holiday</td>\n",
       "      <td>Public Holiday</td>\n",
       "    </tr>\n",
       "    <tr>\n",
       "      <th>2</th>\n",
       "      <td>9월 17일</td>\n",
       "      <td>화요일</td>\n",
       "      <td>Chuseok</td>\n",
       "      <td>Public Holiday</td>\n",
       "    </tr>\n",
       "    <tr>\n",
       "      <th>3</th>\n",
       "      <td>9월 18일</td>\n",
       "      <td>수요일</td>\n",
       "      <td>Chuseok Holiday</td>\n",
       "      <td>Public Holiday</td>\n",
       "    </tr>\n",
       "    <tr>\n",
       "      <th>4</th>\n",
       "      <td>9월 22일</td>\n",
       "      <td>일요일</td>\n",
       "      <td>September Equinox</td>\n",
       "      <td>Season</td>\n",
       "    </tr>\n",
       "  </tbody>\n",
       "</table>\n",
       "</div>"
      ],
      "text/plain": [
       "     Date                    Name              Type\n",
       "0  8월 15일  목요일     Liberation Day  National holiday\n",
       "1  9월 16일  월요일    Chuseok Holiday    Public Holiday\n",
       "2  9월 17일  화요일            Chuseok    Public Holiday\n",
       "3  9월 18일  수요일    Chuseok Holiday    Public Holiday\n",
       "4  9월 22일  일요일  September Equinox            Season"
      ]
     },
     "execution_count": 18,
     "metadata": {},
     "output_type": "execute_result"
    }
   ],
   "source": [
    "finalResult.head()"
   ]
  }
 ],
 "metadata": {
  "kernelspec": {
   "display_name": "Python 3 (ipykernel)",
   "language": "python",
   "name": "python3"
  },
  "language_info": {
   "codemirror_mode": {
    "name": "ipython",
    "version": 3
   },
   "file_extension": ".py",
   "mimetype": "text/x-python",
   "name": "python",
   "nbconvert_exporter": "python",
   "pygments_lexer": "ipython3",
   "version": "3.11.9"
  }
 },
 "nbformat": 4,
 "nbformat_minor": 4
}
