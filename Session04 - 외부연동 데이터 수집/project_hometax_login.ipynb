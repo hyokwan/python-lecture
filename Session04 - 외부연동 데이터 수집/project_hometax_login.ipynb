{
 "cells": [
  {
   "cell_type": "code",
   "execution_count": 6,
   "id": "c1d6d199-544d-4a5a-9da6-13b09c67e0d9",
   "metadata": {},
   "outputs": [],
   "source": [
    "# from selenium import webdriver\n",
    "# from bs4 import BeautifulSoup\n",
    "# import os\n",
    "# from os.path import join, dirname\n",
    "\n",
    "# if os.name == 'nt':\n",
    "#     os_name = 'nt'\n",
    "# elif os.name == 'mac':\n",
    "#     os_name = 'mac'\n",
    "# else:\n",
    "#     os_name = 'linux'\n",
    "\n",
    "# if os_name == 'nt':\n",
    "#     dirver_loc = \"d:/chromedriver/chromedriver.exe\"\n",
    "# else:\n",
    "#     dirver_loc = \"/home/download/chromedriver/chromedriver.exe\""
   ]
  },
  {
   "cell_type": "markdown",
   "id": "a6160a3f-5247-4204-9d87-fdf2eda3cd0d",
   "metadata": {},
   "source": [
    "### (1) 라이브러리 선언 및 드라이버 설정"
   ]
  },
  {
   "cell_type": "code",
   "execution_count": 7,
   "id": "5b6af013-072d-4db0-ae08-f76f032058e5",
   "metadata": {
    "scrolled": true,
    "tags": []
   },
   "outputs": [
    {
     "name": "stderr",
     "output_type": "stream",
     "text": [
      "C:\\Users\\kopo\\AppData\\Local\\Temp/ipykernel_17076/961798833.py:15: DeprecationWarning: executable_path has been deprecated, please pass in a Service object\n",
      "  driver = webdriver.Chrome(driver_loc, options=options)\n"
     ]
    }
   ],
   "source": [
    "# 라이브러리 선언\n",
    "from selenium import webdriver\n",
    "\n",
    "# 드라이버 위치 설정\n",
    "driver_loc = \"../externlib/chromedriver/chromedriver.exe\"\n",
    "\n",
    "# 드라이버 옵션 설정\n",
    "options = webdriver.ChromeOptions()\n",
    "options.add_argument(\"window-size=1920x1080\")\n",
    "options.add_argument(\"user-agent=Mozilla/5.0 (Windows NT 6.1; WOW64; Trident/7.0; rv:11.0) like Gecko\")\n",
    "# 헤드리스 설정 시 리눅스 같이 웹화면 없는경우에도 웹페이지 실행가능함\n",
    "# options.add_argument('headless’)\n",
    "# options.add_argument(\"disable-gpu\")\n",
    "# 웹 드라이버 정의\n",
    "driver = webdriver.Chrome(driver_loc, options=options)\n",
    "# 웹페이지 파싱 될때까지 최대 3초 기다림\n",
    "driver.implicitly_wait(3)"
   ]
  },
  {
   "cell_type": "markdown",
   "id": "3e9e6c8d-9123-4cba-8cfe-a23953fc5e4f",
   "metadata": {},
   "source": [
    "### (2) 웹페이지 이동"
   ]
  },
  {
   "cell_type": "code",
   "execution_count": 8,
   "id": "e2dd7bb2-e3a2-431b-b734-b58b2831a1bc",
   "metadata": {},
   "outputs": [],
   "source": [
    "from selenium.webdriver.common.keys import Keys"
   ]
  },
  {
   "cell_type": "code",
   "execution_count": 9,
   "id": "c843291d-f722-409b-8654-c2ee25d89f54",
   "metadata": {},
   "outputs": [],
   "source": [
    "import time"
   ]
  },
  {
   "cell_type": "code",
   "execution_count": 10,
   "id": "3d5f2854-b746-4970-860c-194584c56259",
   "metadata": {},
   "outputs": [],
   "source": [
    "options = webdriver.ChromeOptions()# URL 정의\n",
    "baseUrl = \"https://www.hometax.go.kr/websquare/websquare.html?w2xPath=/ui/pp/index.xml\"\n",
    "\n",
    "# URL 이동\n",
    "driver.get(baseUrl)\n",
    "time.sleep(1)"
   ]
  },
  {
   "cell_type": "code",
   "execution_count": 11,
   "id": "2dfa4f24-c3c9-46b7-8beb-235efa13c866",
   "metadata": {},
   "outputs": [
    {
     "data": {
      "text/plain": [
       "'https://www.hometax.go.kr/websquare/websquare.html?w2xPath=/ui/pp/index.xml'"
      ]
     },
     "execution_count": 11,
     "metadata": {},
     "output_type": "execute_result"
    }
   ],
   "source": [
    "# 현재 URL 정보 \n",
    "driver.current_url"
   ]
  },
  {
   "cell_type": "code",
   "execution_count": 12,
   "id": "bc84725d-c6c1-4cbd-abe3-84b34893b0d8",
   "metadata": {},
   "outputs": [
    {
     "name": "stderr",
     "output_type": "stream",
     "text": [
      "C:\\Users\\kopo\\AppData\\Local\\Temp/ipykernel_17076/4149910789.py:1: DeprecationWarning: find_elements_by_css_selector is deprecated. Please use find_elements(by=By.CSS_SELECTOR, value=css_selector) instead\n",
      "  iframes = driver.find_elements_by_css_selector('iframe')\n"
     ]
    },
    {
     "name": "stdout",
     "output_type": "stream",
     "text": [
      "\n",
      "__processbarIFrame\n"
     ]
    }
   ],
   "source": [
    "iframes = driver.find_elements_by_css_selector('iframe')\n",
    "for iframe in iframes:\n",
    "    print(iframe.get_attribute('name'))"
   ]
  },
  {
   "cell_type": "code",
   "execution_count": 13,
   "id": "6aa0b830-c52f-4b12-a16b-2f3e2e3509cf",
   "metadata": {},
   "outputs": [],
   "source": [
    "# html = driver.page_source\n",
    "# import bs4\n",
    "# bs = bs4.BeautifulSoup(html, \"html.parser\")"
   ]
  },
  {
   "cell_type": "markdown",
   "id": "67f21ce8-3bf5-477e-b969-15fad55b34a3",
   "metadata": {},
   "source": [
    "### (3)로그인 페이지 이동"
   ]
  },
  {
   "cell_type": "code",
   "execution_count": 14,
   "id": "3eeb33b0-8c27-42b5-8119-b76f30149fd6",
   "metadata": {},
   "outputs": [],
   "source": [
    "loginbtn = '//*[@id=\"group88615548\"]'"
   ]
  },
  {
   "cell_type": "code",
   "execution_count": 15,
   "id": "471b3715-6ac1-400d-a958-1365eb484fde",
   "metadata": {},
   "outputs": [
    {
     "name": "stderr",
     "output_type": "stream",
     "text": [
      "C:\\Users\\kopo\\AppData\\Local\\Temp/ipykernel_17076/3530734507.py:1: DeprecationWarning: find_element_by_xpath is deprecated. Please use find_element(by=By.XPATH, value=xpath) instead\n",
      "  driver.find_element_by_xpath(loginbtn).click()\n"
     ]
    }
   ],
   "source": [
    "driver.find_element_by_xpath(loginbtn).click()"
   ]
  },
  {
   "cell_type": "code",
   "execution_count": 16,
   "id": "401808fe-8dc4-46e6-8c0a-c66d4bc389cb",
   "metadata": {},
   "outputs": [],
   "source": [
    "html = driver.page_source\n",
    "\n",
    "import bs4\n",
    "\n",
    "bsobj = bs4.BeautifulSoup(html, \"html.parser\")"
   ]
  },
  {
   "cell_type": "code",
   "execution_count": 17,
   "id": "4c2e57a7-d3f1-4bc2-a5e3-965c4df70191",
   "metadata": {},
   "outputs": [
    {
     "name": "stderr",
     "output_type": "stream",
     "text": [
      "C:\\Users\\kopo\\AppData\\Local\\Temp/ipykernel_17076/4149910789.py:1: DeprecationWarning: find_elements_by_css_selector is deprecated. Please use find_elements(by=By.CSS_SELECTOR, value=css_selector) instead\n",
      "  iframes = driver.find_elements_by_css_selector('iframe')\n"
     ]
    },
    {
     "name": "stdout",
     "output_type": "stream",
     "text": [
      "\n",
      "txppIframe\n",
      "__processbarIFrame\n"
     ]
    }
   ],
   "source": [
    "iframes = driver.find_elements_by_css_selector('iframe')\n",
    "for iframe in iframes:\n",
    "    print(iframe.get_attribute('name'))"
   ]
  },
  {
   "cell_type": "code",
   "execution_count": 18,
   "id": "7c125ab1-7efe-49ff-9af1-d68b30b19621",
   "metadata": {},
   "outputs": [],
   "source": [
    "# 해당 이름의 iframe으로 전환한다.\n",
    "driver.switch_to.frame(\"txppIframe\") \n",
    "\n",
    "# 상위프레임으로 전환\n",
    "# driver.switch_to_default_content"
   ]
  },
  {
   "cell_type": "code",
   "execution_count": null,
   "id": "98ad8f29-7408-48b0-bad2-c97ee6a1ba89",
   "metadata": {},
   "outputs": [],
   "source": [
    "time.sleep(1)"
   ]
  },
  {
   "cell_type": "code",
   "execution_count": 22,
   "id": "786ee899-159b-44bb-9b03-80970f457da6",
   "metadata": {},
   "outputs": [],
   "source": [
    "idloginXpath = '//*[@id=\"anchor15\"]'"
   ]
  },
  {
   "cell_type": "code",
   "execution_count": 23,
   "id": "e6b161d6-ca73-43bf-879b-c98cfec797a9",
   "metadata": {},
   "outputs": [
    {
     "name": "stderr",
     "output_type": "stream",
     "text": [
      "C:\\Users\\kopo\\AppData\\Local\\Temp/ipykernel_17076/1775924064.py:1: DeprecationWarning: find_element_by_xpath is deprecated. Please use find_element(by=By.XPATH, value=xpath) instead\n",
      "  driver.find_element_by_xpath(idloginXpath).click()\n"
     ]
    }
   ],
   "source": [
    "driver.find_element_by_xpath(idloginXpath).click()"
   ]
  },
  {
   "cell_type": "code",
   "execution_count": 21,
   "id": "5bf10e99-f1df-4301-b5f6-71eddb00a72e",
   "metadata": {},
   "outputs": [],
   "source": [
    "time.sleep(1)"
   ]
  },
  {
   "cell_type": "code",
   "execution_count": 24,
   "id": "03fef342-8d7c-4d3d-ae6f-bafb6b2eff89",
   "metadata": {},
   "outputs": [],
   "source": [
    "# id, pw, 로그인버튼 xpath\n",
    "idInputXpath = '//*[@id=\"iptUserId\"]'\n",
    "pwInputXpath = '//*[@id=\"iptUserPw\"]'\n",
    "loginBtnXpath = '//*[@id=\"anchor25\"]' "
   ]
  },
  {
   "cell_type": "code",
   "execution_count": 25,
   "id": "9e669b1c-4622-4218-a003-fcf2a3dc01a9",
   "metadata": {},
   "outputs": [
    {
     "name": "stdin",
     "output_type": "stream",
     "text": [
      " ···········\n"
     ]
    }
   ],
   "source": [
    "import getpass\n",
    "pw=getpass.getpass()"
   ]
  },
  {
   "cell_type": "code",
   "execution_count": 26,
   "id": "5940c69c-b316-43b4-ac32-411ea419fa6b",
   "metadata": {},
   "outputs": [],
   "source": [
    "import pickle\n",
    "with open(\"./pw.pickle\",\"wb\") as fw:\n",
    "    pickle.dump(pw, fw)"
   ]
  },
  {
   "cell_type": "code",
   "execution_count": 27,
   "id": "0994ed2b-f0b3-4057-af53-b98529819667",
   "metadata": {},
   "outputs": [],
   "source": [
    "# with open(\"pw.pickle\",\"rb\") as fr:\n",
    "#     pw = pickle.load(fr)"
   ]
  },
  {
   "cell_type": "markdown",
   "id": "2a2d1eb3-06d7-4b5e-ab21-e15dbd9bc132",
   "metadata": {},
   "source": [
    "# 여기서부터 다시시작"
   ]
  },
  {
   "cell_type": "code",
   "execution_count": null,
   "id": "285658e5-9c08-4969-a0f7-0fe9cd94462f",
   "metadata": {},
   "outputs": [],
   "source": []
  },
  {
   "cell_type": "code",
   "execution_count": null,
   "id": "96ff7374-5112-43e3-9fa9-75f9d972780e",
   "metadata": {},
   "outputs": [],
   "source": []
  },
  {
   "cell_type": "code",
   "execution_count": null,
   "id": "aa49620b-8ba0-43e2-bb08-1eb7a1ee78ea",
   "metadata": {},
   "outputs": [],
   "source": []
  },
  {
   "cell_type": "code",
   "execution_count": null,
   "id": "258d321a-3cc6-4c25-8b2f-111273639c78",
   "metadata": {},
   "outputs": [],
   "source": []
  },
  {
   "cell_type": "code",
   "execution_count": null,
   "id": "f2fb6e10-2c7f-4817-b82c-d7afe3a570bf",
   "metadata": {},
   "outputs": [],
   "source": []
  },
  {
   "cell_type": "code",
   "execution_count": null,
   "id": "000c48a1-8c50-4faa-8c39-584a50a4bf7a",
   "metadata": {},
   "outputs": [],
   "source": []
  },
  {
   "cell_type": "code",
   "execution_count": 48,
   "id": "46020363-b17e-496b-b397-4efb647d1b1f",
   "metadata": {},
   "outputs": [],
   "source": [
    "# # 테스트아이디 저장코드\n",
    "# # pw =\"테스트패스워드\"\n",
    "# # import getpass\n",
    "# # pw=getpass.getpass()\n",
    "# # with open(\"pw.pickle\",\"wb\") as fw:\n",
    "# #     pickle.dump(pw, fw)\n",
    "\n",
    "# with open(\"pw.pickle\",\"rb\") as fr:\n",
    "#     pw = pickle.load(fr)"
   ]
  },
  {
   "cell_type": "code",
   "execution_count": 49,
   "id": "51e1ac53-f042-4337-83ab-a219711fecf5",
   "metadata": {},
   "outputs": [],
   "source": [
    "# xpath2_Login = '//*[@id=\"anchor15\"]/span'\n",
    "# driver.find_element_by_xpath(xpath2_Login).click()\n",
    "\n",
    "# driver.switch_to_default_content # 상위프레임으로 전환\n",
    "# driver.switch_to.frame(\"sessionIframe\") "
   ]
  }
 ],
 "metadata": {
  "kernelspec": {
   "display_name": "Python 3 (ipykernel)",
   "language": "python",
   "name": "python3"
  },
  "language_info": {
   "codemirror_mode": {
    "name": "ipython",
    "version": 3
   },
   "file_extension": ".py",
   "mimetype": "text/x-python",
   "name": "python",
   "nbconvert_exporter": "python",
   "pygments_lexer": "ipython3",
   "version": "3.9.7"
  }
 },
 "nbformat": 4,
 "nbformat_minor": 5
}
