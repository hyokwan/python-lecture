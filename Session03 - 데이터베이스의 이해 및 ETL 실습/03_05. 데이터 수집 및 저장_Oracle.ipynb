{
 "cells": [
  {
   "cell_type": "markdown",
   "id": "437d3147-2821-4f36-bb16-30cb9e8ddee2",
   "metadata": {},
   "source": [
    "# Pandas 라이브러리를 활용한 데이터 수집 및 저장"
   ]
  },
  {
   "cell_type": "markdown",
   "id": "e2b2c02e-8104-411c-bf32-583dc4b83ee1",
   "metadata": {},
   "source": [
    "# 4. 데이터베이스 데이터 수집 및 저장 (Oracle)"
   ]
  },
  {
   "cell_type": "code",
   "execution_count": 1,
   "id": "82582b75-3623-4825-ae2f-8d6e45ed0e5b",
   "metadata": {},
   "outputs": [],
   "source": [
    "# 설치필요 라이브러리 : pip install cx_Oracle\n",
    "import pandas as pd\n",
    "from sqlalchemy import create_engine,types"
   ]
  },
  {
   "cell_type": "markdown",
   "id": "3479e255-4bcc-42d0-9ced-38d3fa8e70df",
   "metadata": {},
   "source": [
    "### 1. 파일 데이터 불러오기"
   ]
  },
  {
   "cell_type": "code",
   "execution_count": 3,
   "id": "78030ee1-fe75-4f64-9827-5dfc2303fa14",
   "metadata": {},
   "outputs": [
    {
     "ename": "OperationalError",
     "evalue": "DPY-6005: cannot connect to database (CONNECTION_ID=fp4PiFp+O8KpBuxNVQIXsg==).\nDPY-3010: connections to this database server version are not supported by python-oracledb in thin mode\nHelp: https://python-oracledb.readthedocs.io/en/latest/user_guide/troubleshooting.html#dpy-3010",
     "output_type": "error",
     "traceback": [
      "\u001b[1;31m---------------------------------------------------------------------------\u001b[0m",
      "\u001b[1;31mNotSupportedError\u001b[0m                         Traceback (most recent call last)",
      "File \u001b[1;32msrc\\\\oracledb\\\\impl/thin/connection.pyx:279\u001b[0m, in \u001b[0;36moracledb.thin_impl.ThinConnImpl._connect_with_address\u001b[1;34m()\u001b[0m\n",
      "File \u001b[1;32msrc\\\\oracledb\\\\impl/thin/protocol.pyx:242\u001b[0m, in \u001b[0;36moracledb.thin_impl.Protocol._connect_phase_one\u001b[1;34m()\u001b[0m\n",
      "File \u001b[1;32msrc\\\\oracledb\\\\impl/thin/protocol.pyx:400\u001b[0m, in \u001b[0;36moracledb.thin_impl.Protocol._process_message\u001b[1;34m()\u001b[0m\n",
      "File \u001b[1;32msrc\\\\oracledb\\\\impl/thin/protocol.pyx:379\u001b[0m, in \u001b[0;36moracledb.thin_impl.Protocol._process_message\u001b[1;34m()\u001b[0m\n",
      "File \u001b[1;32msrc\\\\oracledb\\\\impl/thin/messages.pyx:1849\u001b[0m, in \u001b[0;36moracledb.thin_impl.ConnectMessage.process\u001b[1;34m()\u001b[0m\n",
      "File \u001b[1;32m~\\.pyenv\\pyenv-win\\versions\\3.11.9\\Lib\\site-packages\\oracledb\\errors.py:182\u001b[0m, in \u001b[0;36m_raise_err\u001b[1;34m(error_num, context_error_message, cause, **args)\u001b[0m\n\u001b[0;32m    181\u001b[0m error \u001b[38;5;241m=\u001b[39m _Error(message)\n\u001b[1;32m--> 182\u001b[0m \u001b[38;5;28;01mraise\u001b[39;00m error\u001b[38;5;241m.\u001b[39mexc_type(error) \u001b[38;5;28;01mfrom\u001b[39;00m \u001b[38;5;21;01mcause\u001b[39;00m\n",
      "\u001b[1;31mNotSupportedError\u001b[0m: DPY-3010: connections to this database server version are not supported by python-oracledb in thin mode\nHelp: https://python-oracledb.readthedocs.io/en/latest/user_guide/troubleshooting.html#dpy-3010",
      "\nThe above exception was the direct cause of the following exception:\n",
      "\u001b[1;31mOperationalError\u001b[0m                          Traceback (most recent call last)",
      "Cell \u001b[1;32mIn[3], line 11\u001b[0m\n\u001b[0;32m      4\u001b[0m \u001b[38;5;66;03m# Oracle 연결 정보 설정\u001b[39;00m\n\u001b[0;32m      5\u001b[0m dsn \u001b[38;5;241m=\u001b[39m {\n\u001b[0;32m      6\u001b[0m     \u001b[38;5;124m'\u001b[39m\u001b[38;5;124muser\u001b[39m\u001b[38;5;124m'\u001b[39m: \u001b[38;5;124m'\u001b[39m\u001b[38;5;124mkopo\u001b[39m\u001b[38;5;124m'\u001b[39m,\n\u001b[0;32m      7\u001b[0m     \u001b[38;5;124m'\u001b[39m\u001b[38;5;124mpassword\u001b[39m\u001b[38;5;124m'\u001b[39m: \u001b[38;5;124m'\u001b[39m\u001b[38;5;124mkopo\u001b[39m\u001b[38;5;124m'\u001b[39m,\n\u001b[0;32m      8\u001b[0m     \u001b[38;5;124m'\u001b[39m\u001b[38;5;124mdsn\u001b[39m\u001b[38;5;124m'\u001b[39m: \u001b[38;5;124m'\u001b[39m\u001b[38;5;124m127.0.0.1:1521/xe\u001b[39m\u001b[38;5;124m'\u001b[39m\n\u001b[0;32m      9\u001b[0m }\n\u001b[1;32m---> 11\u001b[0m conn \u001b[38;5;241m=\u001b[39m \u001b[43moracledb\u001b[49m\u001b[38;5;241;43m.\u001b[39;49m\u001b[43mconnect\u001b[49m\u001b[43m(\u001b[49m\u001b[38;5;241;43m*\u001b[39;49m\u001b[38;5;241;43m*\u001b[39;49m\u001b[43mdsn\u001b[49m\u001b[43m)\u001b[49m\n\u001b[0;32m     12\u001b[0m \u001b[38;5;28mprint\u001b[39m(\u001b[38;5;124m\"\u001b[39m\u001b[38;5;124mConnected to Oracle Database\u001b[39m\u001b[38;5;124m\"\u001b[39m)\n\u001b[0;32m     14\u001b[0m \u001b[38;5;66;03m# 쿼리 실행 및 데이터프레임으로 변환\u001b[39;00m\n",
      "File \u001b[1;32m~\\.pyenv\\pyenv-win\\versions\\3.11.9\\Lib\\site-packages\\oracledb\\connection.py:1158\u001b[0m, in \u001b[0;36m_connection_factory.<locals>.connect\u001b[1;34m(dsn, pool, conn_class, params, **kwargs)\u001b[0m\n\u001b[0;32m   1156\u001b[0m     message \u001b[38;5;241m=\u001b[39m \u001b[38;5;124m\"\u001b[39m\u001b[38;5;124mpool must be an instance of oracledb.ConnectionPool\u001b[39m\u001b[38;5;124m\"\u001b[39m\n\u001b[0;32m   1157\u001b[0m     \u001b[38;5;28;01mraise\u001b[39;00m \u001b[38;5;167;01mTypeError\u001b[39;00m(message)\n\u001b[1;32m-> 1158\u001b[0m \u001b[38;5;28;01mreturn\u001b[39;00m \u001b[43mconn_class\u001b[49m\u001b[43m(\u001b[49m\u001b[43mdsn\u001b[49m\u001b[38;5;241;43m=\u001b[39;49m\u001b[43mdsn\u001b[49m\u001b[43m,\u001b[49m\u001b[43m \u001b[49m\u001b[43mpool\u001b[49m\u001b[38;5;241;43m=\u001b[39;49m\u001b[43mpool\u001b[49m\u001b[43m,\u001b[49m\u001b[43m \u001b[49m\u001b[43mparams\u001b[49m\u001b[38;5;241;43m=\u001b[39;49m\u001b[43mparams\u001b[49m\u001b[43m,\u001b[49m\u001b[43m \u001b[49m\u001b[38;5;241;43m*\u001b[39;49m\u001b[38;5;241;43m*\u001b[39;49m\u001b[43mkwargs\u001b[49m\u001b[43m)\u001b[49m\n",
      "File \u001b[1;32m~\\.pyenv\\pyenv-win\\versions\\3.11.9\\Lib\\site-packages\\oracledb\\connection.py:541\u001b[0m, in \u001b[0;36mConnection.__init__\u001b[1;34m(self, dsn, pool, params, **kwargs)\u001b[0m\n\u001b[0;32m    539\u001b[0m     \u001b[38;5;28;01melse\u001b[39;00m:\n\u001b[0;32m    540\u001b[0m         impl \u001b[38;5;241m=\u001b[39m thin_impl\u001b[38;5;241m.\u001b[39mThinConnImpl(dsn, params_impl)\n\u001b[1;32m--> 541\u001b[0m         \u001b[43mimpl\u001b[49m\u001b[38;5;241;43m.\u001b[39;49m\u001b[43mconnect\u001b[49m\u001b[43m(\u001b[49m\u001b[43mparams_impl\u001b[49m\u001b[43m)\u001b[49m\n\u001b[0;32m    542\u001b[0m \u001b[38;5;28;01melse\u001b[39;00m:\n\u001b[0;32m    543\u001b[0m     impl \u001b[38;5;241m=\u001b[39m thick_impl\u001b[38;5;241m.\u001b[39mThickConnImpl(dsn, params_impl)\n",
      "File \u001b[1;32msrc\\\\oracledb\\\\impl/thin/connection.pyx:381\u001b[0m, in \u001b[0;36moracledb.thin_impl.ThinConnImpl.connect\u001b[1;34m()\u001b[0m\n",
      "File \u001b[1;32msrc\\\\oracledb\\\\impl/thin/connection.pyx:377\u001b[0m, in \u001b[0;36moracledb.thin_impl.ThinConnImpl.connect\u001b[1;34m()\u001b[0m\n",
      "File \u001b[1;32msrc\\\\oracledb\\\\impl/thin/connection.pyx:337\u001b[0m, in \u001b[0;36moracledb.thin_impl.ThinConnImpl._connect_with_params\u001b[1;34m()\u001b[0m\n",
      "File \u001b[1;32msrc\\\\oracledb\\\\impl/thin/connection.pyx:318\u001b[0m, in \u001b[0;36moracledb.thin_impl.ThinConnImpl._connect_with_description\u001b[1;34m()\u001b[0m\n",
      "File \u001b[1;32msrc\\\\oracledb\\\\impl/thin/connection.pyx:284\u001b[0m, in \u001b[0;36moracledb.thin_impl.ThinConnImpl._connect_with_address\u001b[1;34m()\u001b[0m\n",
      "File \u001b[1;32m~\\.pyenv\\pyenv-win\\versions\\3.11.9\\Lib\\site-packages\\oracledb\\errors.py:182\u001b[0m, in \u001b[0;36m_raise_err\u001b[1;34m(error_num, context_error_message, cause, **args)\u001b[0m\n\u001b[0;32m    180\u001b[0m     message \u001b[38;5;241m=\u001b[39m \u001b[38;5;124mf\u001b[39m\u001b[38;5;124m\"\u001b[39m\u001b[38;5;132;01m{\u001b[39;00mmessage\u001b[38;5;132;01m}\u001b[39;00m\u001b[38;5;130;01m\\n\u001b[39;00m\u001b[38;5;132;01m{\u001b[39;00mcontext_error_message\u001b[38;5;132;01m}\u001b[39;00m\u001b[38;5;124m\"\u001b[39m\n\u001b[0;32m    181\u001b[0m error \u001b[38;5;241m=\u001b[39m _Error(message)\n\u001b[1;32m--> 182\u001b[0m \u001b[38;5;28;01mraise\u001b[39;00m error\u001b[38;5;241m.\u001b[39mexc_type(error) \u001b[38;5;28;01mfrom\u001b[39;00m \u001b[38;5;21;01mcause\u001b[39;00m\n",
      "\u001b[1;31mOperationalError\u001b[0m: DPY-6005: cannot connect to database (CONNECTION_ID=fp4PiFp+O8KpBuxNVQIXsg==).\nDPY-3010: connections to this database server version are not supported by python-oracledb in thin mode\nHelp: https://python-oracledb.readthedocs.io/en/latest/user_guide/troubleshooting.html#dpy-3010"
     ]
    }
   ],
   "source": [
    "import oracledb\n",
    "import pandas as pd\n",
    "\n",
    "# Oracle 연결 정보 설정\n",
    "dsn = {\n",
    "    'user': 'kopo',\n",
    "    'password': 'kopo',\n",
    "    'dsn': '127.0.0.1:1521/xe'\n",
    "}\n",
    "\n",
    "conn = oracledb.connect(**dsn)\n",
    "print(\"Connected to Oracle Database\")\n",
    "\n",
    "# 쿼리 실행 및 데이터프레임으로 변환\n",
    "query = \"SELECT * FROM kopo_product_volume\"\n",
    "df = pd.read_sql(query, conn)\n",
    "\n",
    "# 데이터프레임 출력\n",
    "print(\"DataFrame from Oracle Table:\")\n",
    "print(df.head())  # 처음 몇 개의 행 출력\n",
    "\n",
    "conn.close()\n",
    "print(\"Oracle Connection Closed\")"
   ]
  },
  {
   "cell_type": "code",
   "execution_count": null,
   "id": "0d286ef1-2fde-4132-89d8-035002f4c4f8",
   "metadata": {},
   "outputs": [],
   "source": []
  },
  {
   "cell_type": "code",
   "execution_count": null,
   "id": "2a0753f8-a67d-44bf-95c0-eba0f1fafc62",
   "metadata": {},
   "outputs": [],
   "source": []
  },
  {
   "cell_type": "code",
   "execution_count": null,
   "id": "373ecab2-9482-4cc0-a343-5d40e6886201",
   "metadata": {},
   "outputs": [],
   "source": [
    "import cx_Oracle\n",
    "import pandas as pd\n",
    "\n",
    "# Oracle 연결 정보 설정\n",
    "dsn_tns = cx_Oracle.makedsn(host='<hostname>', port='<port>', service_name='<service_name>')\n",
    "user = '<username>'\n",
    "password = '<password>'\n",
    "\n",
    "# Oracle에 연결\n",
    "try:\n",
    "    connection = cx_Oracle.connect(user=user, password=password, dsn=dsn_tns)\n",
    "    print(\"Connected to Oracle Database\")\n",
    "\n",
    "    # 쿼리 실행 및 데이터프레임으로 변환\n",
    "    query = \"SELECT * FROM kopo_product_volume\"\n",
    "    df = pd.read_sql(query, con=connection)\n",
    "\n",
    "    # 데이터프레임 출력\n",
    "    print(\"DataFrame from Oracle Table:\")\n",
    "    print(df.head())  # 처음 몇 개의 행 출력\n",
    "\n",
    "except cx_Oracle.DatabaseError as e:\n",
    "    print(\"Database Error:\", e)\n",
    "finally:\n",
    "    # 연결 종료\n",
    "    if 'connection' in locals():\n",
    "        connection.close()\n",
    "        print(\"Oracle Connection Closed\")"
   ]
  },
  {
   "cell_type": "code",
   "execution_count": 2,
   "id": "25f41776-c056-40ea-ae75-1c510ad35ed8",
   "metadata": {},
   "outputs": [
    {
     "ename": "ModuleNotFoundError",
     "evalue": "No module named 'cx_Oracle'",
     "output_type": "error",
     "traceback": [
      "\u001b[1;31m---------------------------------------------------------------------------\u001b[0m",
      "\u001b[1;31mModuleNotFoundError\u001b[0m                       Traceback (most recent call last)",
      "Cell \u001b[1;32mIn[2], line 7\u001b[0m\n\u001b[0;32m      5\u001b[0m dbName \u001b[38;5;241m=\u001b[39m \u001b[38;5;124m\"\u001b[39m\u001b[38;5;124mxe\u001b[39m\u001b[38;5;124m\"\u001b[39m\n\u001b[0;32m      6\u001b[0m \u001b[38;5;66;03m# DB 커넥션 열기\u001b[39;00m\n\u001b[1;32m----> 7\u001b[0m engine \u001b[38;5;241m=\u001b[39m \u001b[43mcreate_engine\u001b[49m\u001b[43m(\u001b[49m\u001b[38;5;124;43m'\u001b[39;49m\u001b[38;5;124;43moracle+cx_oracle://\u001b[39;49m\u001b[38;5;132;43;01m{}\u001b[39;49;00m\u001b[38;5;124;43m:\u001b[39;49m\u001b[38;5;132;43;01m{}\u001b[39;49;00m\u001b[38;5;124;43m@\u001b[39;49m\u001b[38;5;132;43;01m{}\u001b[39;49;00m\u001b[38;5;124;43m:\u001b[39;49m\u001b[38;5;132;43;01m{}\u001b[39;49;00m\u001b[38;5;124;43m/\u001b[39;49m\u001b[38;5;132;43;01m{}\u001b[39;49;00m\u001b[38;5;124;43m'\u001b[39;49m\u001b[38;5;241;43m.\u001b[39;49m\u001b[43mformat\u001b[49m\u001b[43m(\u001b[49m\u001b[38;5;28;43mid\u001b[39;49m\u001b[43m,\u001b[49m\u001b[43mpw\u001b[49m\u001b[43m,\u001b[49m\u001b[43mip\u001b[49m\u001b[43m,\u001b[49m\u001b[43mport\u001b[49m\u001b[43m,\u001b[49m\u001b[43mdbName\u001b[49m\u001b[43m)\u001b[49m\u001b[43m    \u001b[49m\u001b[43m)\u001b[49m \n",
      "File \u001b[1;32m<string>:2\u001b[0m, in \u001b[0;36mcreate_engine\u001b[1;34m(url, **kwargs)\u001b[0m\n",
      "File \u001b[1;32m~\\.pyenv\\pyenv-win\\versions\\3.11.9\\Lib\\site-packages\\sqlalchemy\\util\\deprecations.py:281\u001b[0m, in \u001b[0;36mdeprecated_params.<locals>.decorate.<locals>.warned\u001b[1;34m(fn, *args, **kwargs)\u001b[0m\n\u001b[0;32m    274\u001b[0m     \u001b[38;5;28;01mif\u001b[39;00m m \u001b[38;5;129;01min\u001b[39;00m kwargs:\n\u001b[0;32m    275\u001b[0m         _warn_with_version(\n\u001b[0;32m    276\u001b[0m             messages[m],\n\u001b[0;32m    277\u001b[0m             versions[m],\n\u001b[0;32m    278\u001b[0m             version_warnings[m],\n\u001b[0;32m    279\u001b[0m             stacklevel\u001b[38;5;241m=\u001b[39m\u001b[38;5;241m3\u001b[39m,\n\u001b[0;32m    280\u001b[0m         )\n\u001b[1;32m--> 281\u001b[0m \u001b[38;5;28;01mreturn\u001b[39;00m \u001b[43mfn\u001b[49m\u001b[43m(\u001b[49m\u001b[38;5;241;43m*\u001b[39;49m\u001b[43margs\u001b[49m\u001b[43m,\u001b[49m\u001b[43m \u001b[49m\u001b[38;5;241;43m*\u001b[39;49m\u001b[38;5;241;43m*\u001b[39;49m\u001b[43mkwargs\u001b[49m\u001b[43m)\u001b[49m\n",
      "File \u001b[1;32m~\\.pyenv\\pyenv-win\\versions\\3.11.9\\Lib\\site-packages\\sqlalchemy\\engine\\create.py:599\u001b[0m, in \u001b[0;36mcreate_engine\u001b[1;34m(url, **kwargs)\u001b[0m\n\u001b[0;32m    597\u001b[0m         \u001b[38;5;28;01mif\u001b[39;00m k \u001b[38;5;129;01min\u001b[39;00m kwargs:\n\u001b[0;32m    598\u001b[0m             dbapi_args[k] \u001b[38;5;241m=\u001b[39m pop_kwarg(k)\n\u001b[1;32m--> 599\u001b[0m     dbapi \u001b[38;5;241m=\u001b[39m \u001b[43mdbapi_meth\u001b[49m\u001b[43m(\u001b[49m\u001b[38;5;241;43m*\u001b[39;49m\u001b[38;5;241;43m*\u001b[39;49m\u001b[43mdbapi_args\u001b[49m\u001b[43m)\u001b[49m\n\u001b[0;32m    601\u001b[0m dialect_args[\u001b[38;5;124m\"\u001b[39m\u001b[38;5;124mdbapi\u001b[39m\u001b[38;5;124m\"\u001b[39m] \u001b[38;5;241m=\u001b[39m dbapi\n\u001b[0;32m    603\u001b[0m dialect_args\u001b[38;5;241m.\u001b[39msetdefault(\u001b[38;5;124m\"\u001b[39m\u001b[38;5;124mcompiler_linting\u001b[39m\u001b[38;5;124m\"\u001b[39m, compiler\u001b[38;5;241m.\u001b[39mNO_LINTING)\n",
      "File \u001b[1;32m~\\.pyenv\\pyenv-win\\versions\\3.11.9\\Lib\\site-packages\\sqlalchemy\\dialects\\oracle\\cx_oracle.py:1106\u001b[0m, in \u001b[0;36mOracleDialect_cx_oracle.import_dbapi\u001b[1;34m(cls)\u001b[0m\n\u001b[0;32m   1104\u001b[0m \u001b[38;5;129m@classmethod\u001b[39m\n\u001b[0;32m   1105\u001b[0m \u001b[38;5;28;01mdef\u001b[39;00m \u001b[38;5;21mimport_dbapi\u001b[39m(\u001b[38;5;28mcls\u001b[39m):\n\u001b[1;32m-> 1106\u001b[0m     \u001b[38;5;28;01mimport\u001b[39;00m \u001b[38;5;21;01mcx_Oracle\u001b[39;00m\n\u001b[0;32m   1108\u001b[0m     \u001b[38;5;28;01mreturn\u001b[39;00m cx_Oracle\n",
      "\u001b[1;31mModuleNotFoundError\u001b[0m: No module named 'cx_Oracle'"
     ]
    }
   ],
   "source": [
    "id = \"kopo\"\n",
    "pw = \"kopo\"\n",
    "ip = \"127.0.0.1\"\n",
    "port = \"1521\"\n",
    "dbName = \"xe\"\n",
    "# DB 커넥션 열기\n",
    "engine = create_engine('oracle+cx_oracle://{}:{}@{}:{}/{}'.format(id,pw,ip,port,dbName)    ) "
   ]
  },
  {
   "cell_type": "code",
   "execution_count": 2,
   "id": "6d61a029-af3e-4272-b8bf-bca5caf90443",
   "metadata": {},
   "outputs": [],
   "source": [
    "# 테이블 전체 조회 select * from tabs와 유사\n",
    "# engine.table_names()"
   ]
  },
  {
   "cell_type": "code",
   "execution_count": 19,
   "id": "3ab99277-c3d6-4b5b-bdd1-801e8946c5b9",
   "metadata": {},
   "outputs": [],
   "source": [
    "# 테스트 데이터프레임 생성"
   ]
  },
  {
   "cell_type": "code",
   "execution_count": 20,
   "id": "2bc8f40a-9fd8-4d4f-81b1-390f7a2c445f",
   "metadata": {},
   "outputs": [],
   "source": [
    "testData = pd.DataFrame( [[\"row1_value1\",\"row1_value2\",\"row1_value3\"],\n",
    "                          [\"row2_value1\",\"row2_value2\",\"row2_value3\"]], columns = [\"컬1\",\"컬2\",\"컬3\"] )"
   ]
  },
  {
   "cell_type": "code",
   "execution_count": 18,
   "id": "24528d97-915c-4e19-87f1-4b0d83d3b7ff",
   "metadata": {},
   "outputs": [
    {
     "data": {
      "text/html": [
       "<div>\n",
       "<style scoped>\n",
       "    .dataframe tbody tr th:only-of-type {\n",
       "        vertical-align: middle;\n",
       "    }\n",
       "\n",
       "    .dataframe tbody tr th {\n",
       "        vertical-align: top;\n",
       "    }\n",
       "\n",
       "    .dataframe thead th {\n",
       "        text-align: right;\n",
       "    }\n",
       "</style>\n",
       "<table border=\"1\" class=\"dataframe\">\n",
       "  <thead>\n",
       "    <tr style=\"text-align: right;\">\n",
       "      <th></th>\n",
       "      <th>컬1</th>\n",
       "      <th>컬2</th>\n",
       "      <th>컬3</th>\n",
       "    </tr>\n",
       "  </thead>\n",
       "  <tbody>\n",
       "    <tr>\n",
       "      <th>0</th>\n",
       "      <td>row1_value1</td>\n",
       "      <td>row1_value2</td>\n",
       "      <td>row1_value3</td>\n",
       "    </tr>\n",
       "    <tr>\n",
       "      <th>1</th>\n",
       "      <td>row2_value1</td>\n",
       "      <td>row2_value2</td>\n",
       "      <td>row2_value3</td>\n",
       "    </tr>\n",
       "  </tbody>\n",
       "</table>\n",
       "</div>"
      ],
      "text/plain": [
       "            컬1           컬2           컬3\n",
       "0  row1_value1  row1_value2  row1_value3\n",
       "1  row2_value1  row2_value2  row2_value3"
      ]
     },
     "execution_count": 18,
     "metadata": {},
     "output_type": "execute_result"
    }
   ],
   "source": [
    "testData"
   ]
  },
  {
   "cell_type": "code",
   "execution_count": 15,
   "id": "aa06733f-617c-4e6c-b933-b64110884d04",
   "metadata": {},
   "outputs": [],
   "source": [
    "# 2023년도 변경 \n",
    "### 테이블 이름 소문자로 변경\n",
    "### 저장 시 타입 정의 (object)"
   ]
  },
  {
   "cell_type": "code",
   "execution_count": 13,
   "id": "2e7e17a0-8546-4ccd-b5ff-ccae1f6996d6",
   "metadata": {},
   "outputs": [
    {
     "data": {
      "text/plain": [
       "1"
      ]
     },
     "execution_count": 13,
     "metadata": {},
     "output_type": "execute_result"
    }
   ],
   "source": [
    "tableName = \"JIKGB_TEST\"\n",
    "tableName = tableName.lower()\n",
    "#### 문자컬럼에 대해서 varchar (100) 적용 _ 사용시 속도 SpeedUp 50배 \n",
    "objectColumns = list(testData.columns[testData.dtypes == 'object'])\n",
    "typeDict={}\n",
    "maxLen = 100\n",
    "\n",
    "for i in range(0, len(objectColumns)):\n",
    "    # sawonData[i].str.len().max() 최대치 사용할 경우\n",
    "    typeDict[ objectColumns[i] ] = types.VARCHAR(100)\n",
    "#### 문자컬럼에 대해서 varchar (100) 적용 _ 사용시 속도 SpeedUp 50배 \n",
    "\n",
    "testData.to_sql(name=tableName, if_exists=\"replace\", con=engine,dtype=typeDict, index=False)"
   ]
  },
  {
   "cell_type": "code",
   "execution_count": null,
   "id": "456a228e-6177-4f63-a686-663fe954f217",
   "metadata": {},
   "outputs": [],
   "source": [
    "#### 문자컬럼에 대해서 varchar (100) 적용 _ 사용시 속도 SpeedUp 50배 \n",
    "objectColumns = list(selloutData.columns[selloutData.dtypes == 'object'])\n",
    "typeDict={}\n",
    "maxLen = 100\n",
    "\n",
    "for i in range(0, len(objectColumns)):\n",
    "    # selloutData[i].str.len().max() 최대치 사용할 경우\n",
    "    typeDict[ objectColumns[i] ] = types.VARCHAR(100)\n",
    "#### 문자컬럼에 대해서 varchar (100) 적용 _ 사용시 속도 SpeedUp 50배 \n",
    "\n",
    "selloutData.to_sql(name=tableName, if_exists=\"replace\", con=engine,dtype=typeDict, index=False)"
   ]
  },
  {
   "cell_type": "code",
   "execution_count": null,
   "id": "e4152ab0-f51f-4476-8ac7-0cbbde8f3cfc",
   "metadata": {},
   "outputs": [],
   "source": []
  }
 ],
 "metadata": {
  "kernelspec": {
   "display_name": "Python 3 (ipykernel)",
   "language": "python",
   "name": "python3"
  },
  "language_info": {
   "codemirror_mode": {
    "name": "ipython",
    "version": 3
   },
   "file_extension": ".py",
   "mimetype": "text/x-python",
   "name": "python",
   "nbconvert_exporter": "python",
   "pygments_lexer": "ipython3",
   "version": "3.11.9"
  }
 },
 "nbformat": 4,
 "nbformat_minor": 5
}
