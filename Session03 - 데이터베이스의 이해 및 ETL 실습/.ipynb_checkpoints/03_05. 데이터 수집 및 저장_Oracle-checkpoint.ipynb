{
 "cells": [
  {
   "cell_type": "markdown",
   "id": "437d3147-2821-4f36-bb16-30cb9e8ddee2",
   "metadata": {},
   "source": [
    "# Pandas 라이브러리를 활용한 데이터 수집 및 저장"
   ]
  },
  {
   "cell_type": "markdown",
   "id": "e2b2c02e-8104-411c-bf32-583dc4b83ee1",
   "metadata": {},
   "source": [
    "# 4. 데이터베이스 데이터 수집 및 저장 (Oracle)"
   ]
  },
  {
   "cell_type": "code",
   "execution_count": 2,
   "id": "6d61a029-af3e-4272-b8bf-bca5caf90443",
   "metadata": {},
   "outputs": [],
   "source": [
    "# 테이블 전체 조회 select * from tabs와 유사\n",
    "# engine.table_names()"
   ]
  },
  {
   "cell_type": "code",
   "execution_count": 6,
   "id": "2a2f400c-44d2-46bd-8b49-c2d14226e700",
   "metadata": {},
   "outputs": [],
   "source": [
    "import pandas as pd\n",
    "from sqlalchemy import create_engine "
   ]
  },
  {
   "cell_type": "markdown",
   "id": "1d1e3c2f-6d78-4a92-9816-94aa9af25039",
   "metadata": {},
   "source": [
    "### 1. 테스트데이터 생성"
   ]
  },
  {
   "cell_type": "code",
   "execution_count": 20,
   "id": "2bc8f40a-9fd8-4d4f-81b1-390f7a2c445f",
   "metadata": {},
   "outputs": [],
   "source": [
    "testData = pd.DataFrame( [[\"row1_value1\",\"row1_value2\",\"row1_value3\"],\n",
    "                          [\"row2_value1\",\"row2_value2\",\"row2_value3\"]], columns = [\"컬1\",\"컬2\",\"컬3\"] )"
   ]
  },
  {
   "cell_type": "code",
   "execution_count": 18,
   "id": "24528d97-915c-4e19-87f1-4b0d83d3b7ff",
   "metadata": {},
   "outputs": [
    {
     "data": {
      "text/html": [
       "<div>\n",
       "<style scoped>\n",
       "    .dataframe tbody tr th:only-of-type {\n",
       "        vertical-align: middle;\n",
       "    }\n",
       "\n",
       "    .dataframe tbody tr th {\n",
       "        vertical-align: top;\n",
       "    }\n",
       "\n",
       "    .dataframe thead th {\n",
       "        text-align: right;\n",
       "    }\n",
       "</style>\n",
       "<table border=\"1\" class=\"dataframe\">\n",
       "  <thead>\n",
       "    <tr style=\"text-align: right;\">\n",
       "      <th></th>\n",
       "      <th>컬1</th>\n",
       "      <th>컬2</th>\n",
       "      <th>컬3</th>\n",
       "    </tr>\n",
       "  </thead>\n",
       "  <tbody>\n",
       "    <tr>\n",
       "      <th>0</th>\n",
       "      <td>row1_value1</td>\n",
       "      <td>row1_value2</td>\n",
       "      <td>row1_value3</td>\n",
       "    </tr>\n",
       "    <tr>\n",
       "      <th>1</th>\n",
       "      <td>row2_value1</td>\n",
       "      <td>row2_value2</td>\n",
       "      <td>row2_value3</td>\n",
       "    </tr>\n",
       "  </tbody>\n",
       "</table>\n",
       "</div>"
      ],
      "text/plain": [
       "            컬1           컬2           컬3\n",
       "0  row1_value1  row1_value2  row1_value3\n",
       "1  row2_value1  row2_value2  row2_value3"
      ]
     },
     "execution_count": 18,
     "metadata": {},
     "output_type": "execute_result"
    }
   ],
   "source": [
    "testData"
   ]
  },
  {
   "cell_type": "code",
   "execution_count": 15,
   "id": "aa06733f-617c-4e6c-b933-b64110884d04",
   "metadata": {},
   "outputs": [],
   "source": [
    "# 2023년도 변경 \n",
    "### 테이블 이름 소문자로 변경\n",
    "### 저장 시 타입 정의 (object)"
   ]
  },
  {
   "cell_type": "markdown",
   "id": "76252e35-c4aa-4e24-bf8a-ec0295ceec4d",
   "metadata": {},
   "source": [
    "### 2. Oracle 에 데이터프레임 저장"
   ]
  },
  {
   "cell_type": "code",
   "execution_count": 13,
   "id": "2e7e17a0-8546-4ccd-b5ff-ccae1f6996d6",
   "metadata": {},
   "outputs": [
    {
     "data": {
      "text/plain": [
       "1"
      ]
     },
     "execution_count": 13,
     "metadata": {},
     "output_type": "execute_result"
    }
   ],
   "source": [
    "id = \"kopo\"\n",
    "pw = \"kopo\"\n",
    "ip = \"127.0.0.1\"\n",
    "port = \"1521\"\n",
    "dbName = \"xe\"\n",
    "# DB 커넥션 열기\n",
    "engine = create_engine('oracle+cx_oracle://{}:{}@{}:{}/{}'.format(id,pw,ip,port,dbName)    ) \n",
    "\n",
    "tableName = \"JIKGB_TEST\"\n",
    "tableName = tableName.lower()\n",
    "#### 문자컬럼에 대해서 varchar (100) 적용 _ 사용시 속도 SpeedUp 50배 \n",
    "objectColumns = list(testData.columns[testData.dtypes == 'object'])\n",
    "typeDict={}\n",
    "maxLen = 100\n",
    "\n",
    "for i in range(0, len(objectColumns)):\n",
    "    # sawonData[i].str.len().max() 최대치 사용할 경우\n",
    "    typeDict[ objectColumns[i] ] = types.VARCHAR(100)\n",
    "#### 문자컬럼에 대해서 varchar (100) 적용 _ 사용시 속도 SpeedUp 50배 \n",
    "\n",
    "testData.to_sql(name=tableName, if_exists=\"replace\", con=engine,dtype=typeDict, index=False)"
   ]
  },
  {
   "cell_type": "markdown",
   "id": "717af24e-3de9-4d57-9149-86d796be33df",
   "metadata": {},
   "source": [
    "### 3. postgreSQL 내 데이터 조회"
   ]
  },
  {
   "cell_type": "code",
   "execution_count": 5,
   "id": "3b0827ce-f4e4-4bec-806c-f8a53b09a3b2",
   "metadata": {},
   "outputs": [],
   "source": [
    "# 타겟 테이블 조회\n",
    "sqlSelect = \"\"\"\n",
    "SELECT *\n",
    "FROM JIKGB_TEST\"\"\"\n",
    "\n",
    "testDf = pd.read_sql_query(sqlSelect, con=engine)\n",
    "testDf.head()"
   ]
  }
 ],
 "metadata": {
  "kernelspec": {
   "display_name": "Python 3 (ipykernel)",
   "language": "python",
   "name": "python3"
  },
  "language_info": {
   "codemirror_mode": {
    "name": "ipython",
    "version": 3
   },
   "file_extension": ".py",
   "mimetype": "text/x-python",
   "name": "python",
   "nbconvert_exporter": "python",
   "pygments_lexer": "ipython3",
   "version": "3.11.9"
  }
 },
 "nbformat": 4,
 "nbformat_minor": 5
}
