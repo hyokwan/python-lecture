{
 "cells": [
  {
   "cell_type": "markdown",
   "id": "437d3147-2821-4f36-bb16-30cb9e8ddee2",
   "metadata": {},
   "source": [
    "# 참조. 데이터베이스 데이터 수집 및 저장 (Oracle)"
   ]
  },
  {
   "cell_type": "code",
   "execution_count": 1,
   "id": "25f41776-c056-40ea-ae75-1c510ad35ed8",
   "metadata": {},
   "outputs": [],
   "source": [
    "# 설치필요 라이브러리 : pip install cx_Oracle\n",
    "import pandas as pd\n",
    "from sqlalchemy import create_engine,types\n",
    "id = \"kopo\"\n",
    "pw = \"kopo\"\n",
    "ip = \"192.168.110.112\"\n",
    "port = \"1521\"\n",
    "dbName = \"orcl\"\n",
    "# DB 커넥션 열기\n",
    "engine = create_engine('oracle+cx_oracle://{}:{}@{}:{}/{}'.format(id,pw,ip,port,dbName)    ) "
   ]
  },
  {
   "cell_type": "code",
   "execution_count": 2,
   "id": "6d61a029-af3e-4272-b8bf-bca5caf90443",
   "metadata": {},
   "outputs": [],
   "source": [
    "# 테이블 전체 조회 select * from tabs와 유사\n",
    "# engine.table_names()"
   ]
  },
  {
   "cell_type": "code",
   "execution_count": 19,
   "id": "3ab99277-c3d6-4b5b-bdd1-801e8946c5b9",
   "metadata": {},
   "outputs": [],
   "source": [
    "# 테스트 데이터프레임 생성"
   ]
  },
  {
   "cell_type": "code",
   "execution_count": 20,
   "id": "2bc8f40a-9fd8-4d4f-81b1-390f7a2c445f",
   "metadata": {},
   "outputs": [],
   "source": [
    "testData = pd.DataFrame( [[\"row1_value1\",\"row1_value2\",\"row1_value3\"],\n",
    "                          [\"row2_value1\",\"row2_value2\",\"row2_value3\"]], columns = [\"컬1\",\"컬2\",\"컬3\"] )"
   ]
  },
  {
   "cell_type": "code",
   "execution_count": 18,
   "id": "24528d97-915c-4e19-87f1-4b0d83d3b7ff",
   "metadata": {},
   "outputs": [
    {
     "data": {
      "text/html": [
       "<div>\n",
       "<style scoped>\n",
       "    .dataframe tbody tr th:only-of-type {\n",
       "        vertical-align: middle;\n",
       "    }\n",
       "\n",
       "    .dataframe tbody tr th {\n",
       "        vertical-align: top;\n",
       "    }\n",
       "\n",
       "    .dataframe thead th {\n",
       "        text-align: right;\n",
       "    }\n",
       "</style>\n",
       "<table border=\"1\" class=\"dataframe\">\n",
       "  <thead>\n",
       "    <tr style=\"text-align: right;\">\n",
       "      <th></th>\n",
       "      <th>컬1</th>\n",
       "      <th>컬2</th>\n",
       "      <th>컬3</th>\n",
       "    </tr>\n",
       "  </thead>\n",
       "  <tbody>\n",
       "    <tr>\n",
       "      <th>0</th>\n",
       "      <td>row1_value1</td>\n",
       "      <td>row1_value2</td>\n",
       "      <td>row1_value3</td>\n",
       "    </tr>\n",
       "    <tr>\n",
       "      <th>1</th>\n",
       "      <td>row2_value1</td>\n",
       "      <td>row2_value2</td>\n",
       "      <td>row2_value3</td>\n",
       "    </tr>\n",
       "  </tbody>\n",
       "</table>\n",
       "</div>"
      ],
      "text/plain": [
       "            컬1           컬2           컬3\n",
       "0  row1_value1  row1_value2  row1_value3\n",
       "1  row2_value1  row2_value2  row2_value3"
      ]
     },
     "execution_count": 18,
     "metadata": {},
     "output_type": "execute_result"
    }
   ],
   "source": [
    "testData"
   ]
  },
  {
   "cell_type": "code",
   "execution_count": 15,
   "id": "aa06733f-617c-4e6c-b933-b64110884d04",
   "metadata": {},
   "outputs": [],
   "source": [
    "# 2023년도 변경 \n",
    "### 테이블 이름 소문자로 변경\n",
    "### 저장 시 타입 정의 (object)"
   ]
  },
  {
   "cell_type": "code",
   "execution_count": 13,
   "id": "2e7e17a0-8546-4ccd-b5ff-ccae1f6996d6",
   "metadata": {},
   "outputs": [
    {
     "data": {
      "text/plain": [
       "1"
      ]
     },
     "execution_count": 13,
     "metadata": {},
     "output_type": "execute_result"
    }
   ],
   "source": [
    "tableName = \"JIKGB_TEST\"\n",
    "tableName = tableName.lower()\n",
    "#### 문자컬럼에 대해서 varchar (100) 적용 _ 사용시 속도 SpeedUp 50배 \n",
    "objectColumns = list(testData.columns[testData.dtypes == 'object'])\n",
    "typeDict={}\n",
    "maxLen = 100\n",
    "\n",
    "for i in range(0, len(objectColumns)):\n",
    "    # sawonData[i].str.len().max() 최대치 사용할 경우\n",
    "    typeDict[ objectColumns[i] ] = types.VARCHAR(100)\n",
    "#### 문자컬럼에 대해서 varchar (100) 적용 _ 사용시 속도 SpeedUp 50배 \n",
    "\n",
    "testData.to_sql(name=tableName, if_exists=\"replace\", con=engine,dtype=typeDict, index=False)"
   ]
  },
  {
   "cell_type": "code",
   "execution_count": null,
   "id": "456a228e-6177-4f63-a686-663fe954f217",
   "metadata": {},
   "outputs": [],
   "source": [
    "#### 문자컬럼에 대해서 varchar (100) 적용 _ 사용시 속도 SpeedUp 50배 \n",
    "objectColumns = list(selloutData.columns[selloutData.dtypes == 'object'])\n",
    "typeDict={}\n",
    "maxLen = 100\n",
    "\n",
    "for i in range(0, len(objectColumns)):\n",
    "    # selloutData[i].str.len().max() 최대치 사용할 경우\n",
    "    typeDict[ objectColumns[i] ] = types.VARCHAR(100)\n",
    "#### 문자컬럼에 대해서 varchar (100) 적용 _ 사용시 속도 SpeedUp 50배 \n",
    "\n",
    "selloutData.to_sql(name=tableName, if_exists=\"replace\", con=engine,dtype=typeDict, index=False)"
   ]
  },
  {
   "cell_type": "code",
   "execution_count": null,
   "id": "e4152ab0-f51f-4476-8ac7-0cbbde8f3cfc",
   "metadata": {},
   "outputs": [],
   "source": []
  }
 ],
 "metadata": {
  "kernelspec": {
   "display_name": "Python 3 (ipykernel)",
   "language": "python",
   "name": "python3"
  },
  "language_info": {
   "codemirror_mode": {
    "name": "ipython",
    "version": 3
   },
   "file_extension": ".py",
   "mimetype": "text/x-python",
   "name": "python",
   "nbconvert_exporter": "python",
   "pygments_lexer": "ipython3",
   "version": "3.9.13"
  }
 },
 "nbformat": 4,
 "nbformat_minor": 5
}
